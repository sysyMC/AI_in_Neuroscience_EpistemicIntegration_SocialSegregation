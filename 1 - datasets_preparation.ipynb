{
 "cells": [
  {
   "cell_type": "markdown",
   "id": "4fc65f93",
   "metadata": {},
   "source": [
    "# Librairies and functions"
   ]
  },
  {
   "cell_type": "code",
   "execution_count": 2,
   "id": "cb6a8f28",
   "metadata": {},
   "outputs": [],
   "source": [
    "import numpy as np\n",
    "import pandas as pd\n",
    "import igraph as ig\n",
    "from collections import Counter\n",
    "import matplotlib.pyplot as plt\n",
    "import json, re, gc, requests\n",
    "from tqdm import tqdm"
   ]
  },
  {
   "cell_type": "code",
   "execution_count": null,
   "id": "6fd647bd",
   "metadata": {},
   "outputs": [],
   "source": [
    "path_input = r'/my/path/input'\n",
    "path_output = r'/my/path/output'"
   ]
  },
  {
   "cell_type": "markdown",
   "id": "75f35975",
   "metadata": {},
   "source": [
    "# Open the main files\n",
    "\n",
    "- `Papers_neuroscience_all.json` \n",
    "- `Papers_neuroscience_and_AI.json`\n",
    "- `papers_QL2.csv`\n",
    "- `citationNetwork.csv`\n",
    "- `WOSjr.csv`\n",
    "- `AI_kw_classification.txt`\n",
    "- `author_paper_QL0+QL2.csv`\n",
    "- `authorId_name_affiliation_QL0+QL1.csv`\n",
    "- `Paper_abstracts_Neuroscience.json`\n",
    "- `PaperFieldsOfStudy_simplified.txt`"
   ]
  },
  {
   "cell_type": "markdown",
   "id": "3607a2b3",
   "metadata": {},
   "source": [
    "#### Read the whole large database of neuroscience papers\n",
    "\n",
    "Available under reasonable demand"
   ]
  },
  {
   "cell_type": "code",
   "execution_count": 5,
   "id": "9568d414",
   "metadata": {},
   "outputs": [],
   "source": [
    "with open(f'{path_input}Papers_neuroscience_all.json', 'r') as f:\n",
    "    data = json.load(f)\n",
    "data = pd.DataFrame.from_dict(data)"
   ]
  },
  {
   "cell_type": "code",
   "execution_count": 7,
   "id": "bbd46ac4",
   "metadata": {},
   "outputs": [
    {
     "data": {
      "text/plain": [
       "Index(['id', ' publicationDate', ' issueIdentifier', ' created', ' publisher',\n",
       "       ' volume', ' startingPage', ' endingPage', ' citationCount', ' doi',\n",
       "       ' title', ' referenceCount', ' appearsInJournal', 'queryLevel',\n",
       "       'authors', ' bookTitle', ' appearsInConferenceSeries',\n",
       "       ' appearsInConferenceInstance'],\n",
       "      dtype='object')"
      ]
     },
     "execution_count": 7,
     "metadata": {},
     "output_type": "execute_result"
    }
   ],
   "source": [
    "data.columns"
   ]
  },
  {
   "cell_type": "markdown",
   "id": "11d53124",
   "metadata": {},
   "source": [
    "#### Read the whole citation network containing no isolated nodes, ie. total degree $\\neq$ 0\n",
    "Here one citation link is directed such that 'citing' is 'source' and 'cited' is 'target'"
   ]
  },
  {
   "cell_type": "code",
   "execution_count": null,
   "id": "3ad43626",
   "metadata": {},
   "outputs": [],
   "source": [
    "CN = ig.Graph.DataFrame(pd.read_csv(f'{path_input}citationNetwork.csv', sep=',', usecols=['citing', 'cited']), directed=True)\n",
    "nodes = [CN.vs[i]['name'] for i in range(len(CN.vs))]"
   ]
  },
  {
   "cell_type": "markdown",
   "id": "6d844c6a",
   "metadata": {},
   "source": [
    "# Build a global egocentered dataset for citation network study\n",
    "Build a subdataframe containing only papers containing at least one edge (coming inside or outside) in the whole citation network. We consider here only first 'in' and 'out' level of citation.\n",
    "\n",
    "The index \"queryLevel\" index indicates here the presence of a given article inside the originally extracted neuroscience dataset (value 0, egocentered) or not (value 1, those added for the citation network)."
   ]
  },
  {
   "cell_type": "code",
   "execution_count": 10,
   "id": "d769a163",
   "metadata": {
    "scrolled": false
   },
   "outputs": [
    {
     "data": {
      "text/html": [
       "<div>\n",
       "<style scoped>\n",
       "    .dataframe tbody tr th:only-of-type {\n",
       "        vertical-align: middle;\n",
       "    }\n",
       "\n",
       "    .dataframe tbody tr th {\n",
       "        vertical-align: top;\n",
       "    }\n",
       "\n",
       "    .dataframe thead th {\n",
       "        text-align: right;\n",
       "    }\n",
       "</style>\n",
       "<table border=\"1\" class=\"dataframe\">\n",
       "  <thead>\n",
       "    <tr style=\"text-align: right;\">\n",
       "      <th></th>\n",
       "      <th>id</th>\n",
       "      <th>queryLevel</th>\n",
       "      <th>title</th>\n",
       "      <th>publicationYear</th>\n",
       "      <th>idJournal</th>\n",
       "      <th>authors</th>\n",
       "    </tr>\n",
       "  </thead>\n",
       "  <tbody>\n",
       "    <tr>\n",
       "      <th>0</th>\n",
       "      <td>2038431747</td>\n",
       "      <td>0</td>\n",
       "      <td>\"Topology learning solved by extended objects...</td>\n",
       "      <td>1994</td>\n",
       "      <td>207023548</td>\n",
       "      <td>[2163422316, 2419355596, 2289589767]</td>\n",
       "    </tr>\n",
       "    <tr>\n",
       "      <th>1</th>\n",
       "      <td>1010827267</td>\n",
       "      <td>0</td>\n",
       "      <td>\"Multipotent Stem Cells In Murine Sclera\"</td>\n",
       "      <td>2011</td>\n",
       "      <td>76304953</td>\n",
       "      <td>[2482935619, 2618323644, 2661080946, 266108094...</td>\n",
       "    </tr>\n",
       "    <tr>\n",
       "      <th>2</th>\n",
       "      <td>2411724805</td>\n",
       "      <td>0</td>\n",
       "      <td>\"Comparative study on results of prefrontal l...</td>\n",
       "      <td>1953</td>\n",
       "      <td>124451323</td>\n",
       "      <td>[2987759242, 2631162769, 2651065461]</td>\n",
       "    </tr>\n",
       "    <tr>\n",
       "      <th>3</th>\n",
       "      <td>2004877318</td>\n",
       "      <td>0</td>\n",
       "      <td>\"Ventral frontal deficits in psychopathy: Neu...</td>\n",
       "      <td>1995</td>\n",
       "      <td>165368631</td>\n",
       "      <td>[2572627602, 2278535667, 2800225512]</td>\n",
       "    </tr>\n",
       "    <tr>\n",
       "      <th>4</th>\n",
       "      <td>2025848838</td>\n",
       "      <td>0</td>\n",
       "      <td>\"Iowa gambling task in Parkinson&amp;#039</td>\n",
       "      <td>2011</td>\n",
       "      <td>35508115</td>\n",
       "      <td>[237217217, 2129310074, 2647734675]</td>\n",
       "    </tr>\n",
       "    <tr>\n",
       "      <th>...</th>\n",
       "      <td>...</td>\n",
       "      <td>...</td>\n",
       "      <td>...</td>\n",
       "      <td>...</td>\n",
       "      <td>...</td>\n",
       "      <td>...</td>\n",
       "    </tr>\n",
       "    <tr>\n",
       "      <th>14028712</th>\n",
       "      <td>2080374763</td>\n",
       "      <td>1</td>\n",
       "      <td>\"The spectral sensitivity of light-adapted ca...</td>\n",
       "      <td>1954</td>\n",
       "      <td>2090548</td>\n",
       "      <td>[2684787159]</td>\n",
       "    </tr>\n",
       "    <tr>\n",
       "      <th>14028713</th>\n",
       "      <td>2147483632</td>\n",
       "      <td>1</td>\n",
       "      <td>\"The 5-hydroxytryptamine (serotonin) receptor...</td>\n",
       "      <td>2013</td>\n",
       "      <td>136368880</td>\n",
       "      <td>[2145232497, 2336850026, 2671773241, 144628305...</td>\n",
       "    </tr>\n",
       "    <tr>\n",
       "      <th>14028714</th>\n",
       "      <td>2181038068</td>\n",
       "      <td>1</td>\n",
       "      <td>\"Giving machines humanlike eyes\"</td>\n",
       "      <td>2015</td>\n",
       "      <td>66124381</td>\n",
       "      <td>[2974799061, 2723812261, 2617766515]</td>\n",
       "    </tr>\n",
       "    <tr>\n",
       "      <th>14028715</th>\n",
       "      <td>2147483638</td>\n",
       "      <td>1</td>\n",
       "      <td>\"Effect of three anaesthetic techniques on is...</td>\n",
       "      <td>2004</td>\n",
       "      <td>33418846</td>\n",
       "      <td>[2308317210, 2070658732, 2496673173, 2930434804]</td>\n",
       "    </tr>\n",
       "    <tr>\n",
       "      <th>14028716</th>\n",
       "      <td>2315255800</td>\n",
       "      <td>1</td>\n",
       "      <td>\"Very high fluence collagen cross-linking as ...</td>\n",
       "      <td>2013</td>\n",
       "      <td>69264623</td>\n",
       "      <td>[2251267400]</td>\n",
       "    </tr>\n",
       "  </tbody>\n",
       "</table>\n",
       "<p>14028717 rows × 6 columns</p>\n",
       "</div>"
      ],
      "text/plain": [
       "                  id  queryLevel  \\\n",
       "0         2038431747           0   \n",
       "1         1010827267           0   \n",
       "2         2411724805           0   \n",
       "3         2004877318           0   \n",
       "4         2025848838           0   \n",
       "...              ...         ...   \n",
       "14028712  2080374763           1   \n",
       "14028713  2147483632           1   \n",
       "14028714  2181038068           1   \n",
       "14028715  2147483638           1   \n",
       "14028716  2315255800           1   \n",
       "\n",
       "                                                      title  publicationYear  \\\n",
       "0          \"Topology learning solved by extended objects...             1994   \n",
       "1                 \"Multipotent Stem Cells In Murine Sclera\"             2011   \n",
       "2          \"Comparative study on results of prefrontal l...             1953   \n",
       "3          \"Ventral frontal deficits in psychopathy: Neu...             1995   \n",
       "4                     \"Iowa gambling task in Parkinson&#039             2011   \n",
       "...                                                     ...              ...   \n",
       "14028712   \"The spectral sensitivity of light-adapted ca...             1954   \n",
       "14028713   \"The 5-hydroxytryptamine (serotonin) receptor...             2013   \n",
       "14028714                   \"Giving machines humanlike eyes\"             2015   \n",
       "14028715   \"Effect of three anaesthetic techniques on is...             2004   \n",
       "14028716   \"Very high fluence collagen cross-linking as ...             2013   \n",
       "\n",
       "          idJournal                                            authors  \n",
       "0         207023548               [2163422316, 2419355596, 2289589767]  \n",
       "1          76304953  [2482935619, 2618323644, 2661080946, 266108094...  \n",
       "2         124451323               [2987759242, 2631162769, 2651065461]  \n",
       "3         165368631               [2572627602, 2278535667, 2800225512]  \n",
       "4          35508115                [237217217, 2129310074, 2647734675]  \n",
       "...             ...                                                ...  \n",
       "14028712    2090548                                       [2684787159]  \n",
       "14028713  136368880  [2145232497, 2336850026, 2671773241, 144628305...  \n",
       "14028714   66124381               [2974799061, 2723812261, 2617766515]  \n",
       "14028715   33418846   [2308317210, 2070658732, 2496673173, 2930434804]  \n",
       "14028716   69264623                                       [2251267400]  \n",
       "\n",
       "[14028717 rows x 6 columns]"
      ]
     },
     "execution_count": 10,
     "metadata": {},
     "output_type": "execute_result"
    }
   ],
   "source": [
    "subdata = data[['id', 'queryLevel', ' title',' publicationDate', ' appearsInJournal', 'authors']].reset_index(drop=True)\n",
    "subdata.rename(columns = {' publicationDate': 'publicationYear', ' appearsInJournal': 'idJournal', ' title':'title'}, inplace=True)\n",
    "#subdata['title'] = subdata['title'].apply(lambda x: eval(x))\n",
    "subdata['publicationYear'].fillna('-1', inplace=True)\n",
    "subdata['publicationYear'] = [int(re.findall(r'\\d+', i)[0]) if i != '-1' else -1 for i in subdata['publicationYear']]\n",
    "subdata['idJournal'].fillna(-1, inplace=True)\n",
    "subdata['idJournal'] = [int(i) if i != -1 else -1 for i in subdata['idJournal']]\n",
    "subdata"
   ]
  },
  {
   "cell_type": "markdown",
   "id": "eb30452f",
   "metadata": {},
   "source": [
    "## Add journals' name and associated discipline from WoS classification"
   ]
  },
  {
   "cell_type": "code",
   "execution_count": 2,
   "id": "7ac80929",
   "metadata": {},
   "outputs": [],
   "source": [
    "def wos_split_strings(list_str):\n",
    "    l = []\n",
    "    for i in list_str:\n",
    "        l += re.split(' \\| ', i) # change separators if needed\n",
    "    return l"
   ]
  },
  {
   "cell_type": "code",
   "execution_count": 12,
   "id": "faa7a51a",
   "metadata": {
    "scrolled": false
   },
   "outputs": [
    {
     "data": {
      "text/html": [
       "<div>\n",
       "<style scoped>\n",
       "    .dataframe tbody tr th:only-of-type {\n",
       "        vertical-align: middle;\n",
       "    }\n",
       "\n",
       "    .dataframe tbody tr th {\n",
       "        vertical-align: top;\n",
       "    }\n",
       "\n",
       "    .dataframe thead th {\n",
       "        text-align: right;\n",
       "    }\n",
       "</style>\n",
       "<table border=\"1\" class=\"dataframe\">\n",
       "  <thead>\n",
       "    <tr style=\"text-align: right;\">\n",
       "      <th></th>\n",
       "      <th>idJournal</th>\n",
       "      <th>Journal title</th>\n",
       "      <th>Web of Science Categories</th>\n",
       "    </tr>\n",
       "  </thead>\n",
       "  <tbody>\n",
       "    <tr>\n",
       "      <th>0</th>\n",
       "      <td>61661</td>\n",
       "      <td>[JOURNAL OF PROSTHODONTICS-IMPLANT ESTHETIC AN...</td>\n",
       "      <td>[Dentistry, Oral Surgery &amp; Medicine]</td>\n",
       "    </tr>\n",
       "    <tr>\n",
       "      <th>1</th>\n",
       "      <td>81127</td>\n",
       "      <td>[EUROPEAN HEART JOURNAL SUPPLEMENTS]</td>\n",
       "      <td>[Cardiac &amp; Cardiovascular System]</td>\n",
       "    </tr>\n",
       "    <tr>\n",
       "      <th>2</th>\n",
       "      <td>146344</td>\n",
       "      <td>[JOURNAL OF MARRIAGE AND FAMILY]</td>\n",
       "      <td>[Sociology, Family Studies]</td>\n",
       "    </tr>\n",
       "    <tr>\n",
       "      <th>3</th>\n",
       "      <td>161885</td>\n",
       "      <td>[CHINESE STUDIES IN HISTORY]</td>\n",
       "      <td>[History, Asian Studies]</td>\n",
       "    </tr>\n",
       "    <tr>\n",
       "      <th>4</th>\n",
       "      <td>182001</td>\n",
       "      <td>[GIFTED CHILD QUARTERLY]</td>\n",
       "      <td>[Psychology, Educational, Education, Special]</td>\n",
       "    </tr>\n",
       "    <tr>\n",
       "      <th>...</th>\n",
       "      <td>...</td>\n",
       "      <td>...</td>\n",
       "      <td>...</td>\n",
       "    </tr>\n",
       "    <tr>\n",
       "      <th>17605</th>\n",
       "      <td>3035668652</td>\n",
       "      <td>[EUROPEAN RADIOLOGY EXPERIMENTAL]</td>\n",
       "      <td>[Radiology, Nuclear Medicine &amp; Medical Imaging]</td>\n",
       "    </tr>\n",
       "    <tr>\n",
       "      <th>17606</th>\n",
       "      <td>3035671286</td>\n",
       "      <td>[SATELLITE NAVIGATION]</td>\n",
       "      <td>[Engineering, Aerospace, Telecommunications, R...</td>\n",
       "    </tr>\n",
       "    <tr>\n",
       "      <th>17607</th>\n",
       "      <td>3035730399</td>\n",
       "      <td>[JOURNAL OF THE EGYPTIAN PUBLIC HEALTH ASSOCIA...</td>\n",
       "      <td>[Public, Environmental &amp; Occupational Health]</td>\n",
       "    </tr>\n",
       "    <tr>\n",
       "      <th>17608</th>\n",
       "      <td>3035751226</td>\n",
       "      <td>[JOURNAL OF PATIENT-REPORTED OUTCOMES]</td>\n",
       "      <td>[Health Care Sciences &amp; Services, Health Polic...</td>\n",
       "    </tr>\n",
       "    <tr>\n",
       "      <th>17609</th>\n",
       "      <td>3035763596</td>\n",
       "      <td>[EGYPTIAN JOURNAL OF BRONCHOLOGY]</td>\n",
       "      <td>[Respiratory System]</td>\n",
       "    </tr>\n",
       "  </tbody>\n",
       "</table>\n",
       "<p>17610 rows × 3 columns</p>\n",
       "</div>"
      ],
      "text/plain": [
       "        idJournal                                      Journal title  \\\n",
       "0           61661  [JOURNAL OF PROSTHODONTICS-IMPLANT ESTHETIC AN...   \n",
       "1           81127               [EUROPEAN HEART JOURNAL SUPPLEMENTS]   \n",
       "2          146344                   [JOURNAL OF MARRIAGE AND FAMILY]   \n",
       "3          161885                       [CHINESE STUDIES IN HISTORY]   \n",
       "4          182001                           [GIFTED CHILD QUARTERLY]   \n",
       "...           ...                                                ...   \n",
       "17605  3035668652                  [EUROPEAN RADIOLOGY EXPERIMENTAL]   \n",
       "17606  3035671286                             [SATELLITE NAVIGATION]   \n",
       "17607  3035730399  [JOURNAL OF THE EGYPTIAN PUBLIC HEALTH ASSOCIA...   \n",
       "17608  3035751226             [JOURNAL OF PATIENT-REPORTED OUTCOMES]   \n",
       "17609  3035763596                  [EGYPTIAN JOURNAL OF BRONCHOLOGY]   \n",
       "\n",
       "                               Web of Science Categories  \n",
       "0                   [Dentistry, Oral Surgery & Medicine]  \n",
       "1                      [Cardiac & Cardiovascular System]  \n",
       "2                            [Sociology, Family Studies]  \n",
       "3                               [History, Asian Studies]  \n",
       "4          [Psychology, Educational, Education, Special]  \n",
       "...                                                  ...  \n",
       "17605    [Radiology, Nuclear Medicine & Medical Imaging]  \n",
       "17606  [Engineering, Aerospace, Telecommunications, R...  \n",
       "17607      [Public, Environmental & Occupational Health]  \n",
       "17608  [Health Care Sciences & Services, Health Polic...  \n",
       "17609                               [Respiratory System]  \n",
       "\n",
       "[17610 rows x 3 columns]"
      ]
     },
     "execution_count": 12,
     "metadata": {},
     "output_type": "execute_result"
    }
   ],
   "source": [
    "# read the WoS disciplinary classification and add it to the journals database\n",
    "JournalsDisciplines = pd.read_csv(f'{path_input}WOSjr.csv', sep=';')\n",
    "JournalsDisciplines.rename(columns={'MAG_journal_Id': 'idJournal'}, inplace=True)\n",
    "JournalsDisciplines = JournalsDisciplines.groupby('idJournal').agg(lambda x: x.tolist()).reset_index()\n",
    "JournalsDisciplines['Web of Science Categories'] = [wos_split_strings(i) for i in JournalsDisciplines['Web of Science Categories']]\n",
    "JournalsDisciplines"
   ]
  },
  {
   "cell_type": "code",
   "execution_count": 13,
   "id": "068b823b",
   "metadata": {},
   "outputs": [],
   "source": [
    "subdata = pd.merge(subdata, JournalsDisciplines, on='idJournal', how='left')\n",
    "subdata.rename(columns={'Journal title': 'journal_title', 'Web of Science Categories': 'wos_domains'}, inplace=True)"
   ]
  },
  {
   "cell_type": "markdown",
   "id": "2a0fe458",
   "metadata": {},
   "source": [
    "## Add AI keywords and main classes if 'isIA=1'"
   ]
  },
  {
   "cell_type": "code",
   "execution_count": 15,
   "id": "24528e7d",
   "metadata": {},
   "outputs": [],
   "source": [
    "# read intersection dataset neuro and IA\n",
    "with open(f'{path_input}Papers_neuroscience_and_IA.json', 'r') as f:\n",
    "    dataIA = json.load(f)\n",
    "dataIA = pd.DataFrame.from_dict(dataIA)"
   ]
  },
  {
   "cell_type": "code",
   "execution_count": 56,
   "id": "0a2ecbf5",
   "metadata": {
    "scrolled": true
   },
   "outputs": [
    {
     "data": {
      "text/html": [
       "<div>\n",
       "<style scoped>\n",
       "    .dataframe tbody tr th:only-of-type {\n",
       "        vertical-align: middle;\n",
       "    }\n",
       "\n",
       "    .dataframe tbody tr th {\n",
       "        vertical-align: top;\n",
       "    }\n",
       "\n",
       "    .dataframe thead th {\n",
       "        text-align: right;\n",
       "    }\n",
       "</style>\n",
       "<table border=\"1\" class=\"dataframe\">\n",
       "  <thead>\n",
       "    <tr style=\"text-align: right;\">\n",
       "      <th></th>\n",
       "      <th>id</th>\n",
       "      <th>publicationDate</th>\n",
       "      <th>issueIdentifier</th>\n",
       "      <th>created</th>\n",
       "      <th>publisher</th>\n",
       "      <th>volume</th>\n",
       "      <th>startingPage</th>\n",
       "      <th>endingPage</th>\n",
       "      <th>citationCount</th>\n",
       "      <th>doi</th>\n",
       "      <th>title</th>\n",
       "      <th>referenceCount</th>\n",
       "      <th>appearsInJournal</th>\n",
       "      <th>queryLevel</th>\n",
       "      <th>authors</th>\n",
       "      <th>bookTitle</th>\n",
       "      <th>appearsInConferenceSeries</th>\n",
       "      <th>appearsInConferenceInstance</th>\n",
       "      <th>abstract</th>\n",
       "      <th>keywordsIA</th>\n",
       "    </tr>\n",
       "  </thead>\n",
       "  <tbody>\n",
       "    <tr>\n",
       "      <th>0</th>\n",
       "      <td>2982150161</td>\n",
       "      <td>\"2020-03-07\"</td>\n",
       "      <td>NaN</td>\n",
       "      <td>\"2019-11-01\"</td>\n",
       "      <td>\"Elsevier\"</td>\n",
       "      <td>\"380\"</td>\n",
       "      <td>\"11\"</td>\n",
       "      <td>\"19\"</td>\n",
       "      <td>\"1\"</td>\n",
       "      <td>10.1016/J.NEUCOM.2019.10.001</td>\n",
       "      <td>\"Delay tolerant containment control for secon...</td>\n",
       "      <td>\"32\"</td>\n",
       "      <td>45693802</td>\n",
       "      <td>0</td>\n",
       "      <td>[2698853177, 2894619631, 2090493536, 2980724061]</td>\n",
       "      <td>NaN</td>\n",
       "      <td>NaN</td>\n",
       "      <td>NaN</td>\n",
       "      <td>Abstract In this paper, a delay tolerant cont...</td>\n",
       "      <td>[convex hull, multi-agent system]</td>\n",
       "    </tr>\n",
       "    <tr>\n",
       "      <th>1</th>\n",
       "      <td>2017460423</td>\n",
       "      <td>\"2004-12-01\"</td>\n",
       "      <td>\"4\"</td>\n",
       "      <td>\"2016-06-24\"</td>\n",
       "      <td>\"Lippincott Williams and Wilkins\"</td>\n",
       "      <td>\"14\"</td>\n",
       "      <td>\"187\"</td>\n",
       "      <td>\"189\"</td>\n",
       "      <td>\"0\"</td>\n",
       "      <td>10.1097/00041444-200412000-00003</td>\n",
       "      <td>\"Evaluation of genetic substructure in the Ir...</td>\n",
       "      <td>\"0\"</td>\n",
       "      <td>41645954</td>\n",
       "      <td>0</td>\n",
       "      <td>[2494464687, 2120665394, 2091809267, 2614997734]</td>\n",
       "      <td>NaN</td>\n",
       "      <td>NaN</td>\n",
       "      <td>NaN</td>\n",
       "      <td>: The presence of genetic substructure has th...</td>\n",
       "      <td>[markov chain monte carlo]</td>\n",
       "    </tr>\n",
       "    <tr>\n",
       "      <th>2</th>\n",
       "      <td>2592080110</td>\n",
       "      <td>\"2017-03-03\"</td>\n",
       "      <td>NaN</td>\n",
       "      <td>\"2017-03-16\"</td>\n",
       "      <td>\"Dove Press\"</td>\n",
       "      <td>\"9\"</td>\n",
       "      <td>\"39\"</td>\n",
       "      <td>\"57\"</td>\n",
       "      <td>\"36\"</td>\n",
       "      <td>10.2147/NSS.S103467</td>\n",
       "      <td>\"New developments in the management of narcol...</td>\n",
       "      <td>\"0\"</td>\n",
       "      <td>2739268901</td>\n",
       "      <td>0</td>\n",
       "      <td>[2162133358, 2136137024]</td>\n",
       "      <td>NaN</td>\n",
       "      <td>NaN</td>\n",
       "      <td>NaN</td>\n",
       "      <td>: Narcolepsy is a life-long, underrecognized ...</td>\n",
       "      <td>[mycin]</td>\n",
       "    </tr>\n",
       "    <tr>\n",
       "      <th>3</th>\n",
       "      <td>2613051638</td>\n",
       "      <td>\"2017-07-01\"</td>\n",
       "      <td>NaN</td>\n",
       "      <td>\"2017-05-19\"</td>\n",
       "      <td>\"Elsevier\"</td>\n",
       "      <td>\"158\"</td>\n",
       "      <td>\"7\"</td>\n",
       "      <td>\"13\"</td>\n",
       "      <td>\"0\"</td>\n",
       "      <td>10.1016/J.PBB.2017.05.004</td>\n",
       "      <td>\"Posterior hypothalamus glutamate infusion de...</td>\n",
       "      <td>\"51\"</td>\n",
       "      <td>59685179</td>\n",
       "      <td>0</td>\n",
       "      <td>[2049946654, 2108670995, 2944770929, 2667938519]</td>\n",
       "      <td>NaN</td>\n",
       "      <td>NaN</td>\n",
       "      <td>NaN</td>\n",
       "      <td>Abstract Objectives Seizures are epileptic ma...</td>\n",
       "      <td>[lenet]</td>\n",
       "    </tr>\n",
       "    <tr>\n",
       "      <th>4</th>\n",
       "      <td>2617245985</td>\n",
       "      <td>\"2017-11-29\"</td>\n",
       "      <td>NaN</td>\n",
       "      <td>\"2017-06-05\"</td>\n",
       "      <td>\"Elsevier\"</td>\n",
       "      <td>\"266\"</td>\n",
       "      <td>\"325\"</td>\n",
       "      <td>\"335\"</td>\n",
       "      <td>\"15\"</td>\n",
       "      <td>10.1016/J.NEUCOM.2017.05.042</td>\n",
       "      <td>\"Deep learning algorithms for discriminant au...</td>\n",
       "      <td>\"36\"</td>\n",
       "      <td>45693802</td>\n",
       "      <td>0</td>\n",
       "      <td>[3024761849, 2619442247]</td>\n",
       "      <td>NaN</td>\n",
       "      <td>NaN</td>\n",
       "      <td>NaN</td>\n",
       "      <td>In this paper, a new family of Autoencoders (...</td>\n",
       "      <td>[autoencoder, dimensionality reduction]</td>\n",
       "    </tr>\n",
       "    <tr>\n",
       "      <th>...</th>\n",
       "      <td>...</td>\n",
       "      <td>...</td>\n",
       "      <td>...</td>\n",
       "      <td>...</td>\n",
       "      <td>...</td>\n",
       "      <td>...</td>\n",
       "      <td>...</td>\n",
       "      <td>...</td>\n",
       "      <td>...</td>\n",
       "      <td>...</td>\n",
       "      <td>...</td>\n",
       "      <td>...</td>\n",
       "      <td>...</td>\n",
       "      <td>...</td>\n",
       "      <td>...</td>\n",
       "      <td>...</td>\n",
       "      <td>...</td>\n",
       "      <td>...</td>\n",
       "      <td>...</td>\n",
       "      <td>...</td>\n",
       "    </tr>\n",
       "    <tr>\n",
       "      <th>614353</th>\n",
       "      <td>1979711143</td>\n",
       "      <td>\"1998-07-24\"</td>\n",
       "      <td>\"3\"</td>\n",
       "      <td>\"2016-06-24\"</td>\n",
       "      <td>\"ACM\"</td>\n",
       "      <td>\"37\"</td>\n",
       "      <td>\"209\"</td>\n",
       "      <td>\"217\"</td>\n",
       "      <td>\"937\"</td>\n",
       "      <td>10.1145/279943.279985</td>\n",
       "      <td>\"Large margin classification using the percep...</td>\n",
       "      <td>\"21\"</td>\n",
       "      <td>NaN</td>\n",
       "      <td>1</td>\n",
       "      <td>[2985572601, 2626311920]</td>\n",
       "      <td>\"COLT\"</td>\n",
       "      <td>1177622950</td>\n",
       "      <td>2786194060</td>\n",
       "      <td>We introduce and analyze a new algorithm for ...</td>\n",
       "      <td>[classifier]</td>\n",
       "    </tr>\n",
       "    <tr>\n",
       "      <th>614354</th>\n",
       "      <td>2147483361</td>\n",
       "      <td>\"2011-04-01\"</td>\n",
       "      <td>\"4\"</td>\n",
       "      <td>\"2016-06-24\"</td>\n",
       "      <td>\"IEEE\"</td>\n",
       "      <td>\"33\"</td>\n",
       "      <td>\"754\"</td>\n",
       "      <td>\"766\"</td>\n",
       "      <td>\"137\"</td>\n",
       "      <td>10.1109/TPAMI.2010.133</td>\n",
       "      <td>\"Harvesting Image Databases from the Web\"</td>\n",
       "      <td>\"26\"</td>\n",
       "      <td>199944782</td>\n",
       "      <td>1</td>\n",
       "      <td>[2985357453, 1966707555, 2469405535]</td>\n",
       "      <td>NaN</td>\n",
       "      <td>NaN</td>\n",
       "      <td>NaN</td>\n",
       "      <td>The objective of this work is to automaticall...</td>\n",
       "      <td>[training data, classifier]</td>\n",
       "    </tr>\n",
       "    <tr>\n",
       "      <th>614355</th>\n",
       "      <td>2919235374</td>\n",
       "      <td>\"2019-05-01\"</td>\n",
       "      <td>NaN</td>\n",
       "      <td>\"2019-03-11\"</td>\n",
       "      <td>\"Academic Press\"</td>\n",
       "      <td>\"61\"</td>\n",
       "      <td>\"42\"</td>\n",
       "      <td>\"49\"</td>\n",
       "      <td>\"2\"</td>\n",
       "      <td>10.1016/J.JVCIR.2019.03.004</td>\n",
       "      <td>\"Application of artificial intelligence algor...</td>\n",
       "      <td>\"24\"</td>\n",
       "      <td>105424869</td>\n",
       "      <td>1</td>\n",
       "      <td>[2919870832, 2919889170]</td>\n",
       "      <td>NaN</td>\n",
       "      <td>NaN</td>\n",
       "      <td>NaN</td>\n",
       "      <td>Abstract As the main media of human communica...</td>\n",
       "      <td>[artificial intelligence, combinatorial optimi...</td>\n",
       "    </tr>\n",
       "    <tr>\n",
       "      <th>614356</th>\n",
       "      <td>2046820148</td>\n",
       "      <td>\"2014-03-20\"</td>\n",
       "      <td>\"3\"</td>\n",
       "      <td>\"2016-06-24\"</td>\n",
       "      <td>\"Public Library of Science\"</td>\n",
       "      <td>\"9\"</td>\n",
       "      <td>NaN</td>\n",
       "      <td>NaN</td>\n",
       "      <td>\"52\"</td>\n",
       "      <td>10.1371/JOURNAL.PONE.0091969</td>\n",
       "      <td>\"Visceral adiposity index (VAI) is predictive...</td>\n",
       "      <td>\"41\"</td>\n",
       "      <td>202381698</td>\n",
       "      <td>1</td>\n",
       "      <td>[45745419, 1900658159, 3005837255, 2080409075,...</td>\n",
       "      <td>NaN</td>\n",
       "      <td>NaN</td>\n",
       "      <td>NaN</td>\n",
       "      <td>Aims Although there is still no clear definit...</td>\n",
       "      <td>[cluster analysis]</td>\n",
       "    </tr>\n",
       "    <tr>\n",
       "      <th>614357</th>\n",
       "      <td>2080374594</td>\n",
       "      <td>\"2004-05-01\"</td>\n",
       "      <td>\"1\"</td>\n",
       "      <td>\"2016-06-24\"</td>\n",
       "      <td>\"Blackwell Publishing Ltd\"</td>\n",
       "      <td>\"234\"</td>\n",
       "      <td>\"43\"</td>\n",
       "      <td>\"49\"</td>\n",
       "      <td>\"97\"</td>\n",
       "      <td>10.1111/J.1574-6968.2004.TB09511.X</td>\n",
       "      <td>\"Molecular characterization and analysis of t...</td>\n",
       "      <td>\"26\"</td>\n",
       "      <td>34954451</td>\n",
       "      <td>1</td>\n",
       "      <td>[2788874313, 1980174942, 2559322472]</td>\n",
       "      <td>NaN</td>\n",
       "      <td>NaN</td>\n",
       "      <td>NaN</td>\n",
       "      <td>Bacillus subtilis AU195 produces bacillomycin...</td>\n",
       "      <td>[mycin]</td>\n",
       "    </tr>\n",
       "  </tbody>\n",
       "</table>\n",
       "<p>614358 rows × 20 columns</p>\n",
       "</div>"
      ],
      "text/plain": [
       "                id  publicationDate  issueIdentifier        created  \\\n",
       "0       2982150161     \"2020-03-07\"              NaN   \"2019-11-01\"   \n",
       "1       2017460423     \"2004-12-01\"              \"4\"   \"2016-06-24\"   \n",
       "2       2592080110     \"2017-03-03\"              NaN   \"2017-03-16\"   \n",
       "3       2613051638     \"2017-07-01\"              NaN   \"2017-05-19\"   \n",
       "4       2617245985     \"2017-11-29\"              NaN   \"2017-06-05\"   \n",
       "...            ...              ...              ...            ...   \n",
       "614353  1979711143     \"1998-07-24\"              \"3\"   \"2016-06-24\"   \n",
       "614354  2147483361     \"2011-04-01\"              \"4\"   \"2016-06-24\"   \n",
       "614355  2919235374     \"2019-05-01\"              NaN   \"2019-03-11\"   \n",
       "614356  2046820148     \"2014-03-20\"              \"3\"   \"2016-06-24\"   \n",
       "614357  2080374594     \"2004-05-01\"              \"1\"   \"2016-06-24\"   \n",
       "\n",
       "                                 publisher  volume  startingPage  endingPage  \\\n",
       "0                               \"Elsevier\"   \"380\"          \"11\"        \"19\"   \n",
       "1        \"Lippincott Williams and Wilkins\"    \"14\"         \"187\"       \"189\"   \n",
       "2                             \"Dove Press\"     \"9\"          \"39\"        \"57\"   \n",
       "3                               \"Elsevier\"   \"158\"           \"7\"        \"13\"   \n",
       "4                               \"Elsevier\"   \"266\"         \"325\"       \"335\"   \n",
       "...                                    ...     ...           ...         ...   \n",
       "614353                               \"ACM\"    \"37\"         \"209\"       \"217\"   \n",
       "614354                              \"IEEE\"    \"33\"         \"754\"       \"766\"   \n",
       "614355                    \"Academic Press\"    \"61\"          \"42\"        \"49\"   \n",
       "614356         \"Public Library of Science\"     \"9\"           NaN         NaN   \n",
       "614357          \"Blackwell Publishing Ltd\"   \"234\"          \"43\"        \"49\"   \n",
       "\n",
       "        citationCount                                 doi  \\\n",
       "0                 \"1\"        10.1016/J.NEUCOM.2019.10.001   \n",
       "1                 \"0\"    10.1097/00041444-200412000-00003   \n",
       "2                \"36\"                 10.2147/NSS.S103467   \n",
       "3                 \"0\"           10.1016/J.PBB.2017.05.004   \n",
       "4                \"15\"        10.1016/J.NEUCOM.2017.05.042   \n",
       "...               ...                                 ...   \n",
       "614353          \"937\"               10.1145/279943.279985   \n",
       "614354          \"137\"              10.1109/TPAMI.2010.133   \n",
       "614355            \"2\"         10.1016/J.JVCIR.2019.03.004   \n",
       "614356           \"52\"        10.1371/JOURNAL.PONE.0091969   \n",
       "614357           \"97\"  10.1111/J.1574-6968.2004.TB09511.X   \n",
       "\n",
       "                                                    title  referenceCount  \\\n",
       "0        \"Delay tolerant containment control for secon...            \"32\"   \n",
       "1        \"Evaluation of genetic substructure in the Ir...             \"0\"   \n",
       "2        \"New developments in the management of narcol...             \"0\"   \n",
       "3        \"Posterior hypothalamus glutamate infusion de...            \"51\"   \n",
       "4        \"Deep learning algorithms for discriminant au...            \"36\"   \n",
       "...                                                   ...             ...   \n",
       "614353   \"Large margin classification using the percep...            \"21\"   \n",
       "614354          \"Harvesting Image Databases from the Web\"            \"26\"   \n",
       "614355   \"Application of artificial intelligence algor...            \"24\"   \n",
       "614356   \"Visceral adiposity index (VAI) is predictive...            \"41\"   \n",
       "614357   \"Molecular characterization and analysis of t...            \"26\"   \n",
       "\n",
       "        appearsInJournal  queryLevel  \\\n",
       "0               45693802           0   \n",
       "1               41645954           0   \n",
       "2             2739268901           0   \n",
       "3               59685179           0   \n",
       "4               45693802           0   \n",
       "...                  ...         ...   \n",
       "614353               NaN           1   \n",
       "614354         199944782           1   \n",
       "614355         105424869           1   \n",
       "614356         202381698           1   \n",
       "614357          34954451           1   \n",
       "\n",
       "                                                  authors  bookTitle  \\\n",
       "0        [2698853177, 2894619631, 2090493536, 2980724061]        NaN   \n",
       "1        [2494464687, 2120665394, 2091809267, 2614997734]        NaN   \n",
       "2                                [2162133358, 2136137024]        NaN   \n",
       "3        [2049946654, 2108670995, 2944770929, 2667938519]        NaN   \n",
       "4                                [3024761849, 2619442247]        NaN   \n",
       "...                                                   ...        ...   \n",
       "614353                           [2985572601, 2626311920]     \"COLT\"   \n",
       "614354               [2985357453, 1966707555, 2469405535]        NaN   \n",
       "614355                           [2919870832, 2919889170]        NaN   \n",
       "614356  [45745419, 1900658159, 3005837255, 2080409075,...        NaN   \n",
       "614357               [2788874313, 1980174942, 2559322472]        NaN   \n",
       "\n",
       "        appearsInConferenceSeries  appearsInConferenceInstance  \\\n",
       "0                             NaN                          NaN   \n",
       "1                             NaN                          NaN   \n",
       "2                             NaN                          NaN   \n",
       "3                             NaN                          NaN   \n",
       "4                             NaN                          NaN   \n",
       "...                           ...                          ...   \n",
       "614353                 1177622950                   2786194060   \n",
       "614354                        NaN                          NaN   \n",
       "614355                        NaN                          NaN   \n",
       "614356                        NaN                          NaN   \n",
       "614357                        NaN                          NaN   \n",
       "\n",
       "                                                 abstract  \\\n",
       "0        Abstract In this paper, a delay tolerant cont...   \n",
       "1        : The presence of genetic substructure has th...   \n",
       "2        : Narcolepsy is a life-long, underrecognized ...   \n",
       "3        Abstract Objectives Seizures are epileptic ma...   \n",
       "4        In this paper, a new family of Autoencoders (...   \n",
       "...                                                   ...   \n",
       "614353   We introduce and analyze a new algorithm for ...   \n",
       "614354   The objective of this work is to automaticall...   \n",
       "614355   Abstract As the main media of human communica...   \n",
       "614356   Aims Although there is still no clear definit...   \n",
       "614357   Bacillus subtilis AU195 produces bacillomycin...   \n",
       "\n",
       "                                               keywordsIA  \n",
       "0                       [convex hull, multi-agent system]  \n",
       "1                              [markov chain monte carlo]  \n",
       "2                                                 [mycin]  \n",
       "3                                                 [lenet]  \n",
       "4                 [autoencoder, dimensionality reduction]  \n",
       "...                                                   ...  \n",
       "614353                                       [classifier]  \n",
       "614354                        [training data, classifier]  \n",
       "614355  [artificial intelligence, combinatorial optimi...  \n",
       "614356                                 [cluster analysis]  \n",
       "614357                                            [mycin]  \n",
       "\n",
       "[614358 rows x 20 columns]"
      ]
     },
     "execution_count": 56,
     "metadata": {},
     "output_type": "execute_result"
    }
   ],
   "source": [
    "dataIA"
   ]
  },
  {
   "cell_type": "code",
   "execution_count": 67,
   "id": "cae0f0a7",
   "metadata": {},
   "outputs": [
    {
     "data": {
      "text/html": [
       "<div>\n",
       "<style scoped>\n",
       "    .dataframe tbody tr th:only-of-type {\n",
       "        vertical-align: middle;\n",
       "    }\n",
       "\n",
       "    .dataframe tbody tr th {\n",
       "        vertical-align: top;\n",
       "    }\n",
       "\n",
       "    .dataframe thead th {\n",
       "        text-align: right;\n",
       "    }\n",
       "</style>\n",
       "<table border=\"1\" class=\"dataframe\">\n",
       "  <thead>\n",
       "    <tr style=\"text-align: right;\">\n",
       "      <th></th>\n",
       "      <th>keywords</th>\n",
       "      <th>class</th>\n",
       "    </tr>\n",
       "  </thead>\n",
       "  <tbody>\n",
       "    <tr>\n",
       "      <th>0</th>\n",
       "      <td>evolutionary algorithm</td>\n",
       "      <td>optimization</td>\n",
       "    </tr>\n",
       "    <tr>\n",
       "      <th>1</th>\n",
       "      <td>simulated annealing</td>\n",
       "      <td>optimization</td>\n",
       "    </tr>\n",
       "    <tr>\n",
       "      <th>2</th>\n",
       "      <td>hierarchical clustering</td>\n",
       "      <td>cluster analysis</td>\n",
       "    </tr>\n",
       "    <tr>\n",
       "      <th>3</th>\n",
       "      <td>principal component analysis</td>\n",
       "      <td>cluster analysis</td>\n",
       "    </tr>\n",
       "    <tr>\n",
       "      <th>4</th>\n",
       "      <td>unsupervised learning</td>\n",
       "      <td>machine learning</td>\n",
       "    </tr>\n",
       "    <tr>\n",
       "      <th>...</th>\n",
       "      <td>...</td>\n",
       "      <td>...</td>\n",
       "    </tr>\n",
       "    <tr>\n",
       "      <th>527</th>\n",
       "      <td>multi swarm optimization</td>\n",
       "      <td>optimization</td>\n",
       "    </tr>\n",
       "    <tr>\n",
       "      <th>528</th>\n",
       "      <td>fast and frugal trees</td>\n",
       "      <td>AI general</td>\n",
       "    </tr>\n",
       "    <tr>\n",
       "      <th>529</th>\n",
       "      <td>chess playing computer</td>\n",
       "      <td>robotics</td>\n",
       "    </tr>\n",
       "    <tr>\n",
       "      <th>530</th>\n",
       "      <td>bias variance tradeoff</td>\n",
       "      <td>optimization</td>\n",
       "    </tr>\n",
       "    <tr>\n",
       "      <th>531</th>\n",
       "      <td>convolutional neural network (cnn)</td>\n",
       "      <td>deep learning</td>\n",
       "    </tr>\n",
       "  </tbody>\n",
       "</table>\n",
       "<p>532 rows × 2 columns</p>\n",
       "</div>"
      ],
      "text/plain": [
       "                               keywords             class\n",
       "0                evolutionary algorithm      optimization\n",
       "1                   simulated annealing      optimization\n",
       "2               hierarchical clustering  cluster analysis\n",
       "3          principal component analysis  cluster analysis\n",
       "4                 unsupervised learning  machine learning\n",
       "..                                  ...               ...\n",
       "527            multi swarm optimization      optimization\n",
       "528               fast and frugal trees        AI general\n",
       "529              chess playing computer          robotics\n",
       "530              bias variance tradeoff      optimization\n",
       "531  convolutional neural network (cnn)     deep learning\n",
       "\n",
       "[532 rows x 2 columns]"
      ]
     },
     "execution_count": 67,
     "metadata": {},
     "output_type": "execute_result"
    }
   ],
   "source": [
    "# read the classification of AI keywords\n",
    "classification = pd.read_csv(f'{path_input}AI_kw_classification.txt', sep=';', names=['keywords', 'class'])\n",
    "classification['keywords'] = [i.strip() for i in classification['keywords']]\n",
    "classification"
   ]
  },
  {
   "cell_type": "code",
   "execution_count": 17,
   "id": "6b630677",
   "metadata": {},
   "outputs": [],
   "source": [
    "dataIA['classIA'] = (dataIA['keywordsIA'].apply(\n",
    "    lambda x: list(set([classification[classification['keywords']==k]['class'].values[0] for k in x if len(classification[classification['keywords']==k]['class'].values) != 0]))))"
   ]
  },
  {
   "cell_type": "code",
   "execution_count": 17,
   "id": "5f83a1bc",
   "metadata": {
    "scrolled": true
   },
   "outputs": [
    {
     "data": {
      "text/html": [
       "<div>\n",
       "<style scoped>\n",
       "    .dataframe tbody tr th:only-of-type {\n",
       "        vertical-align: middle;\n",
       "    }\n",
       "\n",
       "    .dataframe tbody tr th {\n",
       "        vertical-align: top;\n",
       "    }\n",
       "\n",
       "    .dataframe thead th {\n",
       "        text-align: right;\n",
       "    }\n",
       "</style>\n",
       "<table border=\"1\" class=\"dataframe\">\n",
       "  <thead>\n",
       "    <tr style=\"text-align: right;\">\n",
       "      <th></th>\n",
       "      <th>id</th>\n",
       "      <th>queryLevel</th>\n",
       "      <th>title</th>\n",
       "      <th>publicationYear</th>\n",
       "      <th>idJournal</th>\n",
       "      <th>authors</th>\n",
       "      <th>isIA</th>\n",
       "    </tr>\n",
       "  </thead>\n",
       "  <tbody>\n",
       "    <tr>\n",
       "      <th>0</th>\n",
       "      <td>2038431747</td>\n",
       "      <td>0</td>\n",
       "      <td>\"Topology learning solved by extended objects...</td>\n",
       "      <td>1994</td>\n",
       "      <td>207023548</td>\n",
       "      <td>[2163422316, 2419355596, 2289589767]</td>\n",
       "      <td>0</td>\n",
       "    </tr>\n",
       "    <tr>\n",
       "      <th>1</th>\n",
       "      <td>1010827267</td>\n",
       "      <td>0</td>\n",
       "      <td>\"Multipotent Stem Cells In Murine Sclera\"</td>\n",
       "      <td>2011</td>\n",
       "      <td>76304953</td>\n",
       "      <td>[2482935619, 2618323644, 2661080946, 266108094...</td>\n",
       "      <td>0</td>\n",
       "    </tr>\n",
       "    <tr>\n",
       "      <th>2</th>\n",
       "      <td>2411724805</td>\n",
       "      <td>0</td>\n",
       "      <td>\"Comparative study on results of prefrontal l...</td>\n",
       "      <td>1953</td>\n",
       "      <td>124451323</td>\n",
       "      <td>[2987759242, 2631162769, 2651065461]</td>\n",
       "      <td>0</td>\n",
       "    </tr>\n",
       "    <tr>\n",
       "      <th>3</th>\n",
       "      <td>2004877318</td>\n",
       "      <td>0</td>\n",
       "      <td>\"Ventral frontal deficits in psychopathy: Neu...</td>\n",
       "      <td>1995</td>\n",
       "      <td>165368631</td>\n",
       "      <td>[2572627602, 2278535667, 2800225512]</td>\n",
       "      <td>0</td>\n",
       "    </tr>\n",
       "    <tr>\n",
       "      <th>4</th>\n",
       "      <td>2025848838</td>\n",
       "      <td>0</td>\n",
       "      <td>\"Iowa gambling task in Parkinson&amp;#039</td>\n",
       "      <td>2011</td>\n",
       "      <td>35508115</td>\n",
       "      <td>[237217217, 2129310074, 2647734675]</td>\n",
       "      <td>0</td>\n",
       "    </tr>\n",
       "    <tr>\n",
       "      <th>...</th>\n",
       "      <td>...</td>\n",
       "      <td>...</td>\n",
       "      <td>...</td>\n",
       "      <td>...</td>\n",
       "      <td>...</td>\n",
       "      <td>...</td>\n",
       "      <td>...</td>\n",
       "    </tr>\n",
       "    <tr>\n",
       "      <th>14028712</th>\n",
       "      <td>2080374763</td>\n",
       "      <td>1</td>\n",
       "      <td>\"The spectral sensitivity of light-adapted ca...</td>\n",
       "      <td>1954</td>\n",
       "      <td>2090548</td>\n",
       "      <td>[2684787159]</td>\n",
       "      <td>0</td>\n",
       "    </tr>\n",
       "    <tr>\n",
       "      <th>14028713</th>\n",
       "      <td>2147483632</td>\n",
       "      <td>1</td>\n",
       "      <td>\"The 5-hydroxytryptamine (serotonin) receptor...</td>\n",
       "      <td>2013</td>\n",
       "      <td>136368880</td>\n",
       "      <td>[2145232497, 2336850026, 2671773241, 144628305...</td>\n",
       "      <td>0</td>\n",
       "    </tr>\n",
       "    <tr>\n",
       "      <th>14028714</th>\n",
       "      <td>2181038068</td>\n",
       "      <td>1</td>\n",
       "      <td>\"Giving machines humanlike eyes\"</td>\n",
       "      <td>2015</td>\n",
       "      <td>66124381</td>\n",
       "      <td>[2974799061, 2723812261, 2617766515]</td>\n",
       "      <td>0</td>\n",
       "    </tr>\n",
       "    <tr>\n",
       "      <th>14028715</th>\n",
       "      <td>2147483638</td>\n",
       "      <td>1</td>\n",
       "      <td>\"Effect of three anaesthetic techniques on is...</td>\n",
       "      <td>2004</td>\n",
       "      <td>33418846</td>\n",
       "      <td>[2308317210, 2070658732, 2496673173, 2930434804]</td>\n",
       "      <td>0</td>\n",
       "    </tr>\n",
       "    <tr>\n",
       "      <th>14028716</th>\n",
       "      <td>2315255800</td>\n",
       "      <td>1</td>\n",
       "      <td>\"Very high fluence collagen cross-linking as ...</td>\n",
       "      <td>2013</td>\n",
       "      <td>69264623</td>\n",
       "      <td>[2251267400]</td>\n",
       "      <td>0</td>\n",
       "    </tr>\n",
       "  </tbody>\n",
       "</table>\n",
       "<p>14028717 rows × 7 columns</p>\n",
       "</div>"
      ],
      "text/plain": [
       "                  id  queryLevel  \\\n",
       "0         2038431747           0   \n",
       "1         1010827267           0   \n",
       "2         2411724805           0   \n",
       "3         2004877318           0   \n",
       "4         2025848838           0   \n",
       "...              ...         ...   \n",
       "14028712  2080374763           1   \n",
       "14028713  2147483632           1   \n",
       "14028714  2181038068           1   \n",
       "14028715  2147483638           1   \n",
       "14028716  2315255800           1   \n",
       "\n",
       "                                                      title  publicationYear  \\\n",
       "0          \"Topology learning solved by extended objects...             1994   \n",
       "1                 \"Multipotent Stem Cells In Murine Sclera\"             2011   \n",
       "2          \"Comparative study on results of prefrontal l...             1953   \n",
       "3          \"Ventral frontal deficits in psychopathy: Neu...             1995   \n",
       "4                     \"Iowa gambling task in Parkinson&#039             2011   \n",
       "...                                                     ...              ...   \n",
       "14028712   \"The spectral sensitivity of light-adapted ca...             1954   \n",
       "14028713   \"The 5-hydroxytryptamine (serotonin) receptor...             2013   \n",
       "14028714                   \"Giving machines humanlike eyes\"             2015   \n",
       "14028715   \"Effect of three anaesthetic techniques on is...             2004   \n",
       "14028716   \"Very high fluence collagen cross-linking as ...             2013   \n",
       "\n",
       "          idJournal                                            authors  isIA  \n",
       "0         207023548               [2163422316, 2419355596, 2289589767]     0  \n",
       "1          76304953  [2482935619, 2618323644, 2661080946, 266108094...     0  \n",
       "2         124451323               [2987759242, 2631162769, 2651065461]     0  \n",
       "3         165368631               [2572627602, 2278535667, 2800225512]     0  \n",
       "4          35508115                [237217217, 2129310074, 2647734675]     0  \n",
       "...             ...                                                ...   ...  \n",
       "14028712    2090548                                       [2684787159]     0  \n",
       "14028713  136368880  [2145232497, 2336850026, 2671773241, 144628305...     0  \n",
       "14028714   66124381               [2974799061, 2723812261, 2617766515]     0  \n",
       "14028715   33418846   [2308317210, 2070658732, 2496673173, 2930434804]     0  \n",
       "14028716   69264623                                       [2251267400]     0  \n",
       "\n",
       "[14028717 rows x 7 columns]"
      ]
     },
     "execution_count": 17,
     "metadata": {},
     "output_type": "execute_result"
    }
   ],
   "source": [
    "subdata['isIA'] = np.where(subdata['id'].isin(dataIA['id']), 1, 0)\n",
    "subdata = pd.merge(subdata, dataIA[['id', 'keywordsIA', 'classIA']], on='id', how='left').fillna(-1)\n",
    "subdata"
   ]
  },
  {
   "cell_type": "code",
   "execution_count": 334,
   "id": "97d97258",
   "metadata": {},
   "outputs": [],
   "source": [
    "del dataIA"
   ]
  },
  {
   "cell_type": "markdown",
   "id": "6aa589e0",
   "metadata": {},
   "source": [
    "## Save the final subdataframe"
   ]
  },
  {
   "cell_type": "code",
   "execution_count": 39,
   "id": "921b6a71",
   "metadata": {},
   "outputs": [],
   "source": [
    "subdata.to_csv(f\"{path_output}citationNetwork_nodes.csv\", sep=';', index=False)\n",
    "# del subdata"
   ]
  },
  {
   "cell_type": "markdown",
   "id": "760e2bb4",
   "metadata": {},
   "source": [
    "# Build filtered egocentered datasets for $\\mathcal{P}\\cap AI$ and $\\mathcal{P}\\cap \\overline{AI}$\n",
    "It includes papers with main attributes:\n",
    "- `queryLevel=0`\n",
    "- published after 1970\n",
    "- cited at least 10 times, ie. $k_{in}>=10$\n",
    "- citing at least 10 other references, ie. $k_{out}>=10$"
   ]
  },
  {
   "cell_type": "markdown",
   "id": "6c286503",
   "metadata": {},
   "source": [
    "### $\\mathcal{P}\\cap \\overline{AI}$\n",
    "\n",
    "Here `isIA=0`"
   ]
  },
  {
   "cell_type": "code",
   "execution_count": 12,
   "id": "4b3ad3f5",
   "metadata": {},
   "outputs": [],
   "source": [
    "data.fillna(-1, inplace=True)\n",
    "data[' referenceCount'] = data[' referenceCount'].apply(lambda x: int(eval(x)) if x!=-1 else -1)\n",
    "data[' citationCount'] = data[' citationCount'].apply(lambda x: int(eval(x)) if x!=-1 else -1)"
   ]
  },
  {
   "cell_type": "code",
   "execution_count": 42,
   "id": "32ebca95",
   "metadata": {},
   "outputs": [],
   "source": [
    "# get only the ids of the papers that counts at least 10 reference and citation\n",
    "ids_nbRefSup10nbImpSup10 = data[(data[' referenceCount'] >= 10)\n",
    "                                & (data[' citationCount'] >= 10)]['id']"
   ]
  },
  {
   "cell_type": "code",
   "execution_count": 43,
   "id": "7c6317fb",
   "metadata": {},
   "outputs": [],
   "source": [
    "subdata_subset = subdata[(subdata['queryLevel']==0) \n",
    "                    & (subdata['isIA']==0) \n",
    "                    & (subdata['publicationYear']>=1970) # & (subdata['publicationYear']<2020) \n",
    "                    & (subdata['id'].isin(ids_nbRefSup10nbImpSup10))]"
   ]
  },
  {
   "cell_type": "code",
   "execution_count": 44,
   "id": "9dbea894",
   "metadata": {},
   "outputs": [
    {
     "data": {
      "text/plain": [
       "829317"
      ]
     },
     "execution_count": 44,
     "metadata": {},
     "output_type": "execute_result"
    }
   ],
   "source": [
    "len(subdata_subset) # here 829317"
   ]
  },
  {
   "cell_type": "code",
   "execution_count": 53,
   "id": "e0182004",
   "metadata": {},
   "outputs": [],
   "source": [
    "subdata_subset.to_csv(f\"{path_output}papersNeuro_minRef10_minImp10_from1970.csv\", sep=';', index=False)"
   ]
  },
  {
   "cell_type": "code",
   "execution_count": 8,
   "id": "b0f007fd",
   "metadata": {},
   "outputs": [
    {
     "data": {
      "text/plain": [
       "0"
      ]
     },
     "execution_count": 8,
     "metadata": {},
     "output_type": "execute_result"
    }
   ],
   "source": [
    "# force to free memory\n",
    "del data, CN, nodes\n",
    "gc.collect()"
   ]
  },
  {
   "cell_type": "markdown",
   "id": "3dfe6a7f",
   "metadata": {},
   "source": [
    "### $\\mathcal{P}\\cap AI$\n",
    "\n",
    "Here `isIA=1`"
   ]
  },
  {
   "cell_type": "code",
   "execution_count": 13,
   "id": "535e9e5e",
   "metadata": {},
   "outputs": [],
   "source": [
    "ids_nbRefSup10nbImpSup10 = data[(data[' referenceCount'] >= 10)\n",
    "                                & (data[' citationCount'] >= 10)]['id']"
   ]
  },
  {
   "cell_type": "code",
   "execution_count": 25,
   "id": "6c2cd3b5",
   "metadata": {},
   "outputs": [],
   "source": [
    "subdata_subset = subdata[(subdata['queryLevel']==0) \n",
    "                    & (subdata['isIA']==1) \n",
    "                    & (subdata['publicationYear']>=1970) # & (subdata['publicationYear']<2020) \n",
    "                    & (subdata['id'].isin(ids_nbRefSup10nbImpSup10))]"
   ]
  },
  {
   "cell_type": "code",
   "execution_count": 50,
   "id": "0f604626",
   "metadata": {},
   "outputs": [
    {
     "data": {
      "text/plain": [
       "26374"
      ]
     },
     "execution_count": 50,
     "metadata": {},
     "output_type": "execute_result"
    }
   ],
   "source": [
    "len(subdata_subset) # here 26374"
   ]
  },
  {
   "cell_type": "code",
   "execution_count": 54,
   "id": "4dddd5df",
   "metadata": {},
   "outputs": [],
   "source": [
    "subdata_subset.to_csv(f\"{path_output}papersNeuroAI_minRef10_minImp10_from1970.csv\", sep=';', index=False)"
   ]
  },
  {
   "cell_type": "markdown",
   "id": "fbbd3652",
   "metadata": {},
   "source": [
    "# Add the abstracts"
   ]
  },
  {
   "cell_type": "code",
   "execution_count": 3,
   "id": "554d3768",
   "metadata": {},
   "outputs": [],
   "source": [
    "# only papers in qeryLevel=0, published since 1970 and that have at least 10 references and 10 impacts\n",
    "papersAI = pd.read_csv(f\"{path_output}papersNeuroAI_minRef10_minImp10_from1970.csv\", sep=';')\n",
    "papersNonAI = pd.read_csv(f\"{path_output}filtered_data_for_analyzes/papersNeuro_minRef10_minImp10_from1970.csv\", sep=';')"
   ]
  },
  {
   "cell_type": "markdown",
   "id": "4264c79f",
   "metadata": {},
   "source": [
    "## Do with the original extracted file from (Zenodo?)..."
   ]
  },
  {
   "cell_type": "code",
   "execution_count": 5,
   "id": "2cd9f21a",
   "metadata": {},
   "outputs": [],
   "source": [
    "with open(f'{path_input}Paper_abstracts_Neuroscience.json','r') as bf:\n",
    "    abstracts = json.load(bf)\n",
    "abstracts = pd.DataFrame.from_records(abstracts)\n",
    "abstracts.rename(columns={'paperId':'id'},inplace=True)"
   ]
  },
  {
   "cell_type": "code",
   "execution_count": 6,
   "id": "4f44a588",
   "metadata": {},
   "outputs": [],
   "source": [
    "papersAI = pd.merge(papersAI, abstracts[abstracts['id'].isin(papersAI['id'])], on='id', how='left')\n",
    "papersNonAI = pd.merge(papersNonAI, abstracts[abstracts['id'].isin(papersNonAI['id'])], on='id', how='left')"
   ]
  },
  {
   "cell_type": "code",
   "execution_count": 7,
   "id": "a7622716",
   "metadata": {},
   "outputs": [],
   "source": [
    "papersAI.to_csv(f\"{path_output}papersNeuroAI_minRef10_minImp10_from1970_WITHABSTRACTS.csv\", sep='\\t', index=False)\n",
    "papersNonAI.to_csv(f\"{path_output}papersNeuro_minRef10_minImp10_from1970_WITHABSTRACTS.csv\", sep='\\t', index=False)"
   ]
  },
  {
   "cell_type": "markdown",
   "id": "840622c0",
   "metadata": {},
   "source": [
    "## ... Or scrap it with OpenAlex"
   ]
  },
  {
   "cell_type": "code",
   "execution_count": 133,
   "id": "82462c9b",
   "metadata": {},
   "outputs": [],
   "source": [
    "# from the key 'abstract_inverted_index' key per paper\n",
    "def rebuild_abstract(word_dict):\n",
    "    if word_dict != None:\n",
    "        # search the highest index\n",
    "        max_index = 0\n",
    "        for ind in word_dict.values():\n",
    "            local_max = max(ind)\n",
    "            if local_max > max_index:\n",
    "                max_index = local_max\n",
    "        abstract = ['']*(max_index+1)\n",
    "        for i in word_dict.keys():\n",
    "            for j in word_dict[i]:\n",
    "                abstract[j] = i\n",
    "        abstract = ' '.join(abstract)\n",
    "        return abstract\n",
    "    else:\n",
    "        return('')\n",
    "\n",
    "def scrap_title_and_abstracts_from_MAGIDs_df(papers):\n",
    "    is_work = 'https://api.openalex.org/works?'\n",
    "    authentification = 'mailto=myemail@adress.com'\n",
    "    #filtering = 'filter=has_doi:true,has_abstract:true,has_references:true,ids.mag:' # for articles having a doi, an abstract and at least one reference\n",
    "    filtering = 'filter=ids.mag:'\n",
    "    results_per_page = 'per-page=100'\n",
    "    cursor = 'cursor=*'\n",
    "    baseURL = '&'.join([is_work,\n",
    "                        authentification,\n",
    "                        results_per_page,\n",
    "                        cursor,\n",
    "                        filtering])\n",
    "    # filter by MAG ID\n",
    "    # API allows only up to 50 ids or filtering items per request\n",
    "    # API stops the request after 10 subsequent seconds of requests\n",
    "    new_metadata = []\n",
    "    k = 0\n",
    "    ids = list(papers['id'])\n",
    "    pbar = tqdm(total=len(ids))\n",
    "    while k < len(papers['id']):\n",
    "        ids = ids[k:k+50]\n",
    "        apiurl = baseURL + '|'.join(list(map(lambda x: str(x), ids[k:k+50])))\n",
    "        articles = requests.get(apiurl).json()['results']\n",
    "        if cc:\n",
    "            new_metadata += [(int(a['ids']['mag']), a['title'], rebuild_abstract(a['abstract_inverted_index']))\n",
    "                             for a in articles]\n",
    "        k += 50\n",
    "        pbar.update(50)\n",
    "    pbar.close()\n",
    "    \n",
    "    return new_metadata"
   ]
  },
  {
   "cell_type": "markdown",
   "id": "dc196c89",
   "metadata": {},
   "source": [
    "### $\\mathcal{P}\\cap AI$ dataset"
   ]
  },
  {
   "cell_type": "code",
   "execution_count": 128,
   "id": "b1d800d3",
   "metadata": {},
   "outputs": [
    {
     "name": "stderr",
     "output_type": "stream",
     "text": [
      "  1%|▍                                    | 300/26374 [00:47<1:08:59,  6.30it/s]\n",
      "26400it [10:50, 40.56it/s]                                                      \n"
     ]
    }
   ],
   "source": [
    "titles_and_abstracts_AI = scrap_title_and_abstracts_from_MAGIDs_df(papersAI)"
   ]
  },
  {
   "cell_type": "code",
   "execution_count": 130,
   "id": "7b57d212",
   "metadata": {
    "scrolled": true
   },
   "outputs": [
    {
     "data": {
      "text/html": [
       "<div>\n",
       "<style scoped>\n",
       "    .dataframe tbody tr th:only-of-type {\n",
       "        vertical-align: middle;\n",
       "    }\n",
       "\n",
       "    .dataframe tbody tr th {\n",
       "        vertical-align: top;\n",
       "    }\n",
       "\n",
       "    .dataframe thead th {\n",
       "        text-align: right;\n",
       "    }\n",
       "</style>\n",
       "<table border=\"1\" class=\"dataframe\">\n",
       "  <thead>\n",
       "    <tr style=\"text-align: right;\">\n",
       "      <th></th>\n",
       "      <th>id</th>\n",
       "      <th>queryLevel</th>\n",
       "      <th>publicationYear</th>\n",
       "      <th>idJournal</th>\n",
       "      <th>authors</th>\n",
       "      <th>journal_title</th>\n",
       "      <th>wos_domains</th>\n",
       "      <th>isIA</th>\n",
       "      <th>keywordsIA</th>\n",
       "      <th>classIA</th>\n",
       "      <th>title</th>\n",
       "      <th>abstract</th>\n",
       "    </tr>\n",
       "  </thead>\n",
       "  <tbody>\n",
       "    <tr>\n",
       "      <th>0</th>\n",
       "      <td>2617245985</td>\n",
       "      <td>0</td>\n",
       "      <td>2017</td>\n",
       "      <td>45693802</td>\n",
       "      <td>[3024761849, 2619442247]</td>\n",
       "      <td>['NEUROCOMPUTING']</td>\n",
       "      <td>['Computer Science, Artificial Intelligence']</td>\n",
       "      <td>1</td>\n",
       "      <td>['autoencoder', 'dimensionality reduction']</td>\n",
       "      <td>['deep learning', 'cluster analysis']</td>\n",
       "      <td>Deep learning algorithms for discriminant auto...</td>\n",
       "      <td>In this paper, a new family of Autoencoders (A...</td>\n",
       "    </tr>\n",
       "    <tr>\n",
       "      <th>1</th>\n",
       "      <td>2021655074</td>\n",
       "      <td>0</td>\n",
       "      <td>2006</td>\n",
       "      <td>140962798</td>\n",
       "      <td>[2145260682, 2835622326]</td>\n",
       "      <td>['NEURAL PROCESSING LETTERS']</td>\n",
       "      <td>['Computer Science, Artificial Intelligence']</td>\n",
       "      <td>1</td>\n",
       "      <td>['perceptrons', 'backpropagation']</td>\n",
       "      <td>['neural networks']</td>\n",
       "      <td>CB3: An Adaptive Error Function for Backpropag...</td>\n",
       "      <td></td>\n",
       "    </tr>\n",
       "    <tr>\n",
       "      <th>2</th>\n",
       "      <td>1790968754</td>\n",
       "      <td>0</td>\n",
       "      <td>2015</td>\n",
       "      <td>207023548</td>\n",
       "      <td>[2798335766, 2995834608, 2891704168, 2651595071]</td>\n",
       "      <td>['NEURAL COMPUTATION']</td>\n",
       "      <td>['Neurosciences', 'Computer Science, Artificia...</td>\n",
       "      <td>1</td>\n",
       "      <td>['principal component analysis']</td>\n",
       "      <td>['cluster analysis']</td>\n",
       "      <td>Relations Among Some Low-Rank Subspace Recover...</td>\n",
       "      <td>Recovering intrinsic low-dimensional subspaces...</td>\n",
       "    </tr>\n",
       "    <tr>\n",
       "      <th>3</th>\n",
       "      <td>2067792927</td>\n",
       "      <td>0</td>\n",
       "      <td>2004</td>\n",
       "      <td>5555990</td>\n",
       "      <td>[1907317825, 2810474215, 2569059621]</td>\n",
       "      <td>['JOURNAL OF NEUROSCIENCE']</td>\n",
       "      <td>['Neurosciences']</td>\n",
       "      <td>1</td>\n",
       "      <td>['mycin']</td>\n",
       "      <td>['AI general']</td>\n",
       "      <td>Memory-Like Alterations in Aplysia Axons after...</td>\n",
       "      <td>Adaptive, long-term alterations of excitabilit...</td>\n",
       "    </tr>\n",
       "    <tr>\n",
       "      <th>4</th>\n",
       "      <td>2076181669</td>\n",
       "      <td>0</td>\n",
       "      <td>2009</td>\n",
       "      <td>38337076</td>\n",
       "      <td>[27505624, 251582393, 2148513875, 1975445839, ...</td>\n",
       "      <td>['CLINICAL NEUROPHYSIOLOGY']</td>\n",
       "      <td>['Clinical Neurology', 'Neurosciences']</td>\n",
       "      <td>1</td>\n",
       "      <td>['f score']</td>\n",
       "      <td>['NLP']</td>\n",
       "      <td>Cortical sources of resting-state alpha rhythm...</td>\n",
       "      <td>High power of pre-stimulus cortical alpha rhyt...</td>\n",
       "    </tr>\n",
       "    <tr>\n",
       "      <th>...</th>\n",
       "      <td>...</td>\n",
       "      <td>...</td>\n",
       "      <td>...</td>\n",
       "      <td>...</td>\n",
       "      <td>...</td>\n",
       "      <td>...</td>\n",
       "      <td>...</td>\n",
       "      <td>...</td>\n",
       "      <td>...</td>\n",
       "      <td>...</td>\n",
       "      <td>...</td>\n",
       "      <td>...</td>\n",
       "    </tr>\n",
       "    <tr>\n",
       "      <th>26369</th>\n",
       "      <td>2315255150</td>\n",
       "      <td>0</td>\n",
       "      <td>2013</td>\n",
       "      <td>121278948</td>\n",
       "      <td>[276387308, 2763921609]</td>\n",
       "      <td>['NEUROREPORT']</td>\n",
       "      <td>['Neurosciences']</td>\n",
       "      <td>1</td>\n",
       "      <td>['face recognition']</td>\n",
       "      <td>['face recognition']</td>\n",
       "      <td>Time course of brain activation elicited by ba...</td>\n",
       "      <td>Whereas facial emotion recognition protocols h...</td>\n",
       "    </tr>\n",
       "    <tr>\n",
       "      <th>26370</th>\n",
       "      <td>2021654198</td>\n",
       "      <td>0</td>\n",
       "      <td>2013</td>\n",
       "      <td>117312820</td>\n",
       "      <td>[1455697005, 3017137108, 2037379488, 203737948...</td>\n",
       "      <td>['AGEING RESEARCH REVIEWS']</td>\n",
       "      <td>['Geriatrics &amp; Gerontology', 'Cell Biology']</td>\n",
       "      <td>1</td>\n",
       "      <td>['pattern recognition']</td>\n",
       "      <td>['classification']</td>\n",
       "      <td>Pathogenesis of acute stroke and the role of i...</td>\n",
       "      <td>Inflammation is an innate immune response to i...</td>\n",
       "    </tr>\n",
       "    <tr>\n",
       "      <th>26371</th>\n",
       "      <td>2311061258</td>\n",
       "      <td>0</td>\n",
       "      <td>2016</td>\n",
       "      <td>103225281</td>\n",
       "      <td>[1977871830, 2806397737, 2895902604, 229045898...</td>\n",
       "      <td>['NEUROIMAGE']</td>\n",
       "      <td>['Neuroimaging', 'Radiology, Nuclear Medicine ...</td>\n",
       "      <td>1</td>\n",
       "      <td>['f-score']</td>\n",
       "      <td>['NLP']</td>\n",
       "      <td>Characterising brain network topologies: A dyn...</td>\n",
       "      <td>Network theory provides a principled abstracti...</td>\n",
       "    </tr>\n",
       "    <tr>\n",
       "      <th>26372</th>\n",
       "      <td>2235563853</td>\n",
       "      <td>0</td>\n",
       "      <td>1998</td>\n",
       "      <td>142952003</td>\n",
       "      <td>[2126595957, 2769246520]</td>\n",
       "      <td>['JOURNAL OF NEUROPHYSIOLOGY']</td>\n",
       "      <td>['Physiology', 'Neurosciences']</td>\n",
       "      <td>1</td>\n",
       "      <td>['mycin']</td>\n",
       "      <td>['AI general']</td>\n",
       "      <td>Recovery of Semicircular Canal Primary Afferen...</td>\n",
       "      <td>Li, Weidong and Manning J. Correia. Recovery o...</td>\n",
       "    </tr>\n",
       "    <tr>\n",
       "      <th>26373</th>\n",
       "      <td>2160066537</td>\n",
       "      <td>0</td>\n",
       "      <td>2008</td>\n",
       "      <td>144105592</td>\n",
       "      <td>[712055444, 2102785432, 2151511209, 2443746284...</td>\n",
       "      <td>['SCHIZOPHRENIA RESEARCH']</td>\n",
       "      <td>['Psychiatry']</td>\n",
       "      <td>1</td>\n",
       "      <td>['cluster analysis']</td>\n",
       "      <td>['cluster analysis']</td>\n",
       "      <td>Long-term patterns of subjective wellbeing in ...</td>\n",
       "      <td>To study the longitudinal patterns of subjecti...</td>\n",
       "    </tr>\n",
       "  </tbody>\n",
       "</table>\n",
       "<p>26374 rows × 12 columns</p>\n",
       "</div>"
      ],
      "text/plain": [
       "               id  queryLevel  publicationYear  idJournal  \\\n",
       "0      2617245985           0             2017   45693802   \n",
       "1      2021655074           0             2006  140962798   \n",
       "2      1790968754           0             2015  207023548   \n",
       "3      2067792927           0             2004    5555990   \n",
       "4      2076181669           0             2009   38337076   \n",
       "...           ...         ...              ...        ...   \n",
       "26369  2315255150           0             2013  121278948   \n",
       "26370  2021654198           0             2013  117312820   \n",
       "26371  2311061258           0             2016  103225281   \n",
       "26372  2235563853           0             1998  142952003   \n",
       "26373  2160066537           0             2008  144105592   \n",
       "\n",
       "                                                 authors  \\\n",
       "0                               [3024761849, 2619442247]   \n",
       "1                               [2145260682, 2835622326]   \n",
       "2       [2798335766, 2995834608, 2891704168, 2651595071]   \n",
       "3                   [1907317825, 2810474215, 2569059621]   \n",
       "4      [27505624, 251582393, 2148513875, 1975445839, ...   \n",
       "...                                                  ...   \n",
       "26369                            [276387308, 2763921609]   \n",
       "26370  [1455697005, 3017137108, 2037379488, 203737948...   \n",
       "26371  [1977871830, 2806397737, 2895902604, 229045898...   \n",
       "26372                           [2126595957, 2769246520]   \n",
       "26373  [712055444, 2102785432, 2151511209, 2443746284...   \n",
       "\n",
       "                        journal_title  \\\n",
       "0                  ['NEUROCOMPUTING']   \n",
       "1       ['NEURAL PROCESSING LETTERS']   \n",
       "2              ['NEURAL COMPUTATION']   \n",
       "3         ['JOURNAL OF NEUROSCIENCE']   \n",
       "4        ['CLINICAL NEUROPHYSIOLOGY']   \n",
       "...                               ...   \n",
       "26369                 ['NEUROREPORT']   \n",
       "26370     ['AGEING RESEARCH REVIEWS']   \n",
       "26371                  ['NEUROIMAGE']   \n",
       "26372  ['JOURNAL OF NEUROPHYSIOLOGY']   \n",
       "26373      ['SCHIZOPHRENIA RESEARCH']   \n",
       "\n",
       "                                             wos_domains  isIA  \\\n",
       "0          ['Computer Science, Artificial Intelligence']     1   \n",
       "1          ['Computer Science, Artificial Intelligence']     1   \n",
       "2      ['Neurosciences', 'Computer Science, Artificia...     1   \n",
       "3                                      ['Neurosciences']     1   \n",
       "4                ['Clinical Neurology', 'Neurosciences']     1   \n",
       "...                                                  ...   ...   \n",
       "26369                                  ['Neurosciences']     1   \n",
       "26370       ['Geriatrics & Gerontology', 'Cell Biology']     1   \n",
       "26371  ['Neuroimaging', 'Radiology, Nuclear Medicine ...     1   \n",
       "26372                    ['Physiology', 'Neurosciences']     1   \n",
       "26373                                     ['Psychiatry']     1   \n",
       "\n",
       "                                        keywordsIA  \\\n",
       "0      ['autoencoder', 'dimensionality reduction']   \n",
       "1               ['perceptrons', 'backpropagation']   \n",
       "2                 ['principal component analysis']   \n",
       "3                                        ['mycin']   \n",
       "4                                      ['f score']   \n",
       "...                                            ...   \n",
       "26369                         ['face recognition']   \n",
       "26370                      ['pattern recognition']   \n",
       "26371                                  ['f-score']   \n",
       "26372                                    ['mycin']   \n",
       "26373                         ['cluster analysis']   \n",
       "\n",
       "                                     classIA  \\\n",
       "0      ['deep learning', 'cluster analysis']   \n",
       "1                        ['neural networks']   \n",
       "2                       ['cluster analysis']   \n",
       "3                             ['AI general']   \n",
       "4                                    ['NLP']   \n",
       "...                                      ...   \n",
       "26369                   ['face recognition']   \n",
       "26370                     ['classification']   \n",
       "26371                                ['NLP']   \n",
       "26372                         ['AI general']   \n",
       "26373                   ['cluster analysis']   \n",
       "\n",
       "                                                   title  \\\n",
       "0      Deep learning algorithms for discriminant auto...   \n",
       "1      CB3: An Adaptive Error Function for Backpropag...   \n",
       "2      Relations Among Some Low-Rank Subspace Recover...   \n",
       "3      Memory-Like Alterations in Aplysia Axons after...   \n",
       "4      Cortical sources of resting-state alpha rhythm...   \n",
       "...                                                  ...   \n",
       "26369  Time course of brain activation elicited by ba...   \n",
       "26370  Pathogenesis of acute stroke and the role of i...   \n",
       "26371  Characterising brain network topologies: A dyn...   \n",
       "26372  Recovery of Semicircular Canal Primary Afferen...   \n",
       "26373  Long-term patterns of subjective wellbeing in ...   \n",
       "\n",
       "                                                abstract  \n",
       "0      In this paper, a new family of Autoencoders (A...  \n",
       "1                                                         \n",
       "2      Recovering intrinsic low-dimensional subspaces...  \n",
       "3      Adaptive, long-term alterations of excitabilit...  \n",
       "4      High power of pre-stimulus cortical alpha rhyt...  \n",
       "...                                                  ...  \n",
       "26369  Whereas facial emotion recognition protocols h...  \n",
       "26370  Inflammation is an innate immune response to i...  \n",
       "26371  Network theory provides a principled abstracti...  \n",
       "26372  Li, Weidong and Manning J. Correia. Recovery o...  \n",
       "26373  To study the longitudinal patterns of subjecti...  \n",
       "\n",
       "[26374 rows x 12 columns]"
      ]
     },
     "execution_count": 130,
     "metadata": {},
     "output_type": "execute_result"
    }
   ],
   "source": [
    "papersAI = pd.merge(papersAI, pd.DataFrame(titles_and_abstracts_AI, columns=['id','title','abstract']), on='id', how='left')\n",
    "papersAI"
   ]
  },
  {
   "cell_type": "code",
   "execution_count": 132,
   "id": "790584b7",
   "metadata": {},
   "outputs": [],
   "source": [
    "papersAI.to_csv(f\"{path_output}papersNeuroAI_minRef10_minImp10_from1970_WITHABSTRACTS.csv\", sep='\\t', index=False)\n",
    "papersAI.loc[:10,:].to_csv(f\"{path_output}papersNeuroAI_minRef10_minImp10_from1970_WITHABSTRACTS_10firstlines.csv\", sep='\\t', index=False)"
   ]
  },
  {
   "cell_type": "markdown",
   "id": "b3b355e0",
   "metadata": {},
   "source": [
    "### $\\mathcal{P}\\cap \\overline{AI}$ dataset"
   ]
  },
  {
   "cell_type": "code",
   "execution_count": null,
   "id": "522a8030",
   "metadata": {},
   "outputs": [],
   "source": [
    "titles_and_abstracts_nonAI = scrap_title_and_abstracts_from_MAGIDs_df(papersNonAI)"
   ]
  },
  {
   "cell_type": "code",
   "execution_count": 130,
   "id": "1404f9aa",
   "metadata": {
    "scrolled": true
   },
   "outputs": [
    {
     "data": {
      "text/html": [
       "<div>\n",
       "<style scoped>\n",
       "    .dataframe tbody tr th:only-of-type {\n",
       "        vertical-align: middle;\n",
       "    }\n",
       "\n",
       "    .dataframe tbody tr th {\n",
       "        vertical-align: top;\n",
       "    }\n",
       "\n",
       "    .dataframe thead th {\n",
       "        text-align: right;\n",
       "    }\n",
       "</style>\n",
       "<table border=\"1\" class=\"dataframe\">\n",
       "  <thead>\n",
       "    <tr style=\"text-align: right;\">\n",
       "      <th></th>\n",
       "      <th>id</th>\n",
       "      <th>queryLevel</th>\n",
       "      <th>publicationYear</th>\n",
       "      <th>idJournal</th>\n",
       "      <th>authors</th>\n",
       "      <th>journal_title</th>\n",
       "      <th>wos_domains</th>\n",
       "      <th>isIA</th>\n",
       "      <th>keywordsIA</th>\n",
       "      <th>classIA</th>\n",
       "      <th>title</th>\n",
       "      <th>abstract</th>\n",
       "    </tr>\n",
       "  </thead>\n",
       "  <tbody>\n",
       "    <tr>\n",
       "      <th>0</th>\n",
       "      <td>2617245985</td>\n",
       "      <td>0</td>\n",
       "      <td>2017</td>\n",
       "      <td>45693802</td>\n",
       "      <td>[3024761849, 2619442247]</td>\n",
       "      <td>['NEUROCOMPUTING']</td>\n",
       "      <td>['Computer Science, Artificial Intelligence']</td>\n",
       "      <td>1</td>\n",
       "      <td>['autoencoder', 'dimensionality reduction']</td>\n",
       "      <td>['deep learning', 'cluster analysis']</td>\n",
       "      <td>Deep learning algorithms for discriminant auto...</td>\n",
       "      <td>In this paper, a new family of Autoencoders (A...</td>\n",
       "    </tr>\n",
       "    <tr>\n",
       "      <th>1</th>\n",
       "      <td>2021655074</td>\n",
       "      <td>0</td>\n",
       "      <td>2006</td>\n",
       "      <td>140962798</td>\n",
       "      <td>[2145260682, 2835622326]</td>\n",
       "      <td>['NEURAL PROCESSING LETTERS']</td>\n",
       "      <td>['Computer Science, Artificial Intelligence']</td>\n",
       "      <td>1</td>\n",
       "      <td>['perceptrons', 'backpropagation']</td>\n",
       "      <td>['neural networks']</td>\n",
       "      <td>CB3: An Adaptive Error Function for Backpropag...</td>\n",
       "      <td></td>\n",
       "    </tr>\n",
       "    <tr>\n",
       "      <th>2</th>\n",
       "      <td>1790968754</td>\n",
       "      <td>0</td>\n",
       "      <td>2015</td>\n",
       "      <td>207023548</td>\n",
       "      <td>[2798335766, 2995834608, 2891704168, 2651595071]</td>\n",
       "      <td>['NEURAL COMPUTATION']</td>\n",
       "      <td>['Neurosciences', 'Computer Science, Artificia...</td>\n",
       "      <td>1</td>\n",
       "      <td>['principal component analysis']</td>\n",
       "      <td>['cluster analysis']</td>\n",
       "      <td>Relations Among Some Low-Rank Subspace Recover...</td>\n",
       "      <td>Recovering intrinsic low-dimensional subspaces...</td>\n",
       "    </tr>\n",
       "    <tr>\n",
       "      <th>3</th>\n",
       "      <td>2067792927</td>\n",
       "      <td>0</td>\n",
       "      <td>2004</td>\n",
       "      <td>5555990</td>\n",
       "      <td>[1907317825, 2810474215, 2569059621]</td>\n",
       "      <td>['JOURNAL OF NEUROSCIENCE']</td>\n",
       "      <td>['Neurosciences']</td>\n",
       "      <td>1</td>\n",
       "      <td>['mycin']</td>\n",
       "      <td>['AI general']</td>\n",
       "      <td>Memory-Like Alterations in Aplysia Axons after...</td>\n",
       "      <td>Adaptive, long-term alterations of excitabilit...</td>\n",
       "    </tr>\n",
       "    <tr>\n",
       "      <th>4</th>\n",
       "      <td>2076181669</td>\n",
       "      <td>0</td>\n",
       "      <td>2009</td>\n",
       "      <td>38337076</td>\n",
       "      <td>[27505624, 251582393, 2148513875, 1975445839, ...</td>\n",
       "      <td>['CLINICAL NEUROPHYSIOLOGY']</td>\n",
       "      <td>['Clinical Neurology', 'Neurosciences']</td>\n",
       "      <td>1</td>\n",
       "      <td>['f score']</td>\n",
       "      <td>['NLP']</td>\n",
       "      <td>Cortical sources of resting-state alpha rhythm...</td>\n",
       "      <td>High power of pre-stimulus cortical alpha rhyt...</td>\n",
       "    </tr>\n",
       "    <tr>\n",
       "      <th>...</th>\n",
       "      <td>...</td>\n",
       "      <td>...</td>\n",
       "      <td>...</td>\n",
       "      <td>...</td>\n",
       "      <td>...</td>\n",
       "      <td>...</td>\n",
       "      <td>...</td>\n",
       "      <td>...</td>\n",
       "      <td>...</td>\n",
       "      <td>...</td>\n",
       "      <td>...</td>\n",
       "      <td>...</td>\n",
       "    </tr>\n",
       "    <tr>\n",
       "      <th>26369</th>\n",
       "      <td>2315255150</td>\n",
       "      <td>0</td>\n",
       "      <td>2013</td>\n",
       "      <td>121278948</td>\n",
       "      <td>[276387308, 2763921609]</td>\n",
       "      <td>['NEUROREPORT']</td>\n",
       "      <td>['Neurosciences']</td>\n",
       "      <td>1</td>\n",
       "      <td>['face recognition']</td>\n",
       "      <td>['face recognition']</td>\n",
       "      <td>Time course of brain activation elicited by ba...</td>\n",
       "      <td>Whereas facial emotion recognition protocols h...</td>\n",
       "    </tr>\n",
       "    <tr>\n",
       "      <th>26370</th>\n",
       "      <td>2021654198</td>\n",
       "      <td>0</td>\n",
       "      <td>2013</td>\n",
       "      <td>117312820</td>\n",
       "      <td>[1455697005, 3017137108, 2037379488, 203737948...</td>\n",
       "      <td>['AGEING RESEARCH REVIEWS']</td>\n",
       "      <td>['Geriatrics &amp; Gerontology', 'Cell Biology']</td>\n",
       "      <td>1</td>\n",
       "      <td>['pattern recognition']</td>\n",
       "      <td>['classification']</td>\n",
       "      <td>Pathogenesis of acute stroke and the role of i...</td>\n",
       "      <td>Inflammation is an innate immune response to i...</td>\n",
       "    </tr>\n",
       "    <tr>\n",
       "      <th>26371</th>\n",
       "      <td>2311061258</td>\n",
       "      <td>0</td>\n",
       "      <td>2016</td>\n",
       "      <td>103225281</td>\n",
       "      <td>[1977871830, 2806397737, 2895902604, 229045898...</td>\n",
       "      <td>['NEUROIMAGE']</td>\n",
       "      <td>['Neuroimaging', 'Radiology, Nuclear Medicine ...</td>\n",
       "      <td>1</td>\n",
       "      <td>['f-score']</td>\n",
       "      <td>['NLP']</td>\n",
       "      <td>Characterising brain network topologies: A dyn...</td>\n",
       "      <td>Network theory provides a principled abstracti...</td>\n",
       "    </tr>\n",
       "    <tr>\n",
       "      <th>26372</th>\n",
       "      <td>2235563853</td>\n",
       "      <td>0</td>\n",
       "      <td>1998</td>\n",
       "      <td>142952003</td>\n",
       "      <td>[2126595957, 2769246520]</td>\n",
       "      <td>['JOURNAL OF NEUROPHYSIOLOGY']</td>\n",
       "      <td>['Physiology', 'Neurosciences']</td>\n",
       "      <td>1</td>\n",
       "      <td>['mycin']</td>\n",
       "      <td>['AI general']</td>\n",
       "      <td>Recovery of Semicircular Canal Primary Afferen...</td>\n",
       "      <td>Li, Weidong and Manning J. Correia. Recovery o...</td>\n",
       "    </tr>\n",
       "    <tr>\n",
       "      <th>26373</th>\n",
       "      <td>2160066537</td>\n",
       "      <td>0</td>\n",
       "      <td>2008</td>\n",
       "      <td>144105592</td>\n",
       "      <td>[712055444, 2102785432, 2151511209, 2443746284...</td>\n",
       "      <td>['SCHIZOPHRENIA RESEARCH']</td>\n",
       "      <td>['Psychiatry']</td>\n",
       "      <td>1</td>\n",
       "      <td>['cluster analysis']</td>\n",
       "      <td>['cluster analysis']</td>\n",
       "      <td>Long-term patterns of subjective wellbeing in ...</td>\n",
       "      <td>To study the longitudinal patterns of subjecti...</td>\n",
       "    </tr>\n",
       "  </tbody>\n",
       "</table>\n",
       "<p>26374 rows × 12 columns</p>\n",
       "</div>"
      ],
      "text/plain": [
       "               id  queryLevel  publicationYear  idJournal  \\\n",
       "0      2617245985           0             2017   45693802   \n",
       "1      2021655074           0             2006  140962798   \n",
       "2      1790968754           0             2015  207023548   \n",
       "3      2067792927           0             2004    5555990   \n",
       "4      2076181669           0             2009   38337076   \n",
       "...           ...         ...              ...        ...   \n",
       "26369  2315255150           0             2013  121278948   \n",
       "26370  2021654198           0             2013  117312820   \n",
       "26371  2311061258           0             2016  103225281   \n",
       "26372  2235563853           0             1998  142952003   \n",
       "26373  2160066537           0             2008  144105592   \n",
       "\n",
       "                                                 authors  \\\n",
       "0                               [3024761849, 2619442247]   \n",
       "1                               [2145260682, 2835622326]   \n",
       "2       [2798335766, 2995834608, 2891704168, 2651595071]   \n",
       "3                   [1907317825, 2810474215, 2569059621]   \n",
       "4      [27505624, 251582393, 2148513875, 1975445839, ...   \n",
       "...                                                  ...   \n",
       "26369                            [276387308, 2763921609]   \n",
       "26370  [1455697005, 3017137108, 2037379488, 203737948...   \n",
       "26371  [1977871830, 2806397737, 2895902604, 229045898...   \n",
       "26372                           [2126595957, 2769246520]   \n",
       "26373  [712055444, 2102785432, 2151511209, 2443746284...   \n",
       "\n",
       "                        journal_title  \\\n",
       "0                  ['NEUROCOMPUTING']   \n",
       "1       ['NEURAL PROCESSING LETTERS']   \n",
       "2              ['NEURAL COMPUTATION']   \n",
       "3         ['JOURNAL OF NEUROSCIENCE']   \n",
       "4        ['CLINICAL NEUROPHYSIOLOGY']   \n",
       "...                               ...   \n",
       "26369                 ['NEUROREPORT']   \n",
       "26370     ['AGEING RESEARCH REVIEWS']   \n",
       "26371                  ['NEUROIMAGE']   \n",
       "26372  ['JOURNAL OF NEUROPHYSIOLOGY']   \n",
       "26373      ['SCHIZOPHRENIA RESEARCH']   \n",
       "\n",
       "                                             wos_domains  isIA  \\\n",
       "0          ['Computer Science, Artificial Intelligence']     1   \n",
       "1          ['Computer Science, Artificial Intelligence']     1   \n",
       "2      ['Neurosciences', 'Computer Science, Artificia...     1   \n",
       "3                                      ['Neurosciences']     1   \n",
       "4                ['Clinical Neurology', 'Neurosciences']     1   \n",
       "...                                                  ...   ...   \n",
       "26369                                  ['Neurosciences']     1   \n",
       "26370       ['Geriatrics & Gerontology', 'Cell Biology']     1   \n",
       "26371  ['Neuroimaging', 'Radiology, Nuclear Medicine ...     1   \n",
       "26372                    ['Physiology', 'Neurosciences']     1   \n",
       "26373                                     ['Psychiatry']     1   \n",
       "\n",
       "                                        keywordsIA  \\\n",
       "0      ['autoencoder', 'dimensionality reduction']   \n",
       "1               ['perceptrons', 'backpropagation']   \n",
       "2                 ['principal component analysis']   \n",
       "3                                        ['mycin']   \n",
       "4                                      ['f score']   \n",
       "...                                            ...   \n",
       "26369                         ['face recognition']   \n",
       "26370                      ['pattern recognition']   \n",
       "26371                                  ['f-score']   \n",
       "26372                                    ['mycin']   \n",
       "26373                         ['cluster analysis']   \n",
       "\n",
       "                                     classIA  \\\n",
       "0      ['deep learning', 'cluster analysis']   \n",
       "1                        ['neural networks']   \n",
       "2                       ['cluster analysis']   \n",
       "3                             ['AI general']   \n",
       "4                                    ['NLP']   \n",
       "...                                      ...   \n",
       "26369                   ['face recognition']   \n",
       "26370                     ['classification']   \n",
       "26371                                ['NLP']   \n",
       "26372                         ['AI general']   \n",
       "26373                   ['cluster analysis']   \n",
       "\n",
       "                                                   title  \\\n",
       "0      Deep learning algorithms for discriminant auto...   \n",
       "1      CB3: An Adaptive Error Function for Backpropag...   \n",
       "2      Relations Among Some Low-Rank Subspace Recover...   \n",
       "3      Memory-Like Alterations in Aplysia Axons after...   \n",
       "4      Cortical sources of resting-state alpha rhythm...   \n",
       "...                                                  ...   \n",
       "26369  Time course of brain activation elicited by ba...   \n",
       "26370  Pathogenesis of acute stroke and the role of i...   \n",
       "26371  Characterising brain network topologies: A dyn...   \n",
       "26372  Recovery of Semicircular Canal Primary Afferen...   \n",
       "26373  Long-term patterns of subjective wellbeing in ...   \n",
       "\n",
       "                                                abstract  \n",
       "0      In this paper, a new family of Autoencoders (A...  \n",
       "1                                                         \n",
       "2      Recovering intrinsic low-dimensional subspaces...  \n",
       "3      Adaptive, long-term alterations of excitabilit...  \n",
       "4      High power of pre-stimulus cortical alpha rhyt...  \n",
       "...                                                  ...  \n",
       "26369  Whereas facial emotion recognition protocols h...  \n",
       "26370  Inflammation is an innate immune response to i...  \n",
       "26371  Network theory provides a principled abstracti...  \n",
       "26372  Li, Weidong and Manning J. Correia. Recovery o...  \n",
       "26373  To study the longitudinal patterns of subjecti...  \n",
       "\n",
       "[26374 rows x 12 columns]"
      ]
     },
     "execution_count": 130,
     "metadata": {},
     "output_type": "execute_result"
    }
   ],
   "source": [
    "papersAI = pd.merge(papersNonAI, pd.DataFrame(titles_and_abstracts_nonAI, columns=['id','title','abstract']), on='id', how='left')\n",
    "papersAI"
   ]
  },
  {
   "cell_type": "code",
   "execution_count": 132,
   "id": "a410dc85",
   "metadata": {},
   "outputs": [],
   "source": [
    "papersNonAI.to_csv(f\"{path_output}papersNeuro_minRef10_minImp10_from1970_WITHABSTRACTS.csv\", sep='\\t', index=False)"
   ]
  },
  {
   "cell_type": "markdown",
   "id": "4c59a687",
   "metadata": {},
   "source": [
    "# Add concepts of MAG"
   ]
  },
  {
   "cell_type": "code",
   "execution_count": 234,
   "id": "ffe740fc",
   "metadata": {},
   "outputs": [
    {
     "name": "stderr",
     "output_type": "stream",
     "text": [
      "141it [03:59,  1.70s/it]\n"
     ]
    }
   ],
   "source": [
    "chunksize = 10000000\n",
    "df = pd.DataFrame()\n",
    "ids = list(papersAI['id'])+list(papersNonAI['id'])\n",
    "for chunk in tqdm(pd.read_csv(f'{path_input}PaperFieldsOfStudy_simplified.txt',\n",
    "                         sep=';', chunksize=chunksize, engine='c', low_memory=True)):\n",
    "    df = pd.concat([df,chunk[chunk['paper'].isin(ids)]])\n",
    "df = df.groupby('paper').agg(list).reset_index().rename(columns={'paper':'id','discipline':'concept'})"
   ]
  },
  {
   "cell_type": "code",
   "execution_count": 241,
   "id": "c623026f",
   "metadata": {},
   "outputs": [
    {
     "data": {
      "text/html": [
       "<div>\n",
       "<style scoped>\n",
       "    .dataframe tbody tr th:only-of-type {\n",
       "        vertical-align: middle;\n",
       "    }\n",
       "\n",
       "    .dataframe tbody tr th {\n",
       "        vertical-align: top;\n",
       "    }\n",
       "\n",
       "    .dataframe thead th {\n",
       "        text-align: right;\n",
       "    }\n",
       "</style>\n",
       "<table border=\"1\" class=\"dataframe\">\n",
       "  <thead>\n",
       "    <tr style=\"text-align: right;\">\n",
       "      <th></th>\n",
       "      <th>id</th>\n",
       "      <th>concept</th>\n",
       "    </tr>\n",
       "  </thead>\n",
       "  <tbody>\n",
       "    <tr>\n",
       "      <th>0</th>\n",
       "      <td>763</td>\n",
       "      <td>[86803240, 105702510, 111337013, 14112920, 676...</td>\n",
       "    </tr>\n",
       "    <tr>\n",
       "      <th>1</th>\n",
       "      <td>32177</td>\n",
       "      <td>[15744967, 118552586, 2780405171, 2779158372, ...</td>\n",
       "    </tr>\n",
       "    <tr>\n",
       "      <th>2</th>\n",
       "      <td>51529</td>\n",
       "      <td>[2776521421, 105702510, 205260736, 2908626383,...</td>\n",
       "    </tr>\n",
       "    <tr>\n",
       "      <th>3</th>\n",
       "      <td>91107</td>\n",
       "      <td>[93877712, 112952253, 2780191927, 126322002, 1...</td>\n",
       "    </tr>\n",
       "    <tr>\n",
       "      <th>4</th>\n",
       "      <td>96735</td>\n",
       "      <td>[541997718, 93877712, 86803240, 105702510, 142...</td>\n",
       "    </tr>\n",
       "    <tr>\n",
       "      <th>...</th>\n",
       "      <td>...</td>\n",
       "      <td>...</td>\n",
       "    </tr>\n",
       "    <tr>\n",
       "      <th>855686</th>\n",
       "      <td>3028283073</td>\n",
       "      <td>[86803240, 55493867, 143191323, 2986115478, 27...</td>\n",
       "    </tr>\n",
       "    <tr>\n",
       "      <th>855687</th>\n",
       "      <td>3028310892</td>\n",
       "      <td>[105702510, 2777085867, 86803240, 6757342, 301...</td>\n",
       "    </tr>\n",
       "    <tr>\n",
       "      <th>855688</th>\n",
       "      <td>3028346786</td>\n",
       "      <td>[86803240, 55493867, 40465926, 95444343, 30177...</td>\n",
       "    </tr>\n",
       "    <tr>\n",
       "      <th>855689</th>\n",
       "      <td>3028484652</td>\n",
       "      <td>[71924100, 1862650, 142724271, 2777893043]</td>\n",
       "    </tr>\n",
       "    <tr>\n",
       "      <th>855690</th>\n",
       "      <td>3028516334</td>\n",
       "      <td>[134018914, 126322002, 55493867, 86803240, 127...</td>\n",
       "    </tr>\n",
       "  </tbody>\n",
       "</table>\n",
       "<p>855691 rows × 2 columns</p>\n",
       "</div>"
      ],
      "text/plain": [
       "                id                                            concept\n",
       "0              763  [86803240, 105702510, 111337013, 14112920, 676...\n",
       "1            32177  [15744967, 118552586, 2780405171, 2779158372, ...\n",
       "2            51529  [2776521421, 105702510, 205260736, 2908626383,...\n",
       "3            91107  [93877712, 112952253, 2780191927, 126322002, 1...\n",
       "4            96735  [541997718, 93877712, 86803240, 105702510, 142...\n",
       "...            ...                                                ...\n",
       "855686  3028283073  [86803240, 55493867, 143191323, 2986115478, 27...\n",
       "855687  3028310892  [105702510, 2777085867, 86803240, 6757342, 301...\n",
       "855688  3028346786  [86803240, 55493867, 40465926, 95444343, 30177...\n",
       "855689  3028484652         [71924100, 1862650, 142724271, 2777893043]\n",
       "855690  3028516334  [134018914, 126322002, 55493867, 86803240, 127...\n",
       "\n",
       "[855691 rows x 2 columns]"
      ]
     },
     "execution_count": 241,
     "metadata": {},
     "output_type": "execute_result"
    }
   ],
   "source": [
    "df"
   ]
  },
  {
   "cell_type": "code",
   "execution_count": 245,
   "id": "af3695bc",
   "metadata": {},
   "outputs": [],
   "source": [
    "papersAI = pd.merge(papersAI,df,on='id',how='inner')\n",
    "papersNonAI = pd.merge(papersNonAI,df,on='id',how='inner')"
   ]
  },
  {
   "cell_type": "code",
   "execution_count": 247,
   "id": "5e7d2d33",
   "metadata": {},
   "outputs": [],
   "source": [
    "papersAI.to_csv(f\"{path_output}papersNeuroAI_minRef10_minImp10_from1970_WITHABSTRACTS.csv\", sep='\\t', index=False)\n",
    "papersNonAI.to_csv(f\"{path_output}papersNeuro_minRef10_minImp10_from1970_WITHABSTRACTS.csv\", sep='\\t', index=False)"
   ]
  },
  {
   "cell_type": "markdown",
   "id": "163180cc",
   "metadata": {},
   "source": [
    "# Build an egocentered collaboration network based on all publications (not only in neurosciences) of the authors\n",
    "- Build a dataset of authors authors of the papers included in the set of neuroscience papers $\\mathcal{P}$ (query level 0), based on all their publications, included those that are not in $\\mathcal{P}$ (query level 2, extracted as well).\n",
    "- Build a collaboration network centered on these authors."
   ]
  },
  {
   "cell_type": "markdown",
   "id": "32a9dabe",
   "metadata": {},
   "source": [
    "## Build the author database\n",
    "Since many files are used for the process, we recall here the basic steps for building such a database:\n",
    "1) Get the authors from the neuroscience egocentered database (QL0), called `all_papers_QL0` in the following\n",
    "\n",
    "2) Get their informations (name and affilitations) from a file imported under the variable `allAuthors_Ql0Ql1`\n",
    "\n",
    "3) In order to compute their AI score overall their publications, add to the database QL0 the paper published by these authors but not inside QL0, saved in the file loaded under the variable `allpapers_Ql2` in the following. Then compute the AI score."
   ]
  },
  {
   "cell_type": "markdown",
   "id": "2fa68471",
   "metadata": {},
   "source": [
    "#### Step 1"
   ]
  },
  {
   "cell_type": "code",
   "execution_count": 5,
   "id": "2292f0bb",
   "metadata": {
    "scrolled": true
   },
   "outputs": [],
   "source": [
    "# only papers in qeryLevel=0, published since 1970 and that have at least 10 references and 10 impacts\n",
    "papersAI = pd.read_csv(f\"{path_output}papersNeuroAI_minRef10_minImp10_from1970.csv\", sep=';')\n",
    "papersNonAI = pd.read_csv(f\"{path_output}papersNeuro_minRef10_minImp10_from1970.csv\", sep=';')"
   ]
  },
  {
   "cell_type": "code",
   "execution_count": 6,
   "id": "53e247a4",
   "metadata": {},
   "outputs": [],
   "source": [
    "allpapers_QL0 = pd.concat([papersAI,papersNonAI]).reset_index(drop=True)\n",
    "allpapers_QL0['authors'] = [list(set(eval(i))) if i!='-1' else -1 for i in allpapers_QL0['authors']] # to avoid the double apparitions\n",
    "allpapers_QL0['journal_title'] = [list(set(eval(i))) if i!='-1' else -1 for i in allpapers_QL0['journal_title']] # idem\n",
    "allpapers_QL0['wos_domains'] = [list(set(eval(i))) if i!='-1' else -1 for i in allpapers_QL0['wos_domains']] # idem\n",
    "allpapers_QL0['wos_domains_agg'] = allpapers_QL0['wos_domains'].apply(lambda x: list(set([i.split(', ')[0] for i in x])) if x!=-1 else -1)\n",
    "allpapers_QL0['keywordsIA'] = [list(set(eval(i))) if i!=-1 else -1 for i in allpapers_QL0['keywordsIA']] # idem\n",
    "allpapers_QL0['classIA'] = [list(set(eval(i))) if i!=-1 else -1 for i in allpapers_QL0['classIA']] # idem"
   ]
  },
  {
   "cell_type": "code",
   "execution_count": 6,
   "id": "693259e7",
   "metadata": {
    "scrolled": true
   },
   "outputs": [
    {
     "data": {
      "text/html": [
       "<div>\n",
       "<style scoped>\n",
       "    .dataframe tbody tr th:only-of-type {\n",
       "        vertical-align: middle;\n",
       "    }\n",
       "\n",
       "    .dataframe tbody tr th {\n",
       "        vertical-align: top;\n",
       "    }\n",
       "\n",
       "    .dataframe thead th {\n",
       "        text-align: right;\n",
       "    }\n",
       "</style>\n",
       "<table border=\"1\" class=\"dataframe\">\n",
       "  <thead>\n",
       "    <tr style=\"text-align: right;\">\n",
       "      <th></th>\n",
       "      <th>id</th>\n",
       "      <th>queryLevel</th>\n",
       "      <th>publicationYear</th>\n",
       "      <th>idJournal</th>\n",
       "      <th>authors</th>\n",
       "      <th>journal_title</th>\n",
       "      <th>wos_domains</th>\n",
       "      <th>isIA</th>\n",
       "      <th>keywordsIA</th>\n",
       "      <th>classIA</th>\n",
       "    </tr>\n",
       "  </thead>\n",
       "  <tbody>\n",
       "    <tr>\n",
       "      <th>0</th>\n",
       "      <td>2617245985</td>\n",
       "      <td>0</td>\n",
       "      <td>2017</td>\n",
       "      <td>45693802</td>\n",
       "      <td>3024761849</td>\n",
       "      <td>[NEUROCOMPUTING]</td>\n",
       "      <td>[Computer Science, Artificial Intelligence]</td>\n",
       "      <td>1</td>\n",
       "      <td>[dimensionality reduction, autoencoder]</td>\n",
       "      <td>[deep learning, cluster analysis]</td>\n",
       "    </tr>\n",
       "    <tr>\n",
       "      <th>1</th>\n",
       "      <td>2617245985</td>\n",
       "      <td>0</td>\n",
       "      <td>2017</td>\n",
       "      <td>45693802</td>\n",
       "      <td>2619442247</td>\n",
       "      <td>[NEUROCOMPUTING]</td>\n",
       "      <td>[Computer Science, Artificial Intelligence]</td>\n",
       "      <td>1</td>\n",
       "      <td>[dimensionality reduction, autoencoder]</td>\n",
       "      <td>[deep learning, cluster analysis]</td>\n",
       "    </tr>\n",
       "    <tr>\n",
       "      <th>2</th>\n",
       "      <td>2021655074</td>\n",
       "      <td>0</td>\n",
       "      <td>2006</td>\n",
       "      <td>140962798</td>\n",
       "      <td>2145260682</td>\n",
       "      <td>[NEURAL PROCESSING LETTERS]</td>\n",
       "      <td>[Computer Science, Artificial Intelligence]</td>\n",
       "      <td>1</td>\n",
       "      <td>[backpropagation, perceptrons]</td>\n",
       "      <td>[neural networks]</td>\n",
       "    </tr>\n",
       "    <tr>\n",
       "      <th>3</th>\n",
       "      <td>2021655074</td>\n",
       "      <td>0</td>\n",
       "      <td>2006</td>\n",
       "      <td>140962798</td>\n",
       "      <td>2835622326</td>\n",
       "      <td>[NEURAL PROCESSING LETTERS]</td>\n",
       "      <td>[Computer Science, Artificial Intelligence]</td>\n",
       "      <td>1</td>\n",
       "      <td>[backpropagation, perceptrons]</td>\n",
       "      <td>[neural networks]</td>\n",
       "    </tr>\n",
       "    <tr>\n",
       "      <th>4</th>\n",
       "      <td>1790968754</td>\n",
       "      <td>0</td>\n",
       "      <td>2015</td>\n",
       "      <td>207023548</td>\n",
       "      <td>2995834608</td>\n",
       "      <td>[NEURAL COMPUTATION]</td>\n",
       "      <td>[Computer Science, Artificial Intelligence, Ne...</td>\n",
       "      <td>1</td>\n",
       "      <td>[principal component analysis]</td>\n",
       "      <td>[cluster analysis]</td>\n",
       "    </tr>\n",
       "    <tr>\n",
       "      <th>...</th>\n",
       "      <td>...</td>\n",
       "      <td>...</td>\n",
       "      <td>...</td>\n",
       "      <td>...</td>\n",
       "      <td>...</td>\n",
       "      <td>...</td>\n",
       "      <td>...</td>\n",
       "      <td>...</td>\n",
       "      <td>...</td>\n",
       "      <td>...</td>\n",
       "    </tr>\n",
       "    <tr>\n",
       "      <th>4026968</th>\n",
       "      <td>2046820344</td>\n",
       "      <td>0</td>\n",
       "      <td>2012</td>\n",
       "      <td>116196263</td>\n",
       "      <td>2579365867</td>\n",
       "      <td>[CORTEX]</td>\n",
       "      <td>[Psychology, Experimental, Behavioral Sciences...</td>\n",
       "      <td>0</td>\n",
       "      <td>-1</td>\n",
       "      <td>-1</td>\n",
       "    </tr>\n",
       "    <tr>\n",
       "      <th>4026969</th>\n",
       "      <td>2046820344</td>\n",
       "      <td>0</td>\n",
       "      <td>2012</td>\n",
       "      <td>116196263</td>\n",
       "      <td>2016899951</td>\n",
       "      <td>[CORTEX]</td>\n",
       "      <td>[Psychology, Experimental, Behavioral Sciences...</td>\n",
       "      <td>0</td>\n",
       "      <td>-1</td>\n",
       "      <td>-1</td>\n",
       "    </tr>\n",
       "    <tr>\n",
       "      <th>4026970</th>\n",
       "      <td>2046820344</td>\n",
       "      <td>0</td>\n",
       "      <td>2012</td>\n",
       "      <td>116196263</td>\n",
       "      <td>157945237</td>\n",
       "      <td>[CORTEX]</td>\n",
       "      <td>[Psychology, Experimental, Behavioral Sciences...</td>\n",
       "      <td>0</td>\n",
       "      <td>-1</td>\n",
       "      <td>-1</td>\n",
       "    </tr>\n",
       "    <tr>\n",
       "      <th>4026971</th>\n",
       "      <td>2046820344</td>\n",
       "      <td>0</td>\n",
       "      <td>2012</td>\n",
       "      <td>116196263</td>\n",
       "      <td>2496737467</td>\n",
       "      <td>[CORTEX]</td>\n",
       "      <td>[Psychology, Experimental, Behavioral Sciences...</td>\n",
       "      <td>0</td>\n",
       "      <td>-1</td>\n",
       "      <td>-1</td>\n",
       "    </tr>\n",
       "    <tr>\n",
       "      <th>4026972</th>\n",
       "      <td>2046820344</td>\n",
       "      <td>0</td>\n",
       "      <td>2012</td>\n",
       "      <td>116196263</td>\n",
       "      <td>2600298751</td>\n",
       "      <td>[CORTEX]</td>\n",
       "      <td>[Psychology, Experimental, Behavioral Sciences...</td>\n",
       "      <td>0</td>\n",
       "      <td>-1</td>\n",
       "      <td>-1</td>\n",
       "    </tr>\n",
       "  </tbody>\n",
       "</table>\n",
       "<p>4026973 rows × 10 columns</p>\n",
       "</div>"
      ],
      "text/plain": [
       "                 id  queryLevel  publicationYear  idJournal     authors  \\\n",
       "0        2617245985           0             2017   45693802  3024761849   \n",
       "1        2617245985           0             2017   45693802  2619442247   \n",
       "2        2021655074           0             2006  140962798  2145260682   \n",
       "3        2021655074           0             2006  140962798  2835622326   \n",
       "4        1790968754           0             2015  207023548  2995834608   \n",
       "...             ...         ...              ...        ...         ...   \n",
       "4026968  2046820344           0             2012  116196263  2579365867   \n",
       "4026969  2046820344           0             2012  116196263  2016899951   \n",
       "4026970  2046820344           0             2012  116196263   157945237   \n",
       "4026971  2046820344           0             2012  116196263  2496737467   \n",
       "4026972  2046820344           0             2012  116196263  2600298751   \n",
       "\n",
       "                       journal_title  \\\n",
       "0                   [NEUROCOMPUTING]   \n",
       "1                   [NEUROCOMPUTING]   \n",
       "2        [NEURAL PROCESSING LETTERS]   \n",
       "3        [NEURAL PROCESSING LETTERS]   \n",
       "4               [NEURAL COMPUTATION]   \n",
       "...                              ...   \n",
       "4026968                     [CORTEX]   \n",
       "4026969                     [CORTEX]   \n",
       "4026970                     [CORTEX]   \n",
       "4026971                     [CORTEX]   \n",
       "4026972                     [CORTEX]   \n",
       "\n",
       "                                               wos_domains  isIA  \\\n",
       "0              [Computer Science, Artificial Intelligence]     1   \n",
       "1              [Computer Science, Artificial Intelligence]     1   \n",
       "2              [Computer Science, Artificial Intelligence]     1   \n",
       "3              [Computer Science, Artificial Intelligence]     1   \n",
       "4        [Computer Science, Artificial Intelligence, Ne...     1   \n",
       "...                                                    ...   ...   \n",
       "4026968  [Psychology, Experimental, Behavioral Sciences...     0   \n",
       "4026969  [Psychology, Experimental, Behavioral Sciences...     0   \n",
       "4026970  [Psychology, Experimental, Behavioral Sciences...     0   \n",
       "4026971  [Psychology, Experimental, Behavioral Sciences...     0   \n",
       "4026972  [Psychology, Experimental, Behavioral Sciences...     0   \n",
       "\n",
       "                                      keywordsIA  \\\n",
       "0        [dimensionality reduction, autoencoder]   \n",
       "1        [dimensionality reduction, autoencoder]   \n",
       "2                 [backpropagation, perceptrons]   \n",
       "3                 [backpropagation, perceptrons]   \n",
       "4                 [principal component analysis]   \n",
       "...                                          ...   \n",
       "4026968                                       -1   \n",
       "4026969                                       -1   \n",
       "4026970                                       -1   \n",
       "4026971                                       -1   \n",
       "4026972                                       -1   \n",
       "\n",
       "                                   classIA  \n",
       "0        [deep learning, cluster analysis]  \n",
       "1        [deep learning, cluster analysis]  \n",
       "2                        [neural networks]  \n",
       "3                        [neural networks]  \n",
       "4                       [cluster analysis]  \n",
       "...                                    ...  \n",
       "4026968                                 -1  \n",
       "4026969                                 -1  \n",
       "4026970                                 -1  \n",
       "4026971                                 -1  \n",
       "4026972                                 -1  \n",
       "\n",
       "[4026973 rows x 10 columns]"
      ]
     },
     "execution_count": 6,
     "metadata": {},
     "output_type": "execute_result"
    }
   ],
   "source": [
    "# expand the big dataframe with respect to the authors\n",
    "allpapers_QL0_expanded = allpapers_QL0.explode('authors').reset_index(drop=True)\n",
    "allpapers_QL0_expanded"
   ]
  },
  {
   "cell_type": "markdown",
   "id": "91cdf1a8",
   "metadata": {},
   "source": [
    "#### Step 2"
   ]
  },
  {
   "cell_type": "code",
   "execution_count": 8,
   "id": "c4df971f",
   "metadata": {},
   "outputs": [
    {
     "data": {
      "text/html": [
       "<div>\n",
       "<style scoped>\n",
       "    .dataframe tbody tr th:only-of-type {\n",
       "        vertical-align: middle;\n",
       "    }\n",
       "\n",
       "    .dataframe tbody tr th {\n",
       "        vertical-align: top;\n",
       "    }\n",
       "\n",
       "    .dataframe thead th {\n",
       "        text-align: right;\n",
       "    }\n",
       "</style>\n",
       "<table border=\"1\" class=\"dataframe\">\n",
       "  <thead>\n",
       "    <tr style=\"text-align: right;\">\n",
       "      <th></th>\n",
       "      <th>authorId</th>\n",
       "      <th>name</th>\n",
       "      <th>affiliation</th>\n",
       "      <th>queryLevel</th>\n",
       "    </tr>\n",
       "  </thead>\n",
       "  <tbody>\n",
       "    <tr>\n",
       "      <th>0</th>\n",
       "      <td>1990375167</td>\n",
       "      <td>A.A.A.A Kusumawardhani</td>\n",
       "      <td>NONE</td>\n",
       "      <td>1</td>\n",
       "    </tr>\n",
       "    <tr>\n",
       "      <th>1</th>\n",
       "      <td>2663910298</td>\n",
       "      <td>A.A.A.A Nasser</td>\n",
       "      <td>NONE</td>\n",
       "      <td>1</td>\n",
       "    </tr>\n",
       "    <tr>\n",
       "      <th>2</th>\n",
       "      <td>2814684889</td>\n",
       "      <td>A A A Aarts</td>\n",
       "      <td>99464096</td>\n",
       "      <td>1</td>\n",
       "    </tr>\n",
       "    <tr>\n",
       "      <th>3</th>\n",
       "      <td>3020917786</td>\n",
       "      <td>A.A.A. Ahmed</td>\n",
       "      <td>NONE</td>\n",
       "      <td>1</td>\n",
       "    </tr>\n",
       "    <tr>\n",
       "      <th>4</th>\n",
       "      <td>2594650676</td>\n",
       "      <td>A. A. A. Aioub</td>\n",
       "      <td>7597260</td>\n",
       "      <td>1</td>\n",
       "    </tr>\n",
       "    <tr>\n",
       "      <th>...</th>\n",
       "      <td>...</td>\n",
       "      <td>...</td>\n",
       "      <td>...</td>\n",
       "      <td>...</td>\n",
       "    </tr>\n",
       "    <tr>\n",
       "      <th>15325785</th>\n",
       "      <td>2257106621</td>\n",
       "      <td>李哲雨</td>\n",
       "      <td>NONE</td>\n",
       "      <td>1</td>\n",
       "    </tr>\n",
       "    <tr>\n",
       "      <th>15325786</th>\n",
       "      <td>2516757462</td>\n",
       "      <td>李桂楨</td>\n",
       "      <td>NONE</td>\n",
       "      <td>1</td>\n",
       "    </tr>\n",
       "    <tr>\n",
       "      <th>15325787</th>\n",
       "      <td>2663157117</td>\n",
       "      <td>李永麟</td>\n",
       "      <td>NONE</td>\n",
       "      <td>1</td>\n",
       "    </tr>\n",
       "    <tr>\n",
       "      <th>15325788</th>\n",
       "      <td>2668056676</td>\n",
       "      <td>李相哲</td>\n",
       "      <td>NONE</td>\n",
       "      <td>1</td>\n",
       "    </tr>\n",
       "    <tr>\n",
       "      <th>15325789</th>\n",
       "      <td>2970833545</td>\n",
       "      <td>塚越 慎</td>\n",
       "      <td>NONE</td>\n",
       "      <td>1</td>\n",
       "    </tr>\n",
       "  </tbody>\n",
       "</table>\n",
       "<p>15325790 rows × 4 columns</p>\n",
       "</div>"
      ],
      "text/plain": [
       "            authorId                    name affiliation  queryLevel\n",
       "0         1990375167  A.A.A.A Kusumawardhani        NONE           1\n",
       "1         2663910298          A.A.A.A Nasser        NONE           1\n",
       "2         2814684889             A A A Aarts    99464096           1\n",
       "3         3020917786            A.A.A. Ahmed        NONE           1\n",
       "4         2594650676          A. A. A. Aioub     7597260           1\n",
       "...              ...                     ...         ...         ...\n",
       "15325785  2257106621                     李哲雨        NONE           1\n",
       "15325786  2516757462                     李桂楨        NONE           1\n",
       "15325787  2663157117                     李永麟        NONE           1\n",
       "15325788  2668056676                     李相哲        NONE           1\n",
       "15325789  2970833545                    塚越 慎        NONE           1\n",
       "\n",
       "[15325790 rows x 4 columns]"
      ]
     },
     "execution_count": 8,
     "metadata": {},
     "output_type": "execute_result"
    }
   ],
   "source": [
    "# read the whole authors' dataframe including the authors of our publications (QL0)\n",
    "# as well as those in references and impact (QL1)\n",
    "allAuthors_Ql0Ql1 = pd.read_csv(f'{path_input}authorId_name_affiliation_QL0+QL1.csv', sep=',')\n",
    "allAuthors_Ql0Ql1"
   ]
  },
  {
   "cell_type": "code",
   "execution_count": 13,
   "id": "61728b2f",
   "metadata": {},
   "outputs": [
    {
     "data": {
      "text/html": [
       "<div>\n",
       "<style scoped>\n",
       "    .dataframe tbody tr th:only-of-type {\n",
       "        vertical-align: middle;\n",
       "    }\n",
       "\n",
       "    .dataframe tbody tr th {\n",
       "        vertical-align: top;\n",
       "    }\n",
       "\n",
       "    .dataframe thead th {\n",
       "        text-align: right;\n",
       "    }\n",
       "</style>\n",
       "<table border=\"1\" class=\"dataframe\">\n",
       "  <thead>\n",
       "    <tr style=\"text-align: right;\">\n",
       "      <th></th>\n",
       "      <th>authorId</th>\n",
       "      <th>name</th>\n",
       "      <th>affiliation</th>\n",
       "      <th>queryLevel</th>\n",
       "    </tr>\n",
       "  </thead>\n",
       "  <tbody>\n",
       "    <tr>\n",
       "      <th>41</th>\n",
       "      <td>1550607070</td>\n",
       "      <td>A. A. A. M. Danen-van Oorschot</td>\n",
       "      <td>121797337</td>\n",
       "      <td>0</td>\n",
       "    </tr>\n",
       "    <tr>\n",
       "      <th>44</th>\n",
       "      <td>2505675405</td>\n",
       "      <td>A. A. A. Manik J. Djelantik</td>\n",
       "      <td>193662353</td>\n",
       "      <td>0</td>\n",
       "    </tr>\n",
       "    <tr>\n",
       "      <th>53</th>\n",
       "      <td>2806045187</td>\n",
       "      <td>A.A.A. Pradhan</td>\n",
       "      <td>5023651</td>\n",
       "      <td>0</td>\n",
       "    </tr>\n",
       "    <tr>\n",
       "      <th>72</th>\n",
       "      <td>2974182613</td>\n",
       "      <td>A. A. Aarnisalo</td>\n",
       "      <td>NONE</td>\n",
       "      <td>0</td>\n",
       "    </tr>\n",
       "    <tr>\n",
       "      <th>134</th>\n",
       "      <td>2991992674</td>\n",
       "      <td>A A Abdel-Latif</td>\n",
       "      <td>25041050</td>\n",
       "      <td>0</td>\n",
       "    </tr>\n",
       "    <tr>\n",
       "      <th>...</th>\n",
       "      <td>...</td>\n",
       "      <td>...</td>\n",
       "      <td>...</td>\n",
       "      <td>...</td>\n",
       "    </tr>\n",
       "    <tr>\n",
       "      <th>15262197</th>\n",
       "      <td>2263707641</td>\n",
       "      <td>Е. Viteva</td>\n",
       "      <td>NONE</td>\n",
       "      <td>0</td>\n",
       "    </tr>\n",
       "    <tr>\n",
       "      <th>15262570</th>\n",
       "      <td>3022633000</td>\n",
       "      <td>Е Е Garanina</td>\n",
       "      <td>21203515</td>\n",
       "      <td>0</td>\n",
       "    </tr>\n",
       "    <tr>\n",
       "      <th>15265271</th>\n",
       "      <td>2688406403</td>\n",
       "      <td>Мikhail Pashenkov</td>\n",
       "      <td>NONE</td>\n",
       "      <td>0</td>\n",
       "    </tr>\n",
       "    <tr>\n",
       "      <th>15269510</th>\n",
       "      <td>2495571327</td>\n",
       "      <td>І. L. Popovych</td>\n",
       "      <td>149851306</td>\n",
       "      <td>0</td>\n",
       "    </tr>\n",
       "    <tr>\n",
       "      <th>15303384</th>\n",
       "      <td>2732206803</td>\n",
       "      <td>聡 宇多</td>\n",
       "      <td>42766147</td>\n",
       "      <td>0</td>\n",
       "    </tr>\n",
       "  </tbody>\n",
       "</table>\n",
       "<p>1290141 rows × 4 columns</p>\n",
       "</div>"
      ],
      "text/plain": [
       "            authorId                            name affiliation  queryLevel\n",
       "41        1550607070  A. A. A. M. Danen-van Oorschot   121797337           0\n",
       "44        2505675405     A. A. A. Manik J. Djelantik   193662353           0\n",
       "53        2806045187                  A.A.A. Pradhan     5023651           0\n",
       "72        2974182613                 A. A. Aarnisalo        NONE           0\n",
       "134       2991992674                 A A Abdel-Latif    25041050           0\n",
       "...              ...                             ...         ...         ...\n",
       "15262197  2263707641                       Е. Viteva        NONE           0\n",
       "15262570  3022633000                    Е Е Garanina    21203515           0\n",
       "15265271  2688406403               Мikhail Pashenkov        NONE           0\n",
       "15269510  2495571327                  І. L. Popovych   149851306           0\n",
       "15303384  2732206803                            聡 宇多    42766147           0\n",
       "\n",
       "[1290141 rows x 4 columns]"
      ]
     },
     "execution_count": 13,
     "metadata": {},
     "output_type": "execute_result"
    }
   ],
   "source": [
    "# filter the big file for all authors in QL0 (data for neuroscience)\n",
    "authorsInPapers = allAuthors_Ql0Ql1[allAuthors_Ql0Ql1['authorId'].isin(set(allpapers_QL0_expanded['authors'])-{-1})]\n",
    "authorsInPapers"
   ]
  },
  {
   "cell_type": "markdown",
   "id": "f4d9ca13",
   "metadata": {},
   "source": [
    "#### Step 3"
   ]
  },
  {
   "cell_type": "code",
   "execution_count": 14,
   "id": "630a05c4",
   "metadata": {},
   "outputs": [
    {
     "data": {
      "text/html": [
       "<div>\n",
       "<style scoped>\n",
       "    .dataframe tbody tr th:only-of-type {\n",
       "        vertical-align: middle;\n",
       "    }\n",
       "\n",
       "    .dataframe tbody tr th {\n",
       "        vertical-align: top;\n",
       "    }\n",
       "\n",
       "    .dataframe thead th {\n",
       "        text-align: right;\n",
       "    }\n",
       "</style>\n",
       "<table border=\"1\" class=\"dataframe\">\n",
       "  <thead>\n",
       "    <tr style=\"text-align: right;\">\n",
       "      <th></th>\n",
       "      <th>authorId</th>\n",
       "      <th>paperId</th>\n",
       "    </tr>\n",
       "  </thead>\n",
       "  <tbody>\n",
       "    <tr>\n",
       "      <th>0</th>\n",
       "      <td>2951562659</td>\n",
       "      <td>285</td>\n",
       "    </tr>\n",
       "    <tr>\n",
       "      <th>1</th>\n",
       "      <td>2535012878</td>\n",
       "      <td>348</td>\n",
       "    </tr>\n",
       "    <tr>\n",
       "      <th>2</th>\n",
       "      <td>2482451074</td>\n",
       "      <td>348</td>\n",
       "    </tr>\n",
       "    <tr>\n",
       "      <th>3</th>\n",
       "      <td>2060325654</td>\n",
       "      <td>527</td>\n",
       "    </tr>\n",
       "    <tr>\n",
       "      <th>4</th>\n",
       "      <td>2746639708</td>\n",
       "      <td>662</td>\n",
       "    </tr>\n",
       "    <tr>\n",
       "      <th>...</th>\n",
       "      <td>...</td>\n",
       "      <td>...</td>\n",
       "    </tr>\n",
       "    <tr>\n",
       "      <th>53855474</th>\n",
       "      <td>2785152602</td>\n",
       "      <td>3035763607</td>\n",
       "    </tr>\n",
       "    <tr>\n",
       "      <th>53855475</th>\n",
       "      <td>2852722787</td>\n",
       "      <td>3035763695</td>\n",
       "    </tr>\n",
       "    <tr>\n",
       "      <th>53855476</th>\n",
       "      <td>2650729909</td>\n",
       "      <td>3035763695</td>\n",
       "    </tr>\n",
       "    <tr>\n",
       "      <th>53855477</th>\n",
       "      <td>2159918643</td>\n",
       "      <td>3035763702</td>\n",
       "    </tr>\n",
       "    <tr>\n",
       "      <th>53855478</th>\n",
       "      <td>2250875688</td>\n",
       "      <td>3035763711</td>\n",
       "    </tr>\n",
       "  </tbody>\n",
       "</table>\n",
       "<p>52243904 rows × 2 columns</p>\n",
       "</div>"
      ],
      "text/plain": [
       "            authorId     paperId\n",
       "0         2951562659         285\n",
       "1         2535012878         348\n",
       "2         2482451074         348\n",
       "3         2060325654         527\n",
       "4         2746639708         662\n",
       "...              ...         ...\n",
       "53855474  2785152602  3035763607\n",
       "53855475  2852722787  3035763695\n",
       "53855476  2650729909  3035763695\n",
       "53855477  2159918643  3035763702\n",
       "53855478  2250875688  3035763711\n",
       "\n",
       "[52243904 rows x 2 columns]"
      ]
     },
     "execution_count": 14,
     "metadata": {},
     "output_type": "execute_result"
    }
   ],
   "source": [
    "# open the link file of all authors with all their associated papers (QL0+QL2)\n",
    "# drop duplicates: only unique link author-paper\n",
    "allAuthors_Ql0_papers = pd.read_csv(f'{path_input}author_paper_QL0+QL2.csv', sep=',')\n",
    "allAuthors_Ql0_papers.drop_duplicates(inplace=True)\n",
    "#allAuthors_Ql0_papers = allAuthors_Ql0_papers.groupby('authorId').aggregate(list)\n",
    "allAuthors_Ql0_papers"
   ]
  },
  {
   "cell_type": "code",
   "execution_count": 15,
   "id": "68d88d41",
   "metadata": {},
   "outputs": [
    {
     "data": {
      "text/html": [
       "<div>\n",
       "<style scoped>\n",
       "    .dataframe tbody tr th:only-of-type {\n",
       "        vertical-align: middle;\n",
       "    }\n",
       "\n",
       "    .dataframe tbody tr th {\n",
       "        vertical-align: top;\n",
       "    }\n",
       "\n",
       "    .dataframe thead th {\n",
       "        text-align: right;\n",
       "    }\n",
       "</style>\n",
       "<table border=\"1\" class=\"dataframe\">\n",
       "  <thead>\n",
       "    <tr style=\"text-align: right;\">\n",
       "      <th></th>\n",
       "      <th>authorId</th>\n",
       "      <th>name</th>\n",
       "      <th>affiliation</th>\n",
       "      <th>queryLevel</th>\n",
       "      <th>nb_publi_all</th>\n",
       "    </tr>\n",
       "  </thead>\n",
       "  <tbody>\n",
       "    <tr>\n",
       "      <th>0</th>\n",
       "      <td>1550607070</td>\n",
       "      <td>A. A. A. M. Danen-van Oorschot</td>\n",
       "      <td>121797337</td>\n",
       "      <td>0</td>\n",
       "      <td>6</td>\n",
       "    </tr>\n",
       "    <tr>\n",
       "      <th>1</th>\n",
       "      <td>2505675405</td>\n",
       "      <td>A. A. A. Manik J. Djelantik</td>\n",
       "      <td>193662353</td>\n",
       "      <td>0</td>\n",
       "      <td>11</td>\n",
       "    </tr>\n",
       "    <tr>\n",
       "      <th>2</th>\n",
       "      <td>2806045187</td>\n",
       "      <td>A.A.A. Pradhan</td>\n",
       "      <td>5023651</td>\n",
       "      <td>0</td>\n",
       "      <td>1</td>\n",
       "    </tr>\n",
       "    <tr>\n",
       "      <th>3</th>\n",
       "      <td>2974182613</td>\n",
       "      <td>A. A. Aarnisalo</td>\n",
       "      <td>NONE</td>\n",
       "      <td>0</td>\n",
       "      <td>2</td>\n",
       "    </tr>\n",
       "    <tr>\n",
       "      <th>4</th>\n",
       "      <td>2991992674</td>\n",
       "      <td>A A Abdel-Latif</td>\n",
       "      <td>25041050</td>\n",
       "      <td>0</td>\n",
       "      <td>8</td>\n",
       "    </tr>\n",
       "    <tr>\n",
       "      <th>...</th>\n",
       "      <td>...</td>\n",
       "      <td>...</td>\n",
       "      <td>...</td>\n",
       "      <td>...</td>\n",
       "      <td>...</td>\n",
       "    </tr>\n",
       "    <tr>\n",
       "      <th>1290136</th>\n",
       "      <td>2263707641</td>\n",
       "      <td>Е. Viteva</td>\n",
       "      <td>NONE</td>\n",
       "      <td>0</td>\n",
       "      <td>1</td>\n",
       "    </tr>\n",
       "    <tr>\n",
       "      <th>1290137</th>\n",
       "      <td>3022633000</td>\n",
       "      <td>Е Е Garanina</td>\n",
       "      <td>21203515</td>\n",
       "      <td>0</td>\n",
       "      <td>1</td>\n",
       "    </tr>\n",
       "    <tr>\n",
       "      <th>1290138</th>\n",
       "      <td>2688406403</td>\n",
       "      <td>Мikhail Pashenkov</td>\n",
       "      <td>NONE</td>\n",
       "      <td>0</td>\n",
       "      <td>1</td>\n",
       "    </tr>\n",
       "    <tr>\n",
       "      <th>1290139</th>\n",
       "      <td>2495571327</td>\n",
       "      <td>І. L. Popovych</td>\n",
       "      <td>149851306</td>\n",
       "      <td>0</td>\n",
       "      <td>1</td>\n",
       "    </tr>\n",
       "    <tr>\n",
       "      <th>1290140</th>\n",
       "      <td>2732206803</td>\n",
       "      <td>聡 宇多</td>\n",
       "      <td>42766147</td>\n",
       "      <td>0</td>\n",
       "      <td>1</td>\n",
       "    </tr>\n",
       "  </tbody>\n",
       "</table>\n",
       "<p>1290141 rows × 5 columns</p>\n",
       "</div>"
      ],
      "text/plain": [
       "           authorId                            name affiliation  queryLevel  \\\n",
       "0        1550607070  A. A. A. M. Danen-van Oorschot   121797337           0   \n",
       "1        2505675405     A. A. A. Manik J. Djelantik   193662353           0   \n",
       "2        2806045187                  A.A.A. Pradhan     5023651           0   \n",
       "3        2974182613                 A. A. Aarnisalo        NONE           0   \n",
       "4        2991992674                 A A Abdel-Latif    25041050           0   \n",
       "...             ...                             ...         ...         ...   \n",
       "1290136  2263707641                       Е. Viteva        NONE           0   \n",
       "1290137  3022633000                    Е Е Garanina    21203515           0   \n",
       "1290138  2688406403               Мikhail Pashenkov        NONE           0   \n",
       "1290139  2495571327                  І. L. Popovych   149851306           0   \n",
       "1290140  2732206803                            聡 宇多    42766147           0   \n",
       "\n",
       "         nb_publi_all  \n",
       "0                   6  \n",
       "1                  11  \n",
       "2                   1  \n",
       "3                   2  \n",
       "4                   8  \n",
       "...               ...  \n",
       "1290136             1  \n",
       "1290137             1  \n",
       "1290138             1  \n",
       "1290139             1  \n",
       "1290140             1  \n",
       "\n",
       "[1290141 rows x 5 columns]"
      ]
     },
     "execution_count": 15,
     "metadata": {},
     "output_type": "execute_result"
    }
   ],
   "source": [
    "# add the total number of publications of the authors above (even those that do not have abstract)\n",
    "authorsInPapers = authorsInPapers.merge(pd.DataFrame.from_records(list(Counter(allAuthors_Ql0_papers['authorId']).items()), columns=['authorId', 'nb_publi_all']),\n",
    "                                   on='authorId',\n",
    "                                   how='outer').fillna(0)\n",
    "authorsInPapers"
   ]
  },
  {
   "cell_type": "code",
   "execution_count": 30,
   "id": "4d24a91f",
   "metadata": {
    "scrolled": true
   },
   "outputs": [
    {
     "data": {
      "text/html": [
       "<div>\n",
       "<style scoped>\n",
       "    .dataframe tbody tr th:only-of-type {\n",
       "        vertical-align: middle;\n",
       "    }\n",
       "\n",
       "    .dataframe tbody tr th {\n",
       "        vertical-align: top;\n",
       "    }\n",
       "\n",
       "    .dataframe thead th {\n",
       "        text-align: right;\n",
       "    }\n",
       "</style>\n",
       "<table border=\"1\" class=\"dataframe\">\n",
       "  <thead>\n",
       "    <tr style=\"text-align: right;\">\n",
       "      <th></th>\n",
       "      <th>id</th>\n",
       "      <th>publicationYear</th>\n",
       "      <th>title</th>\n",
       "      <th>idJournal</th>\n",
       "      <th>queryLevel</th>\n",
       "      <th>journal_title</th>\n",
       "      <th>wos_domains</th>\n",
       "      <th>isIA</th>\n",
       "      <th>keywordsIA</th>\n",
       "      <th>classIA</th>\n",
       "      <th>wos_domains_agg</th>\n",
       "    </tr>\n",
       "  </thead>\n",
       "  <tbody>\n",
       "    <tr>\n",
       "      <th>0</th>\n",
       "      <td>1984623903</td>\n",
       "      <td>1981</td>\n",
       "      <td>\"F&amp;#x00FC;nf neue Arten der Gattung Halacarus ...</td>\n",
       "      <td>4078192</td>\n",
       "      <td>2</td>\n",
       "      <td>ZOOLOGICA SCRIPTA</td>\n",
       "      <td>[Evolutionary Biology, Zoology]</td>\n",
       "      <td>0</td>\n",
       "      <td>-1</td>\n",
       "      <td>-1</td>\n",
       "      <td>[Evolutionary Biology, Zoology]</td>\n",
       "    </tr>\n",
       "    <tr>\n",
       "      <th>1</th>\n",
       "      <td>1984624469</td>\n",
       "      <td>2014</td>\n",
       "      <td>\"Ultracompact three-dimensional tubular conduc...</td>\n",
       "      <td>143846845</td>\n",
       "      <td>2</td>\n",
       "      <td>NANO LETTERS</td>\n",
       "      <td>[Materials Science, Multidisciplinary, Nanosci...</td>\n",
       "      <td>0</td>\n",
       "      <td>-1</td>\n",
       "      <td>-1</td>\n",
       "      <td>[Physics, Materials Science, Nanoscience &amp; Nan...</td>\n",
       "    </tr>\n",
       "    <tr>\n",
       "      <th>2</th>\n",
       "      <td>1984630132</td>\n",
       "      <td>2000</td>\n",
       "      <td>\"Enhanced dechlorination of Aroclor 1242 in an...</td>\n",
       "      <td>52566953</td>\n",
       "      <td>2</td>\n",
       "      <td>WATER RESEARCH</td>\n",
       "      <td>[Engineering, Environmental, Water Resources, ...</td>\n",
       "      <td>0</td>\n",
       "      <td>-1</td>\n",
       "      <td>-1</td>\n",
       "      <td>[Water Resources, Engineering, Environmental S...</td>\n",
       "    </tr>\n",
       "    <tr>\n",
       "      <th>3</th>\n",
       "      <td>1984632460</td>\n",
       "      <td>1996</td>\n",
       "      <td>\"NEST PREDATION AND AVIAN LIFE-HISTORY EVOLUTI...</td>\n",
       "      <td>122176235</td>\n",
       "      <td>2</td>\n",
       "      <td>AMERICAN NATURALIST</td>\n",
       "      <td>[Evolutionary Biology, Ecology]</td>\n",
       "      <td>0</td>\n",
       "      <td>-1</td>\n",
       "      <td>-1</td>\n",
       "      <td>[Evolutionary Biology, Ecology]</td>\n",
       "    </tr>\n",
       "    <tr>\n",
       "      <th>4</th>\n",
       "      <td>1984633284</td>\n",
       "      <td>2017</td>\n",
       "      <td>\"On the Matter of Suffering: Derek Parfit and ...</td>\n",
       "      <td>56047584</td>\n",
       "      <td>2</td>\n",
       "      <td>CRIMINAL LAW AND PHILOSOPHY</td>\n",
       "      <td>[Law]</td>\n",
       "      <td>0</td>\n",
       "      <td>-1</td>\n",
       "      <td>-1</td>\n",
       "      <td>[Law]</td>\n",
       "    </tr>\n",
       "    <tr>\n",
       "      <th>...</th>\n",
       "      <td>...</td>\n",
       "      <td>...</td>\n",
       "      <td>...</td>\n",
       "      <td>...</td>\n",
       "      <td>...</td>\n",
       "      <td>...</td>\n",
       "      <td>...</td>\n",
       "      <td>...</td>\n",
       "      <td>...</td>\n",
       "      <td>...</td>\n",
       "      <td>...</td>\n",
       "    </tr>\n",
       "    <tr>\n",
       "      <th>24330847</th>\n",
       "      <td>2523645934</td>\n",
       "      <td>2013</td>\n",
       "      <td>\"Reproductive outcomes after bariatric surgery\"</td>\n",
       "      <td>-1</td>\n",
       "      <td>2</td>\n",
       "      <td>-1</td>\n",
       "      <td>-1</td>\n",
       "      <td>0</td>\n",
       "      <td>-1</td>\n",
       "      <td>-1</td>\n",
       "      <td>-1</td>\n",
       "    </tr>\n",
       "    <tr>\n",
       "      <th>24330848</th>\n",
       "      <td>2523663736</td>\n",
       "      <td>2014</td>\n",
       "      <td>\"Nano-engineered PLLA based biomaterial drives...</td>\n",
       "      <td>68700368</td>\n",
       "      <td>2</td>\n",
       "      <td>JOURNAL OF TISSUE ENGINEERING AND REGENERATIVE...</td>\n",
       "      <td>[Engineering, Biomedical, Cell &amp; Tissue Engine...</td>\n",
       "      <td>0</td>\n",
       "      <td>-1</td>\n",
       "      <td>-1</td>\n",
       "      <td>[Cell &amp; Tissue Engineering, Engineering, Cell ...</td>\n",
       "    </tr>\n",
       "    <tr>\n",
       "      <th>24330849</th>\n",
       "      <td>2523695446</td>\n",
       "      <td>2016</td>\n",
       "      <td>\"Executive functioning in autism spectrum diso...</td>\n",
       "      <td>-1</td>\n",
       "      <td>2</td>\n",
       "      <td>-1</td>\n",
       "      <td>-1</td>\n",
       "      <td>0</td>\n",
       "      <td>-1</td>\n",
       "      <td>-1</td>\n",
       "      <td>-1</td>\n",
       "    </tr>\n",
       "    <tr>\n",
       "      <th>24330850</th>\n",
       "      <td>2523696321</td>\n",
       "      <td>2006</td>\n",
       "      <td>\"Surr&amp;#x00E9;nalectorme unilat&amp;#x00E9;rale et ...</td>\n",
       "      <td>198822128</td>\n",
       "      <td>2</td>\n",
       "      <td>-1</td>\n",
       "      <td>-1</td>\n",
       "      <td>0</td>\n",
       "      <td>-1</td>\n",
       "      <td>-1</td>\n",
       "      <td>-1</td>\n",
       "    </tr>\n",
       "    <tr>\n",
       "      <th>24330851</th>\n",
       "      <td>2523716332</td>\n",
       "      <td>2010</td>\n",
       "      <td>\"20. Task-Centered Practice in Japan\"</td>\n",
       "      <td>-1</td>\n",
       "      <td>2</td>\n",
       "      <td>-1</td>\n",
       "      <td>-1</td>\n",
       "      <td>0</td>\n",
       "      <td>-1</td>\n",
       "      <td>-1</td>\n",
       "      <td>-1</td>\n",
       "    </tr>\n",
       "  </tbody>\n",
       "</table>\n",
       "<p>24330852 rows × 11 columns</p>\n",
       "</div>"
      ],
      "text/plain": [
       "                  id  publicationYear  \\\n",
       "0         1984623903             1981   \n",
       "1         1984624469             2014   \n",
       "2         1984630132             2000   \n",
       "3         1984632460             1996   \n",
       "4         1984633284             2017   \n",
       "...              ...              ...   \n",
       "24330847  2523645934             2013   \n",
       "24330848  2523663736             2014   \n",
       "24330849  2523695446             2016   \n",
       "24330850  2523696321             2006   \n",
       "24330851  2523716332             2010   \n",
       "\n",
       "                                                      title  idJournal  \\\n",
       "0         \"F&#x00FC;nf neue Arten der Gattung Halacarus ...    4078192   \n",
       "1         \"Ultracompact three-dimensional tubular conduc...  143846845   \n",
       "2         \"Enhanced dechlorination of Aroclor 1242 in an...   52566953   \n",
       "3         \"NEST PREDATION AND AVIAN LIFE-HISTORY EVOLUTI...  122176235   \n",
       "4         \"On the Matter of Suffering: Derek Parfit and ...   56047584   \n",
       "...                                                     ...        ...   \n",
       "24330847    \"Reproductive outcomes after bariatric surgery\"         -1   \n",
       "24330848  \"Nano-engineered PLLA based biomaterial drives...   68700368   \n",
       "24330849  \"Executive functioning in autism spectrum diso...         -1   \n",
       "24330850  \"Surr&#x00E9;nalectorme unilat&#x00E9;rale et ...  198822128   \n",
       "24330851              \"20. Task-Centered Practice in Japan\"         -1   \n",
       "\n",
       "          queryLevel                                      journal_title  \\\n",
       "0                  2                                  ZOOLOGICA SCRIPTA   \n",
       "1                  2                                       NANO LETTERS   \n",
       "2                  2                                     WATER RESEARCH   \n",
       "3                  2                                AMERICAN NATURALIST   \n",
       "4                  2                        CRIMINAL LAW AND PHILOSOPHY   \n",
       "...              ...                                                ...   \n",
       "24330847           2                                                 -1   \n",
       "24330848           2  JOURNAL OF TISSUE ENGINEERING AND REGENERATIVE...   \n",
       "24330849           2                                                 -1   \n",
       "24330850           2                                                 -1   \n",
       "24330851           2                                                 -1   \n",
       "\n",
       "                                                wos_domains  isIA keywordsIA  \\\n",
       "0                           [Evolutionary Biology, Zoology]     0         -1   \n",
       "1         [Materials Science, Multidisciplinary, Nanosci...     0         -1   \n",
       "2         [Engineering, Environmental, Water Resources, ...     0         -1   \n",
       "3                           [Evolutionary Biology, Ecology]     0         -1   \n",
       "4                                                     [Law]     0         -1   \n",
       "...                                                     ...   ...        ...   \n",
       "24330847                                                 -1     0         -1   \n",
       "24330848  [Engineering, Biomedical, Cell & Tissue Engine...     0         -1   \n",
       "24330849                                                 -1     0         -1   \n",
       "24330850                                                 -1     0         -1   \n",
       "24330851                                                 -1     0         -1   \n",
       "\n",
       "         classIA                                    wos_domains_agg  \n",
       "0             -1                    [Evolutionary Biology, Zoology]  \n",
       "1             -1  [Physics, Materials Science, Nanoscience & Nan...  \n",
       "2             -1  [Water Resources, Engineering, Environmental S...  \n",
       "3             -1                    [Evolutionary Biology, Ecology]  \n",
       "4             -1                                              [Law]  \n",
       "...          ...                                                ...  \n",
       "24330847      -1                                                 -1  \n",
       "24330848      -1  [Cell & Tissue Engineering, Engineering, Cell ...  \n",
       "24330849      -1                                                 -1  \n",
       "24330850      -1                                                 -1  \n",
       "24330851      -1                                                 -1  \n",
       "\n",
       "[24330852 rows x 11 columns]"
      ]
     },
     "execution_count": 30,
     "metadata": {},
     "output_type": "execute_result"
    }
   ],
   "source": [
    "# open the main file of publication containing all additionnal publication of the authors\n",
    "allpapers_QL2 = pd.read_csv(f'{path_input}papers_QL2.csv', sep=';').fillna(-1)\n",
    "allpapers_QL2['wos_domains'] = [list(set(eval(i))) if i!=-1 else -1 for i in allpapers_QL2['wos_domains']]\n",
    "allpapers_QL2['wos_domains_agg'] = allpapers_QL2['wos_domains'].apply(lambda x: list(set([i.split(', ')[0] for i in x])) if x!=-1 else -1)\n",
    "allpapers_QL2['journal_title'] =  allpapers_QL2['journal_title'].apply(lambda x: list(set(eval(x)))[0] if x!=-1 else -1)\n",
    "allpapers_QL2['keywordsIA'] = [list(set(eval(i))) if i!=-1 else -1 for i in allpapers_QL2['keywordsIA']]\n",
    "allpapers_QL2['classIA'] = [list(set(eval(i))) if i!=-1 else -1 for i in allpapers_QL2['classIA']]\n",
    "allpapers_QL2['queryLevel'] = 2\n",
    "allpapers_QL2"
   ]
  },
  {
   "cell_type": "code",
   "execution_count": 31,
   "id": "bda74724",
   "metadata": {},
   "outputs": [
    {
     "data": {
      "text/html": [
       "<div>\n",
       "<style scoped>\n",
       "    .dataframe tbody tr th:only-of-type {\n",
       "        vertical-align: middle;\n",
       "    }\n",
       "\n",
       "    .dataframe tbody tr th {\n",
       "        vertical-align: top;\n",
       "    }\n",
       "\n",
       "    .dataframe thead th {\n",
       "        text-align: right;\n",
       "    }\n",
       "</style>\n",
       "<table border=\"1\" class=\"dataframe\">\n",
       "  <thead>\n",
       "    <tr style=\"text-align: right;\">\n",
       "      <th></th>\n",
       "      <th>authorId</th>\n",
       "      <th>id</th>\n",
       "      <th>isIA</th>\n",
       "    </tr>\n",
       "  </thead>\n",
       "  <tbody>\n",
       "    <tr>\n",
       "      <th>0</th>\n",
       "      <td>2951562659</td>\n",
       "      <td>285</td>\n",
       "      <td>0.0</td>\n",
       "    </tr>\n",
       "    <tr>\n",
       "      <th>1</th>\n",
       "      <td>2535012878</td>\n",
       "      <td>348</td>\n",
       "      <td>0.0</td>\n",
       "    </tr>\n",
       "    <tr>\n",
       "      <th>2</th>\n",
       "      <td>2482451074</td>\n",
       "      <td>348</td>\n",
       "      <td>0.0</td>\n",
       "    </tr>\n",
       "    <tr>\n",
       "      <th>3</th>\n",
       "      <td>2060325654</td>\n",
       "      <td>527</td>\n",
       "      <td>0.0</td>\n",
       "    </tr>\n",
       "    <tr>\n",
       "      <th>4</th>\n",
       "      <td>2746639708</td>\n",
       "      <td>662</td>\n",
       "      <td>0.0</td>\n",
       "    </tr>\n",
       "    <tr>\n",
       "      <th>...</th>\n",
       "      <td>...</td>\n",
       "      <td>...</td>\n",
       "      <td>...</td>\n",
       "    </tr>\n",
       "    <tr>\n",
       "      <th>4026968</th>\n",
       "      <td>2579365867</td>\n",
       "      <td>2046820344</td>\n",
       "      <td>0.0</td>\n",
       "    </tr>\n",
       "    <tr>\n",
       "      <th>4026969</th>\n",
       "      <td>2016899951</td>\n",
       "      <td>2046820344</td>\n",
       "      <td>0.0</td>\n",
       "    </tr>\n",
       "    <tr>\n",
       "      <th>4026970</th>\n",
       "      <td>157945237</td>\n",
       "      <td>2046820344</td>\n",
       "      <td>0.0</td>\n",
       "    </tr>\n",
       "    <tr>\n",
       "      <th>4026971</th>\n",
       "      <td>2496737467</td>\n",
       "      <td>2046820344</td>\n",
       "      <td>0.0</td>\n",
       "    </tr>\n",
       "    <tr>\n",
       "      <th>4026972</th>\n",
       "      <td>2600298751</td>\n",
       "      <td>2046820344</td>\n",
       "      <td>0.0</td>\n",
       "    </tr>\n",
       "  </tbody>\n",
       "</table>\n",
       "<p>56270877 rows × 3 columns</p>\n",
       "</div>"
      ],
      "text/plain": [
       "           authorId          id  isIA\n",
       "0        2951562659         285   0.0\n",
       "1        2535012878         348   0.0\n",
       "2        2482451074         348   0.0\n",
       "3        2060325654         527   0.0\n",
       "4        2746639708         662   0.0\n",
       "...             ...         ...   ...\n",
       "4026968  2579365867  2046820344   0.0\n",
       "4026969  2016899951  2046820344   0.0\n",
       "4026970   157945237  2046820344   0.0\n",
       "4026971  2496737467  2046820344   0.0\n",
       "4026972  2600298751  2046820344   0.0\n",
       "\n",
       "[56270877 rows x 3 columns]"
      ]
     },
     "execution_count": 31,
     "metadata": {},
     "output_type": "execute_result"
    }
   ],
   "source": [
    "# add the indicator 'isIA' from the QL2 dataset\n",
    "allAuthors_Ql0_papers.rename(columns={'paperId':'id'}, inplace=True)\n",
    "allAuthors_Ql0_papers = pd.merge(allAuthors_Ql0_papers, allpapers_QL2[['id','isIA']], on='id', how='left')\n",
    "\n",
    "# add the indicator 'isIA' from the QL0 dataset by concatenation\n",
    "allAuthors_Ql0_papers = pd.concat([allAuthors_Ql0_papers, \n",
    "                                   allpapers_QL0_expanded[['authors','id','isIA']].rename(columns={'authors':'authorId'})])\n",
    "allAuthors_Ql0_papers          "
   ]
  },
  {
   "cell_type": "code",
   "execution_count": 41,
   "id": "20f687f5",
   "metadata": {},
   "outputs": [
    {
     "data": {
      "text/html": [
       "<div>\n",
       "<style scoped>\n",
       "    .dataframe tbody tr th:only-of-type {\n",
       "        vertical-align: middle;\n",
       "    }\n",
       "\n",
       "    .dataframe tbody tr th {\n",
       "        vertical-align: top;\n",
       "    }\n",
       "\n",
       "    .dataframe thead th {\n",
       "        text-align: right;\n",
       "    }\n",
       "</style>\n",
       "<table border=\"1\" class=\"dataframe\">\n",
       "  <thead>\n",
       "    <tr style=\"text-align: right;\">\n",
       "      <th></th>\n",
       "      <th>authorId</th>\n",
       "      <th>AIscore_all</th>\n",
       "    </tr>\n",
       "  </thead>\n",
       "  <tbody>\n",
       "    <tr>\n",
       "      <th>0</th>\n",
       "      <td>-1</td>\n",
       "      <td>0.166667</td>\n",
       "    </tr>\n",
       "    <tr>\n",
       "      <th>1</th>\n",
       "      <td>18161</td>\n",
       "      <td>0.026316</td>\n",
       "    </tr>\n",
       "    <tr>\n",
       "      <th>2</th>\n",
       "      <td>20361</td>\n",
       "      <td>0.000000</td>\n",
       "    </tr>\n",
       "    <tr>\n",
       "      <th>3</th>\n",
       "      <td>39506</td>\n",
       "      <td>0.000000</td>\n",
       "    </tr>\n",
       "    <tr>\n",
       "      <th>4</th>\n",
       "      <td>57623</td>\n",
       "      <td>0.000000</td>\n",
       "    </tr>\n",
       "    <tr>\n",
       "      <th>...</th>\n",
       "      <td>...</td>\n",
       "      <td>...</td>\n",
       "    </tr>\n",
       "    <tr>\n",
       "      <th>1290137</th>\n",
       "      <td>3035759232</td>\n",
       "      <td>0.024390</td>\n",
       "    </tr>\n",
       "    <tr>\n",
       "      <th>1290138</th>\n",
       "      <td>3035760453</td>\n",
       "      <td>0.000000</td>\n",
       "    </tr>\n",
       "    <tr>\n",
       "      <th>1290139</th>\n",
       "      <td>3035760604</td>\n",
       "      <td>0.000000</td>\n",
       "    </tr>\n",
       "    <tr>\n",
       "      <th>1290140</th>\n",
       "      <td>3035761758</td>\n",
       "      <td>0.000000</td>\n",
       "    </tr>\n",
       "    <tr>\n",
       "      <th>1290141</th>\n",
       "      <td>3035762904</td>\n",
       "      <td>0.037736</td>\n",
       "    </tr>\n",
       "  </tbody>\n",
       "</table>\n",
       "<p>1290142 rows × 2 columns</p>\n",
       "</div>"
      ],
      "text/plain": [
       "           authorId  AIscore_all\n",
       "0                -1     0.166667\n",
       "1             18161     0.026316\n",
       "2             20361     0.000000\n",
       "3             39506     0.000000\n",
       "4             57623     0.000000\n",
       "...             ...          ...\n",
       "1290137  3035759232     0.024390\n",
       "1290138  3035760453     0.000000\n",
       "1290139  3035760604     0.000000\n",
       "1290140  3035761758     0.000000\n",
       "1290141  3035762904     0.037736\n",
       "\n",
       "[1290142 rows x 2 columns]"
      ]
     },
     "execution_count": 41,
     "metadata": {},
     "output_type": "execute_result"
    }
   ],
   "source": [
    "# compute the total AI score of the authors, based on the publications that are including abstracts \n",
    "# (so skip NaN values due to double publications occurring in the cell above)\n",
    "total_AIscore = allAuthors_Ql0_papers[['authorId','isIA']].groupby('authorId').aggregate(np.nanmean).reset_index(level=0)\n",
    "total_AIscore.rename(columns={'isIA':'AIscore_all'}, inplace=True)\n",
    "total_AIscore\n",
    "\n",
    "'''\n",
    "# same operation as above but droping directly NaN value from the dataframe 'allAuthors_Ql0_papers'\n",
    "# compute the total AI score of the authors, based on the publications that are including abstracts\n",
    "allAuthors_Ql0_papers_bis = allAuthors_Ql0_papers.dropna()\n",
    "total_AIscore_bis = allAuthors_Ql0_papers_bis[['authorId','isIA']].groupby('authorId').aggregate(np.nanmean).reset_index(level=0)\n",
    "total_AIscore_bis.rename(columns={'isIA':'AIscore_all'}, inplace=True)\n",
    "total_AIscore_bis\n",
    "'''"
   ]
  },
  {
   "cell_type": "code",
   "execution_count": 45,
   "id": "13131990",
   "metadata": {},
   "outputs": [
    {
     "data": {
      "text/html": [
       "<div>\n",
       "<style scoped>\n",
       "    .dataframe tbody tr th:only-of-type {\n",
       "        vertical-align: middle;\n",
       "    }\n",
       "\n",
       "    .dataframe tbody tr th {\n",
       "        vertical-align: top;\n",
       "    }\n",
       "\n",
       "    .dataframe thead th {\n",
       "        text-align: right;\n",
       "    }\n",
       "</style>\n",
       "<table border=\"1\" class=\"dataframe\">\n",
       "  <thead>\n",
       "    <tr style=\"text-align: right;\">\n",
       "      <th></th>\n",
       "      <th>authorId</th>\n",
       "      <th>name</th>\n",
       "      <th>affiliation</th>\n",
       "      <th>queryLevel</th>\n",
       "      <th>nb_publi_all</th>\n",
       "      <th>AIscore_all</th>\n",
       "    </tr>\n",
       "  </thead>\n",
       "  <tbody>\n",
       "    <tr>\n",
       "      <th>0</th>\n",
       "      <td>1550607070</td>\n",
       "      <td>A. A. A. M. Danen-van Oorschot</td>\n",
       "      <td>121797337</td>\n",
       "      <td>0</td>\n",
       "      <td>6</td>\n",
       "      <td>0.0</td>\n",
       "    </tr>\n",
       "    <tr>\n",
       "      <th>1</th>\n",
       "      <td>2505675405</td>\n",
       "      <td>A. A. A. Manik J. Djelantik</td>\n",
       "      <td>193662353</td>\n",
       "      <td>0</td>\n",
       "      <td>11</td>\n",
       "      <td>0.0</td>\n",
       "    </tr>\n",
       "    <tr>\n",
       "      <th>2</th>\n",
       "      <td>2806045187</td>\n",
       "      <td>A.A.A. Pradhan</td>\n",
       "      <td>5023651</td>\n",
       "      <td>0</td>\n",
       "      <td>1</td>\n",
       "      <td>0.0</td>\n",
       "    </tr>\n",
       "    <tr>\n",
       "      <th>3</th>\n",
       "      <td>2974182613</td>\n",
       "      <td>A. A. Aarnisalo</td>\n",
       "      <td>NONE</td>\n",
       "      <td>0</td>\n",
       "      <td>2</td>\n",
       "      <td>0.0</td>\n",
       "    </tr>\n",
       "    <tr>\n",
       "      <th>4</th>\n",
       "      <td>2991992674</td>\n",
       "      <td>A A Abdel-Latif</td>\n",
       "      <td>25041050</td>\n",
       "      <td>0</td>\n",
       "      <td>8</td>\n",
       "      <td>0.0</td>\n",
       "    </tr>\n",
       "    <tr>\n",
       "      <th>...</th>\n",
       "      <td>...</td>\n",
       "      <td>...</td>\n",
       "      <td>...</td>\n",
       "      <td>...</td>\n",
       "      <td>...</td>\n",
       "      <td>...</td>\n",
       "    </tr>\n",
       "    <tr>\n",
       "      <th>1290136</th>\n",
       "      <td>2263707641</td>\n",
       "      <td>Е. Viteva</td>\n",
       "      <td>NONE</td>\n",
       "      <td>0</td>\n",
       "      <td>1</td>\n",
       "      <td>0.0</td>\n",
       "    </tr>\n",
       "    <tr>\n",
       "      <th>1290137</th>\n",
       "      <td>3022633000</td>\n",
       "      <td>Е Е Garanina</td>\n",
       "      <td>21203515</td>\n",
       "      <td>0</td>\n",
       "      <td>1</td>\n",
       "      <td>0.0</td>\n",
       "    </tr>\n",
       "    <tr>\n",
       "      <th>1290138</th>\n",
       "      <td>2688406403</td>\n",
       "      <td>Мikhail Pashenkov</td>\n",
       "      <td>NONE</td>\n",
       "      <td>0</td>\n",
       "      <td>1</td>\n",
       "      <td>0.0</td>\n",
       "    </tr>\n",
       "    <tr>\n",
       "      <th>1290139</th>\n",
       "      <td>2495571327</td>\n",
       "      <td>І. L. Popovych</td>\n",
       "      <td>149851306</td>\n",
       "      <td>0</td>\n",
       "      <td>1</td>\n",
       "      <td>0.0</td>\n",
       "    </tr>\n",
       "    <tr>\n",
       "      <th>1290140</th>\n",
       "      <td>2732206803</td>\n",
       "      <td>聡 宇多</td>\n",
       "      <td>42766147</td>\n",
       "      <td>0</td>\n",
       "      <td>1</td>\n",
       "      <td>0.0</td>\n",
       "    </tr>\n",
       "  </tbody>\n",
       "</table>\n",
       "<p>1290141 rows × 6 columns</p>\n",
       "</div>"
      ],
      "text/plain": [
       "           authorId                            name affiliation  queryLevel  \\\n",
       "0        1550607070  A. A. A. M. Danen-van Oorschot   121797337           0   \n",
       "1        2505675405     A. A. A. Manik J. Djelantik   193662353           0   \n",
       "2        2806045187                  A.A.A. Pradhan     5023651           0   \n",
       "3        2974182613                 A. A. Aarnisalo        NONE           0   \n",
       "4        2991992674                 A A Abdel-Latif    25041050           0   \n",
       "...             ...                             ...         ...         ...   \n",
       "1290136  2263707641                       Е. Viteva        NONE           0   \n",
       "1290137  3022633000                    Е Е Garanina    21203515           0   \n",
       "1290138  2688406403               Мikhail Pashenkov        NONE           0   \n",
       "1290139  2495571327                  І. L. Popovych   149851306           0   \n",
       "1290140  2732206803                            聡 宇多    42766147           0   \n",
       "\n",
       "         nb_publi_all  AIscore_all  \n",
       "0                   6          0.0  \n",
       "1                  11          0.0  \n",
       "2                   1          0.0  \n",
       "3                   2          0.0  \n",
       "4                   8          0.0  \n",
       "...               ...          ...  \n",
       "1290136             1          0.0  \n",
       "1290137             1          0.0  \n",
       "1290138             1          0.0  \n",
       "1290139             1          0.0  \n",
       "1290140             1          0.0  \n",
       "\n",
       "[1290141 rows x 6 columns]"
      ]
     },
     "execution_count": 45,
     "metadata": {},
     "output_type": "execute_result"
    }
   ],
   "source": [
    "# add the total AI score of the authors above\n",
    "authorsInPapers = authorsInPapers.merge(total_AIscore,\n",
    "                                   on='authorId',\n",
    "                                   how='inner')\n",
    "authorsInPapers"
   ]
  },
  {
   "cell_type": "code",
   "execution_count": 46,
   "id": "77bcf1f3",
   "metadata": {},
   "outputs": [],
   "source": [
    "authorsInPapers.to_csv(f'{path_output}collabNet_nodes.csv', sep=';', index=False)\n",
    "# save another file for Gephi\n",
    "authorsInPapers.rename(columns={'authorId':'id','name':'label'}).to_csv(f'{path_output}/collabNet_nodes_gephi.csv', sep=';', index=False)"
   ]
  },
  {
   "cell_type": "markdown",
   "id": "36869535",
   "metadata": {},
   "source": [
    "## Build an additional file of authors composed of their temporal and disciplinairy trajectories"
   ]
  },
  {
   "cell_type": "code",
   "execution_count": 20,
   "id": "87efec02",
   "metadata": {},
   "outputs": [],
   "source": [
    "authorsInPapers = pd.read_csv(f'{path_output}collabNet_nodes.csv', sep=';')"
   ]
  },
  {
   "cell_type": "markdown",
   "id": "d3eac218",
   "metadata": {},
   "source": [
    "### Concatenate the big files of papers"
   ]
  },
  {
   "cell_type": "code",
   "execution_count": 26,
   "id": "d3e4f064",
   "metadata": {},
   "outputs": [],
   "source": [
    "papers_years = pd.concat([allpapers_QL0[['id','queryLevel','publicationYear','idJournal','wos_domains_agg']],\n",
    "                          allpapers_QL2[['id','queryLevel','publicationYear','idJournal','wos_domains_agg']]]).rename(columns={'id':'paperId'})"
   ]
  },
  {
   "cell_type": "code",
   "execution_count": 20,
   "id": "1769b74e",
   "metadata": {},
   "outputs": [],
   "source": [
    "del allpapers_QL0, allpapers_QL2\n",
    "gc.collect()"
   ]
  },
  {
   "cell_type": "code",
   "execution_count": 33,
   "id": "e2e2c5c7",
   "metadata": {},
   "outputs": [
    {
     "data": {
      "text/html": [
       "<div>\n",
       "<style scoped>\n",
       "    .dataframe tbody tr th:only-of-type {\n",
       "        vertical-align: middle;\n",
       "    }\n",
       "\n",
       "    .dataframe tbody tr th {\n",
       "        vertical-align: top;\n",
       "    }\n",
       "\n",
       "    .dataframe thead th {\n",
       "        text-align: right;\n",
       "    }\n",
       "</style>\n",
       "<table border=\"1\" class=\"dataframe\">\n",
       "  <thead>\n",
       "    <tr style=\"text-align: right;\">\n",
       "      <th></th>\n",
       "      <th>authorId</th>\n",
       "      <th>paperId</th>\n",
       "    </tr>\n",
       "  </thead>\n",
       "  <tbody>\n",
       "    <tr>\n",
       "      <th>0</th>\n",
       "      <td>2951562659</td>\n",
       "      <td>285</td>\n",
       "    </tr>\n",
       "    <tr>\n",
       "      <th>1</th>\n",
       "      <td>2535012878</td>\n",
       "      <td>348</td>\n",
       "    </tr>\n",
       "    <tr>\n",
       "      <th>2</th>\n",
       "      <td>2482451074</td>\n",
       "      <td>348</td>\n",
       "    </tr>\n",
       "    <tr>\n",
       "      <th>3</th>\n",
       "      <td>2060325654</td>\n",
       "      <td>527</td>\n",
       "    </tr>\n",
       "    <tr>\n",
       "      <th>4</th>\n",
       "      <td>2746639708</td>\n",
       "      <td>662</td>\n",
       "    </tr>\n",
       "    <tr>\n",
       "      <th>...</th>\n",
       "      <td>...</td>\n",
       "      <td>...</td>\n",
       "    </tr>\n",
       "    <tr>\n",
       "      <th>51964242</th>\n",
       "      <td>2768276645</td>\n",
       "      <td>3028594648</td>\n",
       "    </tr>\n",
       "    <tr>\n",
       "      <th>51964243</th>\n",
       "      <td>2328000574</td>\n",
       "      <td>3028594648</td>\n",
       "    </tr>\n",
       "    <tr>\n",
       "      <th>51964244</th>\n",
       "      <td>2653064050</td>\n",
       "      <td>3028594716</td>\n",
       "    </tr>\n",
       "    <tr>\n",
       "      <th>51964245</th>\n",
       "      <td>2831405835</td>\n",
       "      <td>3028594750</td>\n",
       "    </tr>\n",
       "    <tr>\n",
       "      <th>51964246</th>\n",
       "      <td>2133172116</td>\n",
       "      <td>3028594750</td>\n",
       "    </tr>\n",
       "  </tbody>\n",
       "</table>\n",
       "<p>51963404 rows × 2 columns</p>\n",
       "</div>"
      ],
      "text/plain": [
       "            authorId     paperId\n",
       "0         2951562659         285\n",
       "1         2535012878         348\n",
       "2         2482451074         348\n",
       "3         2060325654         527\n",
       "4         2746639708         662\n",
       "...              ...         ...\n",
       "51964242  2768276645  3028594648\n",
       "51964243  2328000574  3028594648\n",
       "51964244  2653064050  3028594716\n",
       "51964245  2831405835  3028594750\n",
       "51964246  2133172116  3028594750\n",
       "\n",
       "[51963404 rows x 2 columns]"
      ]
     },
     "execution_count": 33,
     "metadata": {},
     "output_type": "execute_result"
    }
   ],
   "source": [
    "allAuthors_Ql0_papers.rename(columns={'id':'paperId'},inplace=True)\n",
    "allAuthors_Ql0_papers = allAuthors_Ql0_papers[allAuthors_Ql0_papers['id'].isin(papers_years['paperId'])]\n",
    "allAuthors_Ql0_papers"
   ]
  },
  {
   "cell_type": "code",
   "execution_count": 21,
   "id": "41fcf92b",
   "metadata": {},
   "outputs": [
    {
     "data": {
      "text/html": [
       "<div>\n",
       "<style scoped>\n",
       "    .dataframe tbody tr th:only-of-type {\n",
       "        vertical-align: middle;\n",
       "    }\n",
       "\n",
       "    .dataframe tbody tr th {\n",
       "        vertical-align: top;\n",
       "    }\n",
       "\n",
       "    .dataframe thead th {\n",
       "        text-align: right;\n",
       "    }\n",
       "</style>\n",
       "<table border=\"1\" class=\"dataframe\">\n",
       "  <thead>\n",
       "    <tr style=\"text-align: right;\">\n",
       "      <th></th>\n",
       "      <th>authorId</th>\n",
       "      <th>publicationYear</th>\n",
       "      <th>wos_domains_agg</th>\n",
       "    </tr>\n",
       "  </thead>\n",
       "  <tbody>\n",
       "    <tr>\n",
       "      <th>0</th>\n",
       "      <td>2951562659</td>\n",
       "      <td>2012</td>\n",
       "      <td>[Physics, Astronomy &amp; Astrophysics]</td>\n",
       "    </tr>\n",
       "    <tr>\n",
       "      <th>1</th>\n",
       "      <td>2535012878</td>\n",
       "      <td>2004</td>\n",
       "      <td>-1</td>\n",
       "    </tr>\n",
       "    <tr>\n",
       "      <th>2</th>\n",
       "      <td>2482451074</td>\n",
       "      <td>2004</td>\n",
       "      <td>-1</td>\n",
       "    </tr>\n",
       "    <tr>\n",
       "      <th>3</th>\n",
       "      <td>2060325654</td>\n",
       "      <td>2000</td>\n",
       "      <td>-1</td>\n",
       "    </tr>\n",
       "    <tr>\n",
       "      <th>4</th>\n",
       "      <td>2746639708</td>\n",
       "      <td>2001</td>\n",
       "      <td>-1</td>\n",
       "    </tr>\n",
       "    <tr>\n",
       "      <th>...</th>\n",
       "      <td>...</td>\n",
       "      <td>...</td>\n",
       "      <td>...</td>\n",
       "    </tr>\n",
       "    <tr>\n",
       "      <th>51963399</th>\n",
       "      <td>2768276645</td>\n",
       "      <td>2020</td>\n",
       "      <td>[Gastroenterology &amp; Hepatology]</td>\n",
       "    </tr>\n",
       "    <tr>\n",
       "      <th>51963400</th>\n",
       "      <td>2328000574</td>\n",
       "      <td>2020</td>\n",
       "      <td>[Gastroenterology &amp; Hepatology]</td>\n",
       "    </tr>\n",
       "    <tr>\n",
       "      <th>51963401</th>\n",
       "      <td>2653064050</td>\n",
       "      <td>2020</td>\n",
       "      <td>[Medicine, Oncology]</td>\n",
       "    </tr>\n",
       "    <tr>\n",
       "      <th>51963402</th>\n",
       "      <td>2831405835</td>\n",
       "      <td>2020</td>\n",
       "      <td>[Engineering, Materials Science]</td>\n",
       "    </tr>\n",
       "    <tr>\n",
       "      <th>51963403</th>\n",
       "      <td>2133172116</td>\n",
       "      <td>2020</td>\n",
       "      <td>[Engineering, Materials Science]</td>\n",
       "    </tr>\n",
       "  </tbody>\n",
       "</table>\n",
       "<p>51963404 rows × 3 columns</p>\n",
       "</div>"
      ],
      "text/plain": [
       "            authorId  publicationYear                      wos_domains_agg\n",
       "0         2951562659             2012  [Physics, Astronomy & Astrophysics]\n",
       "1         2535012878             2004                                   -1\n",
       "2         2482451074             2004                                   -1\n",
       "3         2060325654             2000                                   -1\n",
       "4         2746639708             2001                                   -1\n",
       "...              ...              ...                                  ...\n",
       "51963399  2768276645             2020      [Gastroenterology & Hepatology]\n",
       "51963400  2328000574             2020      [Gastroenterology & Hepatology]\n",
       "51963401  2653064050             2020                 [Medicine, Oncology]\n",
       "51963402  2831405835             2020     [Engineering, Materials Science]\n",
       "51963403  2133172116             2020     [Engineering, Materials Science]\n",
       "\n",
       "[51963404 rows x 3 columns]"
      ]
     },
     "execution_count": 21,
     "metadata": {},
     "output_type": "execute_result"
    }
   ],
   "source": [
    "authors_years_wos = pd.merge(allAuthors_Ql0_papers, papers_years, on='paperId', how='left')[['authorId','publicationYear','wos_domains_agg']]\n",
    "authors_years_wos.fillna(-1, inplace=True)\n",
    "#authors_years_wos['publicationYear'] = authors_years_wos['publicationYear'].astype(int)\n",
    "authors_years_wos"
   ]
  },
  {
   "cell_type": "code",
   "execution_count": 35,
   "id": "052e6393",
   "metadata": {},
   "outputs": [],
   "source": [
    "authors_years_wos = authors_years_wos[authors_years_wos['publicationYear']<2020]\n",
    "authors_years_wos = authors_years_wos.groupby(['authorId','publicationYear']).agg(list).reset_index()"
   ]
  },
  {
   "cell_type": "code",
   "execution_count": 36,
   "id": "8f33f908",
   "metadata": {},
   "outputs": [],
   "source": [
    "authors_careers = authors_years_wos.drop_duplicates(subset='authorId', keep='first', ignore_index=True).rename(columns={'publicationYear':'beginYear','wos_domains_agg':'wos_begin'})\n",
    "authors_careers = pd.merge(authors_careers,\n",
    "                           authors_years_wos.drop_duplicates(subset='authorId', keep='last', ignore_index=True).rename(columns={'publicationYear':'lastYear','wos_domains_agg':'wos_last'}),\n",
    "                           on='authorId', how='left')\n",
    "authors_careers['deltaYear'] = [j-i for i,j in zip(authors_careers['beginYear'],authors_careers['lastYear'])]"
   ]
  },
  {
   "cell_type": "code",
   "execution_count": 39,
   "id": "afdb7f29",
   "metadata": {},
   "outputs": [
    {
     "data": {
      "image/png": "[encoded data removed]",
      "text/plain": [
       "<Figure size 432x288 with 1 Axes>"
      ]
     },
     "metadata": {
      "needs_background": "light"
     },
     "output_type": "display_data"
    }
   ],
   "source": [
    "plt.hist(authors_careers['deltaYear'], bins=50)\n",
    "plt.yscale('log')"
   ]
  },
  {
   "cell_type": "code",
   "execution_count": 40,
   "id": "81f9490d",
   "metadata": {},
   "outputs": [
    {
     "data": {
      "text/html": [
       "<div>\n",
       "<style scoped>\n",
       "    .dataframe tbody tr th:only-of-type {\n",
       "        vertical-align: middle;\n",
       "    }\n",
       "\n",
       "    .dataframe tbody tr th {\n",
       "        vertical-align: top;\n",
       "    }\n",
       "\n",
       "    .dataframe thead th {\n",
       "        text-align: right;\n",
       "    }\n",
       "</style>\n",
       "<table border=\"1\" class=\"dataframe\">\n",
       "  <thead>\n",
       "    <tr style=\"text-align: right;\">\n",
       "      <th></th>\n",
       "      <th>authorId</th>\n",
       "      <th>beginYear</th>\n",
       "      <th>wos_begin</th>\n",
       "      <th>lastYear</th>\n",
       "      <th>wos_last</th>\n",
       "      <th>deltaYear</th>\n",
       "    </tr>\n",
       "  </thead>\n",
       "  <tbody>\n",
       "    <tr>\n",
       "      <th>0</th>\n",
       "      <td>18161</td>\n",
       "      <td>2008</td>\n",
       "      <td>[[Marine &amp; Freshwater Biology]]</td>\n",
       "      <td>2019</td>\n",
       "      <td>[[Environmental Sciences], [Marine &amp; Freshwate...</td>\n",
       "      <td>11</td>\n",
       "    </tr>\n",
       "    <tr>\n",
       "      <th>1</th>\n",
       "      <td>20361</td>\n",
       "      <td>1999</td>\n",
       "      <td>[[Neurosciences]]</td>\n",
       "      <td>2004</td>\n",
       "      <td>[[Biochemistry &amp; Molecular Biology, Biophysics]]</td>\n",
       "      <td>5</td>\n",
       "    </tr>\n",
       "    <tr>\n",
       "      <th>2</th>\n",
       "      <td>39506</td>\n",
       "      <td>2010</td>\n",
       "      <td>[[Neurosciences, Clinical Neurology, Gastroent...</td>\n",
       "      <td>2015</td>\n",
       "      <td>[[Cell Biology]]</td>\n",
       "      <td>5</td>\n",
       "    </tr>\n",
       "    <tr>\n",
       "      <th>3</th>\n",
       "      <td>57623</td>\n",
       "      <td>2005</td>\n",
       "      <td>[[Respiratory System]]</td>\n",
       "      <td>2009</td>\n",
       "      <td>[[Respiratory System, Physiology]]</td>\n",
       "      <td>4</td>\n",
       "    </tr>\n",
       "    <tr>\n",
       "      <th>4</th>\n",
       "      <td>64128</td>\n",
       "      <td>2009</td>\n",
       "      <td>[[Neurosciences, Clinical Neurology], [Neurosc...</td>\n",
       "      <td>2018</td>\n",
       "      <td>[[Neurosciences, Behavioral Sciences]]</td>\n",
       "      <td>9</td>\n",
       "    </tr>\n",
       "    <tr>\n",
       "      <th>...</th>\n",
       "      <td>...</td>\n",
       "      <td>...</td>\n",
       "      <td>...</td>\n",
       "      <td>...</td>\n",
       "      <td>...</td>\n",
       "      <td>...</td>\n",
       "    </tr>\n",
       "    <tr>\n",
       "      <th>1290005</th>\n",
       "      <td>3035759232</td>\n",
       "      <td>2005</td>\n",
       "      <td>[[Neurosciences]]</td>\n",
       "      <td>2019</td>\n",
       "      <td>[-1]</td>\n",
       "      <td>14</td>\n",
       "    </tr>\n",
       "    <tr>\n",
       "      <th>1290006</th>\n",
       "      <td>3035760453</td>\n",
       "      <td>2012</td>\n",
       "      <td>[[Otorhinolaryngology]]</td>\n",
       "      <td>2018</td>\n",
       "      <td>[-1]</td>\n",
       "      <td>6</td>\n",
       "    </tr>\n",
       "    <tr>\n",
       "      <th>1290007</th>\n",
       "      <td>3035760604</td>\n",
       "      <td>2015</td>\n",
       "      <td>[[Neurosciences], [Neurosciences]]</td>\n",
       "      <td>2015</td>\n",
       "      <td>[[Neurosciences], [Neurosciences]]</td>\n",
       "      <td>0</td>\n",
       "    </tr>\n",
       "    <tr>\n",
       "      <th>1290008</th>\n",
       "      <td>3035761758</td>\n",
       "      <td>2008</td>\n",
       "      <td>[[Neurosciences, Clinical Neurology]]</td>\n",
       "      <td>2018</td>\n",
       "      <td>[[Behavioral Sciences, Neurosciences]]</td>\n",
       "      <td>10</td>\n",
       "    </tr>\n",
       "    <tr>\n",
       "      <th>1290009</th>\n",
       "      <td>3035762904</td>\n",
       "      <td>1991</td>\n",
       "      <td>[[Evolutionary Biology, Ecology, Biology], [Bi...</td>\n",
       "      <td>2019</td>\n",
       "      <td>[[Neurosciences], [Evolutionary Biology, Ecolo...</td>\n",
       "      <td>28</td>\n",
       "    </tr>\n",
       "  </tbody>\n",
       "</table>\n",
       "<p>1290010 rows × 6 columns</p>\n",
       "</div>"
      ],
      "text/plain": [
       "           authorId  beginYear  \\\n",
       "0             18161       2008   \n",
       "1             20361       1999   \n",
       "2             39506       2010   \n",
       "3             57623       2005   \n",
       "4             64128       2009   \n",
       "...             ...        ...   \n",
       "1290005  3035759232       2005   \n",
       "1290006  3035760453       2012   \n",
       "1290007  3035760604       2015   \n",
       "1290008  3035761758       2008   \n",
       "1290009  3035762904       1991   \n",
       "\n",
       "                                                 wos_begin  lastYear  \\\n",
       "0                          [[Marine & Freshwater Biology]]      2019   \n",
       "1                                        [[Neurosciences]]      2004   \n",
       "2        [[Neurosciences, Clinical Neurology, Gastroent...      2015   \n",
       "3                                   [[Respiratory System]]      2009   \n",
       "4        [[Neurosciences, Clinical Neurology], [Neurosc...      2018   \n",
       "...                                                    ...       ...   \n",
       "1290005                                  [[Neurosciences]]      2019   \n",
       "1290006                            [[Otorhinolaryngology]]      2018   \n",
       "1290007                 [[Neurosciences], [Neurosciences]]      2015   \n",
       "1290008              [[Neurosciences, Clinical Neurology]]      2018   \n",
       "1290009  [[Evolutionary Biology, Ecology, Biology], [Bi...      2019   \n",
       "\n",
       "                                                  wos_last  deltaYear  \n",
       "0        [[Environmental Sciences], [Marine & Freshwate...         11  \n",
       "1         [[Biochemistry & Molecular Biology, Biophysics]]          5  \n",
       "2                                         [[Cell Biology]]          5  \n",
       "3                       [[Respiratory System, Physiology]]          4  \n",
       "4                   [[Neurosciences, Behavioral Sciences]]          9  \n",
       "...                                                    ...        ...  \n",
       "1290005                                               [-1]         14  \n",
       "1290006                                               [-1]          6  \n",
       "1290007                 [[Neurosciences], [Neurosciences]]          0  \n",
       "1290008             [[Behavioral Sciences, Neurosciences]]         10  \n",
       "1290009  [[Neurosciences], [Evolutionary Biology, Ecolo...         28  \n",
       "\n",
       "[1290010 rows x 6 columns]"
      ]
     },
     "execution_count": 40,
     "metadata": {},
     "output_type": "execute_result"
    }
   ],
   "source": [
    "authors_careers"
   ]
  },
  {
   "cell_type": "code",
   "execution_count": 46,
   "id": "f84dd997",
   "metadata": {},
   "outputs": [],
   "source": [
    "# merge the careers with the original author file\n",
    "authorsInPapers = pd.merge(authorsInPapers, authors_careers, on='authorId', how='left')"
   ]
  },
  {
   "cell_type": "code",
   "execution_count": 47,
   "id": "bec6aa58",
   "metadata": {},
   "outputs": [],
   "source": [
    "# save the file\n",
    "authorsInPapers.to_csv(f'{path_output}collabNet_nodes2.csv', sep=';', index=False)"
   ]
  },
  {
   "cell_type": "markdown",
   "id": "5991c8f2",
   "metadata": {},
   "source": [
    "## Build the parametrized temporal collaboration network\n",
    "Build a temporal multilayer network with AI and non-AI collaborations. Therefore two authors can be linked in different way, either 'AI' or 'nonAI' with time."
   ]
  },
  {
   "cell_type": "code",
   "execution_count": null,
   "id": "259788ba",
   "metadata": {},
   "outputs": [],
   "source": [
    "# NEUROAI\n",
    "cn = {}\n",
    "for y in tqdm(range(1970,2020)):\n",
    "    for authors in papersAI[papersAI['publicationYear']==y]['authors']:\n",
    "        if eval(authors) != -1:\n",
    "            a = list(set(eval(authors))) # to avoid the case where authors appear twice in a single publication\n",
    "            for i in range(len(a)-1):\n",
    "                for j in range(i+1,len(a)):\n",
    "                    if (a[i],a[j],y) in cn:\n",
    "                        cn[(a[i],a[j],y)][0] += 1\n",
    "                    elif (a[j],a[i],y) in cn:\n",
    "                        cn[(a[j],a[i],y)][0] += 1\n",
    "                    else:\n",
    "                        cn[(a[i],a[j],y)] = [1,0]\n",
    "print('NeuroAI ok')\n",
    "# NEURO\n",
    "for y in tqdm(set(papersNonAI['publicationYear'])):\n",
    "    for authors in papersNonAI[papersNonAI['publicationYear']==y]['authors']:\n",
    "        if eval(authors)!=-1:\n",
    "            a = list(set(eval(authors))) # to avoid the case where authors appear twice in a single publication\n",
    "            for i in range(len(a)-1):\n",
    "                for j in range(i+1,len(a)):\n",
    "                    if (a[i],a[j],y) in cn:\n",
    "                        cn[(a[i],a[j],y)][1] += 1\n",
    "                    elif (a[j],a[i],y) in cn:\n",
    "                        cn[(a[j],a[i],y)][1] += 1\n",
    "                    else:\n",
    "                        cn[(a[i],a[j],y)] = [0,1]\n",
    "print('Neuro ok')\n",
    "collabNet = [(i,j,y,k,l) for ((i,j,y),[k,l]) in cn.items()]\n",
    "collabNet = pd.DataFrame.from_records(collabNet, columns=['author1','author2','year','w_AI','w_nonAI'])\n",
    "collabNet['w'] = [i+j for i,j in zip(collabNet['w_nonAI'],collabNet['w_AI'])]"
   ]
  },
  {
   "cell_type": "code",
   "execution_count": null,
   "id": "33044d1f",
   "metadata": {},
   "outputs": [],
   "source": [
    "# confirmation\n",
    "a1, a2, y = 2153041777, 20660026, 1973\n",
    "# avoid doublons\n",
    "print(a1 in list(collabNet[collabNet['author1']==a2]['author2']))\n",
    "# verify the variables 'w_AI' and 'w_nonAI'\n",
    "ids = set(allpapers[(allpapers['authors']==a1)]['id']) & set(allpapers[allpapers['authors']==a2]['id'])\n",
    "allpapers[(allpapers['id'].isin(ids)) \n",
    "          & (allpapers['publicationYear']==y)\n",
    "          & ((allpapers['authors']==a1)|(allpapers['authors']==a2))]"
   ]
  },
  {
   "cell_type": "code",
   "execution_count": null,
   "id": "c6686856",
   "metadata": {},
   "outputs": [],
   "source": [
    "collabNet.to_csv(f'{path_output}collabNet_edges_2.csv', sep=';', index=False)\n",
    "collabNet.rename(columns={'author1':'source','author2':'target'}).to_csv(f'{path_output}collabNet_edges_2_gephi.csv', sep=';', index=False)"
   ]
  },
  {
   "cell_type": "markdown",
   "id": "1df04c14",
   "metadata": {},
   "source": [
    "## Build the time aggregated collaboration network"
   ]
  },
  {
   "cell_type": "code",
   "execution_count": null,
   "id": "e6a8fafe",
   "metadata": {},
   "outputs": [],
   "source": [
    "# add weights\n",
    "def aggregate(temporal_collab_network):\n",
    "    cn = {}\n",
    "    for i,j,w in tqdm(temporal_collab_network[['author1','author2','w']].values):\n",
    "        if (i,j) in cn:\n",
    "            cn[(i,j)] += w\n",
    "        elif (j,i) in cn:\n",
    "            cn[(j,i)] += w\n",
    "        else:\n",
    "            cn[(i,j)] = w\n",
    "    cn = pd.DataFrame.from_records([(i,j,k) for ((i,j),k) in cn.items()], columns=['author1','author2','w'])\n",
    "    return cn"
   ]
  },
  {
   "cell_type": "code",
   "execution_count": null,
   "id": "c1074305",
   "metadata": {},
   "outputs": [],
   "source": [
    "collabNet_timeagg = aggregate(collabNet)"
   ]
  },
  {
   "cell_type": "markdown",
   "id": "7d6b0200",
   "metadata": {},
   "source": [
    "#### Verification by comparing to the weights of the original network"
   ]
  },
  {
   "cell_type": "code",
   "execution_count": 226,
   "id": "cf06eb0b",
   "metadata": {},
   "outputs": [
    {
     "data": {
      "text/html": [
       "<div>\n",
       "<style scoped>\n",
       "    .dataframe tbody tr th:only-of-type {\n",
       "        vertical-align: middle;\n",
       "    }\n",
       "\n",
       "    .dataframe tbody tr th {\n",
       "        vertical-align: top;\n",
       "    }\n",
       "\n",
       "    .dataframe thead th {\n",
       "        text-align: right;\n",
       "    }\n",
       "</style>\n",
       "<table border=\"1\" class=\"dataframe\">\n",
       "  <thead>\n",
       "    <tr style=\"text-align: right;\">\n",
       "      <th></th>\n",
       "      <th>author1</th>\n",
       "      <th>author2</th>\n",
       "      <th>w</th>\n",
       "    </tr>\n",
       "  </thead>\n",
       "  <tbody>\n",
       "    <tr>\n",
       "      <th>331035</th>\n",
       "      <td>2737824110</td>\n",
       "      <td>2999599514</td>\n",
       "      <td>297</td>\n",
       "    </tr>\n",
       "  </tbody>\n",
       "</table>\n",
       "</div>"
      ],
      "text/plain": [
       "           author1     author2    w\n",
       "331035  2737824110  2999599514  297"
      ]
     },
     "execution_count": 226,
     "metadata": {},
     "output_type": "execute_result"
    }
   ],
   "source": [
    "ind = np.where(collabNet_timeagg['w']==max(collabNet_timeagg['w']))\n",
    "collabNet_timeagg.loc[ind]"
   ]
  },
  {
   "cell_type": "code",
   "execution_count": 228,
   "id": "9e07113b",
   "metadata": {
    "scrolled": true
   },
   "outputs": [
    {
     "data": {
      "text/plain": [
       "297"
      ]
     },
     "execution_count": 228,
     "metadata": {},
     "output_type": "execute_result"
    }
   ],
   "source": [
    "sum(collabNet[((collabNet['author1']==2737824110) & (collabNet['author2']==2999599514))|\n",
    "              ((collabNet['author2']==2737824110) & (collabNet['author1']==2999599514))]['w'])"
   ]
  },
  {
   "cell_type": "code",
   "execution_count": null,
   "id": "2228d243",
   "metadata": {},
   "outputs": [],
   "source": [
    "collabNet_timeagg.to_csv(f'{path_output}collabNet_edges_timeagg.csv', sep=';', index=False)"
   ]
  },
  {
   "cell_type": "markdown",
   "id": "d648a28f",
   "metadata": {},
   "source": [
    "# Comparison of different time-aggregated collaboration networks when applying different filters\n",
    "Compare:\n",
    "- their density, \n",
    "- their number of connected components and the distribution of their corresponding sizes "
   ]
  },
  {
   "cell_type": "code",
   "execution_count": 17,
   "id": "68fb6f4a",
   "metadata": {},
   "outputs": [],
   "source": [
    "# add weights\n",
    "def aggregate(temporal_collab_network):\n",
    "    cn = {}\n",
    "    for i,j,w in tqdm(temporal_collab_network[['author1','author2','w']].values):\n",
    "        if (i,j) in cn:\n",
    "            cn[(i,j)] += w\n",
    "        elif (j,i) in cn:\n",
    "            cn[(j,i)] += w\n",
    "        else:\n",
    "            cn[(i,j)] = w\n",
    "    cn = pd.DataFrame.from_records([(i,j,k) for ((i,j),k) in cn.items()], columns=['author1','author2','w'])\n",
    "    return cn"
   ]
  },
  {
   "cell_type": "markdown",
   "id": "5f2b262a",
   "metadata": {},
   "source": [
    "#### Original time aggregated network with all the authors of the original database"
   ]
  },
  {
   "cell_type": "code",
   "execution_count": 18,
   "id": "d2acc006",
   "metadata": {},
   "outputs": [
    {
     "name": "stderr",
     "output_type": "stream",
     "text": [
      "100%|███████████████████████████| 12637315/12637315 [00:19<00:00, 659249.46it/s]\n"
     ]
    }
   ],
   "source": [
    "collabNet_timeagg = aggregate(collabNet)"
   ]
  },
  {
   "cell_type": "code",
   "execution_count": 229,
   "id": "628c2ac9",
   "metadata": {},
   "outputs": [
    {
     "data": {
      "image/png": "[encoded data removed]",
      "text/plain": [
       "<Figure size 432x288 with 1 Axes>"
      ]
     },
     "metadata": {
      "needs_background": "light"
     },
     "output_type": "display_data"
    }
   ],
   "source": [
    "plt.hist(collabNet_timeagg['w'],bins=100)\n",
    "plt.yscale('log')"
   ]
  },
  {
   "cell_type": "code",
   "execution_count": 230,
   "id": "cbd91d46",
   "metadata": {},
   "outputs": [],
   "source": [
    "G = ig.Graph.DataFrame(collabNet_timeagg, directed=False)"
   ]
  },
  {
   "cell_type": "code",
   "execution_count": 231,
   "id": "f716e9f6",
   "metadata": {},
   "outputs": [
    {
     "data": {
      "text/plain": [
       "1278468"
      ]
     },
     "execution_count": 231,
     "metadata": {},
     "output_type": "execute_result"
    }
   ],
   "source": [
    "len(G.vs)"
   ]
  },
  {
   "cell_type": "code",
   "execution_count": 232,
   "id": "3a7f768b",
   "metadata": {},
   "outputs": [
    {
     "data": {
      "text/plain": [
       "10109269"
      ]
     },
     "execution_count": 232,
     "metadata": {},
     "output_type": "execute_result"
    }
   ],
   "source": [
    "len(G.es)"
   ]
  },
  {
   "cell_type": "code",
   "execution_count": 233,
   "id": "81b891ad",
   "metadata": {},
   "outputs": [
    {
     "data": {
      "text/plain": [
       "1.2370018924904797e-05"
      ]
     },
     "execution_count": 233,
     "metadata": {},
     "output_type": "execute_result"
    }
   ],
   "source": [
    "G.density()"
   ]
  },
  {
   "cell_type": "code",
   "execution_count": 234,
   "id": "069bf310",
   "metadata": {},
   "outputs": [],
   "source": [
    "comp = [c for c in G.components()]\n",
    "sizes = [len(c) for c in comp]"
   ]
  },
  {
   "cell_type": "code",
   "execution_count": 235,
   "id": "e20a27f5",
   "metadata": {},
   "outputs": [
    {
     "data": {
      "text/plain": [
       "[30, 31, 31, 32, 32, 32, 34, 39, 41, 1166044]"
      ]
     },
     "execution_count": 235,
     "metadata": {},
     "output_type": "execute_result"
    }
   ],
   "source": [
    "sorted(sizes)[-10:]"
   ]
  },
  {
   "cell_type": "code",
   "execution_count": 236,
   "id": "76eea1a9",
   "metadata": {},
   "outputs": [
    {
     "data": {
      "image/png": "[encoded data removed]",
      "text/plain": [
       "<Figure size 432x288 with 1 Axes>"
      ]
     },
     "metadata": {
      "needs_background": "light"
     },
     "output_type": "display_data"
    }
   ],
   "source": [
    "plt.hist(sizes,bins=100)\n",
    "plt.yscale('log')"
   ]
  },
  {
   "cell_type": "markdown",
   "id": "7063c7f0",
   "metadata": {},
   "source": [
    "### Select only the authors having at least 3 publications"
   ]
  },
  {
   "cell_type": "code",
   "execution_count": 268,
   "id": "97ce2fe5",
   "metadata": {},
   "outputs": [],
   "source": [
    "authorsInPapers_sub = authorsInPapers[authorsInPapers['nb_publi_all']>=3]"
   ]
  },
  {
   "cell_type": "code",
   "execution_count": 278,
   "id": "ff9a5d4b",
   "metadata": {},
   "outputs": [
    {
     "data": {
      "text/plain": [
       "899706"
      ]
     },
     "execution_count": 278,
     "metadata": {},
     "output_type": "execute_result"
    }
   ],
   "source": [
    "len(authorsInPapers_sub)"
   ]
  },
  {
   "cell_type": "code",
   "execution_count": 269,
   "id": "cc5a8234",
   "metadata": {},
   "outputs": [],
   "source": [
    "sub_collabNet_timeagg = collabNet_timeagg[collabNet_timeagg['author1'].isin(authorsInPapers_sub['authorId'])\n",
    "                         & collabNet_timeagg['author2'].isin(authorsInPapers_sub['authorId'])]"
   ]
  },
  {
   "cell_type": "code",
   "execution_count": 270,
   "id": "2940c94d",
   "metadata": {},
   "outputs": [],
   "source": [
    "G = ig.Graph.DataFrame(sub_collabNet_timeagg, directed=False)"
   ]
  },
  {
   "cell_type": "code",
   "execution_count": 271,
   "id": "d85b9eb4",
   "metadata": {},
   "outputs": [
    {
     "data": {
      "text/plain": [
       "887227"
      ]
     },
     "execution_count": 271,
     "metadata": {},
     "output_type": "execute_result"
    }
   ],
   "source": [
    "len(G.vs)"
   ]
  },
  {
   "cell_type": "code",
   "execution_count": 350,
   "id": "ced3f5ad",
   "metadata": {},
   "outputs": [
    {
     "data": {
      "text/plain": [
       "0.6876977012590096"
      ]
     },
     "execution_count": 350,
     "metadata": {},
     "output_type": "execute_result"
    }
   ],
   "source": [
    "887227/len(authorsInPapers)"
   ]
  },
  {
   "cell_type": "code",
   "execution_count": 272,
   "id": "aa794866",
   "metadata": {},
   "outputs": [
    {
     "data": {
      "text/plain": [
       "7819355"
      ]
     },
     "execution_count": 272,
     "metadata": {},
     "output_type": "execute_result"
    }
   ],
   "source": [
    "len(G.es)"
   ]
  },
  {
   "cell_type": "code",
   "execution_count": 273,
   "id": "e3328dea",
   "metadata": {},
   "outputs": [
    {
     "data": {
      "text/plain": [
       "1.986698282284764e-05"
      ]
     },
     "execution_count": 273,
     "metadata": {},
     "output_type": "execute_result"
    }
   ],
   "source": [
    "G.density()"
   ]
  },
  {
   "cell_type": "code",
   "execution_count": 274,
   "id": "d4d9d513",
   "metadata": {},
   "outputs": [],
   "source": [
    "comp = [c for c in G.components()]\n",
    "sizes = [len(c) for c in comp]"
   ]
  },
  {
   "cell_type": "code",
   "execution_count": 275,
   "id": "af22b717",
   "metadata": {},
   "outputs": [
    {
     "data": {
      "text/plain": [
       "16561"
      ]
     },
     "execution_count": 275,
     "metadata": {},
     "output_type": "execute_result"
    }
   ],
   "source": [
    "len(comp)"
   ]
  },
  {
   "cell_type": "code",
   "execution_count": 276,
   "id": "66188a0f",
   "metadata": {},
   "outputs": [
    {
     "data": {
      "text/plain": [
       "[24, 25, 25, 26, 27, 27, 28, 29, 30, 828240]"
      ]
     },
     "execution_count": 276,
     "metadata": {},
     "output_type": "execute_result"
    }
   ],
   "source": [
    "sorted(sizes)[-10:]"
   ]
  },
  {
   "cell_type": "code",
   "execution_count": 277,
   "id": "bc990018",
   "metadata": {},
   "outputs": [
    {
     "data": {
      "image/png": "[encoded data removed]",
      "text/plain": [
       "<Figure size 432x288 with 1 Axes>"
      ]
     },
     "metadata": {
      "needs_background": "light"
     },
     "output_type": "display_data"
    }
   ],
   "source": [
    "plt.hist(sizes,bins=100)\n",
    "plt.yscale('log')"
   ]
  },
  {
   "cell_type": "markdown",
   "id": "394e9fdf",
   "metadata": {},
   "source": [
    "### Select only the authors with bounded careers"
   ]
  },
  {
   "cell_type": "code",
   "execution_count": 237,
   "id": "d033c1c6",
   "metadata": {},
   "outputs": [],
   "source": [
    "#authorsInPapers_sub = authorsInPapers[authorsInPapers['nb_publi_all']>=3]"
   ]
  },
  {
   "cell_type": "code",
   "execution_count": 249,
   "id": "bd411ccd",
   "metadata": {},
   "outputs": [],
   "source": [
    "sub_collabNet_timeagg = collabNet_timeagg[collabNet_timeagg['author1'].isin(authors_careers_sub['authorId'])\n",
    "                         & collabNet_timeagg['author2'].isin(authors_careers_sub['authorId'])]"
   ]
  },
  {
   "cell_type": "code",
   "execution_count": 250,
   "id": "10ab6e8c",
   "metadata": {},
   "outputs": [],
   "source": [
    "G = ig.Graph.DataFrame(sub_collabNet_timeagg, directed=False)"
   ]
  },
  {
   "cell_type": "code",
   "execution_count": 251,
   "id": "26b005aa",
   "metadata": {},
   "outputs": [
    {
     "data": {
      "text/plain": [
       "1261059"
      ]
     },
     "execution_count": 251,
     "metadata": {},
     "output_type": "execute_result"
    }
   ],
   "source": [
    "len(G.vs)"
   ]
  },
  {
   "cell_type": "code",
   "execution_count": 252,
   "id": "92278678",
   "metadata": {},
   "outputs": [
    {
     "data": {
      "text/plain": [
       "9641832"
      ]
     },
     "execution_count": 252,
     "metadata": {},
     "output_type": "execute_result"
    }
   ],
   "source": [
    "len(G.es)"
   ]
  },
  {
   "cell_type": "code",
   "execution_count": 253,
   "id": "926b570f",
   "metadata": {},
   "outputs": [
    {
     "data": {
      "text/plain": [
       "1.2126042558122171e-05"
      ]
     },
     "execution_count": 253,
     "metadata": {},
     "output_type": "execute_result"
    }
   ],
   "source": [
    "G.density()"
   ]
  },
  {
   "cell_type": "code",
   "execution_count": 254,
   "id": "d7ddd253",
   "metadata": {},
   "outputs": [],
   "source": [
    "comp = [c for c in G.components()]\n",
    "sizes = [len(c) for c in comp]"
   ]
  },
  {
   "cell_type": "code",
   "execution_count": 257,
   "id": "3db5d189",
   "metadata": {},
   "outputs": [
    {
     "data": {
      "text/plain": [
       "32284"
      ]
     },
     "execution_count": 257,
     "metadata": {},
     "output_type": "execute_result"
    }
   ],
   "source": [
    "len(comp)"
   ]
  },
  {
   "cell_type": "code",
   "execution_count": 255,
   "id": "1397831b",
   "metadata": {},
   "outputs": [
    {
     "data": {
      "text/plain": [
       "[31, 32, 32, 32, 34, 34, 39, 41, 45, 1140463]"
      ]
     },
     "execution_count": 255,
     "metadata": {},
     "output_type": "execute_result"
    }
   ],
   "source": [
    "sorted(sizes)[-10:]"
   ]
  },
  {
   "cell_type": "code",
   "execution_count": 256,
   "id": "0f6ffa00",
   "metadata": {},
   "outputs": [
    {
     "data": {
      "image/png": "[encoded data removed]",
      "text/plain": [
       "<Figure size 432x288 with 1 Axes>"
      ]
     },
     "metadata": {
      "needs_background": "light"
     },
     "output_type": "display_data"
    }
   ],
   "source": [
    "plt.hist(sizes,bins=100)\n",
    "plt.yscale('log')"
   ]
  },
  {
   "cell_type": "markdown",
   "id": "407a52a8",
   "metadata": {},
   "source": [
    "### Select only the authors with bounded careers and having at least 3 publications"
   ]
  },
  {
   "cell_type": "code",
   "execution_count": 20,
   "id": "a84ea2ef",
   "metadata": {},
   "outputs": [],
   "source": [
    "authorsInPapers_sub = authorsInPapers[(authorsInPapers['nb_publi_all']>=3) &\n",
    "                                      (authorsInPapers['authorId'].isin(authors_careers_sub['authorId']))]"
   ]
  },
  {
   "cell_type": "code",
   "execution_count": 20,
   "id": "5742ade1",
   "metadata": {},
   "outputs": [],
   "source": [
    "sub_collabNet_timeagg = collabNet_timeagg[collabNet_timeagg['author1'].isin(authorsInPapers_sub['authorId'])\n",
    "                         & collabNet_timeagg['author2'].isin(authorsInPapers_sub['authorId'])]"
   ]
  },
  {
   "cell_type": "code",
   "execution_count": 61,
   "id": "0f3d679d",
   "metadata": {},
   "outputs": [
    {
     "data": {
      "image/png": "[encoded data removed]",
      "text/plain": [
       "<Figure size 432x288 with 1 Axes>"
      ]
     },
     "metadata": {
      "needs_background": "light"
     },
     "output_type": "display_data"
    }
   ],
   "source": [
    "plt.hist(sub_collabNet_timeagg['w'],bins=100)\n",
    "plt.yscale('log')"
   ]
  },
  {
   "cell_type": "code",
   "execution_count": 215,
   "id": "6e135adc",
   "metadata": {},
   "outputs": [],
   "source": [
    "G = ig.Graph.DataFrame(sub_collabNet_timeagg, directed=False)"
   ]
  },
  {
   "cell_type": "code",
   "execution_count": 217,
   "id": "7b5a4694",
   "metadata": {
    "scrolled": true
   },
   "outputs": [
    {
     "data": {
      "text/plain": [
       "871282"
      ]
     },
     "execution_count": 217,
     "metadata": {},
     "output_type": "execute_result"
    }
   ],
   "source": [
    "len(G.vs)"
   ]
  },
  {
   "cell_type": "code",
   "execution_count": 218,
   "id": "2c895fcd",
   "metadata": {},
   "outputs": [
    {
     "data": {
      "text/plain": [
       "7420423"
      ]
     },
     "execution_count": 218,
     "metadata": {},
     "output_type": "execute_result"
    }
   ],
   "source": [
    "len(G.es)"
   ]
  },
  {
   "cell_type": "code",
   "execution_count": 220,
   "id": "a3f2b108",
   "metadata": {},
   "outputs": [
    {
     "data": {
      "text/plain": [
       "10785916"
      ]
     },
     "execution_count": 220,
     "metadata": {},
     "output_type": "execute_result"
    }
   ],
   "source": [
    "sum(sub_collabNet_timeagg['w'])"
   ]
  },
  {
   "cell_type": "code",
   "execution_count": 216,
   "id": "f876e02b",
   "metadata": {},
   "outputs": [
    {
     "data": {
      "text/plain": [
       "0.6753385870226588"
      ]
     },
     "execution_count": 216,
     "metadata": {},
     "output_type": "execute_result"
    }
   ],
   "source": [
    "len(G.vs)/len(authorsInPapers)"
   ]
  },
  {
   "cell_type": "code",
   "execution_count": 407,
   "id": "534be886",
   "metadata": {},
   "outputs": [
    {
     "data": {
      "text/plain": [
       "0.2176531209689165"
      ]
     },
     "execution_count": 407,
     "metadata": {},
     "output_type": "execute_result"
    }
   ],
   "source": [
    "# share of removing edges\n",
    "(sum(collabNet_timeagg['w'])-sum(sub_collabNet_timeagg['w']))/sum(collabNet_timeagg['w'])"
   ]
  },
  {
   "cell_type": "code",
   "execution_count": 299,
   "id": "579ab0ea",
   "metadata": {},
   "outputs": [
    {
     "data": {
      "text/plain": [
       "1.9549770933834205e-05"
      ]
     },
     "execution_count": 299,
     "metadata": {},
     "output_type": "execute_result"
    }
   ],
   "source": [
    "G.density()"
   ]
  },
  {
   "cell_type": "code",
   "execution_count": 242,
   "id": "22ca445c",
   "metadata": {},
   "outputs": [],
   "source": [
    "comp = [c for c in G.components()]\n",
    "sizes = sorted([len(c) for c in comp])"
   ]
  },
  {
   "cell_type": "code",
   "execution_count": 237,
   "id": "053a3e77",
   "metadata": {},
   "outputs": [
    {
     "data": {
      "text/plain": [
       "array([8799, 5840, 5839, ..., 7410, 1192,    0])"
      ]
     },
     "execution_count": 237,
     "metadata": {},
     "output_type": "execute_result"
    }
   ],
   "source": [
    "ind_sorted"
   ]
  },
  {
   "cell_type": "code",
   "execution_count": 222,
   "id": "19127fdf",
   "metadata": {},
   "outputs": [
    {
     "data": {
      "text/plain": [
       "17599"
      ]
     },
     "execution_count": 222,
     "metadata": {},
     "output_type": "execute_result"
    }
   ],
   "source": [
    "len(comp)"
   ]
  },
  {
   "cell_type": "code",
   "execution_count": 302,
   "id": "1d29a70f",
   "metadata": {},
   "outputs": [
    {
     "data": {
      "text/plain": [
       "[25, 26, 27, 27, 27, 28, 28, 29, 30, 809280]"
      ]
     },
     "execution_count": 302,
     "metadata": {},
     "output_type": "execute_result"
    }
   ],
   "source": [
    "sorted(sizes)[-10:]"
   ]
  },
  {
   "cell_type": "code",
   "execution_count": 303,
   "id": "65aefee7",
   "metadata": {},
   "outputs": [
    {
     "data": {
      "text/plain": [
       "62002"
      ]
     },
     "execution_count": 303,
     "metadata": {},
     "output_type": "execute_result"
    }
   ],
   "source": [
    "sum(sizes[:-1])"
   ]
  },
  {
   "cell_type": "code",
   "execution_count": 408,
   "id": "2816197f",
   "metadata": {},
   "outputs": [
    {
     "data": {
      "text/plain": [
       "0.07661378015025702"
      ]
     },
     "execution_count": 408,
     "metadata": {},
     "output_type": "execute_result"
    }
   ],
   "source": [
    "# share of nodes in independent connected components, here 7.7%\n",
    "62002/809280"
   ]
  },
  {
   "cell_type": "code",
   "execution_count": 223,
   "id": "fd5f6d62",
   "metadata": {},
   "outputs": [
    {
     "data": {
      "text/plain": [
       "0.9288381947521009"
      ]
     },
     "execution_count": 223,
     "metadata": {},
     "output_type": "execute_result"
    }
   ],
   "source": [
    "sizes[-1]/len(G.vs)"
   ]
  },
  {
   "cell_type": "code",
   "execution_count": 304,
   "id": "8ee1a841",
   "metadata": {},
   "outputs": [
    {
     "data": {
      "image/png": "[encoded data removed]",
      "text/plain": [
       "<Figure size 432x288 with 1 Axes>"
      ]
     },
     "metadata": {
      "needs_background": "light"
     },
     "output_type": "display_data"
    }
   ],
   "source": [
    "plt.hist(sizes,bins=100)\n",
    "plt.yscale('log')"
   ]
  },
  {
   "cell_type": "markdown",
   "id": "6856ad29",
   "metadata": {},
   "source": [
    "#### Who are the problematic persons? \n",
    "Compare with the percentage of persons making AI wrt to the AI score vs nb_publi_all"
   ]
  },
  {
   "cell_type": "code",
   "execution_count": 62,
   "id": "876e3a9d",
   "metadata": {
    "scrolled": false
   },
   "outputs": [
    {
     "data": {
      "text/html": [
       "<div>\n",
       "<style scoped>\n",
       "    .dataframe tbody tr th:only-of-type {\n",
       "        vertical-align: middle;\n",
       "    }\n",
       "\n",
       "    .dataframe tbody tr th {\n",
       "        vertical-align: top;\n",
       "    }\n",
       "\n",
       "    .dataframe thead th {\n",
       "        text-align: right;\n",
       "    }\n",
       "</style>\n",
       "<table border=\"1\" class=\"dataframe\">\n",
       "  <thead>\n",
       "    <tr style=\"text-align: right;\">\n",
       "      <th></th>\n",
       "      <th>authorId</th>\n",
       "      <th>name</th>\n",
       "      <th>affiliation</th>\n",
       "      <th>queryLevel</th>\n",
       "      <th>nb_publi_neuro</th>\n",
       "      <th>AIscore_neuro</th>\n",
       "      <th>nb_publi_all</th>\n",
       "      <th>AIscore_all</th>\n",
       "    </tr>\n",
       "  </thead>\n",
       "  <tbody>\n",
       "    <tr>\n",
       "      <th>2</th>\n",
       "      <td>2806045187</td>\n",
       "      <td>A.A.A. Pradhan</td>\n",
       "      <td>5023651</td>\n",
       "      <td>0.0</td>\n",
       "      <td>1.0</td>\n",
       "      <td>0.0</td>\n",
       "      <td>1</td>\n",
       "      <td>0.0</td>\n",
       "    </tr>\n",
       "    <tr>\n",
       "      <th>3</th>\n",
       "      <td>2974182613</td>\n",
       "      <td>A. A. Aarnisalo</td>\n",
       "      <td>NONE</td>\n",
       "      <td>0.0</td>\n",
       "      <td>1.0</td>\n",
       "      <td>0.0</td>\n",
       "      <td>2</td>\n",
       "      <td>0.0</td>\n",
       "    </tr>\n",
       "    <tr>\n",
       "      <th>5</th>\n",
       "      <td>2840631567</td>\n",
       "      <td>A A Abdel-Rahman</td>\n",
       "      <td>1309191912</td>\n",
       "      <td>0.0</td>\n",
       "      <td>1.0</td>\n",
       "      <td>0.0</td>\n",
       "      <td>1</td>\n",
       "      <td>0.0</td>\n",
       "    </tr>\n",
       "    <tr>\n",
       "      <th>6</th>\n",
       "      <td>2639413062</td>\n",
       "      <td>A.A. Acheampong</td>\n",
       "      <td>201448701</td>\n",
       "      <td>0.0</td>\n",
       "      <td>1.0</td>\n",
       "      <td>1.0</td>\n",
       "      <td>1</td>\n",
       "      <td>1.0</td>\n",
       "    </tr>\n",
       "    <tr>\n",
       "      <th>8</th>\n",
       "      <td>2437395452</td>\n",
       "      <td>A A Ajayi</td>\n",
       "      <td>45711476</td>\n",
       "      <td>0.0</td>\n",
       "      <td>1.0</td>\n",
       "      <td>0.0</td>\n",
       "      <td>1</td>\n",
       "      <td>0.0</td>\n",
       "    </tr>\n",
       "    <tr>\n",
       "      <th>...</th>\n",
       "      <td>...</td>\n",
       "      <td>...</td>\n",
       "      <td>...</td>\n",
       "      <td>...</td>\n",
       "      <td>...</td>\n",
       "      <td>...</td>\n",
       "      <td>...</td>\n",
       "      <td>...</td>\n",
       "    </tr>\n",
       "    <tr>\n",
       "      <th>1290136</th>\n",
       "      <td>2263707641</td>\n",
       "      <td>Е. Viteva</td>\n",
       "      <td>NONE</td>\n",
       "      <td>0.0</td>\n",
       "      <td>1.0</td>\n",
       "      <td>0.0</td>\n",
       "      <td>1</td>\n",
       "      <td>0.0</td>\n",
       "    </tr>\n",
       "    <tr>\n",
       "      <th>1290137</th>\n",
       "      <td>3022633000</td>\n",
       "      <td>Е Е Garanina</td>\n",
       "      <td>21203515</td>\n",
       "      <td>0.0</td>\n",
       "      <td>1.0</td>\n",
       "      <td>0.0</td>\n",
       "      <td>1</td>\n",
       "      <td>0.0</td>\n",
       "    </tr>\n",
       "    <tr>\n",
       "      <th>1290138</th>\n",
       "      <td>2688406403</td>\n",
       "      <td>Мikhail Pashenkov</td>\n",
       "      <td>NONE</td>\n",
       "      <td>0.0</td>\n",
       "      <td>1.0</td>\n",
       "      <td>0.0</td>\n",
       "      <td>1</td>\n",
       "      <td>0.0</td>\n",
       "    </tr>\n",
       "    <tr>\n",
       "      <th>1290139</th>\n",
       "      <td>2495571327</td>\n",
       "      <td>І. L. Popovych</td>\n",
       "      <td>149851306</td>\n",
       "      <td>0.0</td>\n",
       "      <td>1.0</td>\n",
       "      <td>0.0</td>\n",
       "      <td>1</td>\n",
       "      <td>0.0</td>\n",
       "    </tr>\n",
       "    <tr>\n",
       "      <th>1290140</th>\n",
       "      <td>2732206803</td>\n",
       "      <td>聡 宇多</td>\n",
       "      <td>42766147</td>\n",
       "      <td>0.0</td>\n",
       "      <td>1.0</td>\n",
       "      <td>0.0</td>\n",
       "      <td>1</td>\n",
       "      <td>0.0</td>\n",
       "    </tr>\n",
       "  </tbody>\n",
       "</table>\n",
       "<p>404067 rows × 8 columns</p>\n",
       "</div>"
      ],
      "text/plain": [
       "           authorId               name affiliation  queryLevel  \\\n",
       "2        2806045187     A.A.A. Pradhan     5023651         0.0   \n",
       "3        2974182613    A. A. Aarnisalo        NONE         0.0   \n",
       "5        2840631567   A A Abdel-Rahman  1309191912         0.0   \n",
       "6        2639413062    A.A. Acheampong   201448701         0.0   \n",
       "8        2437395452          A A Ajayi    45711476         0.0   \n",
       "...             ...                ...         ...         ...   \n",
       "1290136  2263707641          Е. Viteva        NONE         0.0   \n",
       "1290137  3022633000       Е Е Garanina    21203515         0.0   \n",
       "1290138  2688406403  Мikhail Pashenkov        NONE         0.0   \n",
       "1290139  2495571327     І. L. Popovych   149851306         0.0   \n",
       "1290140  2732206803               聡 宇多    42766147         0.0   \n",
       "\n",
       "         nb_publi_neuro  AIscore_neuro  nb_publi_all  AIscore_all  \n",
       "2                   1.0            0.0             1          0.0  \n",
       "3                   1.0            0.0             2          0.0  \n",
       "5                   1.0            0.0             1          0.0  \n",
       "6                   1.0            1.0             1          1.0  \n",
       "8                   1.0            0.0             1          0.0  \n",
       "...                 ...            ...           ...          ...  \n",
       "1290136             1.0            0.0             1          0.0  \n",
       "1290137             1.0            0.0             1          0.0  \n",
       "1290138             1.0            0.0             1          0.0  \n",
       "1290139             1.0            0.0             1          0.0  \n",
       "1290140             1.0            0.0             1          0.0  \n",
       "\n",
       "[404067 rows x 8 columns]"
      ]
     },
     "execution_count": 62,
     "metadata": {},
     "output_type": "execute_result"
    }
   ],
   "source": [
    "authorsInPapers_reject = authorsInPapers[~((authorsInPapers['nb_publi_all']>=3) &\n",
    "                                           (authorsInPapers['authorId'].isin(authors_careers_sub['authorId'])))]\n",
    "authorsInPapers_reject"
   ]
  },
  {
   "cell_type": "code",
   "execution_count": 420,
   "id": "3e69d384",
   "metadata": {},
   "outputs": [
    {
     "data": {
      "text/plain": [
       "0.011696180341563714"
      ]
     },
     "execution_count": 420,
     "metadata": {},
     "output_type": "execute_result"
    }
   ],
   "source": [
    "np.quantile(authorsInPapers_reject['AIscore_all'],q=0.97)"
   ]
  },
  {
   "cell_type": "code",
   "execution_count": 325,
   "id": "3175a1ea",
   "metadata": {
    "scrolled": true
   },
   "outputs": [
    {
     "data": {
      "image/png": "[encoded data removed]",
      "text/plain": [
       "<Figure size 432x288 with 1 Axes>"
      ]
     },
     "metadata": {
      "needs_background": "light"
     },
     "output_type": "display_data"
    }
   ],
   "source": [
    "plt.hist(authorsInPapers_reject['AIscore_all'],bins=100)\n",
    "plt.yscale('log')"
   ]
  },
  {
   "cell_type": "code",
   "execution_count": 331,
   "id": "714140a9",
   "metadata": {
    "scrolled": true
   },
   "outputs": [
    {
     "data": {
      "image/png": "[encoded data removed]",
      "text/plain": [
       "<Figure size 432x288 with 1 Axes>"
      ]
     },
     "metadata": {
      "needs_background": "light"
     },
     "output_type": "display_data"
    }
   ],
   "source": [
    "plt.hist(authorsInPapers_reject['nb_publi_all'],bins=100)\n",
    "plt.yscale('log')"
   ]
  },
  {
   "cell_type": "code",
   "execution_count": 409,
   "id": "376f0a1c",
   "metadata": {},
   "outputs": [
    {
     "data": {
      "text/plain": [
       "0.945664739884393"
      ]
     },
     "execution_count": 409,
     "metadata": {},
     "output_type": "execute_result"
    }
   ],
   "source": [
    "# share of authors having AIscore_all=1 in the rejected wrt to the whole set\n",
    "len(authorsInPapers_reject[authorsInPapers_reject['AIscore_all']==1])/len(authorsInPapers[authorsInPapers['AIscore_all']==1])"
   ]
  },
  {
   "cell_type": "code",
   "execution_count": 349,
   "id": "e4d46714",
   "metadata": {},
   "outputs": [
    {
     "data": {
      "image/png": "[encoded data removed]",
      "text/plain": [
       "<Figure size 432x288 with 1 Axes>"
      ]
     },
     "metadata": {
      "needs_background": "light"
     },
     "output_type": "display_data"
    }
   ],
   "source": [
    "plt.hist(collabNet_timeagg[collabNet_timeagg['author1'].isin(authorsInPapers_reject['authorId'])|\n",
    "                  collabNet_timeagg['author2'].isin(authorsInPapers_reject['authorId'])]['w'], bins= 100)\n",
    "plt.yscale('log')"
   ]
  },
  {
   "cell_type": "markdown",
   "id": "500a3cfa",
   "metadata": {},
   "source": [
    "Results: removing the problematic researchers from the whole collaboration network rejects 21.8% of the edges and keeps only 67.5% of the authors. Though the weight distribution is not altered on little values, only some rare values disappears at the end of the queue. According to the results below, they are mainly publishing in pure neuroscience not AI (to prove) and around 97% of them have an AI_score lower than 1% among their total number of publications. "
   ]
  },
  {
   "cell_type": "markdown",
   "id": "bed7bbda",
   "metadata": {},
   "source": [
    "#### Check the potential loss of the time collaboration network in AI research if we remove the problematic authors in it"
   ]
  },
  {
   "cell_type": "code",
   "execution_count": 119,
   "id": "f657c932",
   "metadata": {},
   "outputs": [],
   "source": [
    "papersAI['authors'] = papersAI['authors'].apply(lambda x: eval(x))"
   ]
  },
  {
   "cell_type": "code",
   "execution_count": 68,
   "id": "1467f46c",
   "metadata": {},
   "outputs": [
    {
     "data": {
      "text/plain": [
       "0.9826337773628715"
      ]
     },
     "execution_count": 68,
     "metadata": {},
     "output_type": "execute_result"
    }
   ],
   "source": [
    "# share of authors in the subset having complete carrer and at least 3 publications\n",
    "len(set(papersAI.explode('authors')['authors'])&set(authors_careers_sub['authorId']))/len(set(papersAI.explode('authors')['authors']))"
   ]
  },
  {
   "cell_type": "code",
   "execution_count": 69,
   "id": "5c6220f5",
   "metadata": {},
   "outputs": [
    {
     "data": {
      "text/plain": [
       "0.017366222637128503"
      ]
     },
     "execution_count": 69,
     "metadata": {},
     "output_type": "execute_result"
    }
   ],
   "source": [
    "1-0.9826337773628715"
   ]
  },
  {
   "cell_type": "code",
   "execution_count": 67,
   "id": "963322f8",
   "metadata": {},
   "outputs": [
    {
     "data": {
      "text/html": [
       "<div>\n",
       "<style scoped>\n",
       "    .dataframe tbody tr th:only-of-type {\n",
       "        vertical-align: middle;\n",
       "    }\n",
       "\n",
       "    .dataframe tbody tr th {\n",
       "        vertical-align: top;\n",
       "    }\n",
       "\n",
       "    .dataframe thead th {\n",
       "        text-align: right;\n",
       "    }\n",
       "</style>\n",
       "<table border=\"1\" class=\"dataframe\">\n",
       "  <thead>\n",
       "    <tr style=\"text-align: right;\">\n",
       "      <th></th>\n",
       "      <th>authorId</th>\n",
       "      <th>beginYear</th>\n",
       "      <th>wos_begin</th>\n",
       "      <th>lastYear</th>\n",
       "      <th>wos_last</th>\n",
       "      <th>deltaYear</th>\n",
       "    </tr>\n",
       "  </thead>\n",
       "  <tbody>\n",
       "    <tr>\n",
       "      <th>1190</th>\n",
       "      <td>16708460</td>\n",
       "      <td>1965</td>\n",
       "      <td>[-1]</td>\n",
       "      <td>2018</td>\n",
       "      <td>[-1]</td>\n",
       "      <td>53</td>\n",
       "    </tr>\n",
       "    <tr>\n",
       "      <th>2008</th>\n",
       "      <td>27601079</td>\n",
       "      <td>1960</td>\n",
       "      <td>[-1]</td>\n",
       "      <td>2019</td>\n",
       "      <td>[[Zoology], [Multidisciplinary Sciences], [Psy...</td>\n",
       "      <td>59</td>\n",
       "    </tr>\n",
       "    <tr>\n",
       "      <th>5215</th>\n",
       "      <td>73820803</td>\n",
       "      <td>1963</td>\n",
       "      <td>[[Acoustics, Audiology &amp; Speech-Language Patho...</td>\n",
       "      <td>2019</td>\n",
       "      <td>[[Psychology]]</td>\n",
       "      <td>56</td>\n",
       "    </tr>\n",
       "    <tr>\n",
       "      <th>6938</th>\n",
       "      <td>98431680</td>\n",
       "      <td>1966</td>\n",
       "      <td>[-1]</td>\n",
       "      <td>2019</td>\n",
       "      <td>[-1, [Telecommunications, Engineering, Compute...</td>\n",
       "      <td>53</td>\n",
       "    </tr>\n",
       "    <tr>\n",
       "      <th>8274</th>\n",
       "      <td>118171638</td>\n",
       "      <td>1962</td>\n",
       "      <td>[[Cell Biology, Biochemistry &amp; Molecular Biolo...</td>\n",
       "      <td>2019</td>\n",
       "      <td>[[Clinical Neurology, Psychiatry, Neuroimaging]]</td>\n",
       "      <td>57</td>\n",
       "    </tr>\n",
       "    <tr>\n",
       "      <th>...</th>\n",
       "      <td>...</td>\n",
       "      <td>...</td>\n",
       "      <td>...</td>\n",
       "      <td>...</td>\n",
       "      <td>...</td>\n",
       "      <td>...</td>\n",
       "    </tr>\n",
       "    <tr>\n",
       "      <th>1288275</th>\n",
       "      <td>3034041981</td>\n",
       "      <td>1952</td>\n",
       "      <td>[-1, -1]</td>\n",
       "      <td>2018</td>\n",
       "      <td>[[Neurosciences, Psychiatry], [Clinical Neurol...</td>\n",
       "      <td>66</td>\n",
       "    </tr>\n",
       "    <tr>\n",
       "      <th>1288379</th>\n",
       "      <td>3034173479</td>\n",
       "      <td>1966</td>\n",
       "      <td>[[Cell Biology, Physiology]]</td>\n",
       "      <td>2019</td>\n",
       "      <td>[[Neurosciences]]</td>\n",
       "      <td>53</td>\n",
       "    </tr>\n",
       "    <tr>\n",
       "      <th>1289210</th>\n",
       "      <td>3034977899</td>\n",
       "      <td>1957</td>\n",
       "      <td>[-1]</td>\n",
       "      <td>2019</td>\n",
       "      <td>[[Pharmacology &amp; Pharmacy, Genetics &amp; Heredity...</td>\n",
       "      <td>62</td>\n",
       "    </tr>\n",
       "    <tr>\n",
       "      <th>1289401</th>\n",
       "      <td>3035170736</td>\n",
       "      <td>1953</td>\n",
       "      <td>[[Clinical Neurology]]</td>\n",
       "      <td>2019</td>\n",
       "      <td>[[Health Policy &amp; Services], [Surgery, Clinica...</td>\n",
       "      <td>66</td>\n",
       "    </tr>\n",
       "    <tr>\n",
       "      <th>1289476</th>\n",
       "      <td>3035240190</td>\n",
       "      <td>1838</td>\n",
       "      <td>[[Medicine]]</td>\n",
       "      <td>2019</td>\n",
       "      <td>[[Neurosciences, Psychology], [Medicine], [Oto...</td>\n",
       "      <td>181</td>\n",
       "    </tr>\n",
       "  </tbody>\n",
       "</table>\n",
       "<p>1447 rows × 6 columns</p>\n",
       "</div>"
      ],
      "text/plain": [
       "           authorId  beginYear  \\\n",
       "1190       16708460       1965   \n",
       "2008       27601079       1960   \n",
       "5215       73820803       1963   \n",
       "6938       98431680       1966   \n",
       "8274      118171638       1962   \n",
       "...             ...        ...   \n",
       "1288275  3034041981       1952   \n",
       "1288379  3034173479       1966   \n",
       "1289210  3034977899       1957   \n",
       "1289401  3035170736       1953   \n",
       "1289476  3035240190       1838   \n",
       "\n",
       "                                                 wos_begin  lastYear  \\\n",
       "1190                                                  [-1]      2018   \n",
       "2008                                                  [-1]      2019   \n",
       "5215     [[Acoustics, Audiology & Speech-Language Patho...      2019   \n",
       "6938                                                  [-1]      2019   \n",
       "8274     [[Cell Biology, Biochemistry & Molecular Biolo...      2019   \n",
       "...                                                    ...       ...   \n",
       "1288275                                           [-1, -1]      2018   \n",
       "1288379                       [[Cell Biology, Physiology]]      2019   \n",
       "1289210                                               [-1]      2019   \n",
       "1289401                             [[Clinical Neurology]]      2019   \n",
       "1289476                                       [[Medicine]]      2019   \n",
       "\n",
       "                                                  wos_last  deltaYear  \n",
       "1190                                                  [-1]         53  \n",
       "2008     [[Zoology], [Multidisciplinary Sciences], [Psy...         59  \n",
       "5215                                        [[Psychology]]         56  \n",
       "6938     [-1, [Telecommunications, Engineering, Compute...         53  \n",
       "8274      [[Clinical Neurology, Psychiatry, Neuroimaging]]         57  \n",
       "...                                                    ...        ...  \n",
       "1288275  [[Neurosciences, Psychiatry], [Clinical Neurol...         66  \n",
       "1288379                                  [[Neurosciences]]         53  \n",
       "1289210  [[Pharmacology & Pharmacy, Genetics & Heredity...         62  \n",
       "1289401  [[Health Policy & Services], [Surgery, Clinica...         66  \n",
       "1289476  [[Neurosciences, Psychology], [Medicine], [Oto...        181  \n",
       "\n",
       "[1447 rows x 6 columns]"
      ]
     },
     "execution_count": 67,
     "metadata": {},
     "output_type": "execute_result"
    }
   ],
   "source": [
    "# who are the rejected ones?\n",
    "authors_rejected = set(papersAI.explode('authors')['authors'])-set(authors_careers_sub['authorId'])\n",
    "authors_rejected = authors_careers[authors_careers['authorId'].isin(authors_rejected)]\n",
    "authors_rejected"
   ]
  },
  {
   "cell_type": "code",
   "execution_count": 70,
   "id": "fb2e58e6",
   "metadata": {
    "scrolled": true
   },
   "outputs": [
    {
     "data": {
      "text/plain": [
       "(array([  1., 308., 234., 100., 161., 100.,  42.,  64.,  44.,  21.,  37.,\n",
       "         41.,  19.,   5.,  10.,  14.,   7.,   7.,  12.,   4.,   9.,   8.,\n",
       "         15.,   5.,   5.,   7.,   3.,   3.,   6.,   2.,   2.,   1.,   6.,\n",
       "          1.,   5.,   7.,   1.,   4.,   8.,   1.,   4.,  21.,   2.,   2.,\n",
       "          1.,   2.,   0.,   0.,   2.,   3.,   1.,   2.,   2.,   2.,   1.,\n",
       "          2.,   2.,   2.,   5.,   1.,   0.,   1.,   3.,   2.,   1.,   0.,\n",
       "          2.,   1.,   3.,   0.,   0.,   2.,   0.,   0.,   1.,   6.,   1.,\n",
       "          6.,   1.,   1.,   2.,   3.,   0.,   1.,   0.,   2.,   0.,   0.,\n",
       "          2.,   0.,   0.,   0.,   0.,   0.,   1.,   0.,   0.,   1.,   0.,\n",
       "         17.]),\n",
       " array([ 49. ,  50.7,  52.4,  54.1,  55.8,  57.5,  59.2,  60.9,  62.6,\n",
       "         64.3,  66. ,  67.7,  69.4,  71.1,  72.8,  74.5,  76.2,  77.9,\n",
       "         79.6,  81.3,  83. ,  84.7,  86.4,  88.1,  89.8,  91.5,  93.2,\n",
       "         94.9,  96.6,  98.3, 100. , 101.7, 103.4, 105.1, 106.8, 108.5,\n",
       "        110.2, 111.9, 113.6, 115.3, 117. , 118.7, 120.4, 122.1, 123.8,\n",
       "        125.5, 127.2, 128.9, 130.6, 132.3, 134. , 135.7, 137.4, 139.1,\n",
       "        140.8, 142.5, 144.2, 145.9, 147.6, 149.3, 151. , 152.7, 154.4,\n",
       "        156.1, 157.8, 159.5, 161.2, 162.9, 164.6, 166.3, 168. , 169.7,\n",
       "        171.4, 173.1, 174.8, 176.5, 178.2, 179.9, 181.6, 183.3, 185. ,\n",
       "        186.7, 188.4, 190.1, 191.8, 193.5, 195.2, 196.9, 198.6, 200.3,\n",
       "        202. , 203.7, 205.4, 207.1, 208.8, 210.5, 212.2, 213.9, 215.6,\n",
       "        217.3, 219. ]),\n",
       " <BarContainer object of 100 artists>)"
      ]
     },
     "execution_count": 70,
     "metadata": {},
     "output_type": "execute_result"
    },
    {
     "data": {
      "image/png": "[encoded data removed]",
      "text/plain": [
       "<Figure size 432x288 with 1 Axes>"
      ]
     },
     "metadata": {
      "needs_background": "light"
     },
     "output_type": "display_data"
    }
   ],
   "source": [
    "plt.hist(authors_rejected['deltaYear'],bins=100)\n",
    "#plt.yscale('log')"
   ]
  },
  {
   "cell_type": "code",
   "execution_count": 403,
   "id": "5502cfad",
   "metadata": {
    "scrolled": true
   },
   "outputs": [
    {
     "name": "stdout",
     "output_type": "stream",
     "text": [
      "0.09179494957154774\n"
     ]
    },
    {
     "data": {
      "image/png": "[encoded data removed]",
      "text/plain": [
       "<Figure size 432x288 with 1 Axes>"
      ]
     },
     "metadata": {
      "needs_background": "light"
     },
     "output_type": "display_data"
    }
   ],
   "source": [
    "# when are situated their main publications?\n",
    "p = papersAI.explode('authors')\n",
    "publis = p[p['authors'].isin(authors_rejected['authorId'])].drop_duplicates('id')\n",
    "plt.hist(publis['publicationYear'],bins=100)\n",
    "print(len(publis)/len(set(papersAI['id'])))"
   ]
  },
  {
   "cell_type": "code",
   "execution_count": 389,
   "id": "f2511a56",
   "metadata": {},
   "outputs": [],
   "source": [
    "meta_authors_rejected = authorsInPapers[authorsInPapers['authorId'].isin(authors_rejected['authorId'])]"
   ]
  },
  {
   "cell_type": "code",
   "execution_count": 390,
   "id": "307c912b",
   "metadata": {
    "scrolled": true
   },
   "outputs": [
    {
     "data": {
      "text/plain": [
       "(array([ 59., 164., 143., 160., 137., 128.,  90.,  64.,  76.,  54.,  49.,\n",
       "         42.,  33.,  27.,  17.,  24.,  18.,  21.,  20.,   8.,   5.,  13.,\n",
       "         10.,   8.,   5.,   3.,   6.,   5.,   2.,   4.,   4.,   4.,   4.,\n",
       "          2.,   4.,   3.,   1.,   1.,   4.,   1.,   4.,   1.,   0.,   0.,\n",
       "          2.,   1.,   0.,   0.,   0.,   1.,   0.,   1.,   1.,   0.,   0.,\n",
       "          1.,   1.,   0.,   2.,   1.,   1.,   0.,   1.,   0.,   0.,   0.,\n",
       "          0.,   0.,   1.,   0.,   0.,   0.,   1.,   0.,   0.,   0.,   0.,\n",
       "          0.,   0.,   0.,   0.,   1.,   0.,   0.,   1.,   0.,   0.,   0.,\n",
       "          0.,   0.,   0.,   0.,   0.,   0.,   0.,   0.,   0.,   0.,   0.,\n",
       "          2.]),\n",
       " array([2.00000e+00, 5.08100e+01, 9.96200e+01, 1.48430e+02, 1.97240e+02,\n",
       "        2.46050e+02, 2.94860e+02, 3.43670e+02, 3.92480e+02, 4.41290e+02,\n",
       "        4.90100e+02, 5.38910e+02, 5.87720e+02, 6.36530e+02, 6.85340e+02,\n",
       "        7.34150e+02, 7.82960e+02, 8.31770e+02, 8.80580e+02, 9.29390e+02,\n",
       "        9.78200e+02, 1.02701e+03, 1.07582e+03, 1.12463e+03, 1.17344e+03,\n",
       "        1.22225e+03, 1.27106e+03, 1.31987e+03, 1.36868e+03, 1.41749e+03,\n",
       "        1.46630e+03, 1.51511e+03, 1.56392e+03, 1.61273e+03, 1.66154e+03,\n",
       "        1.71035e+03, 1.75916e+03, 1.80797e+03, 1.85678e+03, 1.90559e+03,\n",
       "        1.95440e+03, 2.00321e+03, 2.05202e+03, 2.10083e+03, 2.14964e+03,\n",
       "        2.19845e+03, 2.24726e+03, 2.29607e+03, 2.34488e+03, 2.39369e+03,\n",
       "        2.44250e+03, 2.49131e+03, 2.54012e+03, 2.58893e+03, 2.63774e+03,\n",
       "        2.68655e+03, 2.73536e+03, 2.78417e+03, 2.83298e+03, 2.88179e+03,\n",
       "        2.93060e+03, 2.97941e+03, 3.02822e+03, 3.07703e+03, 3.12584e+03,\n",
       "        3.17465e+03, 3.22346e+03, 3.27227e+03, 3.32108e+03, 3.36989e+03,\n",
       "        3.41870e+03, 3.46751e+03, 3.51632e+03, 3.56513e+03, 3.61394e+03,\n",
       "        3.66275e+03, 3.71156e+03, 3.76037e+03, 3.80918e+03, 3.85799e+03,\n",
       "        3.90680e+03, 3.95561e+03, 4.00442e+03, 4.05323e+03, 4.10204e+03,\n",
       "        4.15085e+03, 4.19966e+03, 4.24847e+03, 4.29728e+03, 4.34609e+03,\n",
       "        4.39490e+03, 4.44371e+03, 4.49252e+03, 4.54133e+03, 4.59014e+03,\n",
       "        4.63895e+03, 4.68776e+03, 4.73657e+03, 4.78538e+03, 4.83419e+03,\n",
       "        4.88300e+03]),\n",
       " <BarContainer object of 100 artists>)"
      ]
     },
     "execution_count": 390,
     "metadata": {},
     "output_type": "execute_result"
    },
    {
     "data": {
      "image/png": "[encoded data removed]",
      "text/plain": [
       "<Figure size 432x288 with 1 Axes>"
      ]
     },
     "metadata": {
      "needs_background": "light"
     },
     "output_type": "display_data"
    }
   ],
   "source": [
    "# check the distribution of the number of publications\n",
    "plt.hist(meta_authors_rejected['nb_publi_all'],bins=100)\n",
    "#plt.yscale('log')"
   ]
  },
  {
   "cell_type": "code",
   "execution_count": 391,
   "id": "aa68ccde",
   "metadata": {
    "scrolled": true
   },
   "outputs": [
    {
     "data": {
      "text/plain": [
       "(array([427., 324., 195., 119.,  62.,  43.,  34.,  37.,  23.,  22.,  19.,\n",
       "          9.,   9.,   8.,   7.,   5.,   3.,   1.,   5.,   6.,   3.,   3.,\n",
       "          5.,   8.,   1.,   6.,   1.,   1.,   3.,   5.,   3.,   2.,   4.,\n",
       "          2.,   2.,   1.,   1.,   3.,   3.,   0.,   0.,   0.,   2.,   1.,\n",
       "          2.,   1.,   1.,   1.,   1.,   0.,   1.,   1.,   1.,   1.,   0.,\n",
       "          0.,   2.,   1.,   0.,   2.,   0.,   0.,   0.,   0.,   0.,   0.,\n",
       "          1.,   0.,   0.,   0.,   0.,   1.,   1.,   0.,   0.,   1.,   0.,\n",
       "          0.,   0.,   1.,   0.,   1.,   2.,   0.,   0.,   0.,   0.,   0.,\n",
       "          3.,   0.,   0.,   0.,   0.,   0.,   1.,   1.,   0.,   0.,   0.,\n",
       "          1.]),\n",
       " array([0.00067705, 0.00634038, 0.01200371, 0.01766705, 0.02333038,\n",
       "        0.02899371, 0.03465704, 0.04032038, 0.04598371, 0.05164704,\n",
       "        0.05731037, 0.06297371, 0.06863704, 0.07430037, 0.0799637 ,\n",
       "        0.08562704, 0.09129037, 0.0969537 , 0.10261704, 0.10828037,\n",
       "        0.1139437 , 0.11960703, 0.12527037, 0.1309337 , 0.13659703,\n",
       "        0.14226036, 0.1479237 , 0.15358703, 0.15925036, 0.16491369,\n",
       "        0.17057703, 0.17624036, 0.18190369, 0.18756702, 0.19323036,\n",
       "        0.19889369, 0.20455702, 0.21022035, 0.21588369, 0.22154702,\n",
       "        0.22721035, 0.23287369, 0.23853702, 0.24420035, 0.24986368,\n",
       "        0.25552702, 0.26119035, 0.26685368, 0.27251701, 0.27818035,\n",
       "        0.28384368, 0.28950701, 0.29517034, 0.30083368, 0.30649701,\n",
       "        0.31216034, 0.31782367, 0.32348701, 0.32915034, 0.33481367,\n",
       "        0.340477  , 0.34614034, 0.35180367, 0.357467  , 0.36313034,\n",
       "        0.36879367, 0.374457  , 0.38012033, 0.38578367, 0.391447  ,\n",
       "        0.39711033, 0.40277366, 0.408437  , 0.41410033, 0.41976366,\n",
       "        0.42542699, 0.43109033, 0.43675366, 0.44241699, 0.44808032,\n",
       "        0.45374366, 0.45940699, 0.46507032, 0.47073365, 0.47639699,\n",
       "        0.48206032, 0.48772365, 0.49338699, 0.49905032, 0.50471365,\n",
       "        0.51037698, 0.51604032, 0.52170365, 0.52736698, 0.53303031,\n",
       "        0.53869365, 0.54435698, 0.55002031, 0.55568364, 0.56134698,\n",
       "        0.56701031]),\n",
       " <BarContainer object of 100 artists>)"
      ]
     },
     "execution_count": 391,
     "metadata": {},
     "output_type": "execute_result"
    },
    {
     "data": {
      "image/png": "[encoded data removed]",
      "text/plain": [
       "<Figure size 432x288 with 1 Axes>"
      ]
     },
     "metadata": {
      "needs_background": "light"
     },
     "output_type": "display_data"
    }
   ],
   "source": [
    "plt.hist(meta_authors_rejected['AIscore_all'],bins=100)\n",
    "#plt.yscale('log')"
   ]
  },
  {
   "cell_type": "code",
   "execution_count": 354,
   "id": "ce3b0c30",
   "metadata": {},
   "outputs": [
    {
     "name": "stderr",
     "output_type": "stream",
     "text": [
      "100%|███████████████████████████████████████████| 50/50 [00:00<00:00, 91.39it/s]\n"
     ]
    }
   ],
   "source": [
    "# study the sub collaboration network in AI\n",
    "cn = {}\n",
    "for y in tqdm(range(1970,2020)):\n",
    "    for authors in papersAI[papersAI['publicationYear']==y]['authors']:\n",
    "        if eval(authors) != -1:\n",
    "            a = list(set(eval(authors))) # to avoid the case where authors appear twice in a single publication\n",
    "            for i in range(len(a)-1):\n",
    "                for j in range(i+1,len(a)):\n",
    "                    if (a[i],a[j],y) in cn:\n",
    "                        cn[(a[i],a[j],y)] += 1\n",
    "                    elif (a[j],a[i],y) in cn:\n",
    "                        cn[(a[j],a[i],y)] += 1\n",
    "                    else:\n",
    "                        cn[(a[i],a[j],y)] = 1\n",
    "collabNet_NeuroAI = [(i,j,y,k) for ((i,j,y),k) in cn.items()]\n",
    "collabNet_NeuroAI = pd.DataFrame.from_records(collabNet_NeuroAI, columns=['author1','author2','year','w'])"
   ]
  },
  {
   "cell_type": "code",
   "execution_count": 375,
   "id": "0f1083ed",
   "metadata": {},
   "outputs": [
    {
     "data": {
      "text/plain": [
       "0.9562142020028528"
      ]
     },
     "execution_count": 375,
     "metadata": {},
     "output_type": "execute_result"
    }
   ],
   "source": [
    "# share of total links of the subgraph of AI research if we remove problematic authors publishing in it\n",
    "sum(collabNet_NeuroAI[collabNet_NeuroAI['author1'].isin(authors_careers_sub['authorId'])&\n",
    "                  collabNet_NeuroAI['author2'].isin(authors_careers_sub['authorId'])]['w'])/sum(collabNet_NeuroAI['w'])"
   ]
  },
  {
   "cell_type": "markdown",
   "id": "b45f8df2",
   "metadata": {},
   "source": [
    "Results: the authors that have been removed in this little subset are not much driving the whole research of AI in neuroscience. They represents 1.7% of the subset of authors over only 9.2% of the publications of the subset $\\mathcal{P}\\cap AI$. Removing them from the collaboration network conserves 95.6% of it."
   ]
  }
 ],
 "metadata": {
  "kernelspec": {
   "display_name": "my_env",
   "language": "python",
   "name": "my_env"
  },
  "language_info": {
   "codemirror_mode": {
    "name": "ipython",
    "version": 3
   },
   "file_extension": ".py",
   "mimetype": "text/x-python",
   "name": "python",
   "nbconvert_exporter": "python",
   "pygments_lexer": "ipython3",
   "version": "3.8.10"
  }
 },
 "nbformat": 4,
 "nbformat_minor": 5
}
