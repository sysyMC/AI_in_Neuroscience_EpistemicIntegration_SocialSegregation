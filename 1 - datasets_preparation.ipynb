{
 "cells": [
  {
   "cell_type": "markdown",
   "id": "4fc65f93",
   "metadata": {},
   "source": [
    "# Librairies and functions"
   ]
  },
  {
   "cell_type": "code",
   "execution_count": 1,
   "id": "cb6a8f28",
   "metadata": {},
   "outputs": [],
   "source": [
    "import numpy as np\n",
    "import pandas as pd\n",
    "import igraph as ig\n",
    "import networkx as nx\n",
    "from collections import Counter\n",
    "import matplotlib.pyplot as plt\n",
    "import json, re, gc, requests, os\n",
    "from tqdm import tqdm"
   ]
  },
  {
   "cell_type": "code",
   "execution_count": 2,
   "id": "cea33a4f",
   "metadata": {},
   "outputs": [],
   "source": [
    "plt.ion()\n",
    "plt.rc('text', usetex=True)\n",
    "plt.rc('font', family='serif')\n",
    "n = 2\n",
    "plt.rc('axes', linewidth=n)\n",
    "ticksSizeMajor = 10\n",
    "ticksSizeMinor = 5\n",
    "ticksWidth = n\n",
    "ticksLabelSize = 20\n",
    "axisLabelSize = 25\n",
    "titleSize = 30\n",
    "legendSize = 20"
   ]
  },
  {
   "cell_type": "code",
   "execution_count": null,
   "id": "6fd647bd",
   "metadata": {},
   "outputs": [],
   "source": [
    "path_input = r'/my/path/input'\n",
    "path_output = r'/my/path/output'"
   ]
  },
  {
   "cell_type": "markdown",
   "id": "75f35975",
   "metadata": {},
   "source": [
    "# 1 - Open the main files\n",
    "\n",
    "- `Papers_neuroscience_all.json` \n",
    "- `Papers_neuroscience_and_AI.json`\n",
    "- `ExtraPapers_from_authors.csv`\n",
    "- `citationNetwork.csv`\n",
    "- `journals_MAG2WOS.csv`\n",
    "- `AI_kw_classification.txt`\n",
    "- `author2paper.csv`\n",
    "- `authorId_name_affiliation.csv`"
   ]
  },
  {
   "cell_type": "markdown",
   "id": "3607a2b3",
   "metadata": {},
   "source": [
    "## 1.1 - Read the whole large database of neuroscience papers"
   ]
  },
  {
   "cell_type": "code",
   "execution_count": 5,
   "id": "9568d414",
   "metadata": {},
   "outputs": [],
   "source": [
    "with open(f'{path_input}Papers_neuroscience_all.json', 'r') as f:\n",
    "    data = json.load(f)\n",
    "data = pd.DataFrame.from_dict(data)"
   ]
  },
  {
   "cell_type": "code",
   "execution_count": 7,
   "id": "bbd46ac4",
   "metadata": {},
   "outputs": [
    {
     "data": {
      "text/plain": [
       "Index(['id', ' publicationDate', ' issueIdentifier', ' created', ' publisher',\n",
       "       ' volume', ' startingPage', ' endingPage', ' citationCount', ' doi',\n",
       "       ' title', ' referenceCount', ' appearsInJournal', 'queryLevel',\n",
       "       'authors', ' bookTitle', ' appearsInConferenceSeries',\n",
       "       ' appearsInConferenceInstance'],\n",
       "      dtype='object')"
      ]
     },
     "execution_count": 7,
     "metadata": {},
     "output_type": "execute_result"
    }
   ],
   "source": [
    "data.columns"
   ]
  },
  {
   "cell_type": "markdown",
   "id": "11d53124",
   "metadata": {},
   "source": [
    "## 1.2 - Read the whole citation network containing no isolated nodes, ie. total degree $\\neq$ 0\n",
    "Here one citation link is directed such that 'citing' is 'source' and 'cited' is 'target'"
   ]
  },
  {
   "cell_type": "code",
   "execution_count": null,
   "id": "3ad43626",
   "metadata": {},
   "outputs": [],
   "source": [
    "CN = ig.Graph.DataFrame(pd.read_csv(f'{path_input}citationNetwork.csv', sep=',', usecols=['citing', 'cited']), directed=True)\n",
    "nodes = [CN.vs[i]['name'] for i in range(len(CN.vs))]"
   ]
  },
  {
   "cell_type": "markdown",
   "id": "6d844c6a",
   "metadata": {},
   "source": [
    "# 2 - Build a global egocentered dataset for citation network study\n",
    "Build a subdataframe containing only papers containing at least one edge (coming inside or outside) in the whole citation network. We consider here only first 'in' and 'out' level of citation.\n",
    "\n",
    "The index \"queryLevel\" index indicates here the presence of a given article inside the originally extracted neuroscience dataset (value 0, egocentered) or not (value 1, those added for the citation network)."
   ]
  },
  {
   "cell_type": "code",
   "execution_count": 10,
   "id": "d769a163",
   "metadata": {
    "scrolled": false
   },
   "outputs": [
    {
     "data": {
      "text/html": [
       "<div>\n",
       "<style scoped>\n",
       "    .dataframe tbody tr th:only-of-type {\n",
       "        vertical-align: middle;\n",
       "    }\n",
       "\n",
       "    .dataframe tbody tr th {\n",
       "        vertical-align: top;\n",
       "    }\n",
       "\n",
       "    .dataframe thead th {\n",
       "        text-align: right;\n",
       "    }\n",
       "</style>\n",
       "<table border=\"1\" class=\"dataframe\">\n",
       "  <thead>\n",
       "    <tr style=\"text-align: right;\">\n",
       "      <th></th>\n",
       "      <th>id</th>\n",
       "      <th>queryLevel</th>\n",
       "      <th>title</th>\n",
       "      <th>publicationYear</th>\n",
       "      <th>idJournal</th>\n",
       "      <th>authors</th>\n",
       "    </tr>\n",
       "  </thead>\n",
       "  <tbody>\n",
       "    <tr>\n",
       "      <th>0</th>\n",
       "      <td>2038431747</td>\n",
       "      <td>0</td>\n",
       "      <td>\"Topology learning solved by extended objects...</td>\n",
       "      <td>1994</td>\n",
       "      <td>207023548</td>\n",
       "      <td>[2163422316, 2419355596, 2289589767]</td>\n",
       "    </tr>\n",
       "    <tr>\n",
       "      <th>1</th>\n",
       "      <td>1010827267</td>\n",
       "      <td>0</td>\n",
       "      <td>\"Multipotent Stem Cells In Murine Sclera\"</td>\n",
       "      <td>2011</td>\n",
       "      <td>76304953</td>\n",
       "      <td>[2482935619, 2618323644, 2661080946, 266108094...</td>\n",
       "    </tr>\n",
       "    <tr>\n",
       "      <th>2</th>\n",
       "      <td>2411724805</td>\n",
       "      <td>0</td>\n",
       "      <td>\"Comparative study on results of prefrontal l...</td>\n",
       "      <td>1953</td>\n",
       "      <td>124451323</td>\n",
       "      <td>[2987759242, 2631162769, 2651065461]</td>\n",
       "    </tr>\n",
       "    <tr>\n",
       "      <th>3</th>\n",
       "      <td>2004877318</td>\n",
       "      <td>0</td>\n",
       "      <td>\"Ventral frontal deficits in psychopathy: Neu...</td>\n",
       "      <td>1995</td>\n",
       "      <td>165368631</td>\n",
       "      <td>[2572627602, 2278535667, 2800225512]</td>\n",
       "    </tr>\n",
       "    <tr>\n",
       "      <th>4</th>\n",
       "      <td>2025848838</td>\n",
       "      <td>0</td>\n",
       "      <td>\"Iowa gambling task in Parkinson&amp;#039</td>\n",
       "      <td>2011</td>\n",
       "      <td>35508115</td>\n",
       "      <td>[237217217, 2129310074, 2647734675]</td>\n",
       "    </tr>\n",
       "    <tr>\n",
       "      <th>...</th>\n",
       "      <td>...</td>\n",
       "      <td>...</td>\n",
       "      <td>...</td>\n",
       "      <td>...</td>\n",
       "      <td>...</td>\n",
       "      <td>...</td>\n",
       "    </tr>\n",
       "    <tr>\n",
       "      <th>14028712</th>\n",
       "      <td>2080374763</td>\n",
       "      <td>1</td>\n",
       "      <td>\"The spectral sensitivity of light-adapted ca...</td>\n",
       "      <td>1954</td>\n",
       "      <td>2090548</td>\n",
       "      <td>[2684787159]</td>\n",
       "    </tr>\n",
       "    <tr>\n",
       "      <th>14028713</th>\n",
       "      <td>2147483632</td>\n",
       "      <td>1</td>\n",
       "      <td>\"The 5-hydroxytryptamine (serotonin) receptor...</td>\n",
       "      <td>2013</td>\n",
       "      <td>136368880</td>\n",
       "      <td>[2145232497, 2336850026, 2671773241, 144628305...</td>\n",
       "    </tr>\n",
       "    <tr>\n",
       "      <th>14028714</th>\n",
       "      <td>2181038068</td>\n",
       "      <td>1</td>\n",
       "      <td>\"Giving machines humanlike eyes\"</td>\n",
       "      <td>2015</td>\n",
       "      <td>66124381</td>\n",
       "      <td>[2974799061, 2723812261, 2617766515]</td>\n",
       "    </tr>\n",
       "    <tr>\n",
       "      <th>14028715</th>\n",
       "      <td>2147483638</td>\n",
       "      <td>1</td>\n",
       "      <td>\"Effect of three anaesthetic techniques on is...</td>\n",
       "      <td>2004</td>\n",
       "      <td>33418846</td>\n",
       "      <td>[2308317210, 2070658732, 2496673173, 2930434804]</td>\n",
       "    </tr>\n",
       "    <tr>\n",
       "      <th>14028716</th>\n",
       "      <td>2315255800</td>\n",
       "      <td>1</td>\n",
       "      <td>\"Very high fluence collagen cross-linking as ...</td>\n",
       "      <td>2013</td>\n",
       "      <td>69264623</td>\n",
       "      <td>[2251267400]</td>\n",
       "    </tr>\n",
       "  </tbody>\n",
       "</table>\n",
       "<p>14028717 rows × 6 columns</p>\n",
       "</div>"
      ],
      "text/plain": [
       "                  id  queryLevel  \\\n",
       "0         2038431747           0   \n",
       "1         1010827267           0   \n",
       "2         2411724805           0   \n",
       "3         2004877318           0   \n",
       "4         2025848838           0   \n",
       "...              ...         ...   \n",
       "14028712  2080374763           1   \n",
       "14028713  2147483632           1   \n",
       "14028714  2181038068           1   \n",
       "14028715  2147483638           1   \n",
       "14028716  2315255800           1   \n",
       "\n",
       "                                                      title  publicationYear  \\\n",
       "0          \"Topology learning solved by extended objects...             1994   \n",
       "1                 \"Multipotent Stem Cells In Murine Sclera\"             2011   \n",
       "2          \"Comparative study on results of prefrontal l...             1953   \n",
       "3          \"Ventral frontal deficits in psychopathy: Neu...             1995   \n",
       "4                     \"Iowa gambling task in Parkinson&#039             2011   \n",
       "...                                                     ...              ...   \n",
       "14028712   \"The spectral sensitivity of light-adapted ca...             1954   \n",
       "14028713   \"The 5-hydroxytryptamine (serotonin) receptor...             2013   \n",
       "14028714                   \"Giving machines humanlike eyes\"             2015   \n",
       "14028715   \"Effect of three anaesthetic techniques on is...             2004   \n",
       "14028716   \"Very high fluence collagen cross-linking as ...             2013   \n",
       "\n",
       "          idJournal                                            authors  \n",
       "0         207023548               [2163422316, 2419355596, 2289589767]  \n",
       "1          76304953  [2482935619, 2618323644, 2661080946, 266108094...  \n",
       "2         124451323               [2987759242, 2631162769, 2651065461]  \n",
       "3         165368631               [2572627602, 2278535667, 2800225512]  \n",
       "4          35508115                [237217217, 2129310074, 2647734675]  \n",
       "...             ...                                                ...  \n",
       "14028712    2090548                                       [2684787159]  \n",
       "14028713  136368880  [2145232497, 2336850026, 2671773241, 144628305...  \n",
       "14028714   66124381               [2974799061, 2723812261, 2617766515]  \n",
       "14028715   33418846   [2308317210, 2070658732, 2496673173, 2930434804]  \n",
       "14028716   69264623                                       [2251267400]  \n",
       "\n",
       "[14028717 rows x 6 columns]"
      ]
     },
     "execution_count": 10,
     "metadata": {},
     "output_type": "execute_result"
    }
   ],
   "source": [
    "subdata = data[['id', 'queryLevel', ' title',' publicationDate', ' appearsInJournal', 'authors']].reset_index(drop=True)\n",
    "subdata.rename(columns = {' publicationDate': 'publicationYear', ' appearsInJournal': 'idJournal', ' title':'title'}, inplace=True)\n",
    "#subdata['title'] = subdata['title'].apply(lambda x: eval(x))\n",
    "subdata['publicationYear'].fillna('-1', inplace=True)\n",
    "subdata['publicationYear'] = [int(re.findall(r'\\d+', i)[0]) if i != '-1' else -1 for i in subdata['publicationYear']]\n",
    "subdata['idJournal'].fillna(-1, inplace=True)\n",
    "subdata['idJournal'] = [int(i) if i != -1 else -1 for i in subdata['idJournal']]\n",
    "subdata"
   ]
  },
  {
   "cell_type": "markdown",
   "id": "eb30452f",
   "metadata": {},
   "source": [
    "## 2.1 - Add journals' name and associated discipline from WoS classification"
   ]
  },
  {
   "cell_type": "code",
   "execution_count": 2,
   "id": "7ac80929",
   "metadata": {},
   "outputs": [],
   "source": [
    "def wos_split_strings(list_str):\n",
    "    l = []\n",
    "    for i in list_str:\n",
    "        l += re.split(' \\| ', i) # change separators if needed\n",
    "    return l"
   ]
  },
  {
   "cell_type": "code",
   "execution_count": 12,
   "id": "faa7a51a",
   "metadata": {
    "scrolled": false
   },
   "outputs": [
    {
     "data": {
      "text/html": [
       "<div>\n",
       "<style scoped>\n",
       "    .dataframe tbody tr th:only-of-type {\n",
       "        vertical-align: middle;\n",
       "    }\n",
       "\n",
       "    .dataframe tbody tr th {\n",
       "        vertical-align: top;\n",
       "    }\n",
       "\n",
       "    .dataframe thead th {\n",
       "        text-align: right;\n",
       "    }\n",
       "</style>\n",
       "<table border=\"1\" class=\"dataframe\">\n",
       "  <thead>\n",
       "    <tr style=\"text-align: right;\">\n",
       "      <th></th>\n",
       "      <th>idJournal</th>\n",
       "      <th>Journal title</th>\n",
       "      <th>Web of Science Categories</th>\n",
       "    </tr>\n",
       "  </thead>\n",
       "  <tbody>\n",
       "    <tr>\n",
       "      <th>0</th>\n",
       "      <td>61661</td>\n",
       "      <td>[JOURNAL OF PROSTHODONTICS-IMPLANT ESTHETIC AN...</td>\n",
       "      <td>[Dentistry, Oral Surgery &amp; Medicine]</td>\n",
       "    </tr>\n",
       "    <tr>\n",
       "      <th>1</th>\n",
       "      <td>81127</td>\n",
       "      <td>[EUROPEAN HEART JOURNAL SUPPLEMENTS]</td>\n",
       "      <td>[Cardiac &amp; Cardiovascular System]</td>\n",
       "    </tr>\n",
       "    <tr>\n",
       "      <th>2</th>\n",
       "      <td>146344</td>\n",
       "      <td>[JOURNAL OF MARRIAGE AND FAMILY]</td>\n",
       "      <td>[Sociology, Family Studies]</td>\n",
       "    </tr>\n",
       "    <tr>\n",
       "      <th>3</th>\n",
       "      <td>161885</td>\n",
       "      <td>[CHINESE STUDIES IN HISTORY]</td>\n",
       "      <td>[History, Asian Studies]</td>\n",
       "    </tr>\n",
       "    <tr>\n",
       "      <th>4</th>\n",
       "      <td>182001</td>\n",
       "      <td>[GIFTED CHILD QUARTERLY]</td>\n",
       "      <td>[Psychology, Educational, Education, Special]</td>\n",
       "    </tr>\n",
       "    <tr>\n",
       "      <th>...</th>\n",
       "      <td>...</td>\n",
       "      <td>...</td>\n",
       "      <td>...</td>\n",
       "    </tr>\n",
       "    <tr>\n",
       "      <th>17605</th>\n",
       "      <td>3035668652</td>\n",
       "      <td>[EUROPEAN RADIOLOGY EXPERIMENTAL]</td>\n",
       "      <td>[Radiology, Nuclear Medicine &amp; Medical Imaging]</td>\n",
       "    </tr>\n",
       "    <tr>\n",
       "      <th>17606</th>\n",
       "      <td>3035671286</td>\n",
       "      <td>[SATELLITE NAVIGATION]</td>\n",
       "      <td>[Engineering, Aerospace, Telecommunications, R...</td>\n",
       "    </tr>\n",
       "    <tr>\n",
       "      <th>17607</th>\n",
       "      <td>3035730399</td>\n",
       "      <td>[JOURNAL OF THE EGYPTIAN PUBLIC HEALTH ASSOCIA...</td>\n",
       "      <td>[Public, Environmental &amp; Occupational Health]</td>\n",
       "    </tr>\n",
       "    <tr>\n",
       "      <th>17608</th>\n",
       "      <td>3035751226</td>\n",
       "      <td>[JOURNAL OF PATIENT-REPORTED OUTCOMES]</td>\n",
       "      <td>[Health Care Sciences &amp; Services, Health Polic...</td>\n",
       "    </tr>\n",
       "    <tr>\n",
       "      <th>17609</th>\n",
       "      <td>3035763596</td>\n",
       "      <td>[EGYPTIAN JOURNAL OF BRONCHOLOGY]</td>\n",
       "      <td>[Respiratory System]</td>\n",
       "    </tr>\n",
       "  </tbody>\n",
       "</table>\n",
       "<p>17610 rows × 3 columns</p>\n",
       "</div>"
      ],
      "text/plain": [
       "        idJournal                                      Journal title  \\\n",
       "0           61661  [JOURNAL OF PROSTHODONTICS-IMPLANT ESTHETIC AN...   \n",
       "1           81127               [EUROPEAN HEART JOURNAL SUPPLEMENTS]   \n",
       "2          146344                   [JOURNAL OF MARRIAGE AND FAMILY]   \n",
       "3          161885                       [CHINESE STUDIES IN HISTORY]   \n",
       "4          182001                           [GIFTED CHILD QUARTERLY]   \n",
       "...           ...                                                ...   \n",
       "17605  3035668652                  [EUROPEAN RADIOLOGY EXPERIMENTAL]   \n",
       "17606  3035671286                             [SATELLITE NAVIGATION]   \n",
       "17607  3035730399  [JOURNAL OF THE EGYPTIAN PUBLIC HEALTH ASSOCIA...   \n",
       "17608  3035751226             [JOURNAL OF PATIENT-REPORTED OUTCOMES]   \n",
       "17609  3035763596                  [EGYPTIAN JOURNAL OF BRONCHOLOGY]   \n",
       "\n",
       "                               Web of Science Categories  \n",
       "0                   [Dentistry, Oral Surgery & Medicine]  \n",
       "1                      [Cardiac & Cardiovascular System]  \n",
       "2                            [Sociology, Family Studies]  \n",
       "3                               [History, Asian Studies]  \n",
       "4          [Psychology, Educational, Education, Special]  \n",
       "...                                                  ...  \n",
       "17605    [Radiology, Nuclear Medicine & Medical Imaging]  \n",
       "17606  [Engineering, Aerospace, Telecommunications, R...  \n",
       "17607      [Public, Environmental & Occupational Health]  \n",
       "17608  [Health Care Sciences & Services, Health Polic...  \n",
       "17609                               [Respiratory System]  \n",
       "\n",
       "[17610 rows x 3 columns]"
      ]
     },
     "execution_count": 12,
     "metadata": {},
     "output_type": "execute_result"
    }
   ],
   "source": [
    "# read the WoS disciplinary classification and add it to the journals database\n",
    "JournalsDisciplines = pd.read_csv(f'{path_input}journals_MAG2WOS.csv', sep=';')\n",
    "JournalsDisciplines.rename(columns={'MAG_journal_Id': 'idJournal'}, inplace=True)\n",
    "JournalsDisciplines = JournalsDisciplines.groupby('idJournal').agg(lambda x: x.tolist()).reset_index()\n",
    "JournalsDisciplines['Web of Science Categories'] = [wos_split_strings(i) for i in JournalsDisciplines['Web of Science Categories']]\n",
    "JournalsDisciplines"
   ]
  },
  {
   "cell_type": "code",
   "execution_count": 13,
   "id": "068b823b",
   "metadata": {},
   "outputs": [],
   "source": [
    "subdata = pd.merge(subdata, JournalsDisciplines, on='idJournal', how='left')\n",
    "subdata.rename(columns={'Journal title': 'journal_title', 'Web of Science Categories': 'wos_domains'}, inplace=True)"
   ]
  },
  {
   "cell_type": "markdown",
   "id": "2a0fe458",
   "metadata": {},
   "source": [
    "## 2.2 - Add AI keywords and main classes if `isIA=1`"
   ]
  },
  {
   "cell_type": "code",
   "execution_count": 15,
   "id": "24528e7d",
   "metadata": {},
   "outputs": [],
   "source": [
    "# read intersection dataset neuro and IA\n",
    "with open(f'{path_input}Papers_neuroscience_and_AI.json', 'r') as f:\n",
    "    dataIA = json.load(f)\n",
    "dataIA = pd.DataFrame.from_dict(dataIA)"
   ]
  },
  {
   "cell_type": "code",
   "execution_count": 56,
   "id": "0a2ecbf5",
   "metadata": {
    "scrolled": true
   },
   "outputs": [
    {
     "data": {
      "text/html": [
       "<div>\n",
       "<style scoped>\n",
       "    .dataframe tbody tr th:only-of-type {\n",
       "        vertical-align: middle;\n",
       "    }\n",
       "\n",
       "    .dataframe tbody tr th {\n",
       "        vertical-align: top;\n",
       "    }\n",
       "\n",
       "    .dataframe thead th {\n",
       "        text-align: right;\n",
       "    }\n",
       "</style>\n",
       "<table border=\"1\" class=\"dataframe\">\n",
       "  <thead>\n",
       "    <tr style=\"text-align: right;\">\n",
       "      <th></th>\n",
       "      <th>id</th>\n",
       "      <th>publicationDate</th>\n",
       "      <th>issueIdentifier</th>\n",
       "      <th>created</th>\n",
       "      <th>publisher</th>\n",
       "      <th>volume</th>\n",
       "      <th>startingPage</th>\n",
       "      <th>endingPage</th>\n",
       "      <th>citationCount</th>\n",
       "      <th>doi</th>\n",
       "      <th>title</th>\n",
       "      <th>referenceCount</th>\n",
       "      <th>appearsInJournal</th>\n",
       "      <th>queryLevel</th>\n",
       "      <th>authors</th>\n",
       "      <th>bookTitle</th>\n",
       "      <th>appearsInConferenceSeries</th>\n",
       "      <th>appearsInConferenceInstance</th>\n",
       "      <th>abstract</th>\n",
       "      <th>keywordsIA</th>\n",
       "    </tr>\n",
       "  </thead>\n",
       "  <tbody>\n",
       "    <tr>\n",
       "      <th>0</th>\n",
       "      <td>2982150161</td>\n",
       "      <td>\"2020-03-07\"</td>\n",
       "      <td>NaN</td>\n",
       "      <td>\"2019-11-01\"</td>\n",
       "      <td>\"Elsevier\"</td>\n",
       "      <td>\"380\"</td>\n",
       "      <td>\"11\"</td>\n",
       "      <td>\"19\"</td>\n",
       "      <td>\"1\"</td>\n",
       "      <td>10.1016/J.NEUCOM.2019.10.001</td>\n",
       "      <td>\"Delay tolerant containment control for secon...</td>\n",
       "      <td>\"32\"</td>\n",
       "      <td>45693802</td>\n",
       "      <td>0</td>\n",
       "      <td>[2698853177, 2894619631, 2090493536, 2980724061]</td>\n",
       "      <td>NaN</td>\n",
       "      <td>NaN</td>\n",
       "      <td>NaN</td>\n",
       "      <td>Abstract In this paper, a delay tolerant cont...</td>\n",
       "      <td>[convex hull, multi-agent system]</td>\n",
       "    </tr>\n",
       "    <tr>\n",
       "      <th>1</th>\n",
       "      <td>2017460423</td>\n",
       "      <td>\"2004-12-01\"</td>\n",
       "      <td>\"4\"</td>\n",
       "      <td>\"2016-06-24\"</td>\n",
       "      <td>\"Lippincott Williams and Wilkins\"</td>\n",
       "      <td>\"14\"</td>\n",
       "      <td>\"187\"</td>\n",
       "      <td>\"189\"</td>\n",
       "      <td>\"0\"</td>\n",
       "      <td>10.1097/00041444-200412000-00003</td>\n",
       "      <td>\"Evaluation of genetic substructure in the Ir...</td>\n",
       "      <td>\"0\"</td>\n",
       "      <td>41645954</td>\n",
       "      <td>0</td>\n",
       "      <td>[2494464687, 2120665394, 2091809267, 2614997734]</td>\n",
       "      <td>NaN</td>\n",
       "      <td>NaN</td>\n",
       "      <td>NaN</td>\n",
       "      <td>: The presence of genetic substructure has th...</td>\n",
       "      <td>[markov chain monte carlo]</td>\n",
       "    </tr>\n",
       "    <tr>\n",
       "      <th>2</th>\n",
       "      <td>2592080110</td>\n",
       "      <td>\"2017-03-03\"</td>\n",
       "      <td>NaN</td>\n",
       "      <td>\"2017-03-16\"</td>\n",
       "      <td>\"Dove Press\"</td>\n",
       "      <td>\"9\"</td>\n",
       "      <td>\"39\"</td>\n",
       "      <td>\"57\"</td>\n",
       "      <td>\"36\"</td>\n",
       "      <td>10.2147/NSS.S103467</td>\n",
       "      <td>\"New developments in the management of narcol...</td>\n",
       "      <td>\"0\"</td>\n",
       "      <td>2739268901</td>\n",
       "      <td>0</td>\n",
       "      <td>[2162133358, 2136137024]</td>\n",
       "      <td>NaN</td>\n",
       "      <td>NaN</td>\n",
       "      <td>NaN</td>\n",
       "      <td>: Narcolepsy is a life-long, underrecognized ...</td>\n",
       "      <td>[mycin]</td>\n",
       "    </tr>\n",
       "    <tr>\n",
       "      <th>3</th>\n",
       "      <td>2613051638</td>\n",
       "      <td>\"2017-07-01\"</td>\n",
       "      <td>NaN</td>\n",
       "      <td>\"2017-05-19\"</td>\n",
       "      <td>\"Elsevier\"</td>\n",
       "      <td>\"158\"</td>\n",
       "      <td>\"7\"</td>\n",
       "      <td>\"13\"</td>\n",
       "      <td>\"0\"</td>\n",
       "      <td>10.1016/J.PBB.2017.05.004</td>\n",
       "      <td>\"Posterior hypothalamus glutamate infusion de...</td>\n",
       "      <td>\"51\"</td>\n",
       "      <td>59685179</td>\n",
       "      <td>0</td>\n",
       "      <td>[2049946654, 2108670995, 2944770929, 2667938519]</td>\n",
       "      <td>NaN</td>\n",
       "      <td>NaN</td>\n",
       "      <td>NaN</td>\n",
       "      <td>Abstract Objectives Seizures are epileptic ma...</td>\n",
       "      <td>[lenet]</td>\n",
       "    </tr>\n",
       "    <tr>\n",
       "      <th>4</th>\n",
       "      <td>2617245985</td>\n",
       "      <td>\"2017-11-29\"</td>\n",
       "      <td>NaN</td>\n",
       "      <td>\"2017-06-05\"</td>\n",
       "      <td>\"Elsevier\"</td>\n",
       "      <td>\"266\"</td>\n",
       "      <td>\"325\"</td>\n",
       "      <td>\"335\"</td>\n",
       "      <td>\"15\"</td>\n",
       "      <td>10.1016/J.NEUCOM.2017.05.042</td>\n",
       "      <td>\"Deep learning algorithms for discriminant au...</td>\n",
       "      <td>\"36\"</td>\n",
       "      <td>45693802</td>\n",
       "      <td>0</td>\n",
       "      <td>[3024761849, 2619442247]</td>\n",
       "      <td>NaN</td>\n",
       "      <td>NaN</td>\n",
       "      <td>NaN</td>\n",
       "      <td>In this paper, a new family of Autoencoders (...</td>\n",
       "      <td>[autoencoder, dimensionality reduction]</td>\n",
       "    </tr>\n",
       "    <tr>\n",
       "      <th>...</th>\n",
       "      <td>...</td>\n",
       "      <td>...</td>\n",
       "      <td>...</td>\n",
       "      <td>...</td>\n",
       "      <td>...</td>\n",
       "      <td>...</td>\n",
       "      <td>...</td>\n",
       "      <td>...</td>\n",
       "      <td>...</td>\n",
       "      <td>...</td>\n",
       "      <td>...</td>\n",
       "      <td>...</td>\n",
       "      <td>...</td>\n",
       "      <td>...</td>\n",
       "      <td>...</td>\n",
       "      <td>...</td>\n",
       "      <td>...</td>\n",
       "      <td>...</td>\n",
       "      <td>...</td>\n",
       "      <td>...</td>\n",
       "    </tr>\n",
       "    <tr>\n",
       "      <th>614353</th>\n",
       "      <td>1979711143</td>\n",
       "      <td>\"1998-07-24\"</td>\n",
       "      <td>\"3\"</td>\n",
       "      <td>\"2016-06-24\"</td>\n",
       "      <td>\"ACM\"</td>\n",
       "      <td>\"37\"</td>\n",
       "      <td>\"209\"</td>\n",
       "      <td>\"217\"</td>\n",
       "      <td>\"937\"</td>\n",
       "      <td>10.1145/279943.279985</td>\n",
       "      <td>\"Large margin classification using the percep...</td>\n",
       "      <td>\"21\"</td>\n",
       "      <td>NaN</td>\n",
       "      <td>1</td>\n",
       "      <td>[2985572601, 2626311920]</td>\n",
       "      <td>\"COLT\"</td>\n",
       "      <td>1177622950</td>\n",
       "      <td>2786194060</td>\n",
       "      <td>We introduce and analyze a new algorithm for ...</td>\n",
       "      <td>[classifier]</td>\n",
       "    </tr>\n",
       "    <tr>\n",
       "      <th>614354</th>\n",
       "      <td>2147483361</td>\n",
       "      <td>\"2011-04-01\"</td>\n",
       "      <td>\"4\"</td>\n",
       "      <td>\"2016-06-24\"</td>\n",
       "      <td>\"IEEE\"</td>\n",
       "      <td>\"33\"</td>\n",
       "      <td>\"754\"</td>\n",
       "      <td>\"766\"</td>\n",
       "      <td>\"137\"</td>\n",
       "      <td>10.1109/TPAMI.2010.133</td>\n",
       "      <td>\"Harvesting Image Databases from the Web\"</td>\n",
       "      <td>\"26\"</td>\n",
       "      <td>199944782</td>\n",
       "      <td>1</td>\n",
       "      <td>[2985357453, 1966707555, 2469405535]</td>\n",
       "      <td>NaN</td>\n",
       "      <td>NaN</td>\n",
       "      <td>NaN</td>\n",
       "      <td>The objective of this work is to automaticall...</td>\n",
       "      <td>[training data, classifier]</td>\n",
       "    </tr>\n",
       "    <tr>\n",
       "      <th>614355</th>\n",
       "      <td>2919235374</td>\n",
       "      <td>\"2019-05-01\"</td>\n",
       "      <td>NaN</td>\n",
       "      <td>\"2019-03-11\"</td>\n",
       "      <td>\"Academic Press\"</td>\n",
       "      <td>\"61\"</td>\n",
       "      <td>\"42\"</td>\n",
       "      <td>\"49\"</td>\n",
       "      <td>\"2\"</td>\n",
       "      <td>10.1016/J.JVCIR.2019.03.004</td>\n",
       "      <td>\"Application of artificial intelligence algor...</td>\n",
       "      <td>\"24\"</td>\n",
       "      <td>105424869</td>\n",
       "      <td>1</td>\n",
       "      <td>[2919870832, 2919889170]</td>\n",
       "      <td>NaN</td>\n",
       "      <td>NaN</td>\n",
       "      <td>NaN</td>\n",
       "      <td>Abstract As the main media of human communica...</td>\n",
       "      <td>[artificial intelligence, combinatorial optimi...</td>\n",
       "    </tr>\n",
       "    <tr>\n",
       "      <th>614356</th>\n",
       "      <td>2046820148</td>\n",
       "      <td>\"2014-03-20\"</td>\n",
       "      <td>\"3\"</td>\n",
       "      <td>\"2016-06-24\"</td>\n",
       "      <td>\"Public Library of Science\"</td>\n",
       "      <td>\"9\"</td>\n",
       "      <td>NaN</td>\n",
       "      <td>NaN</td>\n",
       "      <td>\"52\"</td>\n",
       "      <td>10.1371/JOURNAL.PONE.0091969</td>\n",
       "      <td>\"Visceral adiposity index (VAI) is predictive...</td>\n",
       "      <td>\"41\"</td>\n",
       "      <td>202381698</td>\n",
       "      <td>1</td>\n",
       "      <td>[45745419, 1900658159, 3005837255, 2080409075,...</td>\n",
       "      <td>NaN</td>\n",
       "      <td>NaN</td>\n",
       "      <td>NaN</td>\n",
       "      <td>Aims Although there is still no clear definit...</td>\n",
       "      <td>[cluster analysis]</td>\n",
       "    </tr>\n",
       "    <tr>\n",
       "      <th>614357</th>\n",
       "      <td>2080374594</td>\n",
       "      <td>\"2004-05-01\"</td>\n",
       "      <td>\"1\"</td>\n",
       "      <td>\"2016-06-24\"</td>\n",
       "      <td>\"Blackwell Publishing Ltd\"</td>\n",
       "      <td>\"234\"</td>\n",
       "      <td>\"43\"</td>\n",
       "      <td>\"49\"</td>\n",
       "      <td>\"97\"</td>\n",
       "      <td>10.1111/J.1574-6968.2004.TB09511.X</td>\n",
       "      <td>\"Molecular characterization and analysis of t...</td>\n",
       "      <td>\"26\"</td>\n",
       "      <td>34954451</td>\n",
       "      <td>1</td>\n",
       "      <td>[2788874313, 1980174942, 2559322472]</td>\n",
       "      <td>NaN</td>\n",
       "      <td>NaN</td>\n",
       "      <td>NaN</td>\n",
       "      <td>Bacillus subtilis AU195 produces bacillomycin...</td>\n",
       "      <td>[mycin]</td>\n",
       "    </tr>\n",
       "  </tbody>\n",
       "</table>\n",
       "<p>614358 rows × 20 columns</p>\n",
       "</div>"
      ],
      "text/plain": [
       "                id  publicationDate  issueIdentifier        created  \\\n",
       "0       2982150161     \"2020-03-07\"              NaN   \"2019-11-01\"   \n",
       "1       2017460423     \"2004-12-01\"              \"4\"   \"2016-06-24\"   \n",
       "2       2592080110     \"2017-03-03\"              NaN   \"2017-03-16\"   \n",
       "3       2613051638     \"2017-07-01\"              NaN   \"2017-05-19\"   \n",
       "4       2617245985     \"2017-11-29\"              NaN   \"2017-06-05\"   \n",
       "...            ...              ...              ...            ...   \n",
       "614353  1979711143     \"1998-07-24\"              \"3\"   \"2016-06-24\"   \n",
       "614354  2147483361     \"2011-04-01\"              \"4\"   \"2016-06-24\"   \n",
       "614355  2919235374     \"2019-05-01\"              NaN   \"2019-03-11\"   \n",
       "614356  2046820148     \"2014-03-20\"              \"3\"   \"2016-06-24\"   \n",
       "614357  2080374594     \"2004-05-01\"              \"1\"   \"2016-06-24\"   \n",
       "\n",
       "                                 publisher  volume  startingPage  endingPage  \\\n",
       "0                               \"Elsevier\"   \"380\"          \"11\"        \"19\"   \n",
       "1        \"Lippincott Williams and Wilkins\"    \"14\"         \"187\"       \"189\"   \n",
       "2                             \"Dove Press\"     \"9\"          \"39\"        \"57\"   \n",
       "3                               \"Elsevier\"   \"158\"           \"7\"        \"13\"   \n",
       "4                               \"Elsevier\"   \"266\"         \"325\"       \"335\"   \n",
       "...                                    ...     ...           ...         ...   \n",
       "614353                               \"ACM\"    \"37\"         \"209\"       \"217\"   \n",
       "614354                              \"IEEE\"    \"33\"         \"754\"       \"766\"   \n",
       "614355                    \"Academic Press\"    \"61\"          \"42\"        \"49\"   \n",
       "614356         \"Public Library of Science\"     \"9\"           NaN         NaN   \n",
       "614357          \"Blackwell Publishing Ltd\"   \"234\"          \"43\"        \"49\"   \n",
       "\n",
       "        citationCount                                 doi  \\\n",
       "0                 \"1\"        10.1016/J.NEUCOM.2019.10.001   \n",
       "1                 \"0\"    10.1097/00041444-200412000-00003   \n",
       "2                \"36\"                 10.2147/NSS.S103467   \n",
       "3                 \"0\"           10.1016/J.PBB.2017.05.004   \n",
       "4                \"15\"        10.1016/J.NEUCOM.2017.05.042   \n",
       "...               ...                                 ...   \n",
       "614353          \"937\"               10.1145/279943.279985   \n",
       "614354          \"137\"              10.1109/TPAMI.2010.133   \n",
       "614355            \"2\"         10.1016/J.JVCIR.2019.03.004   \n",
       "614356           \"52\"        10.1371/JOURNAL.PONE.0091969   \n",
       "614357           \"97\"  10.1111/J.1574-6968.2004.TB09511.X   \n",
       "\n",
       "                                                    title  referenceCount  \\\n",
       "0        \"Delay tolerant containment control for secon...            \"32\"   \n",
       "1        \"Evaluation of genetic substructure in the Ir...             \"0\"   \n",
       "2        \"New developments in the management of narcol...             \"0\"   \n",
       "3        \"Posterior hypothalamus glutamate infusion de...            \"51\"   \n",
       "4        \"Deep learning algorithms for discriminant au...            \"36\"   \n",
       "...                                                   ...             ...   \n",
       "614353   \"Large margin classification using the percep...            \"21\"   \n",
       "614354          \"Harvesting Image Databases from the Web\"            \"26\"   \n",
       "614355   \"Application of artificial intelligence algor...            \"24\"   \n",
       "614356   \"Visceral adiposity index (VAI) is predictive...            \"41\"   \n",
       "614357   \"Molecular characterization and analysis of t...            \"26\"   \n",
       "\n",
       "        appearsInJournal  queryLevel  \\\n",
       "0               45693802           0   \n",
       "1               41645954           0   \n",
       "2             2739268901           0   \n",
       "3               59685179           0   \n",
       "4               45693802           0   \n",
       "...                  ...         ...   \n",
       "614353               NaN           1   \n",
       "614354         199944782           1   \n",
       "614355         105424869           1   \n",
       "614356         202381698           1   \n",
       "614357          34954451           1   \n",
       "\n",
       "                                                  authors  bookTitle  \\\n",
       "0        [2698853177, 2894619631, 2090493536, 2980724061]        NaN   \n",
       "1        [2494464687, 2120665394, 2091809267, 2614997734]        NaN   \n",
       "2                                [2162133358, 2136137024]        NaN   \n",
       "3        [2049946654, 2108670995, 2944770929, 2667938519]        NaN   \n",
       "4                                [3024761849, 2619442247]        NaN   \n",
       "...                                                   ...        ...   \n",
       "614353                           [2985572601, 2626311920]     \"COLT\"   \n",
       "614354               [2985357453, 1966707555, 2469405535]        NaN   \n",
       "614355                           [2919870832, 2919889170]        NaN   \n",
       "614356  [45745419, 1900658159, 3005837255, 2080409075,...        NaN   \n",
       "614357               [2788874313, 1980174942, 2559322472]        NaN   \n",
       "\n",
       "        appearsInConferenceSeries  appearsInConferenceInstance  \\\n",
       "0                             NaN                          NaN   \n",
       "1                             NaN                          NaN   \n",
       "2                             NaN                          NaN   \n",
       "3                             NaN                          NaN   \n",
       "4                             NaN                          NaN   \n",
       "...                           ...                          ...   \n",
       "614353                 1177622950                   2786194060   \n",
       "614354                        NaN                          NaN   \n",
       "614355                        NaN                          NaN   \n",
       "614356                        NaN                          NaN   \n",
       "614357                        NaN                          NaN   \n",
       "\n",
       "                                                 abstract  \\\n",
       "0        Abstract In this paper, a delay tolerant cont...   \n",
       "1        : The presence of genetic substructure has th...   \n",
       "2        : Narcolepsy is a life-long, underrecognized ...   \n",
       "3        Abstract Objectives Seizures are epileptic ma...   \n",
       "4        In this paper, a new family of Autoencoders (...   \n",
       "...                                                   ...   \n",
       "614353   We introduce and analyze a new algorithm for ...   \n",
       "614354   The objective of this work is to automaticall...   \n",
       "614355   Abstract As the main media of human communica...   \n",
       "614356   Aims Although there is still no clear definit...   \n",
       "614357   Bacillus subtilis AU195 produces bacillomycin...   \n",
       "\n",
       "                                               keywordsIA  \n",
       "0                       [convex hull, multi-agent system]  \n",
       "1                              [markov chain monte carlo]  \n",
       "2                                                 [mycin]  \n",
       "3                                                 [lenet]  \n",
       "4                 [autoencoder, dimensionality reduction]  \n",
       "...                                                   ...  \n",
       "614353                                       [classifier]  \n",
       "614354                        [training data, classifier]  \n",
       "614355  [artificial intelligence, combinatorial optimi...  \n",
       "614356                                 [cluster analysis]  \n",
       "614357                                            [mycin]  \n",
       "\n",
       "[614358 rows x 20 columns]"
      ]
     },
     "execution_count": 56,
     "metadata": {},
     "output_type": "execute_result"
    }
   ],
   "source": [
    "dataIA"
   ]
  },
  {
   "cell_type": "code",
   "execution_count": 67,
   "id": "cae0f0a7",
   "metadata": {},
   "outputs": [
    {
     "data": {
      "text/html": [
       "<div>\n",
       "<style scoped>\n",
       "    .dataframe tbody tr th:only-of-type {\n",
       "        vertical-align: middle;\n",
       "    }\n",
       "\n",
       "    .dataframe tbody tr th {\n",
       "        vertical-align: top;\n",
       "    }\n",
       "\n",
       "    .dataframe thead th {\n",
       "        text-align: right;\n",
       "    }\n",
       "</style>\n",
       "<table border=\"1\" class=\"dataframe\">\n",
       "  <thead>\n",
       "    <tr style=\"text-align: right;\">\n",
       "      <th></th>\n",
       "      <th>keywords</th>\n",
       "      <th>class</th>\n",
       "    </tr>\n",
       "  </thead>\n",
       "  <tbody>\n",
       "    <tr>\n",
       "      <th>0</th>\n",
       "      <td>evolutionary algorithm</td>\n",
       "      <td>optimization</td>\n",
       "    </tr>\n",
       "    <tr>\n",
       "      <th>1</th>\n",
       "      <td>simulated annealing</td>\n",
       "      <td>optimization</td>\n",
       "    </tr>\n",
       "    <tr>\n",
       "      <th>2</th>\n",
       "      <td>hierarchical clustering</td>\n",
       "      <td>cluster analysis</td>\n",
       "    </tr>\n",
       "    <tr>\n",
       "      <th>3</th>\n",
       "      <td>principal component analysis</td>\n",
       "      <td>cluster analysis</td>\n",
       "    </tr>\n",
       "    <tr>\n",
       "      <th>4</th>\n",
       "      <td>unsupervised learning</td>\n",
       "      <td>machine learning</td>\n",
       "    </tr>\n",
       "    <tr>\n",
       "      <th>...</th>\n",
       "      <td>...</td>\n",
       "      <td>...</td>\n",
       "    </tr>\n",
       "    <tr>\n",
       "      <th>527</th>\n",
       "      <td>multi swarm optimization</td>\n",
       "      <td>optimization</td>\n",
       "    </tr>\n",
       "    <tr>\n",
       "      <th>528</th>\n",
       "      <td>fast and frugal trees</td>\n",
       "      <td>AI general</td>\n",
       "    </tr>\n",
       "    <tr>\n",
       "      <th>529</th>\n",
       "      <td>chess playing computer</td>\n",
       "      <td>robotics</td>\n",
       "    </tr>\n",
       "    <tr>\n",
       "      <th>530</th>\n",
       "      <td>bias variance tradeoff</td>\n",
       "      <td>optimization</td>\n",
       "    </tr>\n",
       "    <tr>\n",
       "      <th>531</th>\n",
       "      <td>convolutional neural network (cnn)</td>\n",
       "      <td>deep learning</td>\n",
       "    </tr>\n",
       "  </tbody>\n",
       "</table>\n",
       "<p>532 rows × 2 columns</p>\n",
       "</div>"
      ],
      "text/plain": [
       "                               keywords             class\n",
       "0                evolutionary algorithm      optimization\n",
       "1                   simulated annealing      optimization\n",
       "2               hierarchical clustering  cluster analysis\n",
       "3          principal component analysis  cluster analysis\n",
       "4                 unsupervised learning  machine learning\n",
       "..                                  ...               ...\n",
       "527            multi swarm optimization      optimization\n",
       "528               fast and frugal trees        AI general\n",
       "529              chess playing computer          robotics\n",
       "530              bias variance tradeoff      optimization\n",
       "531  convolutional neural network (cnn)     deep learning\n",
       "\n",
       "[532 rows x 2 columns]"
      ]
     },
     "execution_count": 67,
     "metadata": {},
     "output_type": "execute_result"
    }
   ],
   "source": [
    "# read the classification of AI keywords\n",
    "classification = pd.read_csv(f'{path_input}AI_kw_classification.txt', sep=';', names=['keywords', 'class'])\n",
    "classification['keywords'] = [i.strip() for i in classification['keywords']]\n",
    "classification"
   ]
  },
  {
   "cell_type": "code",
   "execution_count": 17,
   "id": "6b630677",
   "metadata": {},
   "outputs": [],
   "source": [
    "dataIA['classIA'] = (dataIA['keywordsIA'].apply(\n",
    "    lambda x: list(set([classification[classification['keywords']==k]['class'].values[0] for k in x if len(classification[classification['keywords']==k]['class'].values) != 0]))))"
   ]
  },
  {
   "cell_type": "code",
   "execution_count": 17,
   "id": "5f83a1bc",
   "metadata": {
    "scrolled": true
   },
   "outputs": [
    {
     "data": {
      "text/html": [
       "<div>\n",
       "<style scoped>\n",
       "    .dataframe tbody tr th:only-of-type {\n",
       "        vertical-align: middle;\n",
       "    }\n",
       "\n",
       "    .dataframe tbody tr th {\n",
       "        vertical-align: top;\n",
       "    }\n",
       "\n",
       "    .dataframe thead th {\n",
       "        text-align: right;\n",
       "    }\n",
       "</style>\n",
       "<table border=\"1\" class=\"dataframe\">\n",
       "  <thead>\n",
       "    <tr style=\"text-align: right;\">\n",
       "      <th></th>\n",
       "      <th>id</th>\n",
       "      <th>queryLevel</th>\n",
       "      <th>title</th>\n",
       "      <th>publicationYear</th>\n",
       "      <th>idJournal</th>\n",
       "      <th>authors</th>\n",
       "      <th>isIA</th>\n",
       "    </tr>\n",
       "  </thead>\n",
       "  <tbody>\n",
       "    <tr>\n",
       "      <th>0</th>\n",
       "      <td>2038431747</td>\n",
       "      <td>0</td>\n",
       "      <td>\"Topology learning solved by extended objects...</td>\n",
       "      <td>1994</td>\n",
       "      <td>207023548</td>\n",
       "      <td>[2163422316, 2419355596, 2289589767]</td>\n",
       "      <td>0</td>\n",
       "    </tr>\n",
       "    <tr>\n",
       "      <th>1</th>\n",
       "      <td>1010827267</td>\n",
       "      <td>0</td>\n",
       "      <td>\"Multipotent Stem Cells In Murine Sclera\"</td>\n",
       "      <td>2011</td>\n",
       "      <td>76304953</td>\n",
       "      <td>[2482935619, 2618323644, 2661080946, 266108094...</td>\n",
       "      <td>0</td>\n",
       "    </tr>\n",
       "    <tr>\n",
       "      <th>2</th>\n",
       "      <td>2411724805</td>\n",
       "      <td>0</td>\n",
       "      <td>\"Comparative study on results of prefrontal l...</td>\n",
       "      <td>1953</td>\n",
       "      <td>124451323</td>\n",
       "      <td>[2987759242, 2631162769, 2651065461]</td>\n",
       "      <td>0</td>\n",
       "    </tr>\n",
       "    <tr>\n",
       "      <th>3</th>\n",
       "      <td>2004877318</td>\n",
       "      <td>0</td>\n",
       "      <td>\"Ventral frontal deficits in psychopathy: Neu...</td>\n",
       "      <td>1995</td>\n",
       "      <td>165368631</td>\n",
       "      <td>[2572627602, 2278535667, 2800225512]</td>\n",
       "      <td>0</td>\n",
       "    </tr>\n",
       "    <tr>\n",
       "      <th>4</th>\n",
       "      <td>2025848838</td>\n",
       "      <td>0</td>\n",
       "      <td>\"Iowa gambling task in Parkinson&amp;#039</td>\n",
       "      <td>2011</td>\n",
       "      <td>35508115</td>\n",
       "      <td>[237217217, 2129310074, 2647734675]</td>\n",
       "      <td>0</td>\n",
       "    </tr>\n",
       "    <tr>\n",
       "      <th>...</th>\n",
       "      <td>...</td>\n",
       "      <td>...</td>\n",
       "      <td>...</td>\n",
       "      <td>...</td>\n",
       "      <td>...</td>\n",
       "      <td>...</td>\n",
       "      <td>...</td>\n",
       "    </tr>\n",
       "    <tr>\n",
       "      <th>14028712</th>\n",
       "      <td>2080374763</td>\n",
       "      <td>1</td>\n",
       "      <td>\"The spectral sensitivity of light-adapted ca...</td>\n",
       "      <td>1954</td>\n",
       "      <td>2090548</td>\n",
       "      <td>[2684787159]</td>\n",
       "      <td>0</td>\n",
       "    </tr>\n",
       "    <tr>\n",
       "      <th>14028713</th>\n",
       "      <td>2147483632</td>\n",
       "      <td>1</td>\n",
       "      <td>\"The 5-hydroxytryptamine (serotonin) receptor...</td>\n",
       "      <td>2013</td>\n",
       "      <td>136368880</td>\n",
       "      <td>[2145232497, 2336850026, 2671773241, 144628305...</td>\n",
       "      <td>0</td>\n",
       "    </tr>\n",
       "    <tr>\n",
       "      <th>14028714</th>\n",
       "      <td>2181038068</td>\n",
       "      <td>1</td>\n",
       "      <td>\"Giving machines humanlike eyes\"</td>\n",
       "      <td>2015</td>\n",
       "      <td>66124381</td>\n",
       "      <td>[2974799061, 2723812261, 2617766515]</td>\n",
       "      <td>0</td>\n",
       "    </tr>\n",
       "    <tr>\n",
       "      <th>14028715</th>\n",
       "      <td>2147483638</td>\n",
       "      <td>1</td>\n",
       "      <td>\"Effect of three anaesthetic techniques on is...</td>\n",
       "      <td>2004</td>\n",
       "      <td>33418846</td>\n",
       "      <td>[2308317210, 2070658732, 2496673173, 2930434804]</td>\n",
       "      <td>0</td>\n",
       "    </tr>\n",
       "    <tr>\n",
       "      <th>14028716</th>\n",
       "      <td>2315255800</td>\n",
       "      <td>1</td>\n",
       "      <td>\"Very high fluence collagen cross-linking as ...</td>\n",
       "      <td>2013</td>\n",
       "      <td>69264623</td>\n",
       "      <td>[2251267400]</td>\n",
       "      <td>0</td>\n",
       "    </tr>\n",
       "  </tbody>\n",
       "</table>\n",
       "<p>14028717 rows × 7 columns</p>\n",
       "</div>"
      ],
      "text/plain": [
       "                  id  queryLevel  \\\n",
       "0         2038431747           0   \n",
       "1         1010827267           0   \n",
       "2         2411724805           0   \n",
       "3         2004877318           0   \n",
       "4         2025848838           0   \n",
       "...              ...         ...   \n",
       "14028712  2080374763           1   \n",
       "14028713  2147483632           1   \n",
       "14028714  2181038068           1   \n",
       "14028715  2147483638           1   \n",
       "14028716  2315255800           1   \n",
       "\n",
       "                                                      title  publicationYear  \\\n",
       "0          \"Topology learning solved by extended objects...             1994   \n",
       "1                 \"Multipotent Stem Cells In Murine Sclera\"             2011   \n",
       "2          \"Comparative study on results of prefrontal l...             1953   \n",
       "3          \"Ventral frontal deficits in psychopathy: Neu...             1995   \n",
       "4                     \"Iowa gambling task in Parkinson&#039             2011   \n",
       "...                                                     ...              ...   \n",
       "14028712   \"The spectral sensitivity of light-adapted ca...             1954   \n",
       "14028713   \"The 5-hydroxytryptamine (serotonin) receptor...             2013   \n",
       "14028714                   \"Giving machines humanlike eyes\"             2015   \n",
       "14028715   \"Effect of three anaesthetic techniques on is...             2004   \n",
       "14028716   \"Very high fluence collagen cross-linking as ...             2013   \n",
       "\n",
       "          idJournal                                            authors  isIA  \n",
       "0         207023548               [2163422316, 2419355596, 2289589767]     0  \n",
       "1          76304953  [2482935619, 2618323644, 2661080946, 266108094...     0  \n",
       "2         124451323               [2987759242, 2631162769, 2651065461]     0  \n",
       "3         165368631               [2572627602, 2278535667, 2800225512]     0  \n",
       "4          35508115                [237217217, 2129310074, 2647734675]     0  \n",
       "...             ...                                                ...   ...  \n",
       "14028712    2090548                                       [2684787159]     0  \n",
       "14028713  136368880  [2145232497, 2336850026, 2671773241, 144628305...     0  \n",
       "14028714   66124381               [2974799061, 2723812261, 2617766515]     0  \n",
       "14028715   33418846   [2308317210, 2070658732, 2496673173, 2930434804]     0  \n",
       "14028716   69264623                                       [2251267400]     0  \n",
       "\n",
       "[14028717 rows x 7 columns]"
      ]
     },
     "execution_count": 17,
     "metadata": {},
     "output_type": "execute_result"
    }
   ],
   "source": [
    "subdata['isIA'] = np.where(subdata['id'].isin(dataIA['id']), 1, 0)\n",
    "subdata = pd.merge(subdata, dataIA[['id', 'keywordsIA', 'classIA']], on='id', how='left').fillna(-1)\n",
    "subdata"
   ]
  },
  {
   "cell_type": "code",
   "execution_count": 334,
   "id": "97d97258",
   "metadata": {},
   "outputs": [],
   "source": [
    "del dataIA"
   ]
  },
  {
   "cell_type": "markdown",
   "id": "6aa589e0",
   "metadata": {},
   "source": [
    "## 2.3 - Save the final subdataframe"
   ]
  },
  {
   "cell_type": "code",
   "execution_count": 39,
   "id": "921b6a71",
   "metadata": {},
   "outputs": [],
   "source": [
    "subdata.to_csv(f\"{path_output}citationNetwork_nodes.csv\", sep=';', index=False)\n",
    "# del subdata"
   ]
  },
  {
   "cell_type": "markdown",
   "id": "760e2bb4",
   "metadata": {},
   "source": [
    "# 3 - Build filtered egocentered datasets for $\\mathcal{P}\\cap AI$ and $\\mathcal{P}\\cap \\overline{AI}$\n",
    "It includes papers with main attributes:\n",
    "- `queryLevel=0`\n",
    "- published after 1970\n",
    "- cited at least 10 times, ie. $k_{in}\\geqslant10$\n",
    "- citing at least 10 other references, ie. $k_{out}\\geqslant10$"
   ]
  },
  {
   "cell_type": "markdown",
   "id": "98294a12",
   "metadata": {},
   "source": [
    "## 3.1 - $\\mathcal{P}\\cap \\overline{AI}$\n",
    "\n",
    "Here `isIA=0`"
   ]
  },
  {
   "cell_type": "code",
   "execution_count": 12,
   "id": "4b3ad3f5",
   "metadata": {},
   "outputs": [],
   "source": [
    "data.fillna(-1, inplace=True)\n",
    "data[' referenceCount'] = data[' referenceCount'].apply(lambda x: int(eval(x)) if x!=-1 else -1)\n",
    "data[' citationCount'] = data[' citationCount'].apply(lambda x: int(eval(x)) if x!=-1 else -1)"
   ]
  },
  {
   "cell_type": "code",
   "execution_count": 42,
   "id": "32ebca95",
   "metadata": {},
   "outputs": [],
   "source": [
    "# get only the ids of the papers that counts at least 10 reference and citation\n",
    "ids_nbRefSup10nbImpSup10 = data[(data[' referenceCount'] >= 10)\n",
    "                                & (data[' citationCount'] >= 10)]['id']"
   ]
  },
  {
   "cell_type": "code",
   "execution_count": 43,
   "id": "7c6317fb",
   "metadata": {},
   "outputs": [],
   "source": [
    "subdata_subset = subdata[(subdata['queryLevel']==0) \n",
    "                    & (subdata['isIA']==0) \n",
    "                    & (subdata['publicationYear']>=1970) # & (subdata['publicationYear']<2020) \n",
    "                    & (subdata['id'].isin(ids_nbRefSup10nbImpSup10))]"
   ]
  },
  {
   "cell_type": "code",
   "execution_count": 44,
   "id": "9dbea894",
   "metadata": {},
   "outputs": [
    {
     "data": {
      "text/plain": [
       "829317"
      ]
     },
     "execution_count": 44,
     "metadata": {},
     "output_type": "execute_result"
    }
   ],
   "source": [
    "len(subdata_subset) # here 829317"
   ]
  },
  {
   "cell_type": "code",
   "execution_count": 53,
   "id": "e0182004",
   "metadata": {},
   "outputs": [],
   "source": [
    "subdata_subset.to_csv(f\"{path_output}papersNeuro_minRef10_minImp10_from1970.csv\", sep=';', index=False)"
   ]
  },
  {
   "cell_type": "code",
   "execution_count": 8,
   "id": "b0f007fd",
   "metadata": {},
   "outputs": [
    {
     "data": {
      "text/plain": [
       "0"
      ]
     },
     "execution_count": 8,
     "metadata": {},
     "output_type": "execute_result"
    }
   ],
   "source": [
    "# force to free memory\n",
    "del data, CN, nodes\n",
    "gc.collect()"
   ]
  },
  {
   "cell_type": "markdown",
   "id": "3dfe6a7f",
   "metadata": {},
   "source": [
    "## 3.2 - $\\mathcal{P}\\cap AI$\n",
    "\n",
    "Here `isIA=1`"
   ]
  },
  {
   "cell_type": "code",
   "execution_count": 13,
   "id": "535e9e5e",
   "metadata": {},
   "outputs": [],
   "source": [
    "ids_nbRefSup10nbImpSup10 = data[(data[' referenceCount'] >= 10)\n",
    "                                & (data[' citationCount'] >= 10)]['id']"
   ]
  },
  {
   "cell_type": "code",
   "execution_count": 25,
   "id": "6c2cd3b5",
   "metadata": {},
   "outputs": [],
   "source": [
    "subdata_subset = subdata[(subdata['queryLevel']==0) \n",
    "                    & (subdata['isIA']==1) \n",
    "                    & (subdata['publicationYear']>=1970) # & (subdata['publicationYear']<2020) \n",
    "                    & (subdata['id'].isin(ids_nbRefSup10nbImpSup10))]"
   ]
  },
  {
   "cell_type": "code",
   "execution_count": 50,
   "id": "0f604626",
   "metadata": {},
   "outputs": [
    {
     "data": {
      "text/plain": [
       "26374"
      ]
     },
     "execution_count": 50,
     "metadata": {},
     "output_type": "execute_result"
    }
   ],
   "source": [
    "len(subdata_subset) # here 26374"
   ]
  },
  {
   "cell_type": "code",
   "execution_count": 54,
   "id": "4dddd5df",
   "metadata": {},
   "outputs": [],
   "source": [
    "subdata_subset.to_csv(f\"{path_output}papersNeuroAI_minRef10_minImp10_from1970.csv\", sep=';', index=False)"
   ]
  },
  {
   "cell_type": "markdown",
   "id": "b875d8da",
   "metadata": {},
   "source": [
    "## 3.3 - Compare the structure of the original citation network with the one produced by the filtered datasets"
   ]
  },
  {
   "cell_type": "code",
   "execution_count": 4,
   "id": "2b3d3be9",
   "metadata": {},
   "outputs": [],
   "source": [
    "links = pd.read_csv(f'{path_input}citationNetwork.csv', sep=',', usecols=['citing', 'cited'])\n",
    "nodes = pd.read_csv(f'{path_output}citationNetwork_nodes.csv', sep=';')\n",
    "nodes_AI = nodes[(nodes['queryLevel']==0)&(nodes['isIA']==1)]"
   ]
  },
  {
   "cell_type": "code",
   "execution_count": 9,
   "id": "35a0011d",
   "metadata": {},
   "outputs": [],
   "source": [
    "nodes_filtered_AI = pd.read_csv(f'{path_output}papersNeuroAI_minRef10_minImp10_from1970.csv', sep=';')\n",
    "nodes_filtered_nonAI =  pd.read_csv(f'{path_output}papersNeuro_minRef10_minImp10_from1970.csv', sep=';')\n",
    "nodes_filtered = pd.concat([nodes_filtered_AI,nodes_filtered_nonAI])"
   ]
  },
  {
   "cell_type": "code",
   "execution_count": 8,
   "id": "db037785",
   "metadata": {},
   "outputs": [],
   "source": [
    "CN_tot = nx.from_pandas_edgelist(links, source='citing', target='cited', edge_attr=None, create_using=nx.DiGraph, edge_key=None)\n",
    "degree_freq = nx.degree_histogram(CN_tot)"
   ]
  },
  {
   "cell_type": "code",
   "execution_count": 17,
   "id": "2992e5ed",
   "metadata": {},
   "outputs": [],
   "source": [
    "'''\n",
    "with open(f'{path_input}citation_net_degreeHisto.txt', 'w') as f:\n",
    "    for d in degree_freq:\n",
    "        f.write(str(d)+'\\n')\n",
    "with open(f'{path_input}citation_net_degreeHisto.txt', 'r') as f:\n",
    "    degree_freq = [int(g[:-1]) for g in f.readlines()]\n",
    "'''"
   ]
  },
  {
   "cell_type": "code",
   "execution_count": 10,
   "id": "6c12a974",
   "metadata": {},
   "outputs": [],
   "source": [
    "links_filtered = links[(links['cited'].isin(nodes_filtered['id']))\n",
    "                       |(links['citing'].isin(nodes_filtered['id']))]"
   ]
  },
  {
   "cell_type": "code",
   "execution_count": 11,
   "id": "074945f5",
   "metadata": {},
   "outputs": [],
   "source": [
    "CN_filtered = nx.from_pandas_edgelist(links_filtered, source='citing', target='cited', edge_attr=None, create_using=nx.DiGraph, edge_key=None)\n",
    "degree_freq_filtered = nx.degree_histogram(CN_filtered)"
   ]
  },
  {
   "cell_type": "code",
   "execution_count": 45,
   "id": "bf9de38e",
   "metadata": {},
   "outputs": [
    {
     "data": {
      "image/png": "[encoded data removed]",
      "text/plain": [
       "<Figure size 432x216 with 1 Axes>"
      ]
     },
     "metadata": {
      "needs_background": "light"
     },
     "output_type": "display_data"
    }
   ],
   "source": [
    "cmap = plt.cm.tab20.colors\n",
    "ig = plt.figure(figsize=(6, 3))\n",
    "ax = plt.axes()\n",
    "ax.plot(range(len(degree_freq)), degree_freq, marker='o',\n",
    "        linewidth=0, color=cmap[0], markersize=7, label=r'Original', alpha=1)\n",
    "ax.plot(range(len(degree_freq_filtered)), degree_freq_filtered, marker='o',\n",
    "        linewidth=0, color=cmap[8], markersize=7, label=r'Filtered', alpha=1)\n",
    "ax.set_xlabel(r'$k$', fontsize=axisLabelSize)\n",
    "ax.set_xscale('log')\n",
    "ax.set_ylabel(r'$P(k)$', fontsize=axisLabelSize)\n",
    "ax.set_yscale('log')\n",
    "ax.set_ylim(0.4,1e7)\n",
    "ax.set_xlim(0.6,1e5)\n",
    "#ax.set_xticks([10**i for i in range(6)], [10**i for i in range(6)])\n",
    "ax.tick_params(which='major', labelsize=ticksLabelSize, length=7, width=ticksWidth)\n",
    "ax.tick_params(which='minor', length=4, width=ticksWidth)\n",
    "ax.legend(loc='upper right', ncol=1, fontsize=legendSize, frameon=False)\n",
    "plt.savefig(f'{path_output}degree_distribs_OriginalDataset_vs_FilteredDataset.pdf', format='pdf', bbox_inches='tight')"
   ]
  },
  {
   "cell_type": "markdown",
   "id": "163180cc",
   "metadata": {},
   "source": [
    "# 4 - Build an egocentered collaboration network based on all publications (not only in neurosciences) of the authors\n",
    "- Build a dataset of authors authors of the papers included in the set of neuroscience papers $\\mathcal{P}$ (query level 0), based on all their publications, included those that are not in $\\mathcal{P}$ (query level 2, extracted as well).\n",
    "- Build a collaboration network centered on these authors."
   ]
  },
  {
   "cell_type": "markdown",
   "id": "32a9dabe",
   "metadata": {},
   "source": [
    "## 4.1 - Build the author database\n",
    "Since many files are used for the process, we recall here the basic steps for building such a database:\n",
    "1) Get the authors from the neuroscience egocentered database (QL0), called `all_papers_QL0` in the following\n",
    "\n",
    "2) Get their informations (name and affilitations) from a file imported under the variable `allAuthors_Ql0Ql1`\n",
    "\n",
    "3) In order to compute their AI score overall their publications, add to the database QL0 the paper published by these authors but not inside QL0, saved in the file loaded under the variable `allpapers_Ql2` in the following. Then compute the AI score."
   ]
  },
  {
   "cell_type": "markdown",
   "id": "2fa68471",
   "metadata": {},
   "source": [
    "### 4.1.1 - Step 1"
   ]
  },
  {
   "cell_type": "code",
   "execution_count": 4,
   "id": "2292f0bb",
   "metadata": {
    "scrolled": true
   },
   "outputs": [],
   "source": [
    "# only papers in qeryLevel=0, published since 1970 and that have at least 10 references and 10 impacts\n",
    "papersAI = pd.read_csv(f\"{path_output}papersNeuroAI_minRef10_minImp10_from1970.csv\", sep=';')\n",
    "papersNonAI = pd.read_csv(f\"{path_output}papersNeuro_minRef10_minImp10_from1970.csv\", sep=';')"
   ]
  },
  {
   "cell_type": "code",
   "execution_count": 25,
   "id": "53e247a4",
   "metadata": {},
   "outputs": [],
   "source": [
    "allpapers_QL0 = pd.concat([papersAI,papersNonAI]).reset_index(drop=True)\n",
    "allpapers_QL0['authors'] = [list(set(eval(i))) if i!='-1' else -1 for i in allpapers_QL0['authors']] # to avoid the double apparitions\n",
    "allpapers_QL0['journal_title'] = [list(set(eval(i))) if i!='-1' else -1 for i in allpapers_QL0['journal_title']] # idem\n",
    "allpapers_QL0['wos_domains'] = [list(set(eval(i))) if i!='-1' else -1 for i in allpapers_QL0['wos_domains']] # idem\n",
    "allpapers_QL0['wos_domains_agg'] = allpapers_QL0['wos_domains'].apply(lambda x: list(set([i.split(', ')[0] for i in x])) if x!=-1 else -1)\n",
    "allpapers_QL0['keywordsIA'] = [list(set(eval(i))) if i!=-1 else -1 for i in allpapers_QL0['keywordsIA']] # idem\n",
    "allpapers_QL0['classIA'] = [list(set(eval(i))) if i!=-1 else -1 for i in allpapers_QL0['classIA']] # idem"
   ]
  },
  {
   "cell_type": "code",
   "execution_count": 9,
   "id": "693259e7",
   "metadata": {
    "scrolled": true
   },
   "outputs": [
    {
     "data": {
      "text/html": [
       "<div>\n",
       "<style scoped>\n",
       "    .dataframe tbody tr th:only-of-type {\n",
       "        vertical-align: middle;\n",
       "    }\n",
       "\n",
       "    .dataframe tbody tr th {\n",
       "        vertical-align: top;\n",
       "    }\n",
       "\n",
       "    .dataframe thead th {\n",
       "        text-align: right;\n",
       "    }\n",
       "</style>\n",
       "<table border=\"1\" class=\"dataframe\">\n",
       "  <thead>\n",
       "    <tr style=\"text-align: right;\">\n",
       "      <th></th>\n",
       "      <th>id</th>\n",
       "      <th>queryLevel</th>\n",
       "      <th>publicationYear</th>\n",
       "      <th>idJournal</th>\n",
       "      <th>authors</th>\n",
       "      <th>journal_title</th>\n",
       "      <th>wos_domains</th>\n",
       "      <th>isIA</th>\n",
       "      <th>keywordsIA</th>\n",
       "      <th>classIA</th>\n",
       "      <th>wos_domains_agg</th>\n",
       "    </tr>\n",
       "  </thead>\n",
       "  <tbody>\n",
       "    <tr>\n",
       "      <th>0</th>\n",
       "      <td>2617245985</td>\n",
       "      <td>0</td>\n",
       "      <td>2017</td>\n",
       "      <td>45693802</td>\n",
       "      <td>3024761849</td>\n",
       "      <td>[NEUROCOMPUTING]</td>\n",
       "      <td>[Computer Science, Artificial Intelligence]</td>\n",
       "      <td>1</td>\n",
       "      <td>[autoencoder, dimensionality reduction]</td>\n",
       "      <td>[deep learning, cluster analysis]</td>\n",
       "      <td>[Computer Science]</td>\n",
       "    </tr>\n",
       "    <tr>\n",
       "      <th>1</th>\n",
       "      <td>2617245985</td>\n",
       "      <td>0</td>\n",
       "      <td>2017</td>\n",
       "      <td>45693802</td>\n",
       "      <td>2619442247</td>\n",
       "      <td>[NEUROCOMPUTING]</td>\n",
       "      <td>[Computer Science, Artificial Intelligence]</td>\n",
       "      <td>1</td>\n",
       "      <td>[autoencoder, dimensionality reduction]</td>\n",
       "      <td>[deep learning, cluster analysis]</td>\n",
       "      <td>[Computer Science]</td>\n",
       "    </tr>\n",
       "    <tr>\n",
       "      <th>2</th>\n",
       "      <td>2021655074</td>\n",
       "      <td>0</td>\n",
       "      <td>2006</td>\n",
       "      <td>140962798</td>\n",
       "      <td>2145260682</td>\n",
       "      <td>[NEURAL PROCESSING LETTERS]</td>\n",
       "      <td>[Computer Science, Artificial Intelligence]</td>\n",
       "      <td>1</td>\n",
       "      <td>[backpropagation, perceptrons]</td>\n",
       "      <td>[neural networks]</td>\n",
       "      <td>[Computer Science]</td>\n",
       "    </tr>\n",
       "    <tr>\n",
       "      <th>3</th>\n",
       "      <td>2021655074</td>\n",
       "      <td>0</td>\n",
       "      <td>2006</td>\n",
       "      <td>140962798</td>\n",
       "      <td>2835622326</td>\n",
       "      <td>[NEURAL PROCESSING LETTERS]</td>\n",
       "      <td>[Computer Science, Artificial Intelligence]</td>\n",
       "      <td>1</td>\n",
       "      <td>[backpropagation, perceptrons]</td>\n",
       "      <td>[neural networks]</td>\n",
       "      <td>[Computer Science]</td>\n",
       "    </tr>\n",
       "    <tr>\n",
       "      <th>4</th>\n",
       "      <td>1790968754</td>\n",
       "      <td>0</td>\n",
       "      <td>2015</td>\n",
       "      <td>207023548</td>\n",
       "      <td>2995834608</td>\n",
       "      <td>[NEURAL COMPUTATION]</td>\n",
       "      <td>[Neurosciences, Computer Science, Artificial I...</td>\n",
       "      <td>1</td>\n",
       "      <td>[principal component analysis]</td>\n",
       "      <td>[cluster analysis]</td>\n",
       "      <td>[Neurosciences, Computer Science]</td>\n",
       "    </tr>\n",
       "    <tr>\n",
       "      <th>...</th>\n",
       "      <td>...</td>\n",
       "      <td>...</td>\n",
       "      <td>...</td>\n",
       "      <td>...</td>\n",
       "      <td>...</td>\n",
       "      <td>...</td>\n",
       "      <td>...</td>\n",
       "      <td>...</td>\n",
       "      <td>...</td>\n",
       "      <td>...</td>\n",
       "      <td>...</td>\n",
       "    </tr>\n",
       "    <tr>\n",
       "      <th>4026968</th>\n",
       "      <td>2046820344</td>\n",
       "      <td>0</td>\n",
       "      <td>2012</td>\n",
       "      <td>116196263</td>\n",
       "      <td>2579365867</td>\n",
       "      <td>[CORTEX]</td>\n",
       "      <td>[Behavioral Sciences, Neurosciences, Psycholog...</td>\n",
       "      <td>0</td>\n",
       "      <td>-1</td>\n",
       "      <td>-1</td>\n",
       "      <td>[Psychology, Behavioral Sciences, Neurosciences]</td>\n",
       "    </tr>\n",
       "    <tr>\n",
       "      <th>4026969</th>\n",
       "      <td>2046820344</td>\n",
       "      <td>0</td>\n",
       "      <td>2012</td>\n",
       "      <td>116196263</td>\n",
       "      <td>2016899951</td>\n",
       "      <td>[CORTEX]</td>\n",
       "      <td>[Behavioral Sciences, Neurosciences, Psycholog...</td>\n",
       "      <td>0</td>\n",
       "      <td>-1</td>\n",
       "      <td>-1</td>\n",
       "      <td>[Psychology, Behavioral Sciences, Neurosciences]</td>\n",
       "    </tr>\n",
       "    <tr>\n",
       "      <th>4026970</th>\n",
       "      <td>2046820344</td>\n",
       "      <td>0</td>\n",
       "      <td>2012</td>\n",
       "      <td>116196263</td>\n",
       "      <td>157945237</td>\n",
       "      <td>[CORTEX]</td>\n",
       "      <td>[Behavioral Sciences, Neurosciences, Psycholog...</td>\n",
       "      <td>0</td>\n",
       "      <td>-1</td>\n",
       "      <td>-1</td>\n",
       "      <td>[Psychology, Behavioral Sciences, Neurosciences]</td>\n",
       "    </tr>\n",
       "    <tr>\n",
       "      <th>4026971</th>\n",
       "      <td>2046820344</td>\n",
       "      <td>0</td>\n",
       "      <td>2012</td>\n",
       "      <td>116196263</td>\n",
       "      <td>2496737467</td>\n",
       "      <td>[CORTEX]</td>\n",
       "      <td>[Behavioral Sciences, Neurosciences, Psycholog...</td>\n",
       "      <td>0</td>\n",
       "      <td>-1</td>\n",
       "      <td>-1</td>\n",
       "      <td>[Psychology, Behavioral Sciences, Neurosciences]</td>\n",
       "    </tr>\n",
       "    <tr>\n",
       "      <th>4026972</th>\n",
       "      <td>2046820344</td>\n",
       "      <td>0</td>\n",
       "      <td>2012</td>\n",
       "      <td>116196263</td>\n",
       "      <td>2600298751</td>\n",
       "      <td>[CORTEX]</td>\n",
       "      <td>[Behavioral Sciences, Neurosciences, Psycholog...</td>\n",
       "      <td>0</td>\n",
       "      <td>-1</td>\n",
       "      <td>-1</td>\n",
       "      <td>[Psychology, Behavioral Sciences, Neurosciences]</td>\n",
       "    </tr>\n",
       "  </tbody>\n",
       "</table>\n",
       "<p>4026973 rows × 11 columns</p>\n",
       "</div>"
      ],
      "text/plain": [
       "                 id  queryLevel  publicationYear  idJournal     authors  \\\n",
       "0        2617245985           0             2017   45693802  3024761849   \n",
       "1        2617245985           0             2017   45693802  2619442247   \n",
       "2        2021655074           0             2006  140962798  2145260682   \n",
       "3        2021655074           0             2006  140962798  2835622326   \n",
       "4        1790968754           0             2015  207023548  2995834608   \n",
       "...             ...         ...              ...        ...         ...   \n",
       "4026968  2046820344           0             2012  116196263  2579365867   \n",
       "4026969  2046820344           0             2012  116196263  2016899951   \n",
       "4026970  2046820344           0             2012  116196263   157945237   \n",
       "4026971  2046820344           0             2012  116196263  2496737467   \n",
       "4026972  2046820344           0             2012  116196263  2600298751   \n",
       "\n",
       "                       journal_title  \\\n",
       "0                   [NEUROCOMPUTING]   \n",
       "1                   [NEUROCOMPUTING]   \n",
       "2        [NEURAL PROCESSING LETTERS]   \n",
       "3        [NEURAL PROCESSING LETTERS]   \n",
       "4               [NEURAL COMPUTATION]   \n",
       "...                              ...   \n",
       "4026968                     [CORTEX]   \n",
       "4026969                     [CORTEX]   \n",
       "4026970                     [CORTEX]   \n",
       "4026971                     [CORTEX]   \n",
       "4026972                     [CORTEX]   \n",
       "\n",
       "                                               wos_domains  isIA  \\\n",
       "0              [Computer Science, Artificial Intelligence]     1   \n",
       "1              [Computer Science, Artificial Intelligence]     1   \n",
       "2              [Computer Science, Artificial Intelligence]     1   \n",
       "3              [Computer Science, Artificial Intelligence]     1   \n",
       "4        [Neurosciences, Computer Science, Artificial I...     1   \n",
       "...                                                    ...   ...   \n",
       "4026968  [Behavioral Sciences, Neurosciences, Psycholog...     0   \n",
       "4026969  [Behavioral Sciences, Neurosciences, Psycholog...     0   \n",
       "4026970  [Behavioral Sciences, Neurosciences, Psycholog...     0   \n",
       "4026971  [Behavioral Sciences, Neurosciences, Psycholog...     0   \n",
       "4026972  [Behavioral Sciences, Neurosciences, Psycholog...     0   \n",
       "\n",
       "                                      keywordsIA  \\\n",
       "0        [autoencoder, dimensionality reduction]   \n",
       "1        [autoencoder, dimensionality reduction]   \n",
       "2                 [backpropagation, perceptrons]   \n",
       "3                 [backpropagation, perceptrons]   \n",
       "4                 [principal component analysis]   \n",
       "...                                          ...   \n",
       "4026968                                       -1   \n",
       "4026969                                       -1   \n",
       "4026970                                       -1   \n",
       "4026971                                       -1   \n",
       "4026972                                       -1   \n",
       "\n",
       "                                   classIA  \\\n",
       "0        [deep learning, cluster analysis]   \n",
       "1        [deep learning, cluster analysis]   \n",
       "2                        [neural networks]   \n",
       "3                        [neural networks]   \n",
       "4                       [cluster analysis]   \n",
       "...                                    ...   \n",
       "4026968                                 -1   \n",
       "4026969                                 -1   \n",
       "4026970                                 -1   \n",
       "4026971                                 -1   \n",
       "4026972                                 -1   \n",
       "\n",
       "                                          wos_domains_agg  \n",
       "0                                      [Computer Science]  \n",
       "1                                      [Computer Science]  \n",
       "2                                      [Computer Science]  \n",
       "3                                      [Computer Science]  \n",
       "4                       [Neurosciences, Computer Science]  \n",
       "...                                                   ...  \n",
       "4026968  [Psychology, Behavioral Sciences, Neurosciences]  \n",
       "4026969  [Psychology, Behavioral Sciences, Neurosciences]  \n",
       "4026970  [Psychology, Behavioral Sciences, Neurosciences]  \n",
       "4026971  [Psychology, Behavioral Sciences, Neurosciences]  \n",
       "4026972  [Psychology, Behavioral Sciences, Neurosciences]  \n",
       "\n",
       "[4026973 rows x 11 columns]"
      ]
     },
     "execution_count": 9,
     "metadata": {},
     "output_type": "execute_result"
    }
   ],
   "source": [
    "# expand the big dataframe with respect to the authors\n",
    "allpapers_QL0_expanded = allpapers_QL0.explode('authors').reset_index(drop=True)\n",
    "allpapers_QL0_expanded"
   ]
  },
  {
   "cell_type": "markdown",
   "id": "91cdf1a8",
   "metadata": {},
   "source": [
    "### 4.1.2 - Step 2"
   ]
  },
  {
   "cell_type": "code",
   "execution_count": 13,
   "id": "c4df971f",
   "metadata": {},
   "outputs": [
    {
     "data": {
      "text/html": [
       "<div>\n",
       "<style scoped>\n",
       "    .dataframe tbody tr th:only-of-type {\n",
       "        vertical-align: middle;\n",
       "    }\n",
       "\n",
       "    .dataframe tbody tr th {\n",
       "        vertical-align: top;\n",
       "    }\n",
       "\n",
       "    .dataframe thead th {\n",
       "        text-align: right;\n",
       "    }\n",
       "</style>\n",
       "<table border=\"1\" class=\"dataframe\">\n",
       "  <thead>\n",
       "    <tr style=\"text-align: right;\">\n",
       "      <th></th>\n",
       "      <th>authorId</th>\n",
       "      <th>name</th>\n",
       "      <th>affiliation</th>\n",
       "      <th>queryLevel</th>\n",
       "    </tr>\n",
       "  </thead>\n",
       "  <tbody>\n",
       "    <tr>\n",
       "      <th>0</th>\n",
       "      <td>1990375167</td>\n",
       "      <td>A.A.A.A Kusumawardhani</td>\n",
       "      <td>NONE</td>\n",
       "      <td>1</td>\n",
       "    </tr>\n",
       "    <tr>\n",
       "      <th>1</th>\n",
       "      <td>2663910298</td>\n",
       "      <td>A.A.A.A Nasser</td>\n",
       "      <td>NONE</td>\n",
       "      <td>1</td>\n",
       "    </tr>\n",
       "    <tr>\n",
       "      <th>2</th>\n",
       "      <td>2814684889</td>\n",
       "      <td>A A A Aarts</td>\n",
       "      <td>99464096</td>\n",
       "      <td>1</td>\n",
       "    </tr>\n",
       "    <tr>\n",
       "      <th>3</th>\n",
       "      <td>3020917786</td>\n",
       "      <td>A.A.A. Ahmed</td>\n",
       "      <td>NONE</td>\n",
       "      <td>1</td>\n",
       "    </tr>\n",
       "    <tr>\n",
       "      <th>4</th>\n",
       "      <td>2594650676</td>\n",
       "      <td>A. A. A. Aioub</td>\n",
       "      <td>7597260</td>\n",
       "      <td>1</td>\n",
       "    </tr>\n",
       "    <tr>\n",
       "      <th>...</th>\n",
       "      <td>...</td>\n",
       "      <td>...</td>\n",
       "      <td>...</td>\n",
       "      <td>...</td>\n",
       "    </tr>\n",
       "    <tr>\n",
       "      <th>15325785</th>\n",
       "      <td>2257106621</td>\n",
       "      <td>李哲雨</td>\n",
       "      <td>NONE</td>\n",
       "      <td>1</td>\n",
       "    </tr>\n",
       "    <tr>\n",
       "      <th>15325786</th>\n",
       "      <td>2516757462</td>\n",
       "      <td>李桂楨</td>\n",
       "      <td>NONE</td>\n",
       "      <td>1</td>\n",
       "    </tr>\n",
       "    <tr>\n",
       "      <th>15325787</th>\n",
       "      <td>2663157117</td>\n",
       "      <td>李永麟</td>\n",
       "      <td>NONE</td>\n",
       "      <td>1</td>\n",
       "    </tr>\n",
       "    <tr>\n",
       "      <th>15325788</th>\n",
       "      <td>2668056676</td>\n",
       "      <td>李相哲</td>\n",
       "      <td>NONE</td>\n",
       "      <td>1</td>\n",
       "    </tr>\n",
       "    <tr>\n",
       "      <th>15325789</th>\n",
       "      <td>2970833545</td>\n",
       "      <td>塚越 慎</td>\n",
       "      <td>NONE</td>\n",
       "      <td>1</td>\n",
       "    </tr>\n",
       "  </tbody>\n",
       "</table>\n",
       "<p>15325790 rows × 4 columns</p>\n",
       "</div>"
      ],
      "text/plain": [
       "            authorId                    name affiliation  queryLevel\n",
       "0         1990375167  A.A.A.A Kusumawardhani        NONE           1\n",
       "1         2663910298          A.A.A.A Nasser        NONE           1\n",
       "2         2814684889             A A A Aarts    99464096           1\n",
       "3         3020917786            A.A.A. Ahmed        NONE           1\n",
       "4         2594650676          A. A. A. Aioub     7597260           1\n",
       "...              ...                     ...         ...         ...\n",
       "15325785  2257106621                     李哲雨        NONE           1\n",
       "15325786  2516757462                     李桂楨        NONE           1\n",
       "15325787  2663157117                     李永麟        NONE           1\n",
       "15325788  2668056676                     李相哲        NONE           1\n",
       "15325789  2970833545                    塚越 慎        NONE           1\n",
       "\n",
       "[15325790 rows x 4 columns]"
      ]
     },
     "execution_count": 13,
     "metadata": {},
     "output_type": "execute_result"
    }
   ],
   "source": [
    "# read the whole authors' dataframe including the authors of our publications (QL0)\n",
    "# as well as those in references and impact (QL1)\n",
    "allAuthors_Ql0Ql1 = pd.read_csv(f'{path_input}authorId_name_affiliation.csv', sep=',')\n",
    "allAuthors_Ql0Ql1"
   ]
  },
  {
   "cell_type": "code",
   "execution_count": 14,
   "id": "61728b2f",
   "metadata": {},
   "outputs": [
    {
     "data": {
      "text/html": [
       "<div>\n",
       "<style scoped>\n",
       "    .dataframe tbody tr th:only-of-type {\n",
       "        vertical-align: middle;\n",
       "    }\n",
       "\n",
       "    .dataframe tbody tr th {\n",
       "        vertical-align: top;\n",
       "    }\n",
       "\n",
       "    .dataframe thead th {\n",
       "        text-align: right;\n",
       "    }\n",
       "</style>\n",
       "<table border=\"1\" class=\"dataframe\">\n",
       "  <thead>\n",
       "    <tr style=\"text-align: right;\">\n",
       "      <th></th>\n",
       "      <th>authorId</th>\n",
       "      <th>name</th>\n",
       "      <th>affiliation</th>\n",
       "      <th>queryLevel</th>\n",
       "    </tr>\n",
       "  </thead>\n",
       "  <tbody>\n",
       "    <tr>\n",
       "      <th>41</th>\n",
       "      <td>1550607070</td>\n",
       "      <td>A. A. A. M. Danen-van Oorschot</td>\n",
       "      <td>121797337</td>\n",
       "      <td>0</td>\n",
       "    </tr>\n",
       "    <tr>\n",
       "      <th>44</th>\n",
       "      <td>2505675405</td>\n",
       "      <td>A. A. A. Manik J. Djelantik</td>\n",
       "      <td>193662353</td>\n",
       "      <td>0</td>\n",
       "    </tr>\n",
       "    <tr>\n",
       "      <th>53</th>\n",
       "      <td>2806045187</td>\n",
       "      <td>A.A.A. Pradhan</td>\n",
       "      <td>5023651</td>\n",
       "      <td>0</td>\n",
       "    </tr>\n",
       "    <tr>\n",
       "      <th>72</th>\n",
       "      <td>2974182613</td>\n",
       "      <td>A. A. Aarnisalo</td>\n",
       "      <td>NONE</td>\n",
       "      <td>0</td>\n",
       "    </tr>\n",
       "    <tr>\n",
       "      <th>134</th>\n",
       "      <td>2991992674</td>\n",
       "      <td>A A Abdel-Latif</td>\n",
       "      <td>25041050</td>\n",
       "      <td>0</td>\n",
       "    </tr>\n",
       "    <tr>\n",
       "      <th>...</th>\n",
       "      <td>...</td>\n",
       "      <td>...</td>\n",
       "      <td>...</td>\n",
       "      <td>...</td>\n",
       "    </tr>\n",
       "    <tr>\n",
       "      <th>15262197</th>\n",
       "      <td>2263707641</td>\n",
       "      <td>Е. Viteva</td>\n",
       "      <td>NONE</td>\n",
       "      <td>0</td>\n",
       "    </tr>\n",
       "    <tr>\n",
       "      <th>15262570</th>\n",
       "      <td>3022633000</td>\n",
       "      <td>Е Е Garanina</td>\n",
       "      <td>21203515</td>\n",
       "      <td>0</td>\n",
       "    </tr>\n",
       "    <tr>\n",
       "      <th>15265271</th>\n",
       "      <td>2688406403</td>\n",
       "      <td>Мikhail Pashenkov</td>\n",
       "      <td>NONE</td>\n",
       "      <td>0</td>\n",
       "    </tr>\n",
       "    <tr>\n",
       "      <th>15269510</th>\n",
       "      <td>2495571327</td>\n",
       "      <td>І. L. Popovych</td>\n",
       "      <td>149851306</td>\n",
       "      <td>0</td>\n",
       "    </tr>\n",
       "    <tr>\n",
       "      <th>15303384</th>\n",
       "      <td>2732206803</td>\n",
       "      <td>聡 宇多</td>\n",
       "      <td>42766147</td>\n",
       "      <td>0</td>\n",
       "    </tr>\n",
       "  </tbody>\n",
       "</table>\n",
       "<p>1290141 rows × 4 columns</p>\n",
       "</div>"
      ],
      "text/plain": [
       "            authorId                            name affiliation  queryLevel\n",
       "41        1550607070  A. A. A. M. Danen-van Oorschot   121797337           0\n",
       "44        2505675405     A. A. A. Manik J. Djelantik   193662353           0\n",
       "53        2806045187                  A.A.A. Pradhan     5023651           0\n",
       "72        2974182613                 A. A. Aarnisalo        NONE           0\n",
       "134       2991992674                 A A Abdel-Latif    25041050           0\n",
       "...              ...                             ...         ...         ...\n",
       "15262197  2263707641                       Е. Viteva        NONE           0\n",
       "15262570  3022633000                    Е Е Garanina    21203515           0\n",
       "15265271  2688406403               Мikhail Pashenkov        NONE           0\n",
       "15269510  2495571327                  І. L. Popovych   149851306           0\n",
       "15303384  2732206803                            聡 宇多    42766147           0\n",
       "\n",
       "[1290141 rows x 4 columns]"
      ]
     },
     "execution_count": 14,
     "metadata": {},
     "output_type": "execute_result"
    }
   ],
   "source": [
    "# filter the big file for all authors in QL0 (data for neuroscience)\n",
    "authorsInPapers = allAuthors_Ql0Ql1[allAuthors_Ql0Ql1['authorId'].isin(set(allpapers_QL0_expanded['authors'])-{-1})]\n",
    "authorsInPapers"
   ]
  },
  {
   "cell_type": "markdown",
   "id": "f4d9ca13",
   "metadata": {},
   "source": [
    "### 4.1.3 - Step 3"
   ]
  },
  {
   "cell_type": "code",
   "execution_count": 13,
   "id": "630a05c4",
   "metadata": {},
   "outputs": [
    {
     "data": {
      "text/html": [
       "<div>\n",
       "<style scoped>\n",
       "    .dataframe tbody tr th:only-of-type {\n",
       "        vertical-align: middle;\n",
       "    }\n",
       "\n",
       "    .dataframe tbody tr th {\n",
       "        vertical-align: top;\n",
       "    }\n",
       "\n",
       "    .dataframe thead th {\n",
       "        text-align: right;\n",
       "    }\n",
       "</style>\n",
       "<table border=\"1\" class=\"dataframe\">\n",
       "  <thead>\n",
       "    <tr style=\"text-align: right;\">\n",
       "      <th></th>\n",
       "      <th>authorId</th>\n",
       "      <th>paperId</th>\n",
       "    </tr>\n",
       "  </thead>\n",
       "  <tbody>\n",
       "    <tr>\n",
       "      <th>0</th>\n",
       "      <td>2951562659</td>\n",
       "      <td>285</td>\n",
       "    </tr>\n",
       "    <tr>\n",
       "      <th>1</th>\n",
       "      <td>2535012878</td>\n",
       "      <td>348</td>\n",
       "    </tr>\n",
       "    <tr>\n",
       "      <th>2</th>\n",
       "      <td>2482451074</td>\n",
       "      <td>348</td>\n",
       "    </tr>\n",
       "    <tr>\n",
       "      <th>3</th>\n",
       "      <td>2060325654</td>\n",
       "      <td>527</td>\n",
       "    </tr>\n",
       "    <tr>\n",
       "      <th>4</th>\n",
       "      <td>2746639708</td>\n",
       "      <td>662</td>\n",
       "    </tr>\n",
       "    <tr>\n",
       "      <th>...</th>\n",
       "      <td>...</td>\n",
       "      <td>...</td>\n",
       "    </tr>\n",
       "    <tr>\n",
       "      <th>53855474</th>\n",
       "      <td>2785152602</td>\n",
       "      <td>3035763607</td>\n",
       "    </tr>\n",
       "    <tr>\n",
       "      <th>53855475</th>\n",
       "      <td>2852722787</td>\n",
       "      <td>3035763695</td>\n",
       "    </tr>\n",
       "    <tr>\n",
       "      <th>53855476</th>\n",
       "      <td>2650729909</td>\n",
       "      <td>3035763695</td>\n",
       "    </tr>\n",
       "    <tr>\n",
       "      <th>53855477</th>\n",
       "      <td>2159918643</td>\n",
       "      <td>3035763702</td>\n",
       "    </tr>\n",
       "    <tr>\n",
       "      <th>53855478</th>\n",
       "      <td>2250875688</td>\n",
       "      <td>3035763711</td>\n",
       "    </tr>\n",
       "  </tbody>\n",
       "</table>\n",
       "<p>52243904 rows × 2 columns</p>\n",
       "</div>"
      ],
      "text/plain": [
       "            authorId     paperId\n",
       "0         2951562659         285\n",
       "1         2535012878         348\n",
       "2         2482451074         348\n",
       "3         2060325654         527\n",
       "4         2746639708         662\n",
       "...              ...         ...\n",
       "53855474  2785152602  3035763607\n",
       "53855475  2852722787  3035763695\n",
       "53855476  2650729909  3035763695\n",
       "53855477  2159918643  3035763702\n",
       "53855478  2250875688  3035763711\n",
       "\n",
       "[52243904 rows x 2 columns]"
      ]
     },
     "execution_count": 13,
     "metadata": {},
     "output_type": "execute_result"
    }
   ],
   "source": [
    "# open the link file of all authors with all their associated papers (QL0+QL2)\n",
    "# drop duplicates: only unique link author-paper\n",
    "allAuthors_Ql0_papers = pd.read_csv(f'{path_input}author2paper.csv', sep=',')\n",
    "allAuthors_Ql0_papers.drop_duplicates(inplace=True)\n",
    "#allAuthors_Ql0_papers = allAuthors_Ql0_papers.groupby('authorId').aggregate(list)\n",
    "allAuthors_Ql0_papers"
   ]
  },
  {
   "cell_type": "code",
   "execution_count": 15,
   "id": "68d88d41",
   "metadata": {},
   "outputs": [
    {
     "data": {
      "text/html": [
       "<div>\n",
       "<style scoped>\n",
       "    .dataframe tbody tr th:only-of-type {\n",
       "        vertical-align: middle;\n",
       "    }\n",
       "\n",
       "    .dataframe tbody tr th {\n",
       "        vertical-align: top;\n",
       "    }\n",
       "\n",
       "    .dataframe thead th {\n",
       "        text-align: right;\n",
       "    }\n",
       "</style>\n",
       "<table border=\"1\" class=\"dataframe\">\n",
       "  <thead>\n",
       "    <tr style=\"text-align: right;\">\n",
       "      <th></th>\n",
       "      <th>authorId</th>\n",
       "      <th>name</th>\n",
       "      <th>affiliation</th>\n",
       "      <th>queryLevel</th>\n",
       "      <th>nb_publi_all</th>\n",
       "    </tr>\n",
       "  </thead>\n",
       "  <tbody>\n",
       "    <tr>\n",
       "      <th>0</th>\n",
       "      <td>1550607070</td>\n",
       "      <td>A. A. A. M. Danen-van Oorschot</td>\n",
       "      <td>121797337</td>\n",
       "      <td>0</td>\n",
       "      <td>6</td>\n",
       "    </tr>\n",
       "    <tr>\n",
       "      <th>1</th>\n",
       "      <td>2505675405</td>\n",
       "      <td>A. A. A. Manik J. Djelantik</td>\n",
       "      <td>193662353</td>\n",
       "      <td>0</td>\n",
       "      <td>11</td>\n",
       "    </tr>\n",
       "    <tr>\n",
       "      <th>2</th>\n",
       "      <td>2806045187</td>\n",
       "      <td>A.A.A. Pradhan</td>\n",
       "      <td>5023651</td>\n",
       "      <td>0</td>\n",
       "      <td>1</td>\n",
       "    </tr>\n",
       "    <tr>\n",
       "      <th>3</th>\n",
       "      <td>2974182613</td>\n",
       "      <td>A. A. Aarnisalo</td>\n",
       "      <td>NONE</td>\n",
       "      <td>0</td>\n",
       "      <td>2</td>\n",
       "    </tr>\n",
       "    <tr>\n",
       "      <th>4</th>\n",
       "      <td>2991992674</td>\n",
       "      <td>A A Abdel-Latif</td>\n",
       "      <td>25041050</td>\n",
       "      <td>0</td>\n",
       "      <td>8</td>\n",
       "    </tr>\n",
       "    <tr>\n",
       "      <th>...</th>\n",
       "      <td>...</td>\n",
       "      <td>...</td>\n",
       "      <td>...</td>\n",
       "      <td>...</td>\n",
       "      <td>...</td>\n",
       "    </tr>\n",
       "    <tr>\n",
       "      <th>1290136</th>\n",
       "      <td>2263707641</td>\n",
       "      <td>Е. Viteva</td>\n",
       "      <td>NONE</td>\n",
       "      <td>0</td>\n",
       "      <td>1</td>\n",
       "    </tr>\n",
       "    <tr>\n",
       "      <th>1290137</th>\n",
       "      <td>3022633000</td>\n",
       "      <td>Е Е Garanina</td>\n",
       "      <td>21203515</td>\n",
       "      <td>0</td>\n",
       "      <td>1</td>\n",
       "    </tr>\n",
       "    <tr>\n",
       "      <th>1290138</th>\n",
       "      <td>2688406403</td>\n",
       "      <td>Мikhail Pashenkov</td>\n",
       "      <td>NONE</td>\n",
       "      <td>0</td>\n",
       "      <td>1</td>\n",
       "    </tr>\n",
       "    <tr>\n",
       "      <th>1290139</th>\n",
       "      <td>2495571327</td>\n",
       "      <td>І. L. Popovych</td>\n",
       "      <td>149851306</td>\n",
       "      <td>0</td>\n",
       "      <td>1</td>\n",
       "    </tr>\n",
       "    <tr>\n",
       "      <th>1290140</th>\n",
       "      <td>2732206803</td>\n",
       "      <td>聡 宇多</td>\n",
       "      <td>42766147</td>\n",
       "      <td>0</td>\n",
       "      <td>1</td>\n",
       "    </tr>\n",
       "  </tbody>\n",
       "</table>\n",
       "<p>1290141 rows × 5 columns</p>\n",
       "</div>"
      ],
      "text/plain": [
       "           authorId                            name affiliation  queryLevel  \\\n",
       "0        1550607070  A. A. A. M. Danen-van Oorschot   121797337           0   \n",
       "1        2505675405     A. A. A. Manik J. Djelantik   193662353           0   \n",
       "2        2806045187                  A.A.A. Pradhan     5023651           0   \n",
       "3        2974182613                 A. A. Aarnisalo        NONE           0   \n",
       "4        2991992674                 A A Abdel-Latif    25041050           0   \n",
       "...             ...                             ...         ...         ...   \n",
       "1290136  2263707641                       Е. Viteva        NONE           0   \n",
       "1290137  3022633000                    Е Е Garanina    21203515           0   \n",
       "1290138  2688406403               Мikhail Pashenkov        NONE           0   \n",
       "1290139  2495571327                  І. L. Popovych   149851306           0   \n",
       "1290140  2732206803                            聡 宇多    42766147           0   \n",
       "\n",
       "         nb_publi_all  \n",
       "0                   6  \n",
       "1                  11  \n",
       "2                   1  \n",
       "3                   2  \n",
       "4                   8  \n",
       "...               ...  \n",
       "1290136             1  \n",
       "1290137             1  \n",
       "1290138             1  \n",
       "1290139             1  \n",
       "1290140             1  \n",
       "\n",
       "[1290141 rows x 5 columns]"
      ]
     },
     "execution_count": 15,
     "metadata": {},
     "output_type": "execute_result"
    }
   ],
   "source": [
    "# add the total number of publications of the authors above\n",
    "authorsInPapers = authorsInPapers.merge(pd.DataFrame.from_records(list(Counter(allAuthors_Ql0_papers['authorId']).items()), columns=['authorId', 'nb_publi_all']),\n",
    "                                   on='authorId',\n",
    "                                   how='outer').fillna(0)\n",
    "authorsInPapers"
   ]
  },
  {
   "cell_type": "code",
   "execution_count": 6,
   "id": "4d24a91f",
   "metadata": {
    "scrolled": true
   },
   "outputs": [
    {
     "data": {
      "text/html": [
       "<div>\n",
       "<style scoped>\n",
       "    .dataframe tbody tr th:only-of-type {\n",
       "        vertical-align: middle;\n",
       "    }\n",
       "\n",
       "    .dataframe tbody tr th {\n",
       "        vertical-align: top;\n",
       "    }\n",
       "\n",
       "    .dataframe thead th {\n",
       "        text-align: right;\n",
       "    }\n",
       "</style>\n",
       "<table border=\"1\" class=\"dataframe\">\n",
       "  <thead>\n",
       "    <tr style=\"text-align: right;\">\n",
       "      <th></th>\n",
       "      <th>id</th>\n",
       "      <th>publicationYear</th>\n",
       "      <th>title</th>\n",
       "      <th>idJournal</th>\n",
       "      <th>queryLevel</th>\n",
       "      <th>journal_title</th>\n",
       "      <th>wos_domains</th>\n",
       "      <th>isIA</th>\n",
       "      <th>keywordsIA</th>\n",
       "      <th>classIA</th>\n",
       "      <th>wos_domains_agg</th>\n",
       "    </tr>\n",
       "  </thead>\n",
       "  <tbody>\n",
       "    <tr>\n",
       "      <th>0</th>\n",
       "      <td>1984623903</td>\n",
       "      <td>1981</td>\n",
       "      <td>\"F&amp;#x00FC;nf neue Arten der Gattung Halacarus ...</td>\n",
       "      <td>4078192</td>\n",
       "      <td>2</td>\n",
       "      <td>ZOOLOGICA SCRIPTA</td>\n",
       "      <td>[Zoology, Evolutionary Biology]</td>\n",
       "      <td>0</td>\n",
       "      <td>-1</td>\n",
       "      <td>-1</td>\n",
       "      <td>[Zoology, Evolutionary Biology]</td>\n",
       "    </tr>\n",
       "    <tr>\n",
       "      <th>1</th>\n",
       "      <td>1984624469</td>\n",
       "      <td>2014</td>\n",
       "      <td>\"Ultracompact three-dimensional tubular conduc...</td>\n",
       "      <td>143846845</td>\n",
       "      <td>2</td>\n",
       "      <td>NANO LETTERS</td>\n",
       "      <td>[Physics, Condensed Matter, Nanoscience &amp; Nano...</td>\n",
       "      <td>0</td>\n",
       "      <td>-1</td>\n",
       "      <td>-1</td>\n",
       "      <td>[Materials Science, Physics, Chemistry, Nanosc...</td>\n",
       "    </tr>\n",
       "    <tr>\n",
       "      <th>2</th>\n",
       "      <td>1984630132</td>\n",
       "      <td>2000</td>\n",
       "      <td>\"Enhanced dechlorination of Aroclor 1242 in an...</td>\n",
       "      <td>52566953</td>\n",
       "      <td>2</td>\n",
       "      <td>WATER RESEARCH</td>\n",
       "      <td>[Environmental Sciences, Engineering, Environm...</td>\n",
       "      <td>0</td>\n",
       "      <td>-1</td>\n",
       "      <td>-1</td>\n",
       "      <td>[Engineering, Environmental Sciences, Water Re...</td>\n",
       "    </tr>\n",
       "    <tr>\n",
       "      <th>3</th>\n",
       "      <td>1984632460</td>\n",
       "      <td>1996</td>\n",
       "      <td>\"NEST PREDATION AND AVIAN LIFE-HISTORY EVOLUTI...</td>\n",
       "      <td>122176235</td>\n",
       "      <td>2</td>\n",
       "      <td>AMERICAN NATURALIST</td>\n",
       "      <td>[Evolutionary Biology, Ecology]</td>\n",
       "      <td>0</td>\n",
       "      <td>-1</td>\n",
       "      <td>-1</td>\n",
       "      <td>[Evolutionary Biology, Ecology]</td>\n",
       "    </tr>\n",
       "    <tr>\n",
       "      <th>4</th>\n",
       "      <td>1984633284</td>\n",
       "      <td>2017</td>\n",
       "      <td>\"On the Matter of Suffering: Derek Parfit and ...</td>\n",
       "      <td>56047584</td>\n",
       "      <td>2</td>\n",
       "      <td>CRIMINAL LAW AND PHILOSOPHY</td>\n",
       "      <td>[Law]</td>\n",
       "      <td>0</td>\n",
       "      <td>-1</td>\n",
       "      <td>-1</td>\n",
       "      <td>[Law]</td>\n",
       "    </tr>\n",
       "    <tr>\n",
       "      <th>...</th>\n",
       "      <td>...</td>\n",
       "      <td>...</td>\n",
       "      <td>...</td>\n",
       "      <td>...</td>\n",
       "      <td>...</td>\n",
       "      <td>...</td>\n",
       "      <td>...</td>\n",
       "      <td>...</td>\n",
       "      <td>...</td>\n",
       "      <td>...</td>\n",
       "      <td>...</td>\n",
       "    </tr>\n",
       "    <tr>\n",
       "      <th>24330847</th>\n",
       "      <td>2523645934</td>\n",
       "      <td>2013</td>\n",
       "      <td>\"Reproductive outcomes after bariatric surgery\"</td>\n",
       "      <td>-1</td>\n",
       "      <td>2</td>\n",
       "      <td>-1</td>\n",
       "      <td>-1</td>\n",
       "      <td>0</td>\n",
       "      <td>-1</td>\n",
       "      <td>-1</td>\n",
       "      <td>-1</td>\n",
       "    </tr>\n",
       "    <tr>\n",
       "      <th>24330848</th>\n",
       "      <td>2523663736</td>\n",
       "      <td>2014</td>\n",
       "      <td>\"Nano-engineered PLLA based biomaterial drives...</td>\n",
       "      <td>68700368</td>\n",
       "      <td>2</td>\n",
       "      <td>JOURNAL OF TISSUE ENGINEERING AND REGENERATIVE...</td>\n",
       "      <td>[Cell &amp; Tissue Engineering, Cell Biology, Biot...</td>\n",
       "      <td>0</td>\n",
       "      <td>-1</td>\n",
       "      <td>-1</td>\n",
       "      <td>[Engineering, Cell &amp; Tissue Engineering, Biote...</td>\n",
       "    </tr>\n",
       "    <tr>\n",
       "      <th>24330849</th>\n",
       "      <td>2523695446</td>\n",
       "      <td>2016</td>\n",
       "      <td>\"Executive functioning in autism spectrum diso...</td>\n",
       "      <td>-1</td>\n",
       "      <td>2</td>\n",
       "      <td>-1</td>\n",
       "      <td>-1</td>\n",
       "      <td>0</td>\n",
       "      <td>-1</td>\n",
       "      <td>-1</td>\n",
       "      <td>-1</td>\n",
       "    </tr>\n",
       "    <tr>\n",
       "      <th>24330850</th>\n",
       "      <td>2523696321</td>\n",
       "      <td>2006</td>\n",
       "      <td>\"Surr&amp;#x00E9;nalectorme unilat&amp;#x00E9;rale et ...</td>\n",
       "      <td>198822128</td>\n",
       "      <td>2</td>\n",
       "      <td>-1</td>\n",
       "      <td>-1</td>\n",
       "      <td>0</td>\n",
       "      <td>-1</td>\n",
       "      <td>-1</td>\n",
       "      <td>-1</td>\n",
       "    </tr>\n",
       "    <tr>\n",
       "      <th>24330851</th>\n",
       "      <td>2523716332</td>\n",
       "      <td>2010</td>\n",
       "      <td>\"20. Task-Centered Practice in Japan\"</td>\n",
       "      <td>-1</td>\n",
       "      <td>2</td>\n",
       "      <td>-1</td>\n",
       "      <td>-1</td>\n",
       "      <td>0</td>\n",
       "      <td>-1</td>\n",
       "      <td>-1</td>\n",
       "      <td>-1</td>\n",
       "    </tr>\n",
       "  </tbody>\n",
       "</table>\n",
       "<p>24330852 rows × 11 columns</p>\n",
       "</div>"
      ],
      "text/plain": [
       "                  id  publicationYear  \\\n",
       "0         1984623903             1981   \n",
       "1         1984624469             2014   \n",
       "2         1984630132             2000   \n",
       "3         1984632460             1996   \n",
       "4         1984633284             2017   \n",
       "...              ...              ...   \n",
       "24330847  2523645934             2013   \n",
       "24330848  2523663736             2014   \n",
       "24330849  2523695446             2016   \n",
       "24330850  2523696321             2006   \n",
       "24330851  2523716332             2010   \n",
       "\n",
       "                                                      title  idJournal  \\\n",
       "0         \"F&#x00FC;nf neue Arten der Gattung Halacarus ...    4078192   \n",
       "1         \"Ultracompact three-dimensional tubular conduc...  143846845   \n",
       "2         \"Enhanced dechlorination of Aroclor 1242 in an...   52566953   \n",
       "3         \"NEST PREDATION AND AVIAN LIFE-HISTORY EVOLUTI...  122176235   \n",
       "4         \"On the Matter of Suffering: Derek Parfit and ...   56047584   \n",
       "...                                                     ...        ...   \n",
       "24330847    \"Reproductive outcomes after bariatric surgery\"         -1   \n",
       "24330848  \"Nano-engineered PLLA based biomaterial drives...   68700368   \n",
       "24330849  \"Executive functioning in autism spectrum diso...         -1   \n",
       "24330850  \"Surr&#x00E9;nalectorme unilat&#x00E9;rale et ...  198822128   \n",
       "24330851              \"20. Task-Centered Practice in Japan\"         -1   \n",
       "\n",
       "          queryLevel                                      journal_title  \\\n",
       "0                  2                                  ZOOLOGICA SCRIPTA   \n",
       "1                  2                                       NANO LETTERS   \n",
       "2                  2                                     WATER RESEARCH   \n",
       "3                  2                                AMERICAN NATURALIST   \n",
       "4                  2                        CRIMINAL LAW AND PHILOSOPHY   \n",
       "...              ...                                                ...   \n",
       "24330847           2                                                 -1   \n",
       "24330848           2  JOURNAL OF TISSUE ENGINEERING AND REGENERATIVE...   \n",
       "24330849           2                                                 -1   \n",
       "24330850           2                                                 -1   \n",
       "24330851           2                                                 -1   \n",
       "\n",
       "                                                wos_domains  isIA keywordsIA  \\\n",
       "0                           [Zoology, Evolutionary Biology]     0         -1   \n",
       "1         [Physics, Condensed Matter, Nanoscience & Nano...     0         -1   \n",
       "2         [Environmental Sciences, Engineering, Environm...     0         -1   \n",
       "3                           [Evolutionary Biology, Ecology]     0         -1   \n",
       "4                                                     [Law]     0         -1   \n",
       "...                                                     ...   ...        ...   \n",
       "24330847                                                 -1     0         -1   \n",
       "24330848  [Cell & Tissue Engineering, Cell Biology, Biot...     0         -1   \n",
       "24330849                                                 -1     0         -1   \n",
       "24330850                                                 -1     0         -1   \n",
       "24330851                                                 -1     0         -1   \n",
       "\n",
       "         classIA                                    wos_domains_agg  \n",
       "0             -1                    [Zoology, Evolutionary Biology]  \n",
       "1             -1  [Materials Science, Physics, Chemistry, Nanosc...  \n",
       "2             -1  [Engineering, Environmental Sciences, Water Re...  \n",
       "3             -1                    [Evolutionary Biology, Ecology]  \n",
       "4             -1                                              [Law]  \n",
       "...          ...                                                ...  \n",
       "24330847      -1                                                 -1  \n",
       "24330848      -1  [Engineering, Cell & Tissue Engineering, Biote...  \n",
       "24330849      -1                                                 -1  \n",
       "24330850      -1                                                 -1  \n",
       "24330851      -1                                                 -1  \n",
       "\n",
       "[24330852 rows x 11 columns]"
      ]
     },
     "execution_count": 6,
     "metadata": {},
     "output_type": "execute_result"
    }
   ],
   "source": [
    "# open the main file of publication containing all additionnal publication of the authors\n",
    "allpapers_QL2 = pd.read_csv(f'{path_input}ExtraPapers_from_authors.csv', sep=';').fillna(-1)\n",
    "allpapers_QL2['wos_domains'] = [list(set(eval(i))) if i!=-1 else -1 for i in allpapers_QL2['wos_domains']]\n",
    "allpapers_QL2['wos_domains_agg'] = allpapers_QL2['wos_domains'].apply(lambda x: list(set([i.split(', ')[0] for i in x])) if x!=-1 else -1)\n",
    "allpapers_QL2['journal_title'] =  allpapers_QL2['journal_title'].apply(lambda x: list(set(eval(x)))[0] if x!=-1 else -1)\n",
    "allpapers_QL2['keywordsIA'] = [list(set(eval(i))) if i!=-1 else -1 for i in allpapers_QL2['keywordsIA']]\n",
    "allpapers_QL2['classIA'] = [list(set(eval(i))) if i!=-1 else -1 for i in allpapers_QL2['classIA']]\n",
    "allpapers_QL2['queryLevel'] = 2\n",
    "allpapers_QL2"
   ]
  },
  {
   "cell_type": "code",
   "execution_count": 22,
   "id": "bda74724",
   "metadata": {},
   "outputs": [
    {
     "data": {
      "text/html": [
       "<div>\n",
       "<style scoped>\n",
       "    .dataframe tbody tr th:only-of-type {\n",
       "        vertical-align: middle;\n",
       "    }\n",
       "\n",
       "    .dataframe tbody tr th {\n",
       "        vertical-align: top;\n",
       "    }\n",
       "\n",
       "    .dataframe thead th {\n",
       "        text-align: right;\n",
       "    }\n",
       "</style>\n",
       "<table border=\"1\" class=\"dataframe\">\n",
       "  <thead>\n",
       "    <tr style=\"text-align: right;\">\n",
       "      <th></th>\n",
       "      <th>authorId</th>\n",
       "      <th>id</th>\n",
       "      <th>isIA</th>\n",
       "    </tr>\n",
       "  </thead>\n",
       "  <tbody>\n",
       "    <tr>\n",
       "      <th>0</th>\n",
       "      <td>2951562659</td>\n",
       "      <td>285</td>\n",
       "      <td>0.0</td>\n",
       "    </tr>\n",
       "    <tr>\n",
       "      <th>1</th>\n",
       "      <td>2535012878</td>\n",
       "      <td>348</td>\n",
       "      <td>0.0</td>\n",
       "    </tr>\n",
       "    <tr>\n",
       "      <th>2</th>\n",
       "      <td>2482451074</td>\n",
       "      <td>348</td>\n",
       "      <td>0.0</td>\n",
       "    </tr>\n",
       "    <tr>\n",
       "      <th>3</th>\n",
       "      <td>2060325654</td>\n",
       "      <td>527</td>\n",
       "      <td>0.0</td>\n",
       "    </tr>\n",
       "    <tr>\n",
       "      <th>4</th>\n",
       "      <td>2746639708</td>\n",
       "      <td>662</td>\n",
       "      <td>0.0</td>\n",
       "    </tr>\n",
       "    <tr>\n",
       "      <th>...</th>\n",
       "      <td>...</td>\n",
       "      <td>...</td>\n",
       "      <td>...</td>\n",
       "    </tr>\n",
       "    <tr>\n",
       "      <th>4026968</th>\n",
       "      <td>2579365867</td>\n",
       "      <td>2046820344</td>\n",
       "      <td>0.0</td>\n",
       "    </tr>\n",
       "    <tr>\n",
       "      <th>4026969</th>\n",
       "      <td>2016899951</td>\n",
       "      <td>2046820344</td>\n",
       "      <td>0.0</td>\n",
       "    </tr>\n",
       "    <tr>\n",
       "      <th>4026970</th>\n",
       "      <td>157945237</td>\n",
       "      <td>2046820344</td>\n",
       "      <td>0.0</td>\n",
       "    </tr>\n",
       "    <tr>\n",
       "      <th>4026971</th>\n",
       "      <td>2496737467</td>\n",
       "      <td>2046820344</td>\n",
       "      <td>0.0</td>\n",
       "    </tr>\n",
       "    <tr>\n",
       "      <th>4026972</th>\n",
       "      <td>2600298751</td>\n",
       "      <td>2046820344</td>\n",
       "      <td>0.0</td>\n",
       "    </tr>\n",
       "  </tbody>\n",
       "</table>\n",
       "<p>56270877 rows × 3 columns</p>\n",
       "</div>"
      ],
      "text/plain": [
       "           authorId          id  isIA\n",
       "0        2951562659         285   0.0\n",
       "1        2535012878         348   0.0\n",
       "2        2482451074         348   0.0\n",
       "3        2060325654         527   0.0\n",
       "4        2746639708         662   0.0\n",
       "...             ...         ...   ...\n",
       "4026968  2579365867  2046820344   0.0\n",
       "4026969  2016899951  2046820344   0.0\n",
       "4026970   157945237  2046820344   0.0\n",
       "4026971  2496737467  2046820344   0.0\n",
       "4026972  2600298751  2046820344   0.0\n",
       "\n",
       "[56270877 rows x 3 columns]"
      ]
     },
     "execution_count": 22,
     "metadata": {},
     "output_type": "execute_result"
    }
   ],
   "source": [
    "# add the indicator 'isIA' from the QL2 dataset\n",
    "allAuthors_Ql0_papers.rename(columns={'paperId':'id'}, inplace=True)\n",
    "allAuthors_Ql0_papers = pd.merge(allAuthors_Ql0_papers, allpapers_QL2[['id','isIA']], on='id', how='left')\n",
    "\n",
    "# add the indicator 'isIA' from the QL0 dataset by concatenation\n",
    "allAuthors_Ql0_papers = pd.concat([allAuthors_Ql0_papers, \n",
    "                                   allpapers_QL0_expanded[['authors','id','isIA']].rename(columns={'authors':'authorId'})])\n",
    "allAuthors_Ql0_papers          "
   ]
  },
  {
   "cell_type": "markdown",
   "id": "0e8f5895",
   "metadata": {},
   "source": [
    "Compute the total AI score of the authors, based on the publications that are including abstracts. Be careful to skip `NaN` values due to double publications occurring in the cell above."
   ]
  },
  {
   "cell_type": "code",
   "execution_count": 41,
   "id": "20f687f5",
   "metadata": {},
   "outputs": [
    {
     "data": {
      "text/html": [
       "<div>\n",
       "<style scoped>\n",
       "    .dataframe tbody tr th:only-of-type {\n",
       "        vertical-align: middle;\n",
       "    }\n",
       "\n",
       "    .dataframe tbody tr th {\n",
       "        vertical-align: top;\n",
       "    }\n",
       "\n",
       "    .dataframe thead th {\n",
       "        text-align: right;\n",
       "    }\n",
       "</style>\n",
       "<table border=\"1\" class=\"dataframe\">\n",
       "  <thead>\n",
       "    <tr style=\"text-align: right;\">\n",
       "      <th></th>\n",
       "      <th>authorId</th>\n",
       "      <th>AIscore_all</th>\n",
       "    </tr>\n",
       "  </thead>\n",
       "  <tbody>\n",
       "    <tr>\n",
       "      <th>0</th>\n",
       "      <td>-1</td>\n",
       "      <td>0.166667</td>\n",
       "    </tr>\n",
       "    <tr>\n",
       "      <th>1</th>\n",
       "      <td>18161</td>\n",
       "      <td>0.026316</td>\n",
       "    </tr>\n",
       "    <tr>\n",
       "      <th>2</th>\n",
       "      <td>20361</td>\n",
       "      <td>0.000000</td>\n",
       "    </tr>\n",
       "    <tr>\n",
       "      <th>3</th>\n",
       "      <td>39506</td>\n",
       "      <td>0.000000</td>\n",
       "    </tr>\n",
       "    <tr>\n",
       "      <th>4</th>\n",
       "      <td>57623</td>\n",
       "      <td>0.000000</td>\n",
       "    </tr>\n",
       "    <tr>\n",
       "      <th>...</th>\n",
       "      <td>...</td>\n",
       "      <td>...</td>\n",
       "    </tr>\n",
       "    <tr>\n",
       "      <th>1290137</th>\n",
       "      <td>3035759232</td>\n",
       "      <td>0.024390</td>\n",
       "    </tr>\n",
       "    <tr>\n",
       "      <th>1290138</th>\n",
       "      <td>3035760453</td>\n",
       "      <td>0.000000</td>\n",
       "    </tr>\n",
       "    <tr>\n",
       "      <th>1290139</th>\n",
       "      <td>3035760604</td>\n",
       "      <td>0.000000</td>\n",
       "    </tr>\n",
       "    <tr>\n",
       "      <th>1290140</th>\n",
       "      <td>3035761758</td>\n",
       "      <td>0.000000</td>\n",
       "    </tr>\n",
       "    <tr>\n",
       "      <th>1290141</th>\n",
       "      <td>3035762904</td>\n",
       "      <td>0.037736</td>\n",
       "    </tr>\n",
       "  </tbody>\n",
       "</table>\n",
       "<p>1290142 rows × 2 columns</p>\n",
       "</div>"
      ],
      "text/plain": [
       "           authorId  AIscore_all\n",
       "0                -1     0.166667\n",
       "1             18161     0.026316\n",
       "2             20361     0.000000\n",
       "3             39506     0.000000\n",
       "4             57623     0.000000\n",
       "...             ...          ...\n",
       "1290137  3035759232     0.024390\n",
       "1290138  3035760453     0.000000\n",
       "1290139  3035760604     0.000000\n",
       "1290140  3035761758     0.000000\n",
       "1290141  3035762904     0.037736\n",
       "\n",
       "[1290142 rows x 2 columns]"
      ]
     },
     "execution_count": 41,
     "metadata": {},
     "output_type": "execute_result"
    }
   ],
   "source": [
    "total_AIscore = allAuthors_Ql0_papers[['authorId','isIA']].groupby('authorId').aggregate(np.nanmean).reset_index(level=0)\n",
    "total_AIscore.rename(columns={'isIA':'AIscore_all'}, inplace=True)\n",
    "total_AIscore"
   ]
  },
  {
   "cell_type": "code",
   "execution_count": 45,
   "id": "13131990",
   "metadata": {},
   "outputs": [
    {
     "data": {
      "text/html": [
       "<div>\n",
       "<style scoped>\n",
       "    .dataframe tbody tr th:only-of-type {\n",
       "        vertical-align: middle;\n",
       "    }\n",
       "\n",
       "    .dataframe tbody tr th {\n",
       "        vertical-align: top;\n",
       "    }\n",
       "\n",
       "    .dataframe thead th {\n",
       "        text-align: right;\n",
       "    }\n",
       "</style>\n",
       "<table border=\"1\" class=\"dataframe\">\n",
       "  <thead>\n",
       "    <tr style=\"text-align: right;\">\n",
       "      <th></th>\n",
       "      <th>authorId</th>\n",
       "      <th>name</th>\n",
       "      <th>affiliation</th>\n",
       "      <th>queryLevel</th>\n",
       "      <th>nb_publi_all</th>\n",
       "      <th>AIscore_all</th>\n",
       "    </tr>\n",
       "  </thead>\n",
       "  <tbody>\n",
       "    <tr>\n",
       "      <th>0</th>\n",
       "      <td>1550607070</td>\n",
       "      <td>A. A. A. M. Danen-van Oorschot</td>\n",
       "      <td>121797337</td>\n",
       "      <td>0</td>\n",
       "      <td>6</td>\n",
       "      <td>0.0</td>\n",
       "    </tr>\n",
       "    <tr>\n",
       "      <th>1</th>\n",
       "      <td>2505675405</td>\n",
       "      <td>A. A. A. Manik J. Djelantik</td>\n",
       "      <td>193662353</td>\n",
       "      <td>0</td>\n",
       "      <td>11</td>\n",
       "      <td>0.0</td>\n",
       "    </tr>\n",
       "    <tr>\n",
       "      <th>2</th>\n",
       "      <td>2806045187</td>\n",
       "      <td>A.A.A. Pradhan</td>\n",
       "      <td>5023651</td>\n",
       "      <td>0</td>\n",
       "      <td>1</td>\n",
       "      <td>0.0</td>\n",
       "    </tr>\n",
       "    <tr>\n",
       "      <th>3</th>\n",
       "      <td>2974182613</td>\n",
       "      <td>A. A. Aarnisalo</td>\n",
       "      <td>NONE</td>\n",
       "      <td>0</td>\n",
       "      <td>2</td>\n",
       "      <td>0.0</td>\n",
       "    </tr>\n",
       "    <tr>\n",
       "      <th>4</th>\n",
       "      <td>2991992674</td>\n",
       "      <td>A A Abdel-Latif</td>\n",
       "      <td>25041050</td>\n",
       "      <td>0</td>\n",
       "      <td>8</td>\n",
       "      <td>0.0</td>\n",
       "    </tr>\n",
       "    <tr>\n",
       "      <th>...</th>\n",
       "      <td>...</td>\n",
       "      <td>...</td>\n",
       "      <td>...</td>\n",
       "      <td>...</td>\n",
       "      <td>...</td>\n",
       "      <td>...</td>\n",
       "    </tr>\n",
       "    <tr>\n",
       "      <th>1290136</th>\n",
       "      <td>2263707641</td>\n",
       "      <td>Е. Viteva</td>\n",
       "      <td>NONE</td>\n",
       "      <td>0</td>\n",
       "      <td>1</td>\n",
       "      <td>0.0</td>\n",
       "    </tr>\n",
       "    <tr>\n",
       "      <th>1290137</th>\n",
       "      <td>3022633000</td>\n",
       "      <td>Е Е Garanina</td>\n",
       "      <td>21203515</td>\n",
       "      <td>0</td>\n",
       "      <td>1</td>\n",
       "      <td>0.0</td>\n",
       "    </tr>\n",
       "    <tr>\n",
       "      <th>1290138</th>\n",
       "      <td>2688406403</td>\n",
       "      <td>Мikhail Pashenkov</td>\n",
       "      <td>NONE</td>\n",
       "      <td>0</td>\n",
       "      <td>1</td>\n",
       "      <td>0.0</td>\n",
       "    </tr>\n",
       "    <tr>\n",
       "      <th>1290139</th>\n",
       "      <td>2495571327</td>\n",
       "      <td>І. L. Popovych</td>\n",
       "      <td>149851306</td>\n",
       "      <td>0</td>\n",
       "      <td>1</td>\n",
       "      <td>0.0</td>\n",
       "    </tr>\n",
       "    <tr>\n",
       "      <th>1290140</th>\n",
       "      <td>2732206803</td>\n",
       "      <td>聡 宇多</td>\n",
       "      <td>42766147</td>\n",
       "      <td>0</td>\n",
       "      <td>1</td>\n",
       "      <td>0.0</td>\n",
       "    </tr>\n",
       "  </tbody>\n",
       "</table>\n",
       "<p>1290141 rows × 6 columns</p>\n",
       "</div>"
      ],
      "text/plain": [
       "           authorId                            name affiliation  queryLevel  \\\n",
       "0        1550607070  A. A. A. M. Danen-van Oorschot   121797337           0   \n",
       "1        2505675405     A. A. A. Manik J. Djelantik   193662353           0   \n",
       "2        2806045187                  A.A.A. Pradhan     5023651           0   \n",
       "3        2974182613                 A. A. Aarnisalo        NONE           0   \n",
       "4        2991992674                 A A Abdel-Latif    25041050           0   \n",
       "...             ...                             ...         ...         ...   \n",
       "1290136  2263707641                       Е. Viteva        NONE           0   \n",
       "1290137  3022633000                    Е Е Garanina    21203515           0   \n",
       "1290138  2688406403               Мikhail Pashenkov        NONE           0   \n",
       "1290139  2495571327                  І. L. Popovych   149851306           0   \n",
       "1290140  2732206803                            聡 宇多    42766147           0   \n",
       "\n",
       "         nb_publi_all  AIscore_all  \n",
       "0                   6          0.0  \n",
       "1                  11          0.0  \n",
       "2                   1          0.0  \n",
       "3                   2          0.0  \n",
       "4                   8          0.0  \n",
       "...               ...          ...  \n",
       "1290136             1          0.0  \n",
       "1290137             1          0.0  \n",
       "1290138             1          0.0  \n",
       "1290139             1          0.0  \n",
       "1290140             1          0.0  \n",
       "\n",
       "[1290141 rows x 6 columns]"
      ]
     },
     "execution_count": 45,
     "metadata": {},
     "output_type": "execute_result"
    }
   ],
   "source": [
    "# add the total AI score of the authors above\n",
    "authorsInPapers = authorsInPapers.merge(total_AIscore,\n",
    "                                   on='authorId',\n",
    "                                   how='inner')\n",
    "authorsInPapers"
   ]
  },
  {
   "cell_type": "markdown",
   "id": "14c74f5f",
   "metadata": {},
   "source": [
    "### 4.1.4 - Save file"
   ]
  },
  {
   "cell_type": "code",
   "execution_count": 46,
   "id": "77bcf1f3",
   "metadata": {},
   "outputs": [],
   "source": [
    "authorsInPapers.to_csv(f'{path_output}collabNet_nodes.csv', sep=';', index=False)\n",
    "# save another file for Gephi\n",
    "authorsInPapers.rename(columns={'authorId':'id','name':'label'}).to_csv(f'{path_output}/collabNet_nodes_gephi.csv', sep=';', index=False)"
   ]
  },
  {
   "cell_type": "markdown",
   "id": "36869535",
   "metadata": {},
   "source": [
    "## 4.2 - Enrich the previous dataset with additional temporal and disciplinairy trajectories of the authors"
   ]
  },
  {
   "cell_type": "code",
   "execution_count": 4,
   "id": "87efec02",
   "metadata": {},
   "outputs": [],
   "source": [
    "authorsInPapers = pd.read_csv(f'{path_output}collabNet_nodes.csv', sep=';')"
   ]
  },
  {
   "cell_type": "code",
   "execution_count": 15,
   "id": "d3e4f064",
   "metadata": {},
   "outputs": [],
   "source": [
    "#  Concatenate the big files of papers\n",
    "papers_years = pd.concat([allpapers_QL0[['id','queryLevel','publicationYear','idJournal','wos_domains_agg']],\n",
    "                          allpapers_QL2[['id','queryLevel','publicationYear','idJournal','wos_domains_agg']]]).rename(columns={'id':'paperId'})"
   ]
  },
  {
   "cell_type": "code",
   "execution_count": 16,
   "id": "1769b74e",
   "metadata": {},
   "outputs": [
    {
     "data": {
      "text/plain": [
       "487"
      ]
     },
     "execution_count": 16,
     "metadata": {},
     "output_type": "execute_result"
    }
   ],
   "source": [
    "del allpapers_QL0, allpapers_QL2\n",
    "gc.collect()"
   ]
  },
  {
   "cell_type": "code",
   "execution_count": null,
   "id": "9fd93efb",
   "metadata": {},
   "outputs": [],
   "source": [
    "allAuthors_Ql0_papers.rename(columns={'id':'paperId'},inplace=True)\n",
    "allAuthors_Ql0_papers = allAuthors_Ql0_papers[allAuthors_Ql0_papers['id'].isin(papers_years['paperId'])]"
   ]
  },
  {
   "cell_type": "code",
   "execution_count": 21,
   "id": "41fcf92b",
   "metadata": {},
   "outputs": [
    {
     "data": {
      "text/html": [
       "<div>\n",
       "<style scoped>\n",
       "    .dataframe tbody tr th:only-of-type {\n",
       "        vertical-align: middle;\n",
       "    }\n",
       "\n",
       "    .dataframe tbody tr th {\n",
       "        vertical-align: top;\n",
       "    }\n",
       "\n",
       "    .dataframe thead th {\n",
       "        text-align: right;\n",
       "    }\n",
       "</style>\n",
       "<table border=\"1\" class=\"dataframe\">\n",
       "  <thead>\n",
       "    <tr style=\"text-align: right;\">\n",
       "      <th></th>\n",
       "      <th>authorId</th>\n",
       "      <th>publicationYear</th>\n",
       "      <th>wos_domains_agg</th>\n",
       "    </tr>\n",
       "  </thead>\n",
       "  <tbody>\n",
       "    <tr>\n",
       "      <th>0</th>\n",
       "      <td>2951562659</td>\n",
       "      <td>2012</td>\n",
       "      <td>[Physics, Astronomy &amp; Astrophysics]</td>\n",
       "    </tr>\n",
       "    <tr>\n",
       "      <th>1</th>\n",
       "      <td>2535012878</td>\n",
       "      <td>2004</td>\n",
       "      <td>-1</td>\n",
       "    </tr>\n",
       "    <tr>\n",
       "      <th>2</th>\n",
       "      <td>2482451074</td>\n",
       "      <td>2004</td>\n",
       "      <td>-1</td>\n",
       "    </tr>\n",
       "    <tr>\n",
       "      <th>3</th>\n",
       "      <td>2060325654</td>\n",
       "      <td>2000</td>\n",
       "      <td>-1</td>\n",
       "    </tr>\n",
       "    <tr>\n",
       "      <th>4</th>\n",
       "      <td>2746639708</td>\n",
       "      <td>2001</td>\n",
       "      <td>-1</td>\n",
       "    </tr>\n",
       "    <tr>\n",
       "      <th>...</th>\n",
       "      <td>...</td>\n",
       "      <td>...</td>\n",
       "      <td>...</td>\n",
       "    </tr>\n",
       "    <tr>\n",
       "      <th>51963399</th>\n",
       "      <td>2768276645</td>\n",
       "      <td>2020</td>\n",
       "      <td>[Gastroenterology &amp; Hepatology]</td>\n",
       "    </tr>\n",
       "    <tr>\n",
       "      <th>51963400</th>\n",
       "      <td>2328000574</td>\n",
       "      <td>2020</td>\n",
       "      <td>[Gastroenterology &amp; Hepatology]</td>\n",
       "    </tr>\n",
       "    <tr>\n",
       "      <th>51963401</th>\n",
       "      <td>2653064050</td>\n",
       "      <td>2020</td>\n",
       "      <td>[Medicine, Oncology]</td>\n",
       "    </tr>\n",
       "    <tr>\n",
       "      <th>51963402</th>\n",
       "      <td>2831405835</td>\n",
       "      <td>2020</td>\n",
       "      <td>[Engineering, Materials Science]</td>\n",
       "    </tr>\n",
       "    <tr>\n",
       "      <th>51963403</th>\n",
       "      <td>2133172116</td>\n",
       "      <td>2020</td>\n",
       "      <td>[Engineering, Materials Science]</td>\n",
       "    </tr>\n",
       "  </tbody>\n",
       "</table>\n",
       "<p>51963404 rows × 3 columns</p>\n",
       "</div>"
      ],
      "text/plain": [
       "            authorId  publicationYear                      wos_domains_agg\n",
       "0         2951562659             2012  [Physics, Astronomy & Astrophysics]\n",
       "1         2535012878             2004                                   -1\n",
       "2         2482451074             2004                                   -1\n",
       "3         2060325654             2000                                   -1\n",
       "4         2746639708             2001                                   -1\n",
       "...              ...              ...                                  ...\n",
       "51963399  2768276645             2020      [Gastroenterology & Hepatology]\n",
       "51963400  2328000574             2020      [Gastroenterology & Hepatology]\n",
       "51963401  2653064050             2020                 [Medicine, Oncology]\n",
       "51963402  2831405835             2020     [Engineering, Materials Science]\n",
       "51963403  2133172116             2020     [Engineering, Materials Science]\n",
       "\n",
       "[51963404 rows x 3 columns]"
      ]
     },
     "execution_count": 21,
     "metadata": {},
     "output_type": "execute_result"
    }
   ],
   "source": [
    "authors_years_wos = pd.merge(allAuthors_Ql0_papers, papers_years, on='paperId', how='left')[['authorId','publicationYear','wos_domains_agg']]\n",
    "authors_years_wos.fillna(-1, inplace=True)\n",
    "#authors_years_wos['publicationYear'] = authors_years_wos['publicationYear'].astype(int)\n",
    "authors_years_wos"
   ]
  },
  {
   "cell_type": "code",
   "execution_count": 30,
   "id": "052e6393",
   "metadata": {},
   "outputs": [],
   "source": [
    "authors_years_wos = authors_years_wos[authors_years_wos['publicationYear']<2020]\n",
    "authors_years_wos = authors_years_wos.groupby(['authorId','publicationYear']).agg(list).reset_index()"
   ]
  },
  {
   "cell_type": "code",
   "execution_count": 32,
   "id": "8f33f908",
   "metadata": {},
   "outputs": [],
   "source": [
    "authors_careers = authors_years_wos.drop_duplicates(subset='authorId', keep='first', ignore_index=True).rename(columns={'publicationYear':'beginYear','wos_domains_agg':'wos_begin'})\n",
    "authors_careers = pd.merge(authors_careers,\n",
    "                           authors_years_wos.drop_duplicates(subset='authorId', keep='last', ignore_index=True).rename(columns={'publicationYear':'lastYear','wos_domains_agg':'wos_last'}),\n",
    "                           on='authorId', how='left')\n",
    "authors_careers['deltaYear'] = [j-i for i,j in zip(authors_careers['beginYear'],authors_careers['lastYear'])]"
   ]
  },
  {
   "cell_type": "code",
   "execution_count": 39,
   "id": "afdb7f29",
   "metadata": {},
   "outputs": [
    {
     "data": {
      "image/png": "[encoded data removed]",
      "text/plain": [
       "<Figure size 432x288 with 1 Axes>"
      ]
     },
     "metadata": {
      "needs_background": "light"
     },
     "output_type": "display_data"
    }
   ],
   "source": [
    "plt.hist(authors_careers['deltaYear'], bins=50)\n",
    "plt.yscale('log')"
   ]
  },
  {
   "cell_type": "code",
   "execution_count": 40,
   "id": "81f9490d",
   "metadata": {},
   "outputs": [
    {
     "data": {
      "text/html": [
       "<div>\n",
       "<style scoped>\n",
       "    .dataframe tbody tr th:only-of-type {\n",
       "        vertical-align: middle;\n",
       "    }\n",
       "\n",
       "    .dataframe tbody tr th {\n",
       "        vertical-align: top;\n",
       "    }\n",
       "\n",
       "    .dataframe thead th {\n",
       "        text-align: right;\n",
       "    }\n",
       "</style>\n",
       "<table border=\"1\" class=\"dataframe\">\n",
       "  <thead>\n",
       "    <tr style=\"text-align: right;\">\n",
       "      <th></th>\n",
       "      <th>authorId</th>\n",
       "      <th>beginYear</th>\n",
       "      <th>wos_begin</th>\n",
       "      <th>lastYear</th>\n",
       "      <th>wos_last</th>\n",
       "      <th>deltaYear</th>\n",
       "    </tr>\n",
       "  </thead>\n",
       "  <tbody>\n",
       "    <tr>\n",
       "      <th>0</th>\n",
       "      <td>18161</td>\n",
       "      <td>2008</td>\n",
       "      <td>[[Marine &amp; Freshwater Biology]]</td>\n",
       "      <td>2019</td>\n",
       "      <td>[[Environmental Sciences], [Marine &amp; Freshwate...</td>\n",
       "      <td>11</td>\n",
       "    </tr>\n",
       "    <tr>\n",
       "      <th>1</th>\n",
       "      <td>20361</td>\n",
       "      <td>1999</td>\n",
       "      <td>[[Neurosciences]]</td>\n",
       "      <td>2004</td>\n",
       "      <td>[[Biochemistry &amp; Molecular Biology, Biophysics]]</td>\n",
       "      <td>5</td>\n",
       "    </tr>\n",
       "    <tr>\n",
       "      <th>2</th>\n",
       "      <td>39506</td>\n",
       "      <td>2010</td>\n",
       "      <td>[[Neurosciences, Clinical Neurology, Gastroent...</td>\n",
       "      <td>2015</td>\n",
       "      <td>[[Cell Biology]]</td>\n",
       "      <td>5</td>\n",
       "    </tr>\n",
       "    <tr>\n",
       "      <th>3</th>\n",
       "      <td>57623</td>\n",
       "      <td>2005</td>\n",
       "      <td>[[Respiratory System]]</td>\n",
       "      <td>2009</td>\n",
       "      <td>[[Respiratory System, Physiology]]</td>\n",
       "      <td>4</td>\n",
       "    </tr>\n",
       "    <tr>\n",
       "      <th>4</th>\n",
       "      <td>64128</td>\n",
       "      <td>2009</td>\n",
       "      <td>[[Neurosciences, Clinical Neurology], [Neurosc...</td>\n",
       "      <td>2018</td>\n",
       "      <td>[[Neurosciences, Behavioral Sciences]]</td>\n",
       "      <td>9</td>\n",
       "    </tr>\n",
       "    <tr>\n",
       "      <th>...</th>\n",
       "      <td>...</td>\n",
       "      <td>...</td>\n",
       "      <td>...</td>\n",
       "      <td>...</td>\n",
       "      <td>...</td>\n",
       "      <td>...</td>\n",
       "    </tr>\n",
       "    <tr>\n",
       "      <th>1290005</th>\n",
       "      <td>3035759232</td>\n",
       "      <td>2005</td>\n",
       "      <td>[[Neurosciences]]</td>\n",
       "      <td>2019</td>\n",
       "      <td>[-1]</td>\n",
       "      <td>14</td>\n",
       "    </tr>\n",
       "    <tr>\n",
       "      <th>1290006</th>\n",
       "      <td>3035760453</td>\n",
       "      <td>2012</td>\n",
       "      <td>[[Otorhinolaryngology]]</td>\n",
       "      <td>2018</td>\n",
       "      <td>[-1]</td>\n",
       "      <td>6</td>\n",
       "    </tr>\n",
       "    <tr>\n",
       "      <th>1290007</th>\n",
       "      <td>3035760604</td>\n",
       "      <td>2015</td>\n",
       "      <td>[[Neurosciences], [Neurosciences]]</td>\n",
       "      <td>2015</td>\n",
       "      <td>[[Neurosciences], [Neurosciences]]</td>\n",
       "      <td>0</td>\n",
       "    </tr>\n",
       "    <tr>\n",
       "      <th>1290008</th>\n",
       "      <td>3035761758</td>\n",
       "      <td>2008</td>\n",
       "      <td>[[Neurosciences, Clinical Neurology]]</td>\n",
       "      <td>2018</td>\n",
       "      <td>[[Behavioral Sciences, Neurosciences]]</td>\n",
       "      <td>10</td>\n",
       "    </tr>\n",
       "    <tr>\n",
       "      <th>1290009</th>\n",
       "      <td>3035762904</td>\n",
       "      <td>1991</td>\n",
       "      <td>[[Evolutionary Biology, Ecology, Biology], [Bi...</td>\n",
       "      <td>2019</td>\n",
       "      <td>[[Neurosciences], [Evolutionary Biology, Ecolo...</td>\n",
       "      <td>28</td>\n",
       "    </tr>\n",
       "  </tbody>\n",
       "</table>\n",
       "<p>1290010 rows × 6 columns</p>\n",
       "</div>"
      ],
      "text/plain": [
       "           authorId  beginYear  \\\n",
       "0             18161       2008   \n",
       "1             20361       1999   \n",
       "2             39506       2010   \n",
       "3             57623       2005   \n",
       "4             64128       2009   \n",
       "...             ...        ...   \n",
       "1290005  3035759232       2005   \n",
       "1290006  3035760453       2012   \n",
       "1290007  3035760604       2015   \n",
       "1290008  3035761758       2008   \n",
       "1290009  3035762904       1991   \n",
       "\n",
       "                                                 wos_begin  lastYear  \\\n",
       "0                          [[Marine & Freshwater Biology]]      2019   \n",
       "1                                        [[Neurosciences]]      2004   \n",
       "2        [[Neurosciences, Clinical Neurology, Gastroent...      2015   \n",
       "3                                   [[Respiratory System]]      2009   \n",
       "4        [[Neurosciences, Clinical Neurology], [Neurosc...      2018   \n",
       "...                                                    ...       ...   \n",
       "1290005                                  [[Neurosciences]]      2019   \n",
       "1290006                            [[Otorhinolaryngology]]      2018   \n",
       "1290007                 [[Neurosciences], [Neurosciences]]      2015   \n",
       "1290008              [[Neurosciences, Clinical Neurology]]      2018   \n",
       "1290009  [[Evolutionary Biology, Ecology, Biology], [Bi...      2019   \n",
       "\n",
       "                                                  wos_last  deltaYear  \n",
       "0        [[Environmental Sciences], [Marine & Freshwate...         11  \n",
       "1         [[Biochemistry & Molecular Biology, Biophysics]]          5  \n",
       "2                                         [[Cell Biology]]          5  \n",
       "3                       [[Respiratory System, Physiology]]          4  \n",
       "4                   [[Neurosciences, Behavioral Sciences]]          9  \n",
       "...                                                    ...        ...  \n",
       "1290005                                               [-1]         14  \n",
       "1290006                                               [-1]          6  \n",
       "1290007                 [[Neurosciences], [Neurosciences]]          0  \n",
       "1290008             [[Behavioral Sciences, Neurosciences]]         10  \n",
       "1290009  [[Neurosciences], [Evolutionary Biology, Ecolo...         28  \n",
       "\n",
       "[1290010 rows x 6 columns]"
      ]
     },
     "execution_count": 40,
     "metadata": {},
     "output_type": "execute_result"
    }
   ],
   "source": [
    "authors_careers"
   ]
  },
  {
   "cell_type": "code",
   "execution_count": 46,
   "id": "f84dd997",
   "metadata": {},
   "outputs": [],
   "source": [
    "# merge the careers with the original author file\n",
    "authorsInPapers = pd.merge(authorsInPapers, authors_careers, on='authorId', how='left')"
   ]
  },
  {
   "cell_type": "code",
   "execution_count": 47,
   "id": "bec6aa58",
   "metadata": {},
   "outputs": [],
   "source": [
    "# save the file\n",
    "authorsInPapers.to_csv(f'{path_output}collabNet_nodes.csv', sep=';', index=False)"
   ]
  },
  {
   "cell_type": "markdown",
   "id": "5991c8f2",
   "metadata": {},
   "source": [
    "## 4.3 - Build the parametrized temporal collaboration network\n",
    "Build a temporal multilayer network with AI and non-AI collaborations. Therefore two authors can be linked in different way, either 'AI' or 'nonAI' with time."
   ]
  },
  {
   "cell_type": "code",
   "execution_count": null,
   "id": "259788ba",
   "metadata": {},
   "outputs": [],
   "source": [
    "# NEUROAI\n",
    "cn = {}\n",
    "for y in tqdm(range(1970,2020)):\n",
    "    for authors in papersAI[papersAI['publicationYear']==y]['authors']:\n",
    "        if eval(authors) != -1:\n",
    "            a = list(set(eval(authors))) # to avoid the case where authors appear twice in a single publication\n",
    "            for i in range(len(a)-1):\n",
    "                for j in range(i+1,len(a)):\n",
    "                    if (a[i],a[j],y) in cn:\n",
    "                        cn[(a[i],a[j],y)][0] += 1\n",
    "                    elif (a[j],a[i],y) in cn:\n",
    "                        cn[(a[j],a[i],y)][0] += 1\n",
    "                    else:\n",
    "                        cn[(a[i],a[j],y)] = [1,0]\n",
    "print('NeuroAI ok')\n",
    "# NEURO\n",
    "for y in tqdm(set(papersNonAI['publicationYear'])):\n",
    "    for authors in papersNonAI[papersNonAI['publicationYear']==y]['authors']:\n",
    "        if eval(authors)!=-1:\n",
    "            a = list(set(eval(authors))) # to avoid the case where authors appear twice in a single publication\n",
    "            for i in range(len(a)-1):\n",
    "                for j in range(i+1,len(a)):\n",
    "                    if (a[i],a[j],y) in cn:\n",
    "                        cn[(a[i],a[j],y)][1] += 1\n",
    "                    elif (a[j],a[i],y) in cn:\n",
    "                        cn[(a[j],a[i],y)][1] += 1\n",
    "                    else:\n",
    "                        cn[(a[i],a[j],y)] = [0,1]\n",
    "print('Neuro ok')\n",
    "collabNet = [(i,j,y,k,l) for ((i,j,y),[k,l]) in cn.items()]\n",
    "collabNet = pd.DataFrame.from_records(collabNet, columns=['author1','author2','year','w_AI','w_nonAI'])\n",
    "collabNet['w'] = [i+j for i,j in zip(collabNet['w_nonAI'],collabNet['w_AI'])]"
   ]
  },
  {
   "cell_type": "code",
   "execution_count": null,
   "id": "33044d1f",
   "metadata": {},
   "outputs": [],
   "source": [
    "# confirmation\n",
    "a1, a2, y = 2153041777, 20660026, 1973\n",
    "# avoid doublons\n",
    "print(a1 in list(collabNet[collabNet['author1']==a2]['author2']))\n",
    "# verify the variables 'w_AI' and 'w_nonAI'\n",
    "ids = set(allpapers[(allpapers['authors']==a1)]['id']) & set(allpapers[allpapers['authors']==a2]['id'])\n",
    "allpapers[(allpapers['id'].isin(ids)) \n",
    "          & (allpapers['publicationYear']==y)\n",
    "          & ((allpapers['authors']==a1)|(allpapers['authors']==a2))]"
   ]
  },
  {
   "cell_type": "code",
   "execution_count": null,
   "id": "c6686856",
   "metadata": {},
   "outputs": [],
   "source": [
    "collabNet.to_csv(f'{path_output}collabNet.csv', sep=';', index=False)\n",
    "collabNet.rename(columns={'author1':'source','author2':'target'}).to_csv(f'{path_output}collabNet_edges_gephi.csv', sep=';', index=False)"
   ]
  },
  {
   "cell_type": "markdown",
   "id": "1df04c14",
   "metadata": {},
   "source": [
    "## 4.5 - Build the time aggregated collaboration network"
   ]
  },
  {
   "cell_type": "code",
   "execution_count": 3,
   "id": "e6a8fafe",
   "metadata": {},
   "outputs": [],
   "source": [
    "# add weights\n",
    "def aggregate(temporal_collab_network):\n",
    "    cn = {}\n",
    "    for i,j,w in tqdm(temporal_collab_network[['author1','author2','w']].values):\n",
    "        if (i,j) in cn:\n",
    "            cn[(i,j)] += w\n",
    "        elif (j,i) in cn:\n",
    "            cn[(j,i)] += w\n",
    "        else:\n",
    "            cn[(i,j)] = w\n",
    "    cn = pd.DataFrame.from_records([(i,j,k) for ((i,j),k) in cn.items()], columns=['author1','author2','w'])\n",
    "    return cn"
   ]
  },
  {
   "cell_type": "code",
   "execution_count": null,
   "id": "c1074305",
   "metadata": {},
   "outputs": [],
   "source": [
    "collabNet_timeagg = aggregate(collabNet)"
   ]
  },
  {
   "cell_type": "markdown",
   "id": "7d6b0200",
   "metadata": {},
   "source": [
    "#### Verification by comparing to the weights of the original network"
   ]
  },
  {
   "cell_type": "code",
   "execution_count": 226,
   "id": "cf06eb0b",
   "metadata": {},
   "outputs": [
    {
     "data": {
      "text/html": [
       "<div>\n",
       "<style scoped>\n",
       "    .dataframe tbody tr th:only-of-type {\n",
       "        vertical-align: middle;\n",
       "    }\n",
       "\n",
       "    .dataframe tbody tr th {\n",
       "        vertical-align: top;\n",
       "    }\n",
       "\n",
       "    .dataframe thead th {\n",
       "        text-align: right;\n",
       "    }\n",
       "</style>\n",
       "<table border=\"1\" class=\"dataframe\">\n",
       "  <thead>\n",
       "    <tr style=\"text-align: right;\">\n",
       "      <th></th>\n",
       "      <th>author1</th>\n",
       "      <th>author2</th>\n",
       "      <th>w</th>\n",
       "    </tr>\n",
       "  </thead>\n",
       "  <tbody>\n",
       "    <tr>\n",
       "      <th>331035</th>\n",
       "      <td>2737824110</td>\n",
       "      <td>2999599514</td>\n",
       "      <td>297</td>\n",
       "    </tr>\n",
       "  </tbody>\n",
       "</table>\n",
       "</div>"
      ],
      "text/plain": [
       "           author1     author2    w\n",
       "331035  2737824110  2999599514  297"
      ]
     },
     "execution_count": 226,
     "metadata": {},
     "output_type": "execute_result"
    }
   ],
   "source": [
    "ind = np.where(collabNet_timeagg['w']==max(collabNet_timeagg['w']))\n",
    "collabNet_timeagg.loc[ind]"
   ]
  },
  {
   "cell_type": "code",
   "execution_count": 228,
   "id": "9e07113b",
   "metadata": {
    "scrolled": true
   },
   "outputs": [
    {
     "data": {
      "text/plain": [
       "297"
      ]
     },
     "execution_count": 228,
     "metadata": {},
     "output_type": "execute_result"
    }
   ],
   "source": [
    "sum(collabNet[((collabNet['author1']==2737824110) & (collabNet['author2']==2999599514))|\n",
    "              ((collabNet['author2']==2737824110) & (collabNet['author1']==2999599514))]['w'])"
   ]
  },
  {
   "cell_type": "code",
   "execution_count": null,
   "id": "2228d243",
   "metadata": {},
   "outputs": [],
   "source": [
    "collabNet_timeagg.to_csv(f'{path_output}collabNet_edges_timeagg.csv', sep=';', index=False)"
   ]
  },
  {
   "cell_type": "markdown",
   "id": "d648a28f",
   "metadata": {},
   "source": [
    "# 5 - Comparison of different time-aggregated collaboration networks when applying different filters\n",
    "Compare:\n",
    "- their density, \n",
    "- their number of connected components and the distribution of their corresponding sizes "
   ]
  },
  {
   "cell_type": "code",
   "execution_count": 7,
   "id": "68fb6f4a",
   "metadata": {},
   "outputs": [],
   "source": [
    "# add weights\n",
    "def aggregate(temporal_collab_network):\n",
    "    cn = {}\n",
    "    for i,j,w in tqdm(temporal_collab_network[['author1','author2','w']].values):\n",
    "        if (i,j) in cn:\n",
    "            cn[(i,j)] += w\n",
    "        elif (j,i) in cn:\n",
    "            cn[(j,i)] += w\n",
    "        else:\n",
    "            cn[(i,j)] = w\n",
    "    cn = pd.DataFrame.from_records([(i,j,k) for ((i,j),k) in cn.items()], columns=['author1','author2','w'])\n",
    "    return cn"
   ]
  },
  {
   "cell_type": "markdown",
   "id": "5f2b262a",
   "metadata": {},
   "source": [
    "## 5.1 - Original time aggregated network with all the authors of the original database"
   ]
  },
  {
   "cell_type": "code",
   "execution_count": 32,
   "id": "76ae2991",
   "metadata": {},
   "outputs": [],
   "source": [
    "collabNet = pd.read_csv(f'{path_output}collabNet.csv', sep=';')"
   ]
  },
  {
   "cell_type": "code",
   "execution_count": 33,
   "id": "d2acc006",
   "metadata": {},
   "outputs": [
    {
     "name": "stderr",
     "output_type": "stream",
     "text": [
      "100%|███████████████████████████| 12637315/12637315 [00:19<00:00, 644415.70it/s]\n"
     ]
    }
   ],
   "source": [
    "collabNet_timeagg = aggregate(collabNet)"
   ]
  },
  {
   "cell_type": "code",
   "execution_count": 229,
   "id": "628c2ac9",
   "metadata": {},
   "outputs": [
    {
     "data": {
      "image/png": "[encoded data removed]",
      "text/plain": [
       "<Figure size 432x288 with 1 Axes>"
      ]
     },
     "metadata": {
      "needs_background": "light"
     },
     "output_type": "display_data"
    }
   ],
   "source": [
    "plt.hist(collabNet_timeagg['w'],bins=100)\n",
    "plt.yscale('log')"
   ]
  },
  {
   "cell_type": "code",
   "execution_count": 230,
   "id": "cbd91d46",
   "metadata": {},
   "outputs": [],
   "source": [
    "G = ig.Graph.DataFrame(collabNet_timeagg, directed=False)"
   ]
  },
  {
   "cell_type": "code",
   "execution_count": 231,
   "id": "f716e9f6",
   "metadata": {},
   "outputs": [
    {
     "data": {
      "text/plain": [
       "1278468"
      ]
     },
     "execution_count": 231,
     "metadata": {},
     "output_type": "execute_result"
    }
   ],
   "source": [
    "len(G.vs)"
   ]
  },
  {
   "cell_type": "code",
   "execution_count": 232,
   "id": "3a7f768b",
   "metadata": {},
   "outputs": [
    {
     "data": {
      "text/plain": [
       "10109269"
      ]
     },
     "execution_count": 232,
     "metadata": {},
     "output_type": "execute_result"
    }
   ],
   "source": [
    "len(G.es)"
   ]
  },
  {
   "cell_type": "code",
   "execution_count": 233,
   "id": "81b891ad",
   "metadata": {},
   "outputs": [
    {
     "data": {
      "text/plain": [
       "1.2370018924904797e-05"
      ]
     },
     "execution_count": 233,
     "metadata": {},
     "output_type": "execute_result"
    }
   ],
   "source": [
    "G.density()"
   ]
  },
  {
   "cell_type": "code",
   "execution_count": 234,
   "id": "069bf310",
   "metadata": {},
   "outputs": [],
   "source": [
    "comp = [c for c in G.components()]\n",
    "sizes = [len(c) for c in comp]"
   ]
  },
  {
   "cell_type": "code",
   "execution_count": 235,
   "id": "e20a27f5",
   "metadata": {},
   "outputs": [
    {
     "data": {
      "text/plain": [
       "[30, 31, 31, 32, 32, 32, 34, 39, 41, 1166044]"
      ]
     },
     "execution_count": 235,
     "metadata": {},
     "output_type": "execute_result"
    }
   ],
   "source": [
    "sorted(sizes)[-10:]"
   ]
  },
  {
   "cell_type": "code",
   "execution_count": 236,
   "id": "76eea1a9",
   "metadata": {},
   "outputs": [
    {
     "data": {
      "image/png": "[encoded data removed]",
      "text/plain": [
       "<Figure size 432x288 with 1 Axes>"
      ]
     },
     "metadata": {
      "needs_background": "light"
     },
     "output_type": "display_data"
    }
   ],
   "source": [
    "plt.hist(sizes,bins=100)\n",
    "plt.yscale('log')"
   ]
  },
  {
   "cell_type": "markdown",
   "id": "7063c7f0",
   "metadata": {},
   "source": [
    "## 5.2 - Select only the authors having at least 3 publications"
   ]
  },
  {
   "cell_type": "code",
   "execution_count": 268,
   "id": "97ce2fe5",
   "metadata": {},
   "outputs": [],
   "source": [
    "authorsInPapers_sub = authorsInPapers[authorsInPapers['nb_publi_all']>=3]"
   ]
  },
  {
   "cell_type": "code",
   "execution_count": 278,
   "id": "ff9a5d4b",
   "metadata": {},
   "outputs": [
    {
     "data": {
      "text/plain": [
       "899706"
      ]
     },
     "execution_count": 278,
     "metadata": {},
     "output_type": "execute_result"
    }
   ],
   "source": [
    "len(authorsInPapers_sub)"
   ]
  },
  {
   "cell_type": "code",
   "execution_count": 269,
   "id": "cc5a8234",
   "metadata": {},
   "outputs": [],
   "source": [
    "sub_collabNet_timeagg = collabNet_timeagg[collabNet_timeagg['author1'].isin(authorsInPapers_sub['authorId'])\n",
    "                         & collabNet_timeagg['author2'].isin(authorsInPapers_sub['authorId'])]"
   ]
  },
  {
   "cell_type": "code",
   "execution_count": 270,
   "id": "2940c94d",
   "metadata": {},
   "outputs": [],
   "source": [
    "G = ig.Graph.DataFrame(sub_collabNet_timeagg, directed=False)"
   ]
  },
  {
   "cell_type": "code",
   "execution_count": 271,
   "id": "d85b9eb4",
   "metadata": {},
   "outputs": [
    {
     "data": {
      "text/plain": [
       "887227"
      ]
     },
     "execution_count": 271,
     "metadata": {},
     "output_type": "execute_result"
    }
   ],
   "source": [
    "len(G.vs)"
   ]
  },
  {
   "cell_type": "code",
   "execution_count": 350,
   "id": "ced3f5ad",
   "metadata": {},
   "outputs": [
    {
     "data": {
      "text/plain": [
       "0.6876977012590096"
      ]
     },
     "execution_count": 350,
     "metadata": {},
     "output_type": "execute_result"
    }
   ],
   "source": [
    "887227/len(authorsInPapers)"
   ]
  },
  {
   "cell_type": "code",
   "execution_count": 272,
   "id": "aa794866",
   "metadata": {},
   "outputs": [
    {
     "data": {
      "text/plain": [
       "7819355"
      ]
     },
     "execution_count": 272,
     "metadata": {},
     "output_type": "execute_result"
    }
   ],
   "source": [
    "len(G.es)"
   ]
  },
  {
   "cell_type": "code",
   "execution_count": 273,
   "id": "e3328dea",
   "metadata": {},
   "outputs": [
    {
     "data": {
      "text/plain": [
       "1.986698282284764e-05"
      ]
     },
     "execution_count": 273,
     "metadata": {},
     "output_type": "execute_result"
    }
   ],
   "source": [
    "G.density()"
   ]
  },
  {
   "cell_type": "code",
   "execution_count": 274,
   "id": "d4d9d513",
   "metadata": {},
   "outputs": [],
   "source": [
    "comp = [c for c in G.components()]\n",
    "sizes = [len(c) for c in comp]"
   ]
  },
  {
   "cell_type": "code",
   "execution_count": 275,
   "id": "af22b717",
   "metadata": {},
   "outputs": [
    {
     "data": {
      "text/plain": [
       "16561"
      ]
     },
     "execution_count": 275,
     "metadata": {},
     "output_type": "execute_result"
    }
   ],
   "source": [
    "len(comp)"
   ]
  },
  {
   "cell_type": "code",
   "execution_count": 276,
   "id": "66188a0f",
   "metadata": {},
   "outputs": [
    {
     "data": {
      "text/plain": [
       "[24, 25, 25, 26, 27, 27, 28, 29, 30, 828240]"
      ]
     },
     "execution_count": 276,
     "metadata": {},
     "output_type": "execute_result"
    }
   ],
   "source": [
    "sorted(sizes)[-10:]"
   ]
  },
  {
   "cell_type": "code",
   "execution_count": 277,
   "id": "bc990018",
   "metadata": {},
   "outputs": [
    {
     "data": {
      "image/png": "[encoded data removed]",
      "text/plain": [
       "<Figure size 432x288 with 1 Axes>"
      ]
     },
     "metadata": {
      "needs_background": "light"
     },
     "output_type": "display_data"
    }
   ],
   "source": [
    "plt.hist(sizes,bins=100)\n",
    "plt.yscale('log')"
   ]
  },
  {
   "cell_type": "markdown",
   "id": "394e9fdf",
   "metadata": {},
   "source": [
    "## 5.3 - Select only the authors with bounded careers ($\\Delta t\\leqslant 50\\,years $ and $t_0\\geqslant 1940$)"
   ]
  },
  {
   "cell_type": "code",
   "execution_count": 54,
   "id": "d033c1c6",
   "metadata": {},
   "outputs": [],
   "source": [
    "authorsInPapers_sub = authorsInPapers[(authorsInPapers['deltaYear']<=50) & (authorsInPapers['beginYear']>=1940)]"
   ]
  },
  {
   "cell_type": "code",
   "execution_count": 55,
   "id": "bd411ccd",
   "metadata": {},
   "outputs": [],
   "source": [
    "sub_collabNet_timeagg = collabNet_timeagg[collabNet_timeagg['author1'].isin(authorsInPapers_sub['authorId'])\n",
    "                                         & collabNet_timeagg['author2'].isin(authorsInPapers_sub['authorId'])]"
   ]
  },
  {
   "cell_type": "code",
   "execution_count": null,
   "id": "10ab6e8c",
   "metadata": {},
   "outputs": [],
   "source": [
    "G = ig.Graph.DataFrame(sub_collabNet_timeagg, directed=False)"
   ]
  },
  {
   "cell_type": "code",
   "execution_count": 251,
   "id": "26b005aa",
   "metadata": {},
   "outputs": [
    {
     "data": {
      "text/plain": [
       "1261059"
      ]
     },
     "execution_count": 251,
     "metadata": {},
     "output_type": "execute_result"
    }
   ],
   "source": [
    "len(G.vs)"
   ]
  },
  {
   "cell_type": "code",
   "execution_count": 252,
   "id": "92278678",
   "metadata": {},
   "outputs": [
    {
     "data": {
      "text/plain": [
       "9641832"
      ]
     },
     "execution_count": 252,
     "metadata": {},
     "output_type": "execute_result"
    }
   ],
   "source": [
    "len(G.es)"
   ]
  },
  {
   "cell_type": "code",
   "execution_count": 253,
   "id": "926b570f",
   "metadata": {},
   "outputs": [
    {
     "data": {
      "text/plain": [
       "1.2126042558122171e-05"
      ]
     },
     "execution_count": 253,
     "metadata": {},
     "output_type": "execute_result"
    }
   ],
   "source": [
    "G.density()"
   ]
  },
  {
   "cell_type": "code",
   "execution_count": 254,
   "id": "d7ddd253",
   "metadata": {},
   "outputs": [],
   "source": [
    "comp = [c for c in G.components()]\n",
    "sizes = [len(c) for c in comp]"
   ]
  },
  {
   "cell_type": "code",
   "execution_count": 257,
   "id": "3db5d189",
   "metadata": {},
   "outputs": [
    {
     "data": {
      "text/plain": [
       "32284"
      ]
     },
     "execution_count": 257,
     "metadata": {},
     "output_type": "execute_result"
    }
   ],
   "source": [
    "len(comp)"
   ]
  },
  {
   "cell_type": "code",
   "execution_count": 255,
   "id": "1397831b",
   "metadata": {},
   "outputs": [
    {
     "data": {
      "text/plain": [
       "[31, 32, 32, 32, 34, 34, 39, 41, 45, 1140463]"
      ]
     },
     "execution_count": 255,
     "metadata": {},
     "output_type": "execute_result"
    }
   ],
   "source": [
    "sorted(sizes)[-10:]"
   ]
  },
  {
   "cell_type": "code",
   "execution_count": 256,
   "id": "0f6ffa00",
   "metadata": {},
   "outputs": [
    {
     "data": {
      "image/png": "[encoded data removed]",
      "text/plain": [
       "<Figure size 432x288 with 1 Axes>"
      ]
     },
     "metadata": {
      "needs_background": "light"
     },
     "output_type": "display_data"
    }
   ],
   "source": [
    "plt.hist(sizes,bins=100)\n",
    "plt.yscale('log')"
   ]
  },
  {
   "cell_type": "markdown",
   "id": "407a52a8",
   "metadata": {},
   "source": [
    "## 5.3 - Select only the authors with bounded careers ($\\Delta t\\leqslant 50\\,years $ and $t_0\\geqslant 1940$) and having at least 3 publications"
   ]
  },
  {
   "cell_type": "code",
   "execution_count": 20,
   "id": "a84ea2ef",
   "metadata": {},
   "outputs": [],
   "source": [
    "authorsInPapers_sub = authorsInPapers[(authorsInPapers['nb_publi_all']>=3) &\n",
    "                                      (authorsInPapers['deltaYear']<=50) &\n",
    "                                      (authorsInPapers['beginYear']>=1940)]"
   ]
  },
  {
   "cell_type": "code",
   "execution_count": 20,
   "id": "5742ade1",
   "metadata": {},
   "outputs": [],
   "source": [
    "sub_collabNet_timeagg = collabNet_timeagg[collabNet_timeagg['author1'].isin(authorsInPapers_sub['authorId'])\n",
    "                         & collabNet_timeagg['author2'].isin(authorsInPapers_sub['authorId'])]"
   ]
  },
  {
   "cell_type": "code",
   "execution_count": 61,
   "id": "0f3d679d",
   "metadata": {},
   "outputs": [
    {
     "data": {
      "image/png": "[encoded data removed]",
      "text/plain": [
       "<Figure size 432x288 with 1 Axes>"
      ]
     },
     "metadata": {
      "needs_background": "light"
     },
     "output_type": "display_data"
    }
   ],
   "source": [
    "plt.hist(sub_collabNet_timeagg['w'],bins=100)\n",
    "plt.yscale('log')"
   ]
  },
  {
   "cell_type": "code",
   "execution_count": 215,
   "id": "6e135adc",
   "metadata": {},
   "outputs": [],
   "source": [
    "G = ig.Graph.DataFrame(sub_collabNet_timeagg, directed=False)"
   ]
  },
  {
   "cell_type": "code",
   "execution_count": 217,
   "id": "7b5a4694",
   "metadata": {
    "scrolled": true
   },
   "outputs": [
    {
     "data": {
      "text/plain": [
       "871282"
      ]
     },
     "execution_count": 217,
     "metadata": {},
     "output_type": "execute_result"
    }
   ],
   "source": [
    "len(G.vs)"
   ]
  },
  {
   "cell_type": "code",
   "execution_count": 218,
   "id": "2c895fcd",
   "metadata": {},
   "outputs": [
    {
     "data": {
      "text/plain": [
       "7420423"
      ]
     },
     "execution_count": 218,
     "metadata": {},
     "output_type": "execute_result"
    }
   ],
   "source": [
    "len(G.es)"
   ]
  },
  {
   "cell_type": "code",
   "execution_count": 220,
   "id": "a3f2b108",
   "metadata": {},
   "outputs": [
    {
     "data": {
      "text/plain": [
       "10785916"
      ]
     },
     "execution_count": 220,
     "metadata": {},
     "output_type": "execute_result"
    }
   ],
   "source": [
    "sum(sub_collabNet_timeagg['w'])"
   ]
  },
  {
   "cell_type": "code",
   "execution_count": 216,
   "id": "f876e02b",
   "metadata": {},
   "outputs": [
    {
     "data": {
      "text/plain": [
       "0.6753385870226588"
      ]
     },
     "execution_count": 216,
     "metadata": {},
     "output_type": "execute_result"
    }
   ],
   "source": [
    "len(G.vs)/len(authorsInPapers)"
   ]
  },
  {
   "cell_type": "code",
   "execution_count": 407,
   "id": "534be886",
   "metadata": {},
   "outputs": [
    {
     "data": {
      "text/plain": [
       "0.2176531209689165"
      ]
     },
     "execution_count": 407,
     "metadata": {},
     "output_type": "execute_result"
    }
   ],
   "source": [
    "# share of removing edges\n",
    "(sum(collabNet_timeagg['w'])-sum(sub_collabNet_timeagg['w']))/sum(collabNet_timeagg['w'])"
   ]
  },
  {
   "cell_type": "code",
   "execution_count": 299,
   "id": "579ab0ea",
   "metadata": {},
   "outputs": [
    {
     "data": {
      "text/plain": [
       "1.9549770933834205e-05"
      ]
     },
     "execution_count": 299,
     "metadata": {},
     "output_type": "execute_result"
    }
   ],
   "source": [
    "G.density()"
   ]
  },
  {
   "cell_type": "code",
   "execution_count": 242,
   "id": "22ca445c",
   "metadata": {},
   "outputs": [],
   "source": [
    "comp = [c for c in G.components()]\n",
    "sizes = sorted([len(c) for c in comp])"
   ]
  },
  {
   "cell_type": "code",
   "execution_count": 237,
   "id": "053a3e77",
   "metadata": {},
   "outputs": [
    {
     "data": {
      "text/plain": [
       "array([8799, 5840, 5839, ..., 7410, 1192,    0])"
      ]
     },
     "execution_count": 237,
     "metadata": {},
     "output_type": "execute_result"
    }
   ],
   "source": [
    "ind_sorted"
   ]
  },
  {
   "cell_type": "code",
   "execution_count": 222,
   "id": "19127fdf",
   "metadata": {},
   "outputs": [
    {
     "data": {
      "text/plain": [
       "17599"
      ]
     },
     "execution_count": 222,
     "metadata": {},
     "output_type": "execute_result"
    }
   ],
   "source": [
    "len(comp)"
   ]
  },
  {
   "cell_type": "code",
   "execution_count": 302,
   "id": "1d29a70f",
   "metadata": {},
   "outputs": [
    {
     "data": {
      "text/plain": [
       "[25, 26, 27, 27, 27, 28, 28, 29, 30, 809280]"
      ]
     },
     "execution_count": 302,
     "metadata": {},
     "output_type": "execute_result"
    }
   ],
   "source": [
    "sorted(sizes)[-10:]"
   ]
  },
  {
   "cell_type": "code",
   "execution_count": 303,
   "id": "65aefee7",
   "metadata": {},
   "outputs": [
    {
     "data": {
      "text/plain": [
       "62002"
      ]
     },
     "execution_count": 303,
     "metadata": {},
     "output_type": "execute_result"
    }
   ],
   "source": [
    "sum(sizes[:-1])"
   ]
  },
  {
   "cell_type": "code",
   "execution_count": 408,
   "id": "2816197f",
   "metadata": {},
   "outputs": [
    {
     "data": {
      "text/plain": [
       "0.07661378015025702"
      ]
     },
     "execution_count": 408,
     "metadata": {},
     "output_type": "execute_result"
    }
   ],
   "source": [
    "# share of nodes in independent connected components, here 7.7%\n",
    "62002/809280"
   ]
  },
  {
   "cell_type": "code",
   "execution_count": 223,
   "id": "fd5f6d62",
   "metadata": {},
   "outputs": [
    {
     "data": {
      "text/plain": [
       "0.9288381947521009"
      ]
     },
     "execution_count": 223,
     "metadata": {},
     "output_type": "execute_result"
    }
   ],
   "source": [
    "sizes[-1]/len(G.vs)"
   ]
  },
  {
   "cell_type": "code",
   "execution_count": 304,
   "id": "8ee1a841",
   "metadata": {},
   "outputs": [
    {
     "data": {
      "image/png": "[encoded data removed]",
      "text/plain": [
       "<Figure size 432x288 with 1 Axes>"
      ]
     },
     "metadata": {
      "needs_background": "light"
     },
     "output_type": "display_data"
    }
   ],
   "source": [
    "plt.hist(sizes,bins=100)\n",
    "plt.yscale('log')"
   ]
  },
  {
   "cell_type": "markdown",
   "id": "6856ad29",
   "metadata": {},
   "source": [
    "## 5.4 - Who are the problematic persons? \n",
    "Compare with the percentage of persons making AI wrt to the `AI_score` vs `nb_publi_all`"
   ]
  },
  {
   "cell_type": "code",
   "execution_count": 62,
   "id": "876e3a9d",
   "metadata": {
    "scrolled": false
   },
   "outputs": [
    {
     "data": {
      "text/html": [
       "<div>\n",
       "<style scoped>\n",
       "    .dataframe tbody tr th:only-of-type {\n",
       "        vertical-align: middle;\n",
       "    }\n",
       "\n",
       "    .dataframe tbody tr th {\n",
       "        vertical-align: top;\n",
       "    }\n",
       "\n",
       "    .dataframe thead th {\n",
       "        text-align: right;\n",
       "    }\n",
       "</style>\n",
       "<table border=\"1\" class=\"dataframe\">\n",
       "  <thead>\n",
       "    <tr style=\"text-align: right;\">\n",
       "      <th></th>\n",
       "      <th>authorId</th>\n",
       "      <th>name</th>\n",
       "      <th>affiliation</th>\n",
       "      <th>queryLevel</th>\n",
       "      <th>nb_publi_neuro</th>\n",
       "      <th>AIscore_neuro</th>\n",
       "      <th>nb_publi_all</th>\n",
       "      <th>AIscore_all</th>\n",
       "    </tr>\n",
       "  </thead>\n",
       "  <tbody>\n",
       "    <tr>\n",
       "      <th>2</th>\n",
       "      <td>2806045187</td>\n",
       "      <td>A.A.A. Pradhan</td>\n",
       "      <td>5023651</td>\n",
       "      <td>0.0</td>\n",
       "      <td>1.0</td>\n",
       "      <td>0.0</td>\n",
       "      <td>1</td>\n",
       "      <td>0.0</td>\n",
       "    </tr>\n",
       "    <tr>\n",
       "      <th>3</th>\n",
       "      <td>2974182613</td>\n",
       "      <td>A. A. Aarnisalo</td>\n",
       "      <td>NONE</td>\n",
       "      <td>0.0</td>\n",
       "      <td>1.0</td>\n",
       "      <td>0.0</td>\n",
       "      <td>2</td>\n",
       "      <td>0.0</td>\n",
       "    </tr>\n",
       "    <tr>\n",
       "      <th>5</th>\n",
       "      <td>2840631567</td>\n",
       "      <td>A A Abdel-Rahman</td>\n",
       "      <td>1309191912</td>\n",
       "      <td>0.0</td>\n",
       "      <td>1.0</td>\n",
       "      <td>0.0</td>\n",
       "      <td>1</td>\n",
       "      <td>0.0</td>\n",
       "    </tr>\n",
       "    <tr>\n",
       "      <th>6</th>\n",
       "      <td>2639413062</td>\n",
       "      <td>A.A. Acheampong</td>\n",
       "      <td>201448701</td>\n",
       "      <td>0.0</td>\n",
       "      <td>1.0</td>\n",
       "      <td>1.0</td>\n",
       "      <td>1</td>\n",
       "      <td>1.0</td>\n",
       "    </tr>\n",
       "    <tr>\n",
       "      <th>8</th>\n",
       "      <td>2437395452</td>\n",
       "      <td>A A Ajayi</td>\n",
       "      <td>45711476</td>\n",
       "      <td>0.0</td>\n",
       "      <td>1.0</td>\n",
       "      <td>0.0</td>\n",
       "      <td>1</td>\n",
       "      <td>0.0</td>\n",
       "    </tr>\n",
       "    <tr>\n",
       "      <th>...</th>\n",
       "      <td>...</td>\n",
       "      <td>...</td>\n",
       "      <td>...</td>\n",
       "      <td>...</td>\n",
       "      <td>...</td>\n",
       "      <td>...</td>\n",
       "      <td>...</td>\n",
       "      <td>...</td>\n",
       "    </tr>\n",
       "    <tr>\n",
       "      <th>1290136</th>\n",
       "      <td>2263707641</td>\n",
       "      <td>Е. Viteva</td>\n",
       "      <td>NONE</td>\n",
       "      <td>0.0</td>\n",
       "      <td>1.0</td>\n",
       "      <td>0.0</td>\n",
       "      <td>1</td>\n",
       "      <td>0.0</td>\n",
       "    </tr>\n",
       "    <tr>\n",
       "      <th>1290137</th>\n",
       "      <td>3022633000</td>\n",
       "      <td>Е Е Garanina</td>\n",
       "      <td>21203515</td>\n",
       "      <td>0.0</td>\n",
       "      <td>1.0</td>\n",
       "      <td>0.0</td>\n",
       "      <td>1</td>\n",
       "      <td>0.0</td>\n",
       "    </tr>\n",
       "    <tr>\n",
       "      <th>1290138</th>\n",
       "      <td>2688406403</td>\n",
       "      <td>Мikhail Pashenkov</td>\n",
       "      <td>NONE</td>\n",
       "      <td>0.0</td>\n",
       "      <td>1.0</td>\n",
       "      <td>0.0</td>\n",
       "      <td>1</td>\n",
       "      <td>0.0</td>\n",
       "    </tr>\n",
       "    <tr>\n",
       "      <th>1290139</th>\n",
       "      <td>2495571327</td>\n",
       "      <td>І. L. Popovych</td>\n",
       "      <td>149851306</td>\n",
       "      <td>0.0</td>\n",
       "      <td>1.0</td>\n",
       "      <td>0.0</td>\n",
       "      <td>1</td>\n",
       "      <td>0.0</td>\n",
       "    </tr>\n",
       "    <tr>\n",
       "      <th>1290140</th>\n",
       "      <td>2732206803</td>\n",
       "      <td>聡 宇多</td>\n",
       "      <td>42766147</td>\n",
       "      <td>0.0</td>\n",
       "      <td>1.0</td>\n",
       "      <td>0.0</td>\n",
       "      <td>1</td>\n",
       "      <td>0.0</td>\n",
       "    </tr>\n",
       "  </tbody>\n",
       "</table>\n",
       "<p>404067 rows × 8 columns</p>\n",
       "</div>"
      ],
      "text/plain": [
       "           authorId               name affiliation  queryLevel  \\\n",
       "2        2806045187     A.A.A. Pradhan     5023651         0.0   \n",
       "3        2974182613    A. A. Aarnisalo        NONE         0.0   \n",
       "5        2840631567   A A Abdel-Rahman  1309191912         0.0   \n",
       "6        2639413062    A.A. Acheampong   201448701         0.0   \n",
       "8        2437395452          A A Ajayi    45711476         0.0   \n",
       "...             ...                ...         ...         ...   \n",
       "1290136  2263707641          Е. Viteva        NONE         0.0   \n",
       "1290137  3022633000       Е Е Garanina    21203515         0.0   \n",
       "1290138  2688406403  Мikhail Pashenkov        NONE         0.0   \n",
       "1290139  2495571327     І. L. Popovych   149851306         0.0   \n",
       "1290140  2732206803               聡 宇多    42766147         0.0   \n",
       "\n",
       "         nb_publi_neuro  AIscore_neuro  nb_publi_all  AIscore_all  \n",
       "2                   1.0            0.0             1          0.0  \n",
       "3                   1.0            0.0             2          0.0  \n",
       "5                   1.0            0.0             1          0.0  \n",
       "6                   1.0            1.0             1          1.0  \n",
       "8                   1.0            0.0             1          0.0  \n",
       "...                 ...            ...           ...          ...  \n",
       "1290136             1.0            0.0             1          0.0  \n",
       "1290137             1.0            0.0             1          0.0  \n",
       "1290138             1.0            0.0             1          0.0  \n",
       "1290139             1.0            0.0             1          0.0  \n",
       "1290140             1.0            0.0             1          0.0  \n",
       "\n",
       "[404067 rows x 8 columns]"
      ]
     },
     "execution_count": 62,
     "metadata": {},
     "output_type": "execute_result"
    }
   ],
   "source": [
    "authorsInPapers_reject = authorsInPapers[~((authorsInPapers['nb_publi_all']>=3) &\n",
    "                                           (authorsInPapers['deltaYear']<=50))\n",
    "                                           (authorsInPapers['beginYear']>=1940)]\n",
    "authorsInPapers_reject"
   ]
  },
  {
   "cell_type": "code",
   "execution_count": 90,
   "id": "0f124780",
   "metadata": {},
   "outputs": [
    {
     "data": {
      "text/plain": [
       "0.31319599950703064"
      ]
     },
     "execution_count": 90,
     "metadata": {},
     "output_type": "execute_result"
    }
   ],
   "source": [
    "len(authorsInPapers_reject)/len(authorsInPapers)"
   ]
  },
  {
   "cell_type": "markdown",
   "id": "90ae8c2d",
   "metadata": {},
   "source": [
    "### 5.4.1 - Study of the AI score of the rejected authors"
   ]
  },
  {
   "cell_type": "code",
   "execution_count": 103,
   "id": "3175a1ea",
   "metadata": {
    "scrolled": true
   },
   "outputs": [
    {
     "data": {
      "image/png": "[encoded data removed]",
      "text/plain": [
       "<Figure size 360x216 with 1 Axes>"
      ]
     },
     "metadata": {
      "needs_background": "light"
     },
     "output_type": "display_data"
    }
   ],
   "source": [
    "fig = plt.figure(figsize=(5, 3))\n",
    "ax = plt.axes()\n",
    "ax.hist(authorsInPapers_reject['AIscore_all'],bins=50)\n",
    "ax.set_xlabel(r'$f_{AI}$', fontsize=axisLabelSize-3)\n",
    "ax.set_ylabel(r'Frequency', fontsize=axisLabelSize-3)\n",
    "ax.set_yscale('log')\n",
    "ax.tick_params(which='major', labelsize=ticksLabelSize, length=7, width=ticksWidth)\n",
    "ax.tick_params(which='minor', length=4, width=ticksWidth)\n",
    "plt.savefig(f'{path_output}AIscore_distrib_RejectedAuthors.pdf', format='pdf', bbox_inches='tight')"
   ]
  },
  {
   "cell_type": "code",
   "execution_count": 91,
   "id": "b22443c5",
   "metadata": {},
   "outputs": [
    {
     "data": {
      "text/plain": [
       "0.15763935879876695"
      ]
     },
     "execution_count": 91,
     "metadata": {},
     "output_type": "execute_result"
    }
   ],
   "source": [
    "len(authorsInPapers[authorsInPapers['AIscore_all']>0])/len(authorsInPapers)"
   ]
  },
  {
   "cell_type": "code",
   "execution_count": 81,
   "id": "dc7f5454",
   "metadata": {},
   "outputs": [
    {
     "data": {
      "text/plain": [
       "0.02559971489876679"
      ]
     },
     "execution_count": 81,
     "metadata": {},
     "output_type": "execute_result"
    }
   ],
   "source": [
    "# fraction of rejected authors who are considered as AI-expert\n",
    "len(authorsInPapers_reject[authorsInPapers_reject['AIscore_all']>=0.5])/len(authorsInPapers_reject)"
   ]
  },
  {
   "cell_type": "code",
   "execution_count": 93,
   "id": "5c027e20",
   "metadata": {},
   "outputs": [
    {
     "data": {
      "text/plain": [
       "0.0740103354853302"
      ]
     },
     "execution_count": 93,
     "metadata": {},
     "output_type": "execute_result"
    }
   ],
   "source": [
    "# loss of AI practitioners compared to the original authors' database above\n",
    "len(authorsInPapers_reject[authorsInPapers_reject['AIscore_all']>0])/len(authorsInPapers[authorsInPapers['AIscore_all']>0])"
   ]
  },
  {
   "cell_type": "code",
   "execution_count": 92,
   "id": "4ebc71f3",
   "metadata": {},
   "outputs": [
    {
     "data": {
      "text/plain": [
       "0.6570121951219512"
      ]
     },
     "execution_count": 92,
     "metadata": {},
     "output_type": "execute_result"
    }
   ],
   "source": [
    "# loss of AI expert authors compared to the original authors' database above\n",
    "len(authorsInPapers_reject[authorsInPapers_reject['AIscore_all']>=0.5])/len(authorsInPapers[authorsInPapers['AIscore_all']>=0.5])"
   ]
  },
  {
   "cell_type": "code",
   "execution_count": 409,
   "id": "376f0a1c",
   "metadata": {},
   "outputs": [
    {
     "data": {
      "text/plain": [
       "0.945664739884393"
      ]
     },
     "execution_count": 409,
     "metadata": {},
     "output_type": "execute_result"
    }
   ],
   "source": [
    "# share of authors having AIscore_all=1 in the rejected wrt to the whole set\n",
    "len(authorsInPapers_reject[authorsInPapers_reject['AIscore_all']==1])/len(authorsInPapers[authorsInPapers['AIscore_all']==1])"
   ]
  },
  {
   "cell_type": "markdown",
   "id": "b349babd",
   "metadata": {},
   "source": [
    "### 5.4.2 - Study of the beginning year of the career"
   ]
  },
  {
   "cell_type": "code",
   "execution_count": 109,
   "id": "0a8e46e0",
   "metadata": {},
   "outputs": [
    {
     "data": {
      "image/png": "[encoded data removed]",
      "text/plain": [
       "<Figure size 360x216 with 1 Axes>"
      ]
     },
     "metadata": {
      "needs_background": "light"
     },
     "output_type": "display_data"
    }
   ],
   "source": [
    "fig = plt.figure(figsize=(5, 3))\n",
    "ax = plt.axes()\n",
    "ax.hist(authorsInPapers_reject['beginYear'],bins=50)\n",
    "ax.set_xlabel(r'Begin year', fontsize=axisLabelSize-3)\n",
    "ax.set_ylabel(r'Frequency', fontsize=axisLabelSize-3)\n",
    "ax.set_yscale('log')\n",
    "ax.tick_params(which='major', labelsize=ticksLabelSize, length=7, width=ticksWidth)\n",
    "ax.tick_params(which='minor', length=4, width=ticksWidth)\n",
    "plt.savefig(f'{path_output}beginYear_distrib_RejectedAuthors.pdf', format='pdf', bbox_inches='tight')"
   ]
  },
  {
   "cell_type": "code",
   "execution_count": 116,
   "id": "76295794",
   "metadata": {},
   "outputs": [
    {
     "data": {
      "text/plain": [
       "0.9947558201981355"
      ]
     },
     "execution_count": 116,
     "metadata": {},
     "output_type": "execute_result"
    }
   ],
   "source": [
    "len(authorsInPapers_reject[authorsInPapers_reject['beginYear']>=1940])/len(authorsInPapers_reject)"
   ]
  },
  {
   "cell_type": "markdown",
   "id": "b6adbee6",
   "metadata": {},
   "source": [
    "### 5.4.2 - Study of the loss of links in the collaboration network"
   ]
  },
  {
   "cell_type": "code",
   "execution_count": 99,
   "id": "a3b323f4",
   "metadata": {},
   "outputs": [],
   "source": [
    "sub_collabNet_timeagg_rejected = collabNet_timeagg[collabNet_timeagg['author1'].isin(authorsInPapers_reject['authorId'])|\n",
    "                                                   collabNet_timeagg['author2'].isin(authorsInPapers_reject['authorId'])]"
   ]
  },
  {
   "cell_type": "code",
   "execution_count": 100,
   "id": "f349bfa4",
   "metadata": {},
   "outputs": [
    {
     "data": {
      "text/plain": [
       "0.2782053930329144"
      ]
     },
     "execution_count": 100,
     "metadata": {},
     "output_type": "execute_result"
    }
   ],
   "source": [
    "sub_collabNet_timeagg_rejected['w'].sum()/sub_collabNet_timeagg['w'].sum()"
   ]
  },
  {
   "cell_type": "markdown",
   "id": "500a3cfa",
   "metadata": {},
   "source": [
    "Results: removing the problematic researchers from the whole collaboration network rejects 27.8% of the edges and 31.3% of the authors. \n",
    "According to the results below, 15% of them have published at least one AI-related article. \n",
    "If we consider only the AI practitioners of the original database, 7.5% of them are rejected by the filtration.\n",
    "If we consider the rather AI-experts ($f_{AI}\\geqslant 0.5$), 65.7% of them are rejected by the filtration, who are at most young researchers, or scientists publishing episodically on traditional academic media such as peer-reviewed journals here, or scientists publishing not regularly in such journals (since $n_{publi} \\leqslant 2$).\n",
    "Moreover, givent their low number of publications in our database, they therefore don't represent a significant part of the collboration network, with a small ego-network.\n",
    "In this way we conserve the authors with significant academic expience through the publications in the academic journals chosen to represent the neuroscience field, and who have respectively an ego-collaboration network that could be more extended (wider)."
   ]
  },
  {
   "cell_type": "markdown",
   "id": "bed7bbda",
   "metadata": {},
   "source": [
    "### 5.4.3 - Check the potential loss within the time-aggregated collaboration network of AI research (ie. within $\\mathcal{P}\\cap AI$) if we remove the problematic authors in it"
   ]
  },
  {
   "cell_type": "code",
   "execution_count": 46,
   "id": "f657c932",
   "metadata": {},
   "outputs": [],
   "source": [
    "papersAI['authors'] = papersAI['authors'].apply(lambda x: eval(x))"
   ]
  },
  {
   "cell_type": "code",
   "execution_count": 164,
   "id": "1467f46c",
   "metadata": {},
   "outputs": [
    {
     "data": {
      "text/plain": [
       "0.8643376060703984"
      ]
     },
     "execution_count": 164,
     "metadata": {},
     "output_type": "execute_result"
    }
   ],
   "source": [
    "# share of authors in the subset having complete carrer and at least 3 publications\n",
    "len(set(papersAI.explode('authors')['authors'])&set(authorsInPapers_sub['authorId']))/len(set(papersAI.explode('authors')['authors']))"
   ]
  },
  {
   "cell_type": "code",
   "execution_count": 125,
   "id": "408c19ca",
   "metadata": {},
   "outputs": [
    {
     "data": {
      "text/html": [
       "<div>\n",
       "<style scoped>\n",
       "    .dataframe tbody tr th:only-of-type {\n",
       "        vertical-align: middle;\n",
       "    }\n",
       "\n",
       "    .dataframe tbody tr th {\n",
       "        vertical-align: top;\n",
       "    }\n",
       "\n",
       "    .dataframe thead th {\n",
       "        text-align: right;\n",
       "    }\n",
       "</style>\n",
       "<table border=\"1\" class=\"dataframe\">\n",
       "  <thead>\n",
       "    <tr style=\"text-align: right;\">\n",
       "      <th></th>\n",
       "      <th>authorId</th>\n",
       "      <th>name</th>\n",
       "      <th>affiliation</th>\n",
       "      <th>queryLevel</th>\n",
       "      <th>nb_publi_neuro</th>\n",
       "      <th>AIscore_neuro</th>\n",
       "      <th>nb_publi_all</th>\n",
       "      <th>AIscore_all</th>\n",
       "      <th>beginYear</th>\n",
       "      <th>wos_begin</th>\n",
       "      <th>lastYear</th>\n",
       "      <th>wos_last</th>\n",
       "      <th>deltaYear</th>\n",
       "    </tr>\n",
       "  </thead>\n",
       "  <tbody>\n",
       "    <tr>\n",
       "      <th>6</th>\n",
       "      <td>2639413062</td>\n",
       "      <td>A.A. Acheampong</td>\n",
       "      <td>201448701</td>\n",
       "      <td>0.0</td>\n",
       "      <td>1.0</td>\n",
       "      <td>1.000</td>\n",
       "      <td>1</td>\n",
       "      <td>1.000000</td>\n",
       "      <td>1988.0</td>\n",
       "      <td>[['Neurosciences', 'Pharmacology &amp; Pharmacy']]</td>\n",
       "      <td>1988.0</td>\n",
       "      <td>[['Neurosciences', 'Pharmacology &amp; Pharmacy']]</td>\n",
       "      <td>0.0</td>\n",
       "    </tr>\n",
       "    <tr>\n",
       "      <th>34</th>\n",
       "      <td>2699497383</td>\n",
       "      <td>A A Barnes</td>\n",
       "      <td>188950975</td>\n",
       "      <td>0.0</td>\n",
       "      <td>1.0</td>\n",
       "      <td>1.000</td>\n",
       "      <td>1</td>\n",
       "      <td>1.000000</td>\n",
       "      <td>2009.0</td>\n",
       "      <td>[['Neurosciences', 'Clinical Neurology', 'Gast...</td>\n",
       "      <td>2009.0</td>\n",
       "      <td>[['Neurosciences', 'Clinical Neurology', 'Gast...</td>\n",
       "      <td>0.0</td>\n",
       "    </tr>\n",
       "    <tr>\n",
       "      <th>210</th>\n",
       "      <td>2488445124</td>\n",
       "      <td>A A Kruglov</td>\n",
       "      <td>32389192</td>\n",
       "      <td>0.0</td>\n",
       "      <td>1.0</td>\n",
       "      <td>1.000</td>\n",
       "      <td>1</td>\n",
       "      <td>1.000000</td>\n",
       "      <td>2014.0</td>\n",
       "      <td>[['Cell Biology']]</td>\n",
       "      <td>2014.0</td>\n",
       "      <td>[['Cell Biology']]</td>\n",
       "      <td>0.0</td>\n",
       "    </tr>\n",
       "    <tr>\n",
       "      <th>510</th>\n",
       "      <td>2974365865</td>\n",
       "      <td>A. Agogino</td>\n",
       "      <td>86519309</td>\n",
       "      <td>0.0</td>\n",
       "      <td>1.0</td>\n",
       "      <td>1.000</td>\n",
       "      <td>1</td>\n",
       "      <td>1.000000</td>\n",
       "      <td>2000.0</td>\n",
       "      <td>[['Computer Science']]</td>\n",
       "      <td>2000.0</td>\n",
       "      <td>[['Computer Science']]</td>\n",
       "      <td>0.0</td>\n",
       "    </tr>\n",
       "    <tr>\n",
       "      <th>655</th>\n",
       "      <td>2495994358</td>\n",
       "      <td>A Al-Mohammed</td>\n",
       "      <td>NONE</td>\n",
       "      <td>0.0</td>\n",
       "      <td>1.0</td>\n",
       "      <td>1.000</td>\n",
       "      <td>1</td>\n",
       "      <td>1.000000</td>\n",
       "      <td>2005.0</td>\n",
       "      <td>[['Ophthalmology']]</td>\n",
       "      <td>2005.0</td>\n",
       "      <td>[['Ophthalmology']]</td>\n",
       "      <td>0.0</td>\n",
       "    </tr>\n",
       "    <tr>\n",
       "      <th>...</th>\n",
       "      <td>...</td>\n",
       "      <td>...</td>\n",
       "      <td>...</td>\n",
       "      <td>...</td>\n",
       "      <td>...</td>\n",
       "      <td>...</td>\n",
       "      <td>...</td>\n",
       "      <td>...</td>\n",
       "      <td>...</td>\n",
       "      <td>...</td>\n",
       "      <td>...</td>\n",
       "      <td>...</td>\n",
       "      <td>...</td>\n",
       "    </tr>\n",
       "    <tr>\n",
       "      <th>1289831</th>\n",
       "      <td>2536406627</td>\n",
       "      <td>Zvenislava Husak</td>\n",
       "      <td>NONE</td>\n",
       "      <td>0.0</td>\n",
       "      <td>1.0</td>\n",
       "      <td>1.000</td>\n",
       "      <td>1</td>\n",
       "      <td>1.000000</td>\n",
       "      <td>2001.0</td>\n",
       "      <td>[['Cell Biology', 'Biochemistry &amp; Molecular Bi...</td>\n",
       "      <td>2001.0</td>\n",
       "      <td>[['Cell Biology', 'Biochemistry &amp; Molecular Bi...</td>\n",
       "      <td>0.0</td>\n",
       "    </tr>\n",
       "    <tr>\n",
       "      <th>1289888</th>\n",
       "      <td>2770849496</td>\n",
       "      <td>Zvi Vogel</td>\n",
       "      <td>NONE</td>\n",
       "      <td>0.0</td>\n",
       "      <td>40.0</td>\n",
       "      <td>0.025</td>\n",
       "      <td>190</td>\n",
       "      <td>0.005263</td>\n",
       "      <td>1968.0</td>\n",
       "      <td>[['Multidisciplinary Sciences'], ['Biochemistr...</td>\n",
       "      <td>2019.0</td>\n",
       "      <td>[['Multidisciplinary Sciences']]</td>\n",
       "      <td>51.0</td>\n",
       "    </tr>\n",
       "    <tr>\n",
       "      <th>1290052</th>\n",
       "      <td>2120994696</td>\n",
       "      <td>Şehri Kılıç</td>\n",
       "      <td>67581229</td>\n",
       "      <td>0.0</td>\n",
       "      <td>1.0</td>\n",
       "      <td>1.000</td>\n",
       "      <td>1</td>\n",
       "      <td>1.000000</td>\n",
       "      <td>2001.0</td>\n",
       "      <td>[['Neurosciences']]</td>\n",
       "      <td>2001.0</td>\n",
       "      <td>[['Neurosciences']]</td>\n",
       "      <td>0.0</td>\n",
       "    </tr>\n",
       "    <tr>\n",
       "      <th>1290079</th>\n",
       "      <td>2276486861</td>\n",
       "      <td>Ştefan Mihalaş</td>\n",
       "      <td>145311948</td>\n",
       "      <td>0.0</td>\n",
       "      <td>1.0</td>\n",
       "      <td>1.000</td>\n",
       "      <td>1</td>\n",
       "      <td>1.000000</td>\n",
       "      <td>2009.0</td>\n",
       "      <td>[['Neurosciences', 'Computer Science']]</td>\n",
       "      <td>2009.0</td>\n",
       "      <td>[['Neurosciences', 'Computer Science']]</td>\n",
       "      <td>0.0</td>\n",
       "    </tr>\n",
       "    <tr>\n",
       "      <th>1290130</th>\n",
       "      <td>2783816921</td>\n",
       "      <td>Κ Dattani-Pitt</td>\n",
       "      <td>NONE</td>\n",
       "      <td>0.0</td>\n",
       "      <td>1.0</td>\n",
       "      <td>1.000</td>\n",
       "      <td>1</td>\n",
       "      <td>1.000000</td>\n",
       "      <td>2005.0</td>\n",
       "      <td>[-1]</td>\n",
       "      <td>2005.0</td>\n",
       "      <td>[-1]</td>\n",
       "      <td>0.0</td>\n",
       "    </tr>\n",
       "  </tbody>\n",
       "</table>\n",
       "<p>11334 rows × 13 columns</p>\n",
       "</div>"
      ],
      "text/plain": [
       "           authorId              name affiliation  queryLevel  nb_publi_neuro  \\\n",
       "6        2639413062   A.A. Acheampong   201448701         0.0             1.0   \n",
       "34       2699497383        A A Barnes   188950975         0.0             1.0   \n",
       "210      2488445124       A A Kruglov    32389192         0.0             1.0   \n",
       "510      2974365865        A. Agogino    86519309         0.0             1.0   \n",
       "655      2495994358     A Al-Mohammed        NONE         0.0             1.0   \n",
       "...             ...               ...         ...         ...             ...   \n",
       "1289831  2536406627  Zvenislava Husak        NONE         0.0             1.0   \n",
       "1289888  2770849496         Zvi Vogel        NONE         0.0            40.0   \n",
       "1290052  2120994696       Şehri Kılıç    67581229         0.0             1.0   \n",
       "1290079  2276486861    Ştefan Mihalaş   145311948         0.0             1.0   \n",
       "1290130  2783816921    Κ Dattani-Pitt        NONE         0.0             1.0   \n",
       "\n",
       "         AIscore_neuro  nb_publi_all  AIscore_all  beginYear  \\\n",
       "6                1.000             1     1.000000     1988.0   \n",
       "34               1.000             1     1.000000     2009.0   \n",
       "210              1.000             1     1.000000     2014.0   \n",
       "510              1.000             1     1.000000     2000.0   \n",
       "655              1.000             1     1.000000     2005.0   \n",
       "...                ...           ...          ...        ...   \n",
       "1289831          1.000             1     1.000000     2001.0   \n",
       "1289888          0.025           190     0.005263     1968.0   \n",
       "1290052          1.000             1     1.000000     2001.0   \n",
       "1290079          1.000             1     1.000000     2009.0   \n",
       "1290130          1.000             1     1.000000     2005.0   \n",
       "\n",
       "                                                 wos_begin  lastYear  \\\n",
       "6           [['Neurosciences', 'Pharmacology & Pharmacy']]    1988.0   \n",
       "34       [['Neurosciences', 'Clinical Neurology', 'Gast...    2009.0   \n",
       "210                                     [['Cell Biology']]    2014.0   \n",
       "510                                 [['Computer Science']]    2000.0   \n",
       "655                                    [['Ophthalmology']]    2005.0   \n",
       "...                                                    ...       ...   \n",
       "1289831  [['Cell Biology', 'Biochemistry & Molecular Bi...    2001.0   \n",
       "1289888  [['Multidisciplinary Sciences'], ['Biochemistr...    2019.0   \n",
       "1290052                                [['Neurosciences']]    2001.0   \n",
       "1290079            [['Neurosciences', 'Computer Science']]    2009.0   \n",
       "1290130                                               [-1]    2005.0   \n",
       "\n",
       "                                                  wos_last  deltaYear  \n",
       "6           [['Neurosciences', 'Pharmacology & Pharmacy']]        0.0  \n",
       "34       [['Neurosciences', 'Clinical Neurology', 'Gast...        0.0  \n",
       "210                                     [['Cell Biology']]        0.0  \n",
       "510                                 [['Computer Science']]        0.0  \n",
       "655                                    [['Ophthalmology']]        0.0  \n",
       "...                                                    ...        ...  \n",
       "1289831  [['Cell Biology', 'Biochemistry & Molecular Bi...        0.0  \n",
       "1289888                   [['Multidisciplinary Sciences']]       51.0  \n",
       "1290052                                [['Neurosciences']]        0.0  \n",
       "1290079            [['Neurosciences', 'Computer Science']]        0.0  \n",
       "1290130                                               [-1]        0.0  \n",
       "\n",
       "[11334 rows x 13 columns]"
      ]
     },
     "execution_count": 125,
     "metadata": {},
     "output_type": "execute_result"
    }
   ],
   "source": [
    "# who are the rejected ones?\n",
    "authorsNeuroAI_rejected_ids = set(papersAI.explode('authors')['authors'])-(set(papersAI.explode('authors')['authors'])&set(authorsInPapers_sub['authorId']))\n",
    "authorsNeuroAI_rejected = authorsInPapers[authorsInPapers['authorId'].isin(authorsNeuroAI_rejected_ids)]\n",
    "authorsNeuroAI_rejected"
   ]
  },
  {
   "cell_type": "markdown",
   "id": "3a3da0da",
   "metadata": {},
   "source": [
    "#### 5.4.3.1 - Distribution of the career durations of the authors in $\\mathcal{P}\\cap AI$"
   ]
  },
  {
   "cell_type": "code",
   "execution_count": 130,
   "id": "fb2e58e6",
   "metadata": {
    "scrolled": true
   },
   "outputs": [
    {
     "data": {
      "image/png": "[encoded data removed]",
      "text/plain": [
       "<Figure size 360x216 with 1 Axes>"
      ]
     },
     "metadata": {
      "needs_background": "light"
     },
     "output_type": "display_data"
    }
   ],
   "source": [
    "fig = plt.figure(figsize=(5, 3))\n",
    "ax = plt.axes()\n",
    "ax.hist(authorsNeuroAI_rejected['deltaYear'],bins=50)\n",
    "ax.set_xlabel(r'$\\Delta t$', fontsize=axisLabelSize-3)\n",
    "ax.set_ylabel(r'Frequency', fontsize=axisLabelSize-3)\n",
    "ax.set_yscale('log')\n",
    "ax.tick_params(which='major', labelsize=ticksLabelSize, length=7, width=ticksWidth)\n",
    "ax.tick_params(which='minor', length=4, width=ticksWidth)\n",
    "plt.savefig(f'{path_output}Deltayear_distrib_RejectedAuthorsNeuroAI_ONLY.pdf', format='pdf', bbox_inches='tight')"
   ]
  },
  {
   "cell_type": "code",
   "execution_count": 138,
   "id": "c61ac26d",
   "metadata": {},
   "outputs": [
    {
     "data": {
      "text/plain": [
       "0.833950944062114"
      ]
     },
     "execution_count": 138,
     "metadata": {},
     "output_type": "execute_result"
    }
   ],
   "source": [
    "# fraction of the authors having a career duration lower than or equal to 3\n",
    "1-len(authorsNeuroAI_rejected[authorsNeuroAI_rejected['deltaYear']>3])/len(authorsNeuroAI_rejected)"
   ]
  },
  {
   "cell_type": "markdown",
   "id": "61c3d335",
   "metadata": {},
   "source": [
    "#### 5.4.3.2 - Distribution of the publication years of their articles in  $\\mathcal{P}\\cap AI$"
   ]
  },
  {
   "cell_type": "code",
   "execution_count": null,
   "id": "6bd36e5b",
   "metadata": {},
   "outputs": [],
   "source": [
    "# when are situated their main publications?\n",
    "p = papersAI.explode('authors')\n",
    "publis = p[p['authors'].isin(authorsNeuroAI_rejected['authorId'])].drop_duplicates('id')"
   ]
  },
  {
   "cell_type": "code",
   "execution_count": 165,
   "id": "ac41dc1f",
   "metadata": {},
   "outputs": [
    {
     "data": {
      "text/plain": [
       "0.32623037840297264"
      ]
     },
     "execution_count": 165,
     "metadata": {},
     "output_type": "execute_result"
    }
   ],
   "source": [
    "len(publis)/len(papersAI['id'])"
   ]
  },
  {
   "cell_type": "code",
   "execution_count": 145,
   "id": "5502cfad",
   "metadata": {
    "scrolled": true
   },
   "outputs": [
    {
     "data": {
      "image/png": "[encoded data removed]",
      "text/plain": [
       "<Figure size 360x216 with 1 Axes>"
      ]
     },
     "metadata": {
      "needs_background": "light"
     },
     "output_type": "display_data"
    }
   ],
   "source": [
    "fig = plt.figure(figsize=(5, 3))\n",
    "ax = plt.axes()\n",
    "ax.hist(publis['publicationYear'],bins=50)\n",
    "ax.set_xlabel(r'$N_{publi}$', fontsize=axisLabelSize-3)\n",
    "ax.set_ylabel(r'$t$', fontsize=axisLabelSize-3)\n",
    "#ax.set_yscale('log')\n",
    "ax.tick_params(which='major', labelsize=ticksLabelSize, length=7, width=ticksWidth)\n",
    "#ax.tick_params(which='minor', length=4, width=ticksWidth)\n",
    "plt.savefig(f'{path_output}NbPublis_distrib_RejectedAuthorsNeuroAI_ONLY.pdf', format='pdf', bbox_inches='tight')"
   ]
  },
  {
   "cell_type": "markdown",
   "id": "2bde0d76",
   "metadata": {},
   "source": [
    "#### 5.4.3.3 - Loss in the collaboration network"
   ]
  },
  {
   "cell_type": "code",
   "execution_count": 153,
   "id": "ce3b0c30",
   "metadata": {},
   "outputs": [],
   "source": [
    "# study the sub collaboration network in AI\n",
    "cn = {}\n",
    "for authors in papersAI['authors']:\n",
    "    if authors != -1:\n",
    "        a = list(set(authors)) # to avoid the case where authors appear twice in a single publication\n",
    "        for i in range(len(a)-1):\n",
    "            for j in range(i+1,len(a)):\n",
    "                if (a[i],a[j]) in cn:\n",
    "                    cn[(a[i],a[j])] += 1\n",
    "                elif (a[j],a[i]) in cn:\n",
    "                    cn[(a[j],a[i])] += 1\n",
    "                else:\n",
    "                    cn[(a[i],a[j])] = 1\n",
    "collabNet_NeuroAI = [(i,j,k) for ((i,j),k) in cn.items()]\n",
    "collabNet_NeuroAI = pd.DataFrame.from_records(collabNet_NeuroAI, columns=['author1','author2','w'])"
   ]
  },
  {
   "cell_type": "code",
   "execution_count": 154,
   "id": "ae6ce04c",
   "metadata": {},
   "outputs": [
    {
     "data": {
      "text/html": [
       "<div>\n",
       "<style scoped>\n",
       "    .dataframe tbody tr th:only-of-type {\n",
       "        vertical-align: middle;\n",
       "    }\n",
       "\n",
       "    .dataframe tbody tr th {\n",
       "        vertical-align: top;\n",
       "    }\n",
       "\n",
       "    .dataframe thead th {\n",
       "        text-align: right;\n",
       "    }\n",
       "</style>\n",
       "<table border=\"1\" class=\"dataframe\">\n",
       "  <thead>\n",
       "    <tr style=\"text-align: right;\">\n",
       "      <th></th>\n",
       "      <th>author1</th>\n",
       "      <th>author2</th>\n",
       "      <th>w</th>\n",
       "    </tr>\n",
       "  </thead>\n",
       "  <tbody>\n",
       "    <tr>\n",
       "      <th>0</th>\n",
       "      <td>3024761849</td>\n",
       "      <td>2619442247</td>\n",
       "      <td>1</td>\n",
       "    </tr>\n",
       "    <tr>\n",
       "      <th>1</th>\n",
       "      <td>2145260682</td>\n",
       "      <td>2835622326</td>\n",
       "      <td>1</td>\n",
       "    </tr>\n",
       "    <tr>\n",
       "      <th>2</th>\n",
       "      <td>2995834608</td>\n",
       "      <td>2891704168</td>\n",
       "      <td>2</td>\n",
       "    </tr>\n",
       "    <tr>\n",
       "      <th>3</th>\n",
       "      <td>2995834608</td>\n",
       "      <td>2798335766</td>\n",
       "      <td>3</td>\n",
       "    </tr>\n",
       "    <tr>\n",
       "      <th>4</th>\n",
       "      <td>2995834608</td>\n",
       "      <td>2651595071</td>\n",
       "      <td>2</td>\n",
       "    </tr>\n",
       "    <tr>\n",
       "      <th>...</th>\n",
       "      <td>...</td>\n",
       "      <td>...</td>\n",
       "      <td>...</td>\n",
       "    </tr>\n",
       "    <tr>\n",
       "      <th>379002</th>\n",
       "      <td>712055444</td>\n",
       "      <td>2405690839</td>\n",
       "      <td>1</td>\n",
       "    </tr>\n",
       "    <tr>\n",
       "      <th>379003</th>\n",
       "      <td>712055444</td>\n",
       "      <td>2102785432</td>\n",
       "      <td>1</td>\n",
       "    </tr>\n",
       "    <tr>\n",
       "      <th>379004</th>\n",
       "      <td>2905290646</td>\n",
       "      <td>2405690839</td>\n",
       "      <td>1</td>\n",
       "    </tr>\n",
       "    <tr>\n",
       "      <th>379005</th>\n",
       "      <td>2905290646</td>\n",
       "      <td>2102785432</td>\n",
       "      <td>1</td>\n",
       "    </tr>\n",
       "    <tr>\n",
       "      <th>379006</th>\n",
       "      <td>2405690839</td>\n",
       "      <td>2102785432</td>\n",
       "      <td>1</td>\n",
       "    </tr>\n",
       "  </tbody>\n",
       "</table>\n",
       "<p>379007 rows × 3 columns</p>\n",
       "</div>"
      ],
      "text/plain": [
       "           author1     author2  w\n",
       "0       3024761849  2619442247  1\n",
       "1       2145260682  2835622326  1\n",
       "2       2995834608  2891704168  2\n",
       "3       2995834608  2798335766  3\n",
       "4       2995834608  2651595071  2\n",
       "...            ...         ... ..\n",
       "379002   712055444  2405690839  1\n",
       "379003   712055444  2102785432  1\n",
       "379004  2905290646  2405690839  1\n",
       "379005  2905290646  2102785432  1\n",
       "379006  2405690839  2102785432  1\n",
       "\n",
       "[379007 rows x 3 columns]"
      ]
     },
     "execution_count": 154,
     "metadata": {},
     "output_type": "execute_result"
    }
   ],
   "source": [
    "collabNet_NeuroAI"
   ]
  },
  {
   "cell_type": "code",
   "execution_count": 155,
   "id": "0f1083ed",
   "metadata": {},
   "outputs": [
    {
     "data": {
      "text/plain": [
       "0.8302825444655331"
      ]
     },
     "execution_count": 155,
     "metadata": {},
     "output_type": "execute_result"
    }
   ],
   "source": [
    "# share of total links of the subgraph of AI research if we remove problematic authors publishing in it\n",
    "sum(collabNet_NeuroAI[collabNet_NeuroAI['author1'].isin(authorsInPapers_sub['authorId'])&\n",
    "                      collabNet_NeuroAI['author2'].isin(authorsInPapers_sub['authorId'])]['w'])/sum(collabNet_NeuroAI['w'])"
   ]
  },
  {
   "cell_type": "code",
   "execution_count": 158,
   "id": "31333773",
   "metadata": {},
   "outputs": [
    {
     "data": {
      "text/plain": [
       "0.00075769137256017"
      ]
     },
     "execution_count": 158,
     "metadata": {},
     "output_type": "execute_result"
    }
   ],
   "source": [
    "# and among the whole collaboration network of the original database\n",
    "sum(collabNet_timeagg[collabNet_timeagg['author1'].isin(authorsNeuroAI_rejected['authorId']) &\n",
    "                      collabNet_timeagg['author2'].isin(authorsNeuroAI_rejected['authorId'])]['w'])/sum(collabNet_timeagg['w'])"
   ]
  },
  {
   "cell_type": "markdown",
   "id": "b45f8df2",
   "metadata": {},
   "source": [
    "Results: the authors that have been removed in this little subset of authors in $\\mathcal{P}\\cap AI$ represent 14% of the subset of authors over only 33% of the publications of $\\mathcal{P}\\cap AI$. \n",
    "\n",
    "Removing these authors from the sub collaboration network of $\\mathcal{P}\\cap AI$ conserves 83% of its links.\n",
    "The authors that have been removed in this little subset of authors in $\\mathcal{P}\\cap AI$ are thus not much driving the whole AI research in neuroscience.\n",
    "Removing them from the whole unfiltered collaboration network of $\\mathcal{P}\\cap AI$ produces a loss of 0.08% of its links.\n",
    "Their contributions in the original dataset is thus unsignificant."
   ]
  },
  {
   "cell_type": "markdown",
   "id": "3ad5668e",
   "metadata": {},
   "source": [
    "# 6 - Quantify the loss of authors w.r.t the original dataset and the loss of AI authors doing AI\n",
    "Compare the collaboration network a different steps of filtration, following the different sections, and with several indicators:\n",
    "- Degree distribution\n",
    "- The number of connected components\n",
    "- The global clustering coefficient of their nodes"
   ]
  },
  {
   "cell_type": "markdown",
   "id": "2545fb14",
   "metadata": {},
   "source": [
    "## 6.1 - Original database"
   ]
  },
  {
   "cell_type": "code",
   "execution_count": 5,
   "id": "16c8517a",
   "metadata": {},
   "outputs": [
    {
     "name": "stderr",
     "output_type": "stream",
     "text": [
      "/tmp/ipykernel_58691/2711815738.py:3: SettingWithCopyWarning: \n",
      "A value is trying to be set on a copy of a slice from a DataFrame.\n",
      "Try using .loc[row_indexer,col_indexer] = value instead\n",
      "\n",
      "See the caveats in the documentation: https://pandas.pydata.org/pandas-docs/stable/user_guide/indexing.html#returning-a-view-versus-a-copy\n",
      "  papers_original_Ql0['authors'] = papers_original_Ql0['authors'].apply(lambda x: eval(x))\n"
     ]
    }
   ],
   "source": [
    "papers_original = pd.read_csv(f'{path_output}citationNetwork_nodes.csv', sep=';')\n",
    "papers_original_Ql0 = papers_original[papers_original['queryLevel']==0]\n",
    "papers_original_Ql0['authors'] = papers_original_Ql0['authors'].apply(lambda x: eval(x))"
   ]
  },
  {
   "cell_type": "code",
   "execution_count": 6,
   "id": "39488abc",
   "metadata": {},
   "outputs": [],
   "source": [
    "allAuthors_original_Ql0 = papers_original_Ql0['authors']"
   ]
  },
  {
   "cell_type": "code",
   "execution_count": 6,
   "id": "dbb57c80",
   "metadata": {},
   "outputs": [
    {
     "data": {
      "text/plain": [
       "2753969"
      ]
     },
     "execution_count": 6,
     "metadata": {},
     "output_type": "execute_result"
    }
   ],
   "source": [
    "# number of unique authors in the original database \n",
    "len(set(allAuthors_original_Ql0.explode())-{-1})"
   ]
  },
  {
   "cell_type": "code",
   "execution_count": 7,
   "id": "2fdf5dda",
   "metadata": {},
   "outputs": [
    {
     "name": "stderr",
     "output_type": "stream",
     "text": [
      "100%|██████████████████████████████| 2139745/2139745 [00:34<00:00, 62873.30it/s]\n"
     ]
    }
   ],
   "source": [
    "# build the original time-aggregated collaboration network\n",
    "cn = {}\n",
    "for p in tqdm(allAuthors_original_Ql0):\n",
    "    if p!=-1:\n",
    "        a = list(set(p)) # to avoid the case where authors appear twice in a single publication\n",
    "        for i in range(len(a)-1):\n",
    "            for j in range(i+1,len(a)):\n",
    "                if (a[i],a[j]) in cn:\n",
    "                    cn[(a[i],a[j])] += 1\n",
    "                elif (a[j],a[i]) in cn:\n",
    "                    cn[(a[j],a[i])] += 1\n",
    "                else:\n",
    "                    cn[(a[i],a[j])] = 1\n",
    "cn = pd.DataFrame([(i,j,w) for (i,j),w in cn.items()], columns=['a1','a2','weight'])"
   ]
  },
  {
   "cell_type": "code",
   "execution_count": 8,
   "id": "3fcfea41",
   "metadata": {},
   "outputs": [],
   "source": [
    "G_original = nx.from_pandas_edgelist(cn, source='a1', target='a2', edge_attr='weight', create_using=nx.Graph, edge_key=None)"
   ]
  },
  {
   "cell_type": "code",
   "execution_count": 21,
   "id": "b6606241",
   "metadata": {},
   "outputs": [
    {
     "data": {
      "text/plain": [
       "2667552"
      ]
     },
     "execution_count": 21,
     "metadata": {},
     "output_type": "execute_result"
    }
   ],
   "source": [
    "len(G_original.nodes)"
   ]
  },
  {
   "cell_type": "code",
   "execution_count": 28,
   "id": "9b8411b8",
   "metadata": {},
   "outputs": [
    {
     "data": {
      "text/plain": [
       "0.031379075073103585"
      ]
     },
     "execution_count": 28,
     "metadata": {},
     "output_type": "execute_result"
    }
   ],
   "source": [
    "(len(set(allAuthors_original_Ql0.explode())-{-1}) - len(G_original.nodes))/len(set(allAuthors_original_Ql0.explode())-{-1})"
   ]
  },
  {
   "cell_type": "markdown",
   "id": "fd0a9ef3",
   "metadata": {},
   "source": [
    "Result: We count only 3% of authors who have published alone in the original dataset."
   ]
  },
  {
   "cell_type": "code",
   "execution_count": 12,
   "id": "d702153d",
   "metadata": {},
   "outputs": [],
   "source": [
    "# distribution of the size of the connected components\n",
    "c = [i for i in nx.connected_components(G_original)]\n",
    "lenc = [len(i) for i in c]"
   ]
  },
  {
   "cell_type": "code",
   "execution_count": 29,
   "id": "1dc7cb20",
   "metadata": {},
   "outputs": [
    {
     "data": {
      "text/plain": [
       "105418"
      ]
     },
     "execution_count": 29,
     "metadata": {},
     "output_type": "execute_result"
    }
   ],
   "source": [
    "len(lenc)"
   ]
  },
  {
   "cell_type": "code",
   "execution_count": 27,
   "id": "bb401673",
   "metadata": {},
   "outputs": [
    {
     "data": {
      "text/plain": [
       "0.14580934129868883"
      ]
     },
     "execution_count": 27,
     "metadata": {},
     "output_type": "execute_result"
    }
   ],
   "source": [
    "(sum(lenc)-max(lenc))/sum(lenc)"
   ]
  },
  {
   "cell_type": "markdown",
   "id": "0cc1ebc6",
   "metadata": {},
   "source": [
    "Results: the giant component of the collaboration network, without the alone authors, concentrates 85% of all the authors of the dataset, the other 15% being distributed among 105417 smaller components"
   ]
  },
  {
   "cell_type": "code",
   "execution_count": 10,
   "id": "a9619256",
   "metadata": {},
   "outputs": [],
   "source": [
    "# degree distribution\n",
    "degree_freq = nx.degree_histogram(G_original)"
   ]
  },
  {
   "cell_type": "code",
   "execution_count": 13,
   "id": "f16ee0e8",
   "metadata": {},
   "outputs": [],
   "source": [
    "# clustering coefficient only on the giant component\n",
    "clustering_coeff = nx.average_clustering(G_original, nodes=c[0], weight='weight', count_zeros=True)"
   ]
  },
  {
   "cell_type": "code",
   "execution_count": 14,
   "id": "7c43bdc4",
   "metadata": {},
   "outputs": [
    {
     "data": {
      "text/plain": [
       "0.0008614775643829713"
      ]
     },
     "execution_count": 14,
     "metadata": {},
     "output_type": "execute_result"
    }
   ],
   "source": [
    "clustering_coeff"
   ]
  },
  {
   "cell_type": "markdown",
   "id": "ede01d7f",
   "metadata": {},
   "source": [
    "## 6.2 - Collaboration network from the filtered databases $\\mathcal{P}\\cap AI$ and $\\mathcal{P}\\cap \\overline{AI}$"
   ]
  },
  {
   "cell_type": "code",
   "execution_count": 15,
   "id": "95a46561",
   "metadata": {},
   "outputs": [
    {
     "name": "stderr",
     "output_type": "stream",
     "text": [
      "100%|███████████████████████████| 12637315/12637315 [00:19<00:00, 648584.31it/s]\n"
     ]
    }
   ],
   "source": [
    "collabNet = pd.read_csv(f'{path_output}collabNet.csv', sep=';')\n",
    "collabNet_timeagg = aggregate(collabNet)"
   ]
  },
  {
   "cell_type": "code",
   "execution_count": 16,
   "id": "90c00c42",
   "metadata": {},
   "outputs": [],
   "source": [
    "G_filtered = nx.from_pandas_edgelist(collabNet_timeagg, source='author1', target='author2', edge_attr='w', create_using=nx.Graph, edge_key=None)"
   ]
  },
  {
   "cell_type": "code",
   "execution_count": 37,
   "id": "59789df4",
   "metadata": {},
   "outputs": [
    {
     "data": {
      "text/plain": [
       "0.00904784825844617"
      ]
     },
     "execution_count": 37,
     "metadata": {},
     "output_type": "execute_result"
    }
   ],
   "source": [
    "(1290141-len(G_filtered.nodes))/1290141"
   ]
  },
  {
   "cell_type": "markdown",
   "id": "a0c4b73a",
   "metadata": {},
   "source": [
    "Result: 1% of the authors of the filtered database are publishing alone"
   ]
  },
  {
   "cell_type": "code",
   "execution_count": 17,
   "id": "4325bd71",
   "metadata": {},
   "outputs": [],
   "source": [
    "# distribution of the size of the connected components\n",
    "c = [i for i in nx.connected_components(G_filtered)]\n",
    "lenc = [len(i) for i in c]"
   ]
  },
  {
   "cell_type": "code",
   "execution_count": 39,
   "id": "bdb92e05",
   "metadata": {},
   "outputs": [
    {
     "data": {
      "text/plain": [
       "29618"
      ]
     },
     "execution_count": 39,
     "metadata": {},
     "output_type": "execute_result"
    }
   ],
   "source": [
    "len(lenc)"
   ]
  },
  {
   "cell_type": "code",
   "execution_count": 40,
   "id": "e39da7e7",
   "metadata": {},
   "outputs": [
    {
     "data": {
      "text/plain": [
       "0.08793649899723732"
      ]
     },
     "execution_count": 40,
     "metadata": {},
     "output_type": "execute_result"
    }
   ],
   "source": [
    "(sum(lenc)-max(lenc))/sum(lenc)"
   ]
  },
  {
   "cell_type": "markdown",
   "id": "c82b45a8",
   "metadata": {},
   "source": [
    "Results: the giant component of the filtered collaboration network, without the alone authors, concentrates 91% of all the authors of the dataset, the other 9% being distributed among 29617 smaller components"
   ]
  },
  {
   "cell_type": "code",
   "execution_count": 18,
   "id": "9e1133ba",
   "metadata": {},
   "outputs": [],
   "source": [
    "# degree distribution\n",
    "degree_freq_filtered = nx.degree_histogram(G_filtered)"
   ]
  },
  {
   "cell_type": "code",
   "execution_count": 62,
   "id": "36a5b09e",
   "metadata": {},
   "outputs": [],
   "source": [
    "# clustering coefficient only on the giant component\n",
    "clustering_coeff_filtered = nx.average_clustering(G_filtered, nodes=c[0], weight='w', count_zeros=True)"
   ]
  },
  {
   "cell_type": "code",
   "execution_count": 81,
   "id": "c91cd6f3",
   "metadata": {},
   "outputs": [
    {
     "data": {
      "text/plain": [
       "0.0034082006306942595"
      ]
     },
     "execution_count": 81,
     "metadata": {},
     "output_type": "execute_result"
    }
   ],
   "source": [
    "clustering_coeff_filtered"
   ]
  },
  {
   "cell_type": "markdown",
   "id": "38498aff",
   "metadata": {},
   "source": [
    "## 6.3 - Filtered collaboration network considering only authors with careers length lower than 50 years and a minimal number of publications set at 3"
   ]
  },
  {
   "cell_type": "code",
   "execution_count": 19,
   "id": "aa38a95e",
   "metadata": {},
   "outputs": [],
   "source": [
    "authorsInPapers = pd.read_csv(f'{path_output}collabNet_nodes.csv', sep=';')\n",
    "authorsInPapers_sub = authorsInPapers[(authorsInPapers['nb_publi_all']>=3) &\n",
    "                                      (authorsInPapers['deltaYear']<=50) &\n",
    "                                      (authorsInPapers['beginYear']>=1940)]\n",
    "sub_collabNet_timeagg = collabNet_timeagg[collabNet_timeagg['author1'].isin(authorsInPapers_sub['authorId'])\n",
    "                                         & collabNet_timeagg['author2'].isin(authorsInPapers_sub['authorId'])]"
   ]
  },
  {
   "cell_type": "code",
   "execution_count": 20,
   "id": "1e35e1e8",
   "metadata": {},
   "outputs": [],
   "source": [
    "G_filtered_bis = nx.from_pandas_edgelist(sub_collabNet_timeagg, source='author1', target='author2', edge_attr='w', create_using=nx.Graph, edge_key=None)"
   ]
  },
  {
   "cell_type": "code",
   "execution_count": 21,
   "id": "1a5f557b",
   "metadata": {},
   "outputs": [
    {
     "data": {
      "text/plain": [
       "871282"
      ]
     },
     "execution_count": 21,
     "metadata": {},
     "output_type": "execute_result"
    }
   ],
   "source": [
    "len(G_filtered_bis.nodes())"
   ]
  },
  {
   "cell_type": "code",
   "execution_count": 22,
   "id": "aa4513df",
   "metadata": {},
   "outputs": [
    {
     "data": {
      "text/plain": [
       "0.016693865297932226"
      ]
     },
     "execution_count": 22,
     "metadata": {},
     "output_type": "execute_result"
    }
   ],
   "source": [
    "(886074-len(G_filtered_bis.nodes))/886074"
   ]
  },
  {
   "cell_type": "markdown",
   "id": "c8d5abe3",
   "metadata": {},
   "source": [
    "Result: 1,7% of the authors of the filtered database are publishing alone"
   ]
  },
  {
   "cell_type": "code",
   "execution_count": 23,
   "id": "50c0082c",
   "metadata": {},
   "outputs": [],
   "source": [
    "# distribution of the size of the connected components\n",
    "c = [i for i in nx.connected_components(G_filtered_bis)]\n",
    "lenc = [len(i) for i in c]"
   ]
  },
  {
   "cell_type": "code",
   "execution_count": 24,
   "id": "50e38840",
   "metadata": {
    "scrolled": true
   },
   "outputs": [
    {
     "data": {
      "text/plain": [
       "17599"
      ]
     },
     "execution_count": 24,
     "metadata": {},
     "output_type": "execute_result"
    }
   ],
   "source": [
    "len(lenc)"
   ]
  },
  {
   "cell_type": "code",
   "execution_count": 25,
   "id": "2641a4fa",
   "metadata": {},
   "outputs": [
    {
     "data": {
      "text/plain": [
       "0.07116180524789907"
      ]
     },
     "execution_count": 25,
     "metadata": {},
     "output_type": "execute_result"
    }
   ],
   "source": [
    "(sum(lenc)-max(lenc))/sum(lenc)"
   ]
  },
  {
   "cell_type": "markdown",
   "id": "1a041c00",
   "metadata": {},
   "source": [
    "Results: the giant component of the filtered collaboration network, without the alone authors, concentrates 93% of all the authors of the dataset, the other 7% being distributed among 17598 smaller components"
   ]
  },
  {
   "cell_type": "code",
   "execution_count": 26,
   "id": "9c6cabc9",
   "metadata": {},
   "outputs": [],
   "source": [
    "# degree distribution\n",
    "degree_freq_filtered_bis = nx.degree_histogram(G_filtered_bis)"
   ]
  },
  {
   "cell_type": "code",
   "execution_count": 27,
   "id": "bb1697dd",
   "metadata": {},
   "outputs": [],
   "source": [
    "# clustering coefficient only on the giant component\n",
    "clustering_coeff_filtered_bis = nx.average_clustering(G_filtered_bis, nodes=c[0], weight='w', count_zeros=True)"
   ]
  },
  {
   "cell_type": "code",
   "execution_count": 28,
   "id": "97e689fb",
   "metadata": {},
   "outputs": [
    {
     "data": {
      "text/plain": [
       "0.0033415793673618496"
      ]
     },
     "execution_count": 28,
     "metadata": {},
     "output_type": "execute_result"
    }
   ],
   "source": [
    "clustering_coeff_filtered_bis"
   ]
  },
  {
   "cell_type": "markdown",
   "id": "427f3a64",
   "metadata": {},
   "source": [
    "## 6.4  - Compare the 3 degree distributions of the previous networks"
   ]
  },
  {
   "cell_type": "code",
   "execution_count": 29,
   "id": "81fec7bc",
   "metadata": {},
   "outputs": [
    {
     "data": {
      "image/png": "[encoded data removed]",
      "text/plain": [
       "<Figure size 468x216 with 1 Axes>"
      ]
     },
     "metadata": {
      "needs_background": "light"
     },
     "output_type": "display_data"
    }
   ],
   "source": [
    "cmap = plt.cm.tab20.colors\n",
    "ig = plt.figure(figsize=(6.5, 3))\n",
    "ax = plt.axes()\n",
    "ax.plot(range(len(degree_freq)), degree_freq, marker='o',\n",
    "        linewidth=0, color=cmap[0], markersize=7, label=r'Original', alpha=1)\n",
    "ax.plot(range(len(degree_freq_filtered)), degree_freq_filtered, marker='o',\n",
    "        linewidth=0, color=cmap[8], markersize=7, label=r'Filtered', alpha=1)\n",
    "ax.plot(range(len(degree_freq_filtered_bis)), degree_freq_filtered_bis, marker='o',\n",
    "        linewidth=0, color=cmap[2], markersize=7, label=r'Filtered twice', alpha=1)\n",
    "ax.set_xlabel(r'$k$', fontsize=axisLabelSize)\n",
    "ax.set_xscale('log')\n",
    "ax.set_ylabel(r'$P(k)$', fontsize=axisLabelSize)\n",
    "ax.set_yscale('log')\n",
    "#ax.set_ylim(0.4,1e7)\n",
    "#ax.set_xlim(0.6,1e5)\n",
    "#ax.set_xticks([10**i for i in range(6)], [10**i for i in range(6)])\n",
    "ax.tick_params(which='major', labelsize=ticksLabelSize, length=7, width=ticksWidth)\n",
    "ax.tick_params(which='minor', length=4, width=ticksWidth)\n",
    "ax.legend(loc='best', ncol=1, fontsize=legendSize, frameon=False)\n",
    "plt.savefig(f'{path_output}degree_distribs_OriginalDataset_vs_FilteredDataset_vs_FilteredDatasetBIS.pdf', format='pdf', bbox_inches='tight')"
   ]
  },
  {
   "cell_type": "markdown",
   "id": "2fa221fa",
   "metadata": {},
   "source": [
    "# 6.5 - Compare the distances between them with the Network Portrait Divergence\n",
    "Refs:\n",
    "- https://github.com/bagrow/network-portrait-divergence\n",
    "- Bagrow & Bollt (2019): https://appliednetsci.springeropen.com/articles/10.1007/s41109-019-0156-x\n",
    "- Other methods of network comparison and alignment in Tantardini et al. (2019): https://www.nature.com/articles/s41598-019-53708-y"
   ]
  },
  {
   "cell_type": "code",
   "execution_count": 4,
   "id": "16af266e",
   "metadata": {},
   "outputs": [],
   "source": [
    "path_output = r'/home/sylvain/DOCTORAT/PUBLICATIONS/2_AI_EpistemicIntegration_SocialSegregation/dataset_Zenodo/'\n",
    "path_input = r'/home/sylvain/DOCTORAT/PUBLICATIONS/2_AI_EpistemicIntegration_SocialSegregation/dataset_Zenodo/'"
   ]
  },
  {
   "cell_type": "code",
   "execution_count": 30,
   "id": "76d05b55",
   "metadata": {},
   "outputs": [],
   "source": [
    "path_code = r'/home/sylvain/DOCTORAT/DATA/microsoft_academic/codes/network_portrait_divergence_master/'\n",
    "os.chdir(path_code)"
   ]
  },
  {
   "cell_type": "code",
   "execution_count": 31,
   "id": "b131c80c",
   "metadata": {},
   "outputs": [],
   "source": [
    "from portrait_divergence import portrait_divergence"
   ]
  },
  {
   "cell_type": "code",
   "execution_count": null,
   "id": "a3526e1f",
   "metadata": {
    "scrolled": true
   },
   "outputs": [],
   "source": [
    "d_Original_Filtered = portrait_divergence(G_original,G_filtered)\n",
    "d_Original_Filtered"
   ]
  },
  {
   "cell_type": "code",
   "execution_count": null,
   "id": "d67338ef",
   "metadata": {},
   "outputs": [],
   "source": [
    "d_Original_FilteredBis = portrait_divergence(G_original,G_filtered_bis)\n",
    "d_Original_FilteredBis"
   ]
  },
  {
   "cell_type": "code",
   "execution_count": null,
   "id": "7aaa0625",
   "metadata": {},
   "outputs": [],
   "source": [
    "d_Filtered_FilteredBis = portrait_divergence(G_filtered,G_filtered_bis)\n",
    "d_Filtered_FilteredBis"
   ]
  }
 ],
 "metadata": {
  "kernelspec": {
   "display_name": "my_env",
   "language": "python",
   "name": "my_env"
  },
  "language_info": {
   "codemirror_mode": {
    "name": "ipython",
    "version": 3
   },
   "file_extension": ".py",
   "mimetype": "text/x-python",
   "name": "python",
   "nbconvert_exporter": "python",
   "pygments_lexer": "ipython3",
   "version": "3.8.10"
  }
 },
 "nbformat": 4,
 "nbformat_minor": 5
}
